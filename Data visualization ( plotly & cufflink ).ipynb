{
 "cells": [
  {
   "cell_type": "code",
   "execution_count": 1,
   "id": "1cf1d55e",
   "metadata": {},
   "outputs": [],
   "source": [
    "import pandas as pd\n",
    "import numpy as np"
   ]
  },
  {
   "cell_type": "code",
   "execution_count": 2,
   "id": "479bf60f",
   "metadata": {},
   "outputs": [],
   "source": [
    "from plotly import __version__\n",
    "from plotly.offline import download_plotlyjs, init_notebook_mode, plot, iplot"
   ]
  },
  {
   "cell_type": "code",
   "execution_count": 3,
   "id": "c7420277",
   "metadata": {},
   "outputs": [
    {
     "name": "stdout",
     "output_type": "stream",
     "text": [
      "5.6.0\n"
     ]
    }
   ],
   "source": [
    "print(__version__)"
   ]
  },
  {
   "cell_type": "code",
   "execution_count": 4,
   "id": "0ed1e496",
   "metadata": {},
   "outputs": [],
   "source": [
    "import cufflinks as cf"
   ]
  },
  {
   "cell_type": "code",
   "execution_count": 5,
   "id": "ef95b56d",
   "metadata": {},
   "outputs": [
    {
     "data": {
      "text/html": [
       "        <script type=\"text/javascript\">\n",
       "        window.PlotlyConfig = {MathJaxConfig: 'local'};\n",
       "        if (window.MathJax) {MathJax.Hub.Config({SVG: {font: \"STIX-Web\"}});}\n",
       "        if (typeof require !== 'undefined') {\n",
       "        require.undef(\"plotly\");\n",
       "        requirejs.config({\n",
       "            paths: {\n",
       "                'plotly': ['https://cdn.plot.ly/plotly-2.9.0.min']\n",
       "            }\n",
       "        });\n",
       "        require(['plotly'], function(Plotly) {\n",
       "            window._Plotly = Plotly;\n",
       "        });\n",
       "        }\n",
       "        </script>\n",
       "        "
      ]
     },
     "metadata": {},
     "output_type": "display_data"
    }
   ],
   "source": [
    "init_notebook_mode(connected = True)"
   ]
  },
  {
   "cell_type": "code",
   "execution_count": 6,
   "id": "a1434020",
   "metadata": {},
   "outputs": [
    {
     "data": {
      "text/html": [
       "        <script type=\"text/javascript\">\n",
       "        window.PlotlyConfig = {MathJaxConfig: 'local'};\n",
       "        if (window.MathJax) {MathJax.Hub.Config({SVG: {font: \"STIX-Web\"}});}\n",
       "        if (typeof require !== 'undefined') {\n",
       "        require.undef(\"plotly\");\n",
       "        requirejs.config({\n",
       "            paths: {\n",
       "                'plotly': ['https://cdn.plot.ly/plotly-2.9.0.min']\n",
       "            }\n",
       "        });\n",
       "        require(['plotly'], function(Plotly) {\n",
       "            window._Plotly = Plotly;\n",
       "        });\n",
       "        }\n",
       "        </script>\n",
       "        "
      ]
     },
     "metadata": {},
     "output_type": "display_data"
    }
   ],
   "source": [
    "cf.go_offline()"
   ]
  },
  {
   "cell_type": "code",
   "execution_count": 7,
   "id": "a8c15bba",
   "metadata": {},
   "outputs": [],
   "source": [
    "import warnings\n",
    "warnings.filterwarnings('ignore')"
   ]
  },
  {
   "cell_type": "markdown",
   "id": "92d790e5",
   "metadata": {},
   "source": [
    "## Data "
   ]
  },
  {
   "cell_type": "code",
   "execution_count": 8,
   "id": "5114fcf7",
   "metadata": {},
   "outputs": [],
   "source": [
    "df = pd.DataFrame(np.random.randn(100,5), columns = 'A B C D E'.split())"
   ]
  },
  {
   "cell_type": "code",
   "execution_count": 9,
   "id": "b5cf5231",
   "metadata": {},
   "outputs": [
    {
     "data": {
      "text/html": [
       "<div>\n",
       "<style scoped>\n",
       "    .dataframe tbody tr th:only-of-type {\n",
       "        vertical-align: middle;\n",
       "    }\n",
       "\n",
       "    .dataframe tbody tr th {\n",
       "        vertical-align: top;\n",
       "    }\n",
       "\n",
       "    .dataframe thead th {\n",
       "        text-align: right;\n",
       "    }\n",
       "</style>\n",
       "<table border=\"1\" class=\"dataframe\">\n",
       "  <thead>\n",
       "    <tr style=\"text-align: right;\">\n",
       "      <th></th>\n",
       "      <th>A</th>\n",
       "      <th>B</th>\n",
       "      <th>C</th>\n",
       "      <th>D</th>\n",
       "      <th>E</th>\n",
       "    </tr>\n",
       "  </thead>\n",
       "  <tbody>\n",
       "    <tr>\n",
       "      <th>0</th>\n",
       "      <td>-0.216118</td>\n",
       "      <td>0.600927</td>\n",
       "      <td>-0.490450</td>\n",
       "      <td>-0.831810</td>\n",
       "      <td>0.985839</td>\n",
       "    </tr>\n",
       "    <tr>\n",
       "      <th>1</th>\n",
       "      <td>0.879293</td>\n",
       "      <td>-0.473284</td>\n",
       "      <td>0.784165</td>\n",
       "      <td>-2.127860</td>\n",
       "      <td>0.216653</td>\n",
       "    </tr>\n",
       "    <tr>\n",
       "      <th>2</th>\n",
       "      <td>0.815929</td>\n",
       "      <td>1.510280</td>\n",
       "      <td>-0.304246</td>\n",
       "      <td>-0.357513</td>\n",
       "      <td>-1.488903</td>\n",
       "    </tr>\n",
       "    <tr>\n",
       "      <th>3</th>\n",
       "      <td>-0.463533</td>\n",
       "      <td>0.136986</td>\n",
       "      <td>0.232626</td>\n",
       "      <td>-0.492688</td>\n",
       "      <td>1.387676</td>\n",
       "    </tr>\n",
       "    <tr>\n",
       "      <th>4</th>\n",
       "      <td>1.248061</td>\n",
       "      <td>-0.082079</td>\n",
       "      <td>0.085508</td>\n",
       "      <td>-0.984246</td>\n",
       "      <td>0.571099</td>\n",
       "    </tr>\n",
       "    <tr>\n",
       "      <th>...</th>\n",
       "      <td>...</td>\n",
       "      <td>...</td>\n",
       "      <td>...</td>\n",
       "      <td>...</td>\n",
       "      <td>...</td>\n",
       "    </tr>\n",
       "    <tr>\n",
       "      <th>95</th>\n",
       "      <td>-0.485456</td>\n",
       "      <td>-1.696444</td>\n",
       "      <td>0.725844</td>\n",
       "      <td>0.186557</td>\n",
       "      <td>-0.154479</td>\n",
       "    </tr>\n",
       "    <tr>\n",
       "      <th>96</th>\n",
       "      <td>0.016302</td>\n",
       "      <td>1.471828</td>\n",
       "      <td>-1.952500</td>\n",
       "      <td>-0.572950</td>\n",
       "      <td>0.950647</td>\n",
       "    </tr>\n",
       "    <tr>\n",
       "      <th>97</th>\n",
       "      <td>0.482992</td>\n",
       "      <td>-2.002978</td>\n",
       "      <td>0.329343</td>\n",
       "      <td>-0.581739</td>\n",
       "      <td>0.791813</td>\n",
       "    </tr>\n",
       "    <tr>\n",
       "      <th>98</th>\n",
       "      <td>0.434065</td>\n",
       "      <td>0.893212</td>\n",
       "      <td>1.958606</td>\n",
       "      <td>0.435814</td>\n",
       "      <td>0.131475</td>\n",
       "    </tr>\n",
       "    <tr>\n",
       "      <th>99</th>\n",
       "      <td>-0.185740</td>\n",
       "      <td>0.346495</td>\n",
       "      <td>-0.784021</td>\n",
       "      <td>-2.709628</td>\n",
       "      <td>-0.535735</td>\n",
       "    </tr>\n",
       "  </tbody>\n",
       "</table>\n",
       "<p>100 rows × 5 columns</p>\n",
       "</div>"
      ],
      "text/plain": [
       "           A         B         C         D         E\n",
       "0  -0.216118  0.600927 -0.490450 -0.831810  0.985839\n",
       "1   0.879293 -0.473284  0.784165 -2.127860  0.216653\n",
       "2   0.815929  1.510280 -0.304246 -0.357513 -1.488903\n",
       "3  -0.463533  0.136986  0.232626 -0.492688  1.387676\n",
       "4   1.248061 -0.082079  0.085508 -0.984246  0.571099\n",
       "..       ...       ...       ...       ...       ...\n",
       "95 -0.485456 -1.696444  0.725844  0.186557 -0.154479\n",
       "96  0.016302  1.471828 -1.952500 -0.572950  0.950647\n",
       "97  0.482992 -2.002978  0.329343 -0.581739  0.791813\n",
       "98  0.434065  0.893212  1.958606  0.435814  0.131475\n",
       "99 -0.185740  0.346495 -0.784021 -2.709628 -0.535735\n",
       "\n",
       "[100 rows x 5 columns]"
      ]
     },
     "execution_count": 9,
     "metadata": {},
     "output_type": "execute_result"
    }
   ],
   "source": [
    "df"
   ]
  },
  {
   "cell_type": "code",
   "execution_count": 10,
   "id": "78e5c58a",
   "metadata": {},
   "outputs": [
    {
     "data": {
      "text/html": [
       "<div>\n",
       "<style scoped>\n",
       "    .dataframe tbody tr th:only-of-type {\n",
       "        vertical-align: middle;\n",
       "    }\n",
       "\n",
       "    .dataframe tbody tr th {\n",
       "        vertical-align: top;\n",
       "    }\n",
       "\n",
       "    .dataframe thead th {\n",
       "        text-align: right;\n",
       "    }\n",
       "</style>\n",
       "<table border=\"1\" class=\"dataframe\">\n",
       "  <thead>\n",
       "    <tr style=\"text-align: right;\">\n",
       "      <th></th>\n",
       "      <th>category</th>\n",
       "      <th>values</th>\n",
       "    </tr>\n",
       "  </thead>\n",
       "  <tbody>\n",
       "    <tr>\n",
       "      <th>0</th>\n",
       "      <td>A</td>\n",
       "      <td>32</td>\n",
       "    </tr>\n",
       "    <tr>\n",
       "      <th>1</th>\n",
       "      <td>B</td>\n",
       "      <td>43</td>\n",
       "    </tr>\n",
       "    <tr>\n",
       "      <th>2</th>\n",
       "      <td>C</td>\n",
       "      <td>50</td>\n",
       "    </tr>\n",
       "    <tr>\n",
       "      <th>3</th>\n",
       "      <td>D</td>\n",
       "      <td>70</td>\n",
       "    </tr>\n",
       "  </tbody>\n",
       "</table>\n",
       "</div>"
      ],
      "text/plain": [
       "  category  values\n",
       "0        A      32\n",
       "1        B      43\n",
       "2        C      50\n",
       "3        D      70"
      ]
     },
     "execution_count": 10,
     "metadata": {},
     "output_type": "execute_result"
    }
   ],
   "source": [
    "df2 = pd.DataFrame({'category':['A','B','C','D'], 'values':[32,43,50,70]})\n",
    "df2"
   ]
  },
  {
   "cell_type": "markdown",
   "id": "11263f60",
   "metadata": {},
   "source": [
    "# Scatter plot"
   ]
  },
  {
   "cell_type": "code",
   "execution_count": 11,
   "id": "140fc95f",
   "metadata": {},
   "outputs": [
    {
     "data": {
      "application/vnd.plotly.v1+json": {
       "config": {
        "linkText": "Export to plot.ly",
        "plotlyServerURL": "https://plot.ly",
        "showLink": true
       },
       "data": [
        {
         "line": {
          "color": "rgba(255, 153, 51, 1.0)",
          "dash": "solid",
          "shape": "linear",
          "width": 1.3
         },
         "marker": {
          "size": 10,
          "symbol": "circle"
         },
         "mode": "markers",
         "name": "B",
         "text": "",
         "type": "scatter",
         "x": [
          -0.2161184228253383,
          0.8792932512052545,
          0.8159294643263392,
          -0.4635332026275159,
          1.2480606583511327,
          1.1636709077699556,
          0.7922609344528071,
          -0.487105657576173,
          0.5421078085365659,
          0.5700116946872794,
          0.8239368808080885,
          -2.025932373181993,
          -0.7813558580603188,
          -0.8034398249519679,
          1.2512029139420504,
          -0.820332122346455,
          -1.6512522046007363,
          1.5682988107869604,
          -0.0063207362410987915,
          0.4004905726878128,
          0.5203258238161681,
          1.8279603356320633,
          0.13283157408988597,
          1.542945359288579,
          1.6651922182738557,
          -0.18907056450707943,
          0.5662895926834438,
          -0.4460591334360272,
          -0.5962532719116784,
          -0.5631527736349463,
          2.0839310694181905,
          -0.3747192099598198,
          0.2469317564261832,
          -0.4871280695792462,
          -1.399511059198512,
          -0.9279823397322188,
          0.3390474827073605,
          1.0170979834933276,
          -0.1348568156422785,
          1.2344989287853096,
          -0.273536936893138,
          0.5969711416695731,
          -0.5019729300786134,
          -1.5731701762261463,
          -0.776546301945367,
          -0.04443145956515006,
          -0.8568286686510093,
          -0.024763966728982578,
          0.7837974913189243,
          0.9010994038155039,
          -0.4730980172755114,
          0.207587519407055,
          -0.6771743196350672,
          1.2863142031525987,
          1.0405050456937595,
          0.06872578685904618,
          0.20037742174726073,
          0.43338326497446955,
          -1.1232782954405904,
          0.40114918501688485,
          0.5906859056001391,
          2.966926846259941,
          -0.23043343271553118,
          -0.8732939562117886,
          1.14121108723957,
          -0.4914311190409125,
          1.2800135159775534,
          0.8703759276983618,
          -0.69160728844988,
          1.1149661429079787,
          -1.0368988106557855,
          -1.856129353554703,
          0.07728497234778402,
          -0.5566709010013736,
          0.0017236191367242851,
          0.33896141298782556,
          -0.34634373933597523,
          -0.4314493717931845,
          -0.24830094093459376,
          0.7942439153979056,
          0.355227483466092,
          -0.9023647603026724,
          0.26053844043329494,
          -1.4960110241555,
          -0.03606981923271355,
          0.8973986520322429,
          0.8765836951666557,
          0.8099946509436573,
          -0.2546804984597161,
          -1.0077879926848405,
          -1.2867994667714329,
          1.5576794947939168,
          0.019057905893780924,
          -0.5441990567110787,
          0.49670405962304026,
          -0.4854564908395615,
          0.01630221623572593,
          0.4829915653490035,
          0.43406524706242366,
          -0.1857395357813015
         ],
         "y": [
          0.6009272176053823,
          -0.47328375717875815,
          1.5102796829570875,
          0.13698648280279452,
          -0.08207927123680447,
          1.3807419460829236,
          0.0008884140464625894,
          1.6770396104112533,
          0.3834029797448087,
          -0.2690010326323169,
          1.597398260776538,
          0.7351648892726675,
          0.10551643845443366,
          -0.6311209883918225,
          0.5572390618218849,
          -0.7738078928039479,
          0.21116745930062886,
          0.14078423344846921,
          -0.4212439874653056,
          -2.3793733930614014,
          1.4212147209842563,
          -0.5812791086667076,
          -0.9415571482963713,
          0.6306110755837304,
          -1.2411071380593497,
          -0.6046780270124452,
          -1.0559399304488928,
          0.42279176280029,
          -1.226271418081291,
          -1.131325103094806,
          -0.8889977036219829,
          1.2648058753496236,
          -0.48442636834005676,
          0.7108960890827798,
          1.3725402153716952,
          -0.5675961974427753,
          0.9253553237255685,
          -0.5692932152077298,
          -0.4174221274552496,
          -0.6979921244017261,
          -0.3393646826749617,
          -1.8087896518381883,
          0.3758793349821352,
          -0.39199851456008206,
          0.07117604173337383,
          -1.213063945919289,
          0.07552353850305901,
          -2.4856059003298836,
          0.451007261823913,
          -0.2289835339458214,
          2.120458797452917,
          -0.6083107357715691,
          0.3047972548593639,
          0.8166894152888184,
          -0.3543723312937055,
          0.9270475773868493,
          0.21671452232011124,
          -1.0860561840875944,
          -0.9241637527989113,
          0.6469123061061172,
          -0.5604065178745599,
          -1.3026393979314375,
          -0.40837785458920023,
          -2.053389222406837,
          0.452689699599634,
          -0.5456880220604482,
          -0.3768008226061331,
          0.8395805250060749,
          0.15638033915065708,
          1.8378173141312133,
          0.18122406269354446,
          -0.5802911040274235,
          -0.9323718692835864,
          0.4085690155151971,
          -1.133680474934867,
          0.36264440141564863,
          0.39943820817481523,
          -0.9810313174504565,
          -1.9976005280155338,
          1.37253433673606,
          0.5368407330853499,
          -0.8077790783101932,
          1.2122769887218132,
          -1.0354813312940023,
          0.7911735578805896,
          -1.8950724841036661,
          -0.2987687049820244,
          -0.6523694211047908,
          0.3830716691262919,
          0.6284618766425324,
          -0.9618366538721196,
          0.3426388646253289,
          1.5482473743187941,
          0.5798472356535777,
          -2.113126103357163,
          -1.6964437945831647,
          1.4718284936317474,
          -2.0029776122015877,
          0.8932118075364441,
          0.34649521334632055
         ]
        }
       ],
       "layout": {
        "legend": {
         "bgcolor": "#F5F6F9",
         "font": {
          "color": "#4D5663"
         }
        },
        "paper_bgcolor": "#F5F6F9",
        "plot_bgcolor": "#F5F6F9",
        "template": {
         "data": {
          "bar": [
           {
            "error_x": {
             "color": "#2a3f5f"
            },
            "error_y": {
             "color": "#2a3f5f"
            },
            "marker": {
             "line": {
              "color": "#E5ECF6",
              "width": 0.5
             },
             "pattern": {
              "fillmode": "overlay",
              "size": 10,
              "solidity": 0.2
             }
            },
            "type": "bar"
           }
          ],
          "barpolar": [
           {
            "marker": {
             "line": {
              "color": "#E5ECF6",
              "width": 0.5
             },
             "pattern": {
              "fillmode": "overlay",
              "size": 10,
              "solidity": 0.2
             }
            },
            "type": "barpolar"
           }
          ],
          "carpet": [
           {
            "aaxis": {
             "endlinecolor": "#2a3f5f",
             "gridcolor": "white",
             "linecolor": "white",
             "minorgridcolor": "white",
             "startlinecolor": "#2a3f5f"
            },
            "baxis": {
             "endlinecolor": "#2a3f5f",
             "gridcolor": "white",
             "linecolor": "white",
             "minorgridcolor": "white",
             "startlinecolor": "#2a3f5f"
            },
            "type": "carpet"
           }
          ],
          "choropleth": [
           {
            "colorbar": {
             "outlinewidth": 0,
             "ticks": ""
            },
            "type": "choropleth"
           }
          ],
          "contour": [
           {
            "colorbar": {
             "outlinewidth": 0,
             "ticks": ""
            },
            "colorscale": [
             [
              0,
              "#0d0887"
             ],
             [
              0.1111111111111111,
              "#46039f"
             ],
             [
              0.2222222222222222,
              "#7201a8"
             ],
             [
              0.3333333333333333,
              "#9c179e"
             ],
             [
              0.4444444444444444,
              "#bd3786"
             ],
             [
              0.5555555555555556,
              "#d8576b"
             ],
             [
              0.6666666666666666,
              "#ed7953"
             ],
             [
              0.7777777777777778,
              "#fb9f3a"
             ],
             [
              0.8888888888888888,
              "#fdca26"
             ],
             [
              1,
              "#f0f921"
             ]
            ],
            "type": "contour"
           }
          ],
          "contourcarpet": [
           {
            "colorbar": {
             "outlinewidth": 0,
             "ticks": ""
            },
            "type": "contourcarpet"
           }
          ],
          "heatmap": [
           {
            "colorbar": {
             "outlinewidth": 0,
             "ticks": ""
            },
            "colorscale": [
             [
              0,
              "#0d0887"
             ],
             [
              0.1111111111111111,
              "#46039f"
             ],
             [
              0.2222222222222222,
              "#7201a8"
             ],
             [
              0.3333333333333333,
              "#9c179e"
             ],
             [
              0.4444444444444444,
              "#bd3786"
             ],
             [
              0.5555555555555556,
              "#d8576b"
             ],
             [
              0.6666666666666666,
              "#ed7953"
             ],
             [
              0.7777777777777778,
              "#fb9f3a"
             ],
             [
              0.8888888888888888,
              "#fdca26"
             ],
             [
              1,
              "#f0f921"
             ]
            ],
            "type": "heatmap"
           }
          ],
          "heatmapgl": [
           {
            "colorbar": {
             "outlinewidth": 0,
             "ticks": ""
            },
            "colorscale": [
             [
              0,
              "#0d0887"
             ],
             [
              0.1111111111111111,
              "#46039f"
             ],
             [
              0.2222222222222222,
              "#7201a8"
             ],
             [
              0.3333333333333333,
              "#9c179e"
             ],
             [
              0.4444444444444444,
              "#bd3786"
             ],
             [
              0.5555555555555556,
              "#d8576b"
             ],
             [
              0.6666666666666666,
              "#ed7953"
             ],
             [
              0.7777777777777778,
              "#fb9f3a"
             ],
             [
              0.8888888888888888,
              "#fdca26"
             ],
             [
              1,
              "#f0f921"
             ]
            ],
            "type": "heatmapgl"
           }
          ],
          "histogram": [
           {
            "marker": {
             "pattern": {
              "fillmode": "overlay",
              "size": 10,
              "solidity": 0.2
             }
            },
            "type": "histogram"
           }
          ],
          "histogram2d": [
           {
            "colorbar": {
             "outlinewidth": 0,
             "ticks": ""
            },
            "colorscale": [
             [
              0,
              "#0d0887"
             ],
             [
              0.1111111111111111,
              "#46039f"
             ],
             [
              0.2222222222222222,
              "#7201a8"
             ],
             [
              0.3333333333333333,
              "#9c179e"
             ],
             [
              0.4444444444444444,
              "#bd3786"
             ],
             [
              0.5555555555555556,
              "#d8576b"
             ],
             [
              0.6666666666666666,
              "#ed7953"
             ],
             [
              0.7777777777777778,
              "#fb9f3a"
             ],
             [
              0.8888888888888888,
              "#fdca26"
             ],
             [
              1,
              "#f0f921"
             ]
            ],
            "type": "histogram2d"
           }
          ],
          "histogram2dcontour": [
           {
            "colorbar": {
             "outlinewidth": 0,
             "ticks": ""
            },
            "colorscale": [
             [
              0,
              "#0d0887"
             ],
             [
              0.1111111111111111,
              "#46039f"
             ],
             [
              0.2222222222222222,
              "#7201a8"
             ],
             [
              0.3333333333333333,
              "#9c179e"
             ],
             [
              0.4444444444444444,
              "#bd3786"
             ],
             [
              0.5555555555555556,
              "#d8576b"
             ],
             [
              0.6666666666666666,
              "#ed7953"
             ],
             [
              0.7777777777777778,
              "#fb9f3a"
             ],
             [
              0.8888888888888888,
              "#fdca26"
             ],
             [
              1,
              "#f0f921"
             ]
            ],
            "type": "histogram2dcontour"
           }
          ],
          "mesh3d": [
           {
            "colorbar": {
             "outlinewidth": 0,
             "ticks": ""
            },
            "type": "mesh3d"
           }
          ],
          "parcoords": [
           {
            "line": {
             "colorbar": {
              "outlinewidth": 0,
              "ticks": ""
             }
            },
            "type": "parcoords"
           }
          ],
          "pie": [
           {
            "automargin": true,
            "type": "pie"
           }
          ],
          "scatter": [
           {
            "marker": {
             "colorbar": {
              "outlinewidth": 0,
              "ticks": ""
             }
            },
            "type": "scatter"
           }
          ],
          "scatter3d": [
           {
            "line": {
             "colorbar": {
              "outlinewidth": 0,
              "ticks": ""
             }
            },
            "marker": {
             "colorbar": {
              "outlinewidth": 0,
              "ticks": ""
             }
            },
            "type": "scatter3d"
           }
          ],
          "scattercarpet": [
           {
            "marker": {
             "colorbar": {
              "outlinewidth": 0,
              "ticks": ""
             }
            },
            "type": "scattercarpet"
           }
          ],
          "scattergeo": [
           {
            "marker": {
             "colorbar": {
              "outlinewidth": 0,
              "ticks": ""
             }
            },
            "type": "scattergeo"
           }
          ],
          "scattergl": [
           {
            "marker": {
             "colorbar": {
              "outlinewidth": 0,
              "ticks": ""
             }
            },
            "type": "scattergl"
           }
          ],
          "scattermapbox": [
           {
            "marker": {
             "colorbar": {
              "outlinewidth": 0,
              "ticks": ""
             }
            },
            "type": "scattermapbox"
           }
          ],
          "scatterpolar": [
           {
            "marker": {
             "colorbar": {
              "outlinewidth": 0,
              "ticks": ""
             }
            },
            "type": "scatterpolar"
           }
          ],
          "scatterpolargl": [
           {
            "marker": {
             "colorbar": {
              "outlinewidth": 0,
              "ticks": ""
             }
            },
            "type": "scatterpolargl"
           }
          ],
          "scatterternary": [
           {
            "marker": {
             "colorbar": {
              "outlinewidth": 0,
              "ticks": ""
             }
            },
            "type": "scatterternary"
           }
          ],
          "surface": [
           {
            "colorbar": {
             "outlinewidth": 0,
             "ticks": ""
            },
            "colorscale": [
             [
              0,
              "#0d0887"
             ],
             [
              0.1111111111111111,
              "#46039f"
             ],
             [
              0.2222222222222222,
              "#7201a8"
             ],
             [
              0.3333333333333333,
              "#9c179e"
             ],
             [
              0.4444444444444444,
              "#bd3786"
             ],
             [
              0.5555555555555556,
              "#d8576b"
             ],
             [
              0.6666666666666666,
              "#ed7953"
             ],
             [
              0.7777777777777778,
              "#fb9f3a"
             ],
             [
              0.8888888888888888,
              "#fdca26"
             ],
             [
              1,
              "#f0f921"
             ]
            ],
            "type": "surface"
           }
          ],
          "table": [
           {
            "cells": {
             "fill": {
              "color": "#EBF0F8"
             },
             "line": {
              "color": "white"
             }
            },
            "header": {
             "fill": {
              "color": "#C8D4E3"
             },
             "line": {
              "color": "white"
             }
            },
            "type": "table"
           }
          ]
         },
         "layout": {
          "annotationdefaults": {
           "arrowcolor": "#2a3f5f",
           "arrowhead": 0,
           "arrowwidth": 1
          },
          "autotypenumbers": "strict",
          "coloraxis": {
           "colorbar": {
            "outlinewidth": 0,
            "ticks": ""
           }
          },
          "colorscale": {
           "diverging": [
            [
             0,
             "#8e0152"
            ],
            [
             0.1,
             "#c51b7d"
            ],
            [
             0.2,
             "#de77ae"
            ],
            [
             0.3,
             "#f1b6da"
            ],
            [
             0.4,
             "#fde0ef"
            ],
            [
             0.5,
             "#f7f7f7"
            ],
            [
             0.6,
             "#e6f5d0"
            ],
            [
             0.7,
             "#b8e186"
            ],
            [
             0.8,
             "#7fbc41"
            ],
            [
             0.9,
             "#4d9221"
            ],
            [
             1,
             "#276419"
            ]
           ],
           "sequential": [
            [
             0,
             "#0d0887"
            ],
            [
             0.1111111111111111,
             "#46039f"
            ],
            [
             0.2222222222222222,
             "#7201a8"
            ],
            [
             0.3333333333333333,
             "#9c179e"
            ],
            [
             0.4444444444444444,
             "#bd3786"
            ],
            [
             0.5555555555555556,
             "#d8576b"
            ],
            [
             0.6666666666666666,
             "#ed7953"
            ],
            [
             0.7777777777777778,
             "#fb9f3a"
            ],
            [
             0.8888888888888888,
             "#fdca26"
            ],
            [
             1,
             "#f0f921"
            ]
           ],
           "sequentialminus": [
            [
             0,
             "#0d0887"
            ],
            [
             0.1111111111111111,
             "#46039f"
            ],
            [
             0.2222222222222222,
             "#7201a8"
            ],
            [
             0.3333333333333333,
             "#9c179e"
            ],
            [
             0.4444444444444444,
             "#bd3786"
            ],
            [
             0.5555555555555556,
             "#d8576b"
            ],
            [
             0.6666666666666666,
             "#ed7953"
            ],
            [
             0.7777777777777778,
             "#fb9f3a"
            ],
            [
             0.8888888888888888,
             "#fdca26"
            ],
            [
             1,
             "#f0f921"
            ]
           ]
          },
          "colorway": [
           "#636efa",
           "#EF553B",
           "#00cc96",
           "#ab63fa",
           "#FFA15A",
           "#19d3f3",
           "#FF6692",
           "#B6E880",
           "#FF97FF",
           "#FECB52"
          ],
          "font": {
           "color": "#2a3f5f"
          },
          "geo": {
           "bgcolor": "white",
           "lakecolor": "white",
           "landcolor": "#E5ECF6",
           "showlakes": true,
           "showland": true,
           "subunitcolor": "white"
          },
          "hoverlabel": {
           "align": "left"
          },
          "hovermode": "closest",
          "mapbox": {
           "style": "light"
          },
          "paper_bgcolor": "white",
          "plot_bgcolor": "#E5ECF6",
          "polar": {
           "angularaxis": {
            "gridcolor": "white",
            "linecolor": "white",
            "ticks": ""
           },
           "bgcolor": "#E5ECF6",
           "radialaxis": {
            "gridcolor": "white",
            "linecolor": "white",
            "ticks": ""
           }
          },
          "scene": {
           "xaxis": {
            "backgroundcolor": "#E5ECF6",
            "gridcolor": "white",
            "gridwidth": 2,
            "linecolor": "white",
            "showbackground": true,
            "ticks": "",
            "zerolinecolor": "white"
           },
           "yaxis": {
            "backgroundcolor": "#E5ECF6",
            "gridcolor": "white",
            "gridwidth": 2,
            "linecolor": "white",
            "showbackground": true,
            "ticks": "",
            "zerolinecolor": "white"
           },
           "zaxis": {
            "backgroundcolor": "#E5ECF6",
            "gridcolor": "white",
            "gridwidth": 2,
            "linecolor": "white",
            "showbackground": true,
            "ticks": "",
            "zerolinecolor": "white"
           }
          },
          "shapedefaults": {
           "line": {
            "color": "#2a3f5f"
           }
          },
          "ternary": {
           "aaxis": {
            "gridcolor": "white",
            "linecolor": "white",
            "ticks": ""
           },
           "baxis": {
            "gridcolor": "white",
            "linecolor": "white",
            "ticks": ""
           },
           "bgcolor": "#E5ECF6",
           "caxis": {
            "gridcolor": "white",
            "linecolor": "white",
            "ticks": ""
           }
          },
          "title": {
           "x": 0.05
          },
          "xaxis": {
           "automargin": true,
           "gridcolor": "white",
           "linecolor": "white",
           "ticks": "",
           "title": {
            "standoff": 15
           },
           "zerolinecolor": "white",
           "zerolinewidth": 2
          },
          "yaxis": {
           "automargin": true,
           "gridcolor": "white",
           "linecolor": "white",
           "ticks": "",
           "title": {
            "standoff": 15
           },
           "zerolinecolor": "white",
           "zerolinewidth": 2
          }
         }
        },
        "title": {
         "font": {
          "color": "#4D5663"
         }
        },
        "xaxis": {
         "gridcolor": "#E1E5ED",
         "showgrid": true,
         "tickfont": {
          "color": "#4D5663"
         },
         "title": {
          "font": {
           "color": "#4D5663"
          },
          "text": "A values"
         },
         "zerolinecolor": "#E1E5ED"
        },
        "yaxis": {
         "gridcolor": "#E1E5ED",
         "showgrid": true,
         "tickfont": {
          "color": "#4D5663"
         },
         "title": {
          "font": {
           "color": "#4D5663"
          },
          "text": "B values"
         },
         "zerolinecolor": "#E1E5ED"
        }
       }
      },
      "text/html": [
       "<div>                            <div id=\"9da83fe9-43a2-40b0-b542-059f697c2a8d\" class=\"plotly-graph-div\" style=\"height:525px; width:100%;\"></div>            <script type=\"text/javascript\">                require([\"plotly\"], function(Plotly) {                    window.PLOTLYENV=window.PLOTLYENV || {};\n",
       "                    window.PLOTLYENV.BASE_URL='https://plot.ly';                                    if (document.getElementById(\"9da83fe9-43a2-40b0-b542-059f697c2a8d\")) {                    Plotly.newPlot(                        \"9da83fe9-43a2-40b0-b542-059f697c2a8d\",                        [{\"line\":{\"color\":\"rgba(255, 153, 51, 1.0)\",\"dash\":\"solid\",\"shape\":\"linear\",\"width\":1.3},\"marker\":{\"size\":10,\"symbol\":\"circle\"},\"mode\":\"markers\",\"name\":\"B\",\"text\":\"\",\"x\":[-0.2161184228253383,0.8792932512052545,0.8159294643263392,-0.4635332026275159,1.2480606583511327,1.1636709077699556,0.7922609344528071,-0.487105657576173,0.5421078085365659,0.5700116946872794,0.8239368808080885,-2.025932373181993,-0.7813558580603188,-0.8034398249519679,1.2512029139420504,-0.820332122346455,-1.6512522046007363,1.5682988107869604,-0.0063207362410987915,0.4004905726878128,0.5203258238161681,1.8279603356320633,0.13283157408988597,1.542945359288579,1.6651922182738557,-0.18907056450707943,0.5662895926834438,-0.4460591334360272,-0.5962532719116784,-0.5631527736349463,2.0839310694181905,-0.3747192099598198,0.2469317564261832,-0.4871280695792462,-1.399511059198512,-0.9279823397322188,0.3390474827073605,1.0170979834933276,-0.1348568156422785,1.2344989287853096,-0.273536936893138,0.5969711416695731,-0.5019729300786134,-1.5731701762261463,-0.776546301945367,-0.04443145956515006,-0.8568286686510093,-0.024763966728982578,0.7837974913189243,0.9010994038155039,-0.4730980172755114,0.207587519407055,-0.6771743196350672,1.2863142031525987,1.0405050456937595,0.06872578685904618,0.20037742174726073,0.43338326497446955,-1.1232782954405904,0.40114918501688485,0.5906859056001391,2.966926846259941,-0.23043343271553118,-0.8732939562117886,1.14121108723957,-0.4914311190409125,1.2800135159775534,0.8703759276983618,-0.69160728844988,1.1149661429079787,-1.0368988106557855,-1.856129353554703,0.07728497234778402,-0.5566709010013736,0.0017236191367242851,0.33896141298782556,-0.34634373933597523,-0.4314493717931845,-0.24830094093459376,0.7942439153979056,0.355227483466092,-0.9023647603026724,0.26053844043329494,-1.4960110241555,-0.03606981923271355,0.8973986520322429,0.8765836951666557,0.8099946509436573,-0.2546804984597161,-1.0077879926848405,-1.2867994667714329,1.5576794947939168,0.019057905893780924,-0.5441990567110787,0.49670405962304026,-0.4854564908395615,0.01630221623572593,0.4829915653490035,0.43406524706242366,-0.1857395357813015],\"y\":[0.6009272176053823,-0.47328375717875815,1.5102796829570875,0.13698648280279452,-0.08207927123680447,1.3807419460829236,0.0008884140464625894,1.6770396104112533,0.3834029797448087,-0.2690010326323169,1.597398260776538,0.7351648892726675,0.10551643845443366,-0.6311209883918225,0.5572390618218849,-0.7738078928039479,0.21116745930062886,0.14078423344846921,-0.4212439874653056,-2.3793733930614014,1.4212147209842563,-0.5812791086667076,-0.9415571482963713,0.6306110755837304,-1.2411071380593497,-0.6046780270124452,-1.0559399304488928,0.42279176280029,-1.226271418081291,-1.131325103094806,-0.8889977036219829,1.2648058753496236,-0.48442636834005676,0.7108960890827798,1.3725402153716952,-0.5675961974427753,0.9253553237255685,-0.5692932152077298,-0.4174221274552496,-0.6979921244017261,-0.3393646826749617,-1.8087896518381883,0.3758793349821352,-0.39199851456008206,0.07117604173337383,-1.213063945919289,0.07552353850305901,-2.4856059003298836,0.451007261823913,-0.2289835339458214,2.120458797452917,-0.6083107357715691,0.3047972548593639,0.8166894152888184,-0.3543723312937055,0.9270475773868493,0.21671452232011124,-1.0860561840875944,-0.9241637527989113,0.6469123061061172,-0.5604065178745599,-1.3026393979314375,-0.40837785458920023,-2.053389222406837,0.452689699599634,-0.5456880220604482,-0.3768008226061331,0.8395805250060749,0.15638033915065708,1.8378173141312133,0.18122406269354446,-0.5802911040274235,-0.9323718692835864,0.4085690155151971,-1.133680474934867,0.36264440141564863,0.39943820817481523,-0.9810313174504565,-1.9976005280155338,1.37253433673606,0.5368407330853499,-0.8077790783101932,1.2122769887218132,-1.0354813312940023,0.7911735578805896,-1.8950724841036661,-0.2987687049820244,-0.6523694211047908,0.3830716691262919,0.6284618766425324,-0.9618366538721196,0.3426388646253289,1.5482473743187941,0.5798472356535777,-2.113126103357163,-1.6964437945831647,1.4718284936317474,-2.0029776122015877,0.8932118075364441,0.34649521334632055],\"type\":\"scatter\"}],                        {\"legend\":{\"bgcolor\":\"#F5F6F9\",\"font\":{\"color\":\"#4D5663\"}},\"paper_bgcolor\":\"#F5F6F9\",\"plot_bgcolor\":\"#F5F6F9\",\"template\":{\"data\":{\"barpolar\":[{\"marker\":{\"line\":{\"color\":\"#E5ECF6\",\"width\":0.5},\"pattern\":{\"fillmode\":\"overlay\",\"size\":10,\"solidity\":0.2}},\"type\":\"barpolar\"}],\"bar\":[{\"error_x\":{\"color\":\"#2a3f5f\"},\"error_y\":{\"color\":\"#2a3f5f\"},\"marker\":{\"line\":{\"color\":\"#E5ECF6\",\"width\":0.5},\"pattern\":{\"fillmode\":\"overlay\",\"size\":10,\"solidity\":0.2}},\"type\":\"bar\"}],\"carpet\":[{\"aaxis\":{\"endlinecolor\":\"#2a3f5f\",\"gridcolor\":\"white\",\"linecolor\":\"white\",\"minorgridcolor\":\"white\",\"startlinecolor\":\"#2a3f5f\"},\"baxis\":{\"endlinecolor\":\"#2a3f5f\",\"gridcolor\":\"white\",\"linecolor\":\"white\",\"minorgridcolor\":\"white\",\"startlinecolor\":\"#2a3f5f\"},\"type\":\"carpet\"}],\"choropleth\":[{\"colorbar\":{\"outlinewidth\":0,\"ticks\":\"\"},\"type\":\"choropleth\"}],\"contourcarpet\":[{\"colorbar\":{\"outlinewidth\":0,\"ticks\":\"\"},\"type\":\"contourcarpet\"}],\"contour\":[{\"colorbar\":{\"outlinewidth\":0,\"ticks\":\"\"},\"colorscale\":[[0.0,\"#0d0887\"],[0.1111111111111111,\"#46039f\"],[0.2222222222222222,\"#7201a8\"],[0.3333333333333333,\"#9c179e\"],[0.4444444444444444,\"#bd3786\"],[0.5555555555555556,\"#d8576b\"],[0.6666666666666666,\"#ed7953\"],[0.7777777777777778,\"#fb9f3a\"],[0.8888888888888888,\"#fdca26\"],[1.0,\"#f0f921\"]],\"type\":\"contour\"}],\"heatmapgl\":[{\"colorbar\":{\"outlinewidth\":0,\"ticks\":\"\"},\"colorscale\":[[0.0,\"#0d0887\"],[0.1111111111111111,\"#46039f\"],[0.2222222222222222,\"#7201a8\"],[0.3333333333333333,\"#9c179e\"],[0.4444444444444444,\"#bd3786\"],[0.5555555555555556,\"#d8576b\"],[0.6666666666666666,\"#ed7953\"],[0.7777777777777778,\"#fb9f3a\"],[0.8888888888888888,\"#fdca26\"],[1.0,\"#f0f921\"]],\"type\":\"heatmapgl\"}],\"heatmap\":[{\"colorbar\":{\"outlinewidth\":0,\"ticks\":\"\"},\"colorscale\":[[0.0,\"#0d0887\"],[0.1111111111111111,\"#46039f\"],[0.2222222222222222,\"#7201a8\"],[0.3333333333333333,\"#9c179e\"],[0.4444444444444444,\"#bd3786\"],[0.5555555555555556,\"#d8576b\"],[0.6666666666666666,\"#ed7953\"],[0.7777777777777778,\"#fb9f3a\"],[0.8888888888888888,\"#fdca26\"],[1.0,\"#f0f921\"]],\"type\":\"heatmap\"}],\"histogram2dcontour\":[{\"colorbar\":{\"outlinewidth\":0,\"ticks\":\"\"},\"colorscale\":[[0.0,\"#0d0887\"],[0.1111111111111111,\"#46039f\"],[0.2222222222222222,\"#7201a8\"],[0.3333333333333333,\"#9c179e\"],[0.4444444444444444,\"#bd3786\"],[0.5555555555555556,\"#d8576b\"],[0.6666666666666666,\"#ed7953\"],[0.7777777777777778,\"#fb9f3a\"],[0.8888888888888888,\"#fdca26\"],[1.0,\"#f0f921\"]],\"type\":\"histogram2dcontour\"}],\"histogram2d\":[{\"colorbar\":{\"outlinewidth\":0,\"ticks\":\"\"},\"colorscale\":[[0.0,\"#0d0887\"],[0.1111111111111111,\"#46039f\"],[0.2222222222222222,\"#7201a8\"],[0.3333333333333333,\"#9c179e\"],[0.4444444444444444,\"#bd3786\"],[0.5555555555555556,\"#d8576b\"],[0.6666666666666666,\"#ed7953\"],[0.7777777777777778,\"#fb9f3a\"],[0.8888888888888888,\"#fdca26\"],[1.0,\"#f0f921\"]],\"type\":\"histogram2d\"}],\"histogram\":[{\"marker\":{\"pattern\":{\"fillmode\":\"overlay\",\"size\":10,\"solidity\":0.2}},\"type\":\"histogram\"}],\"mesh3d\":[{\"colorbar\":{\"outlinewidth\":0,\"ticks\":\"\"},\"type\":\"mesh3d\"}],\"parcoords\":[{\"line\":{\"colorbar\":{\"outlinewidth\":0,\"ticks\":\"\"}},\"type\":\"parcoords\"}],\"pie\":[{\"automargin\":true,\"type\":\"pie\"}],\"scatter3d\":[{\"line\":{\"colorbar\":{\"outlinewidth\":0,\"ticks\":\"\"}},\"marker\":{\"colorbar\":{\"outlinewidth\":0,\"ticks\":\"\"}},\"type\":\"scatter3d\"}],\"scattercarpet\":[{\"marker\":{\"colorbar\":{\"outlinewidth\":0,\"ticks\":\"\"}},\"type\":\"scattercarpet\"}],\"scattergeo\":[{\"marker\":{\"colorbar\":{\"outlinewidth\":0,\"ticks\":\"\"}},\"type\":\"scattergeo\"}],\"scattergl\":[{\"marker\":{\"colorbar\":{\"outlinewidth\":0,\"ticks\":\"\"}},\"type\":\"scattergl\"}],\"scattermapbox\":[{\"marker\":{\"colorbar\":{\"outlinewidth\":0,\"ticks\":\"\"}},\"type\":\"scattermapbox\"}],\"scatterpolargl\":[{\"marker\":{\"colorbar\":{\"outlinewidth\":0,\"ticks\":\"\"}},\"type\":\"scatterpolargl\"}],\"scatterpolar\":[{\"marker\":{\"colorbar\":{\"outlinewidth\":0,\"ticks\":\"\"}},\"type\":\"scatterpolar\"}],\"scatter\":[{\"marker\":{\"colorbar\":{\"outlinewidth\":0,\"ticks\":\"\"}},\"type\":\"scatter\"}],\"scatterternary\":[{\"marker\":{\"colorbar\":{\"outlinewidth\":0,\"ticks\":\"\"}},\"type\":\"scatterternary\"}],\"surface\":[{\"colorbar\":{\"outlinewidth\":0,\"ticks\":\"\"},\"colorscale\":[[0.0,\"#0d0887\"],[0.1111111111111111,\"#46039f\"],[0.2222222222222222,\"#7201a8\"],[0.3333333333333333,\"#9c179e\"],[0.4444444444444444,\"#bd3786\"],[0.5555555555555556,\"#d8576b\"],[0.6666666666666666,\"#ed7953\"],[0.7777777777777778,\"#fb9f3a\"],[0.8888888888888888,\"#fdca26\"],[1.0,\"#f0f921\"]],\"type\":\"surface\"}],\"table\":[{\"cells\":{\"fill\":{\"color\":\"#EBF0F8\"},\"line\":{\"color\":\"white\"}},\"header\":{\"fill\":{\"color\":\"#C8D4E3\"},\"line\":{\"color\":\"white\"}},\"type\":\"table\"}]},\"layout\":{\"annotationdefaults\":{\"arrowcolor\":\"#2a3f5f\",\"arrowhead\":0,\"arrowwidth\":1},\"autotypenumbers\":\"strict\",\"coloraxis\":{\"colorbar\":{\"outlinewidth\":0,\"ticks\":\"\"}},\"colorscale\":{\"diverging\":[[0,\"#8e0152\"],[0.1,\"#c51b7d\"],[0.2,\"#de77ae\"],[0.3,\"#f1b6da\"],[0.4,\"#fde0ef\"],[0.5,\"#f7f7f7\"],[0.6,\"#e6f5d0\"],[0.7,\"#b8e186\"],[0.8,\"#7fbc41\"],[0.9,\"#4d9221\"],[1,\"#276419\"]],\"sequential\":[[0.0,\"#0d0887\"],[0.1111111111111111,\"#46039f\"],[0.2222222222222222,\"#7201a8\"],[0.3333333333333333,\"#9c179e\"],[0.4444444444444444,\"#bd3786\"],[0.5555555555555556,\"#d8576b\"],[0.6666666666666666,\"#ed7953\"],[0.7777777777777778,\"#fb9f3a\"],[0.8888888888888888,\"#fdca26\"],[1.0,\"#f0f921\"]],\"sequentialminus\":[[0.0,\"#0d0887\"],[0.1111111111111111,\"#46039f\"],[0.2222222222222222,\"#7201a8\"],[0.3333333333333333,\"#9c179e\"],[0.4444444444444444,\"#bd3786\"],[0.5555555555555556,\"#d8576b\"],[0.6666666666666666,\"#ed7953\"],[0.7777777777777778,\"#fb9f3a\"],[0.8888888888888888,\"#fdca26\"],[1.0,\"#f0f921\"]]},\"colorway\":[\"#636efa\",\"#EF553B\",\"#00cc96\",\"#ab63fa\",\"#FFA15A\",\"#19d3f3\",\"#FF6692\",\"#B6E880\",\"#FF97FF\",\"#FECB52\"],\"font\":{\"color\":\"#2a3f5f\"},\"geo\":{\"bgcolor\":\"white\",\"lakecolor\":\"white\",\"landcolor\":\"#E5ECF6\",\"showlakes\":true,\"showland\":true,\"subunitcolor\":\"white\"},\"hoverlabel\":{\"align\":\"left\"},\"hovermode\":\"closest\",\"mapbox\":{\"style\":\"light\"},\"paper_bgcolor\":\"white\",\"plot_bgcolor\":\"#E5ECF6\",\"polar\":{\"angularaxis\":{\"gridcolor\":\"white\",\"linecolor\":\"white\",\"ticks\":\"\"},\"bgcolor\":\"#E5ECF6\",\"radialaxis\":{\"gridcolor\":\"white\",\"linecolor\":\"white\",\"ticks\":\"\"}},\"scene\":{\"xaxis\":{\"backgroundcolor\":\"#E5ECF6\",\"gridcolor\":\"white\",\"gridwidth\":2,\"linecolor\":\"white\",\"showbackground\":true,\"ticks\":\"\",\"zerolinecolor\":\"white\"},\"yaxis\":{\"backgroundcolor\":\"#E5ECF6\",\"gridcolor\":\"white\",\"gridwidth\":2,\"linecolor\":\"white\",\"showbackground\":true,\"ticks\":\"\",\"zerolinecolor\":\"white\"},\"zaxis\":{\"backgroundcolor\":\"#E5ECF6\",\"gridcolor\":\"white\",\"gridwidth\":2,\"linecolor\":\"white\",\"showbackground\":true,\"ticks\":\"\",\"zerolinecolor\":\"white\"}},\"shapedefaults\":{\"line\":{\"color\":\"#2a3f5f\"}},\"ternary\":{\"aaxis\":{\"gridcolor\":\"white\",\"linecolor\":\"white\",\"ticks\":\"\"},\"baxis\":{\"gridcolor\":\"white\",\"linecolor\":\"white\",\"ticks\":\"\"},\"bgcolor\":\"#E5ECF6\",\"caxis\":{\"gridcolor\":\"white\",\"linecolor\":\"white\",\"ticks\":\"\"}},\"title\":{\"x\":0.05},\"xaxis\":{\"automargin\":true,\"gridcolor\":\"white\",\"linecolor\":\"white\",\"ticks\":\"\",\"title\":{\"standoff\":15},\"zerolinecolor\":\"white\",\"zerolinewidth\":2},\"yaxis\":{\"automargin\":true,\"gridcolor\":\"white\",\"linecolor\":\"white\",\"ticks\":\"\",\"title\":{\"standoff\":15},\"zerolinecolor\":\"white\",\"zerolinewidth\":2}}},\"title\":{\"font\":{\"color\":\"#4D5663\"}},\"xaxis\":{\"gridcolor\":\"#E1E5ED\",\"showgrid\":true,\"tickfont\":{\"color\":\"#4D5663\"},\"title\":{\"font\":{\"color\":\"#4D5663\"},\"text\":\"A values\"},\"zerolinecolor\":\"#E1E5ED\"},\"yaxis\":{\"gridcolor\":\"#E1E5ED\",\"showgrid\":true,\"tickfont\":{\"color\":\"#4D5663\"},\"title\":{\"font\":{\"color\":\"#4D5663\"},\"text\":\"B values\"},\"zerolinecolor\":\"#E1E5ED\"}},                        {\"showLink\": true, \"linkText\": \"Export to plot.ly\", \"plotlyServerURL\": \"https://plot.ly\", \"responsive\": true}                    ).then(function(){\n",
       "                            \n",
       "var gd = document.getElementById('9da83fe9-43a2-40b0-b542-059f697c2a8d');\n",
       "var x = new MutationObserver(function (mutations, observer) {{\n",
       "        var display = window.getComputedStyle(gd).display;\n",
       "        if (!display || display === 'none') {{\n",
       "            console.log([gd, 'removed!']);\n",
       "            Plotly.purge(gd);\n",
       "            observer.disconnect();\n",
       "        }}\n",
       "}});\n",
       "\n",
       "// Listen for the removal of the full notebook cells\n",
       "var notebookContainer = gd.closest('#notebook-container');\n",
       "if (notebookContainer) {{\n",
       "    x.observe(notebookContainer, {childList: true});\n",
       "}}\n",
       "\n",
       "// Listen for the clearing of the current output cell\n",
       "var outputEl = gd.closest('.output');\n",
       "if (outputEl) {{\n",
       "    x.observe(outputEl, {childList: true});\n",
       "}}\n",
       "\n",
       "                        })                };                });            </script>        </div>"
      ]
     },
     "metadata": {},
     "output_type": "display_data"
    }
   ],
   "source": [
    "df.iplot(kind = 'scatter',x = 'A', y = 'B', mode = 'markers', size = 10, xTitle ='A values', yTitle ='B values')"
   ]
  },
  {
   "cell_type": "markdown",
   "id": "b5db49a7",
   "metadata": {},
   "source": [
    "# Bar plots"
   ]
  },
  {
   "cell_type": "code",
   "execution_count": 12,
   "id": "1721a643",
   "metadata": {},
   "outputs": [
    {
     "data": {
      "application/vnd.plotly.v1+json": {
       "config": {
        "linkText": "Export to plot.ly",
        "plotlyServerURL": "https://plot.ly",
        "showLink": true
       },
       "data": [
        {
         "marker": {
          "color": "rgba(255, 153, 51, 0.6)",
          "line": {
           "color": "rgba(255, 153, 51, 1.0)",
           "width": 1
          }
         },
         "name": "values",
         "orientation": "v",
         "text": "",
         "type": "bar",
         "x": [
          "A",
          "B",
          "C",
          "D"
         ],
         "y": [
          32,
          43,
          50,
          70
         ]
        }
       ],
       "layout": {
        "legend": {
         "bgcolor": "#F5F6F9",
         "font": {
          "color": "#4D5663"
         }
        },
        "paper_bgcolor": "#F5F6F9",
        "plot_bgcolor": "#F5F6F9",
        "template": {
         "data": {
          "bar": [
           {
            "error_x": {
             "color": "#2a3f5f"
            },
            "error_y": {
             "color": "#2a3f5f"
            },
            "marker": {
             "line": {
              "color": "#E5ECF6",
              "width": 0.5
             },
             "pattern": {
              "fillmode": "overlay",
              "size": 10,
              "solidity": 0.2
             }
            },
            "type": "bar"
           }
          ],
          "barpolar": [
           {
            "marker": {
             "line": {
              "color": "#E5ECF6",
              "width": 0.5
             },
             "pattern": {
              "fillmode": "overlay",
              "size": 10,
              "solidity": 0.2
             }
            },
            "type": "barpolar"
           }
          ],
          "carpet": [
           {
            "aaxis": {
             "endlinecolor": "#2a3f5f",
             "gridcolor": "white",
             "linecolor": "white",
             "minorgridcolor": "white",
             "startlinecolor": "#2a3f5f"
            },
            "baxis": {
             "endlinecolor": "#2a3f5f",
             "gridcolor": "white",
             "linecolor": "white",
             "minorgridcolor": "white",
             "startlinecolor": "#2a3f5f"
            },
            "type": "carpet"
           }
          ],
          "choropleth": [
           {
            "colorbar": {
             "outlinewidth": 0,
             "ticks": ""
            },
            "type": "choropleth"
           }
          ],
          "contour": [
           {
            "colorbar": {
             "outlinewidth": 0,
             "ticks": ""
            },
            "colorscale": [
             [
              0,
              "#0d0887"
             ],
             [
              0.1111111111111111,
              "#46039f"
             ],
             [
              0.2222222222222222,
              "#7201a8"
             ],
             [
              0.3333333333333333,
              "#9c179e"
             ],
             [
              0.4444444444444444,
              "#bd3786"
             ],
             [
              0.5555555555555556,
              "#d8576b"
             ],
             [
              0.6666666666666666,
              "#ed7953"
             ],
             [
              0.7777777777777778,
              "#fb9f3a"
             ],
             [
              0.8888888888888888,
              "#fdca26"
             ],
             [
              1,
              "#f0f921"
             ]
            ],
            "type": "contour"
           }
          ],
          "contourcarpet": [
           {
            "colorbar": {
             "outlinewidth": 0,
             "ticks": ""
            },
            "type": "contourcarpet"
           }
          ],
          "heatmap": [
           {
            "colorbar": {
             "outlinewidth": 0,
             "ticks": ""
            },
            "colorscale": [
             [
              0,
              "#0d0887"
             ],
             [
              0.1111111111111111,
              "#46039f"
             ],
             [
              0.2222222222222222,
              "#7201a8"
             ],
             [
              0.3333333333333333,
              "#9c179e"
             ],
             [
              0.4444444444444444,
              "#bd3786"
             ],
             [
              0.5555555555555556,
              "#d8576b"
             ],
             [
              0.6666666666666666,
              "#ed7953"
             ],
             [
              0.7777777777777778,
              "#fb9f3a"
             ],
             [
              0.8888888888888888,
              "#fdca26"
             ],
             [
              1,
              "#f0f921"
             ]
            ],
            "type": "heatmap"
           }
          ],
          "heatmapgl": [
           {
            "colorbar": {
             "outlinewidth": 0,
             "ticks": ""
            },
            "colorscale": [
             [
              0,
              "#0d0887"
             ],
             [
              0.1111111111111111,
              "#46039f"
             ],
             [
              0.2222222222222222,
              "#7201a8"
             ],
             [
              0.3333333333333333,
              "#9c179e"
             ],
             [
              0.4444444444444444,
              "#bd3786"
             ],
             [
              0.5555555555555556,
              "#d8576b"
             ],
             [
              0.6666666666666666,
              "#ed7953"
             ],
             [
              0.7777777777777778,
              "#fb9f3a"
             ],
             [
              0.8888888888888888,
              "#fdca26"
             ],
             [
              1,
              "#f0f921"
             ]
            ],
            "type": "heatmapgl"
           }
          ],
          "histogram": [
           {
            "marker": {
             "pattern": {
              "fillmode": "overlay",
              "size": 10,
              "solidity": 0.2
             }
            },
            "type": "histogram"
           }
          ],
          "histogram2d": [
           {
            "colorbar": {
             "outlinewidth": 0,
             "ticks": ""
            },
            "colorscale": [
             [
              0,
              "#0d0887"
             ],
             [
              0.1111111111111111,
              "#46039f"
             ],
             [
              0.2222222222222222,
              "#7201a8"
             ],
             [
              0.3333333333333333,
              "#9c179e"
             ],
             [
              0.4444444444444444,
              "#bd3786"
             ],
             [
              0.5555555555555556,
              "#d8576b"
             ],
             [
              0.6666666666666666,
              "#ed7953"
             ],
             [
              0.7777777777777778,
              "#fb9f3a"
             ],
             [
              0.8888888888888888,
              "#fdca26"
             ],
             [
              1,
              "#f0f921"
             ]
            ],
            "type": "histogram2d"
           }
          ],
          "histogram2dcontour": [
           {
            "colorbar": {
             "outlinewidth": 0,
             "ticks": ""
            },
            "colorscale": [
             [
              0,
              "#0d0887"
             ],
             [
              0.1111111111111111,
              "#46039f"
             ],
             [
              0.2222222222222222,
              "#7201a8"
             ],
             [
              0.3333333333333333,
              "#9c179e"
             ],
             [
              0.4444444444444444,
              "#bd3786"
             ],
             [
              0.5555555555555556,
              "#d8576b"
             ],
             [
              0.6666666666666666,
              "#ed7953"
             ],
             [
              0.7777777777777778,
              "#fb9f3a"
             ],
             [
              0.8888888888888888,
              "#fdca26"
             ],
             [
              1,
              "#f0f921"
             ]
            ],
            "type": "histogram2dcontour"
           }
          ],
          "mesh3d": [
           {
            "colorbar": {
             "outlinewidth": 0,
             "ticks": ""
            },
            "type": "mesh3d"
           }
          ],
          "parcoords": [
           {
            "line": {
             "colorbar": {
              "outlinewidth": 0,
              "ticks": ""
             }
            },
            "type": "parcoords"
           }
          ],
          "pie": [
           {
            "automargin": true,
            "type": "pie"
           }
          ],
          "scatter": [
           {
            "marker": {
             "colorbar": {
              "outlinewidth": 0,
              "ticks": ""
             }
            },
            "type": "scatter"
           }
          ],
          "scatter3d": [
           {
            "line": {
             "colorbar": {
              "outlinewidth": 0,
              "ticks": ""
             }
            },
            "marker": {
             "colorbar": {
              "outlinewidth": 0,
              "ticks": ""
             }
            },
            "type": "scatter3d"
           }
          ],
          "scattercarpet": [
           {
            "marker": {
             "colorbar": {
              "outlinewidth": 0,
              "ticks": ""
             }
            },
            "type": "scattercarpet"
           }
          ],
          "scattergeo": [
           {
            "marker": {
             "colorbar": {
              "outlinewidth": 0,
              "ticks": ""
             }
            },
            "type": "scattergeo"
           }
          ],
          "scattergl": [
           {
            "marker": {
             "colorbar": {
              "outlinewidth": 0,
              "ticks": ""
             }
            },
            "type": "scattergl"
           }
          ],
          "scattermapbox": [
           {
            "marker": {
             "colorbar": {
              "outlinewidth": 0,
              "ticks": ""
             }
            },
            "type": "scattermapbox"
           }
          ],
          "scatterpolar": [
           {
            "marker": {
             "colorbar": {
              "outlinewidth": 0,
              "ticks": ""
             }
            },
            "type": "scatterpolar"
           }
          ],
          "scatterpolargl": [
           {
            "marker": {
             "colorbar": {
              "outlinewidth": 0,
              "ticks": ""
             }
            },
            "type": "scatterpolargl"
           }
          ],
          "scatterternary": [
           {
            "marker": {
             "colorbar": {
              "outlinewidth": 0,
              "ticks": ""
             }
            },
            "type": "scatterternary"
           }
          ],
          "surface": [
           {
            "colorbar": {
             "outlinewidth": 0,
             "ticks": ""
            },
            "colorscale": [
             [
              0,
              "#0d0887"
             ],
             [
              0.1111111111111111,
              "#46039f"
             ],
             [
              0.2222222222222222,
              "#7201a8"
             ],
             [
              0.3333333333333333,
              "#9c179e"
             ],
             [
              0.4444444444444444,
              "#bd3786"
             ],
             [
              0.5555555555555556,
              "#d8576b"
             ],
             [
              0.6666666666666666,
              "#ed7953"
             ],
             [
              0.7777777777777778,
              "#fb9f3a"
             ],
             [
              0.8888888888888888,
              "#fdca26"
             ],
             [
              1,
              "#f0f921"
             ]
            ],
            "type": "surface"
           }
          ],
          "table": [
           {
            "cells": {
             "fill": {
              "color": "#EBF0F8"
             },
             "line": {
              "color": "white"
             }
            },
            "header": {
             "fill": {
              "color": "#C8D4E3"
             },
             "line": {
              "color": "white"
             }
            },
            "type": "table"
           }
          ]
         },
         "layout": {
          "annotationdefaults": {
           "arrowcolor": "#2a3f5f",
           "arrowhead": 0,
           "arrowwidth": 1
          },
          "autotypenumbers": "strict",
          "coloraxis": {
           "colorbar": {
            "outlinewidth": 0,
            "ticks": ""
           }
          },
          "colorscale": {
           "diverging": [
            [
             0,
             "#8e0152"
            ],
            [
             0.1,
             "#c51b7d"
            ],
            [
             0.2,
             "#de77ae"
            ],
            [
             0.3,
             "#f1b6da"
            ],
            [
             0.4,
             "#fde0ef"
            ],
            [
             0.5,
             "#f7f7f7"
            ],
            [
             0.6,
             "#e6f5d0"
            ],
            [
             0.7,
             "#b8e186"
            ],
            [
             0.8,
             "#7fbc41"
            ],
            [
             0.9,
             "#4d9221"
            ],
            [
             1,
             "#276419"
            ]
           ],
           "sequential": [
            [
             0,
             "#0d0887"
            ],
            [
             0.1111111111111111,
             "#46039f"
            ],
            [
             0.2222222222222222,
             "#7201a8"
            ],
            [
             0.3333333333333333,
             "#9c179e"
            ],
            [
             0.4444444444444444,
             "#bd3786"
            ],
            [
             0.5555555555555556,
             "#d8576b"
            ],
            [
             0.6666666666666666,
             "#ed7953"
            ],
            [
             0.7777777777777778,
             "#fb9f3a"
            ],
            [
             0.8888888888888888,
             "#fdca26"
            ],
            [
             1,
             "#f0f921"
            ]
           ],
           "sequentialminus": [
            [
             0,
             "#0d0887"
            ],
            [
             0.1111111111111111,
             "#46039f"
            ],
            [
             0.2222222222222222,
             "#7201a8"
            ],
            [
             0.3333333333333333,
             "#9c179e"
            ],
            [
             0.4444444444444444,
             "#bd3786"
            ],
            [
             0.5555555555555556,
             "#d8576b"
            ],
            [
             0.6666666666666666,
             "#ed7953"
            ],
            [
             0.7777777777777778,
             "#fb9f3a"
            ],
            [
             0.8888888888888888,
             "#fdca26"
            ],
            [
             1,
             "#f0f921"
            ]
           ]
          },
          "colorway": [
           "#636efa",
           "#EF553B",
           "#00cc96",
           "#ab63fa",
           "#FFA15A",
           "#19d3f3",
           "#FF6692",
           "#B6E880",
           "#FF97FF",
           "#FECB52"
          ],
          "font": {
           "color": "#2a3f5f"
          },
          "geo": {
           "bgcolor": "white",
           "lakecolor": "white",
           "landcolor": "#E5ECF6",
           "showlakes": true,
           "showland": true,
           "subunitcolor": "white"
          },
          "hoverlabel": {
           "align": "left"
          },
          "hovermode": "closest",
          "mapbox": {
           "style": "light"
          },
          "paper_bgcolor": "white",
          "plot_bgcolor": "#E5ECF6",
          "polar": {
           "angularaxis": {
            "gridcolor": "white",
            "linecolor": "white",
            "ticks": ""
           },
           "bgcolor": "#E5ECF6",
           "radialaxis": {
            "gridcolor": "white",
            "linecolor": "white",
            "ticks": ""
           }
          },
          "scene": {
           "xaxis": {
            "backgroundcolor": "#E5ECF6",
            "gridcolor": "white",
            "gridwidth": 2,
            "linecolor": "white",
            "showbackground": true,
            "ticks": "",
            "zerolinecolor": "white"
           },
           "yaxis": {
            "backgroundcolor": "#E5ECF6",
            "gridcolor": "white",
            "gridwidth": 2,
            "linecolor": "white",
            "showbackground": true,
            "ticks": "",
            "zerolinecolor": "white"
           },
           "zaxis": {
            "backgroundcolor": "#E5ECF6",
            "gridcolor": "white",
            "gridwidth": 2,
            "linecolor": "white",
            "showbackground": true,
            "ticks": "",
            "zerolinecolor": "white"
           }
          },
          "shapedefaults": {
           "line": {
            "color": "#2a3f5f"
           }
          },
          "ternary": {
           "aaxis": {
            "gridcolor": "white",
            "linecolor": "white",
            "ticks": ""
           },
           "baxis": {
            "gridcolor": "white",
            "linecolor": "white",
            "ticks": ""
           },
           "bgcolor": "#E5ECF6",
           "caxis": {
            "gridcolor": "white",
            "linecolor": "white",
            "ticks": ""
           }
          },
          "title": {
           "x": 0.05
          },
          "xaxis": {
           "automargin": true,
           "gridcolor": "white",
           "linecolor": "white",
           "ticks": "",
           "title": {
            "standoff": 15
           },
           "zerolinecolor": "white",
           "zerolinewidth": 2
          },
          "yaxis": {
           "automargin": true,
           "gridcolor": "white",
           "linecolor": "white",
           "ticks": "",
           "title": {
            "standoff": 15
           },
           "zerolinecolor": "white",
           "zerolinewidth": 2
          }
         }
        },
        "title": {
         "font": {
          "color": "#4D5663"
         }
        },
        "xaxis": {
         "gridcolor": "#E1E5ED",
         "showgrid": true,
         "tickfont": {
          "color": "#4D5663"
         },
         "title": {
          "font": {
           "color": "#4D5663"
          },
          "text": ""
         },
         "zerolinecolor": "#E1E5ED"
        },
        "yaxis": {
         "gridcolor": "#E1E5ED",
         "showgrid": true,
         "tickfont": {
          "color": "#4D5663"
         },
         "title": {
          "font": {
           "color": "#4D5663"
          },
          "text": ""
         },
         "zerolinecolor": "#E1E5ED"
        }
       }
      },
      "text/html": [
       "<div>                            <div id=\"a1b79ee4-c3a9-49ba-9ef7-d9b7dce381b5\" class=\"plotly-graph-div\" style=\"height:525px; width:100%;\"></div>            <script type=\"text/javascript\">                require([\"plotly\"], function(Plotly) {                    window.PLOTLYENV=window.PLOTLYENV || {};\n",
       "                    window.PLOTLYENV.BASE_URL='https://plot.ly';                                    if (document.getElementById(\"a1b79ee4-c3a9-49ba-9ef7-d9b7dce381b5\")) {                    Plotly.newPlot(                        \"a1b79ee4-c3a9-49ba-9ef7-d9b7dce381b5\",                        [{\"marker\":{\"color\":\"rgba(255, 153, 51, 0.6)\",\"line\":{\"color\":\"rgba(255, 153, 51, 1.0)\",\"width\":1}},\"name\":\"values\",\"orientation\":\"v\",\"text\":\"\",\"x\":[\"A\",\"B\",\"C\",\"D\"],\"y\":[32,43,50,70],\"type\":\"bar\"}],                        {\"legend\":{\"bgcolor\":\"#F5F6F9\",\"font\":{\"color\":\"#4D5663\"}},\"paper_bgcolor\":\"#F5F6F9\",\"plot_bgcolor\":\"#F5F6F9\",\"template\":{\"data\":{\"barpolar\":[{\"marker\":{\"line\":{\"color\":\"#E5ECF6\",\"width\":0.5},\"pattern\":{\"fillmode\":\"overlay\",\"size\":10,\"solidity\":0.2}},\"type\":\"barpolar\"}],\"bar\":[{\"error_x\":{\"color\":\"#2a3f5f\"},\"error_y\":{\"color\":\"#2a3f5f\"},\"marker\":{\"line\":{\"color\":\"#E5ECF6\",\"width\":0.5},\"pattern\":{\"fillmode\":\"overlay\",\"size\":10,\"solidity\":0.2}},\"type\":\"bar\"}],\"carpet\":[{\"aaxis\":{\"endlinecolor\":\"#2a3f5f\",\"gridcolor\":\"white\",\"linecolor\":\"white\",\"minorgridcolor\":\"white\",\"startlinecolor\":\"#2a3f5f\"},\"baxis\":{\"endlinecolor\":\"#2a3f5f\",\"gridcolor\":\"white\",\"linecolor\":\"white\",\"minorgridcolor\":\"white\",\"startlinecolor\":\"#2a3f5f\"},\"type\":\"carpet\"}],\"choropleth\":[{\"colorbar\":{\"outlinewidth\":0,\"ticks\":\"\"},\"type\":\"choropleth\"}],\"contourcarpet\":[{\"colorbar\":{\"outlinewidth\":0,\"ticks\":\"\"},\"type\":\"contourcarpet\"}],\"contour\":[{\"colorbar\":{\"outlinewidth\":0,\"ticks\":\"\"},\"colorscale\":[[0.0,\"#0d0887\"],[0.1111111111111111,\"#46039f\"],[0.2222222222222222,\"#7201a8\"],[0.3333333333333333,\"#9c179e\"],[0.4444444444444444,\"#bd3786\"],[0.5555555555555556,\"#d8576b\"],[0.6666666666666666,\"#ed7953\"],[0.7777777777777778,\"#fb9f3a\"],[0.8888888888888888,\"#fdca26\"],[1.0,\"#f0f921\"]],\"type\":\"contour\"}],\"heatmapgl\":[{\"colorbar\":{\"outlinewidth\":0,\"ticks\":\"\"},\"colorscale\":[[0.0,\"#0d0887\"],[0.1111111111111111,\"#46039f\"],[0.2222222222222222,\"#7201a8\"],[0.3333333333333333,\"#9c179e\"],[0.4444444444444444,\"#bd3786\"],[0.5555555555555556,\"#d8576b\"],[0.6666666666666666,\"#ed7953\"],[0.7777777777777778,\"#fb9f3a\"],[0.8888888888888888,\"#fdca26\"],[1.0,\"#f0f921\"]],\"type\":\"heatmapgl\"}],\"heatmap\":[{\"colorbar\":{\"outlinewidth\":0,\"ticks\":\"\"},\"colorscale\":[[0.0,\"#0d0887\"],[0.1111111111111111,\"#46039f\"],[0.2222222222222222,\"#7201a8\"],[0.3333333333333333,\"#9c179e\"],[0.4444444444444444,\"#bd3786\"],[0.5555555555555556,\"#d8576b\"],[0.6666666666666666,\"#ed7953\"],[0.7777777777777778,\"#fb9f3a\"],[0.8888888888888888,\"#fdca26\"],[1.0,\"#f0f921\"]],\"type\":\"heatmap\"}],\"histogram2dcontour\":[{\"colorbar\":{\"outlinewidth\":0,\"ticks\":\"\"},\"colorscale\":[[0.0,\"#0d0887\"],[0.1111111111111111,\"#46039f\"],[0.2222222222222222,\"#7201a8\"],[0.3333333333333333,\"#9c179e\"],[0.4444444444444444,\"#bd3786\"],[0.5555555555555556,\"#d8576b\"],[0.6666666666666666,\"#ed7953\"],[0.7777777777777778,\"#fb9f3a\"],[0.8888888888888888,\"#fdca26\"],[1.0,\"#f0f921\"]],\"type\":\"histogram2dcontour\"}],\"histogram2d\":[{\"colorbar\":{\"outlinewidth\":0,\"ticks\":\"\"},\"colorscale\":[[0.0,\"#0d0887\"],[0.1111111111111111,\"#46039f\"],[0.2222222222222222,\"#7201a8\"],[0.3333333333333333,\"#9c179e\"],[0.4444444444444444,\"#bd3786\"],[0.5555555555555556,\"#d8576b\"],[0.6666666666666666,\"#ed7953\"],[0.7777777777777778,\"#fb9f3a\"],[0.8888888888888888,\"#fdca26\"],[1.0,\"#f0f921\"]],\"type\":\"histogram2d\"}],\"histogram\":[{\"marker\":{\"pattern\":{\"fillmode\":\"overlay\",\"size\":10,\"solidity\":0.2}},\"type\":\"histogram\"}],\"mesh3d\":[{\"colorbar\":{\"outlinewidth\":0,\"ticks\":\"\"},\"type\":\"mesh3d\"}],\"parcoords\":[{\"line\":{\"colorbar\":{\"outlinewidth\":0,\"ticks\":\"\"}},\"type\":\"parcoords\"}],\"pie\":[{\"automargin\":true,\"type\":\"pie\"}],\"scatter3d\":[{\"line\":{\"colorbar\":{\"outlinewidth\":0,\"ticks\":\"\"}},\"marker\":{\"colorbar\":{\"outlinewidth\":0,\"ticks\":\"\"}},\"type\":\"scatter3d\"}],\"scattercarpet\":[{\"marker\":{\"colorbar\":{\"outlinewidth\":0,\"ticks\":\"\"}},\"type\":\"scattercarpet\"}],\"scattergeo\":[{\"marker\":{\"colorbar\":{\"outlinewidth\":0,\"ticks\":\"\"}},\"type\":\"scattergeo\"}],\"scattergl\":[{\"marker\":{\"colorbar\":{\"outlinewidth\":0,\"ticks\":\"\"}},\"type\":\"scattergl\"}],\"scattermapbox\":[{\"marker\":{\"colorbar\":{\"outlinewidth\":0,\"ticks\":\"\"}},\"type\":\"scattermapbox\"}],\"scatterpolargl\":[{\"marker\":{\"colorbar\":{\"outlinewidth\":0,\"ticks\":\"\"}},\"type\":\"scatterpolargl\"}],\"scatterpolar\":[{\"marker\":{\"colorbar\":{\"outlinewidth\":0,\"ticks\":\"\"}},\"type\":\"scatterpolar\"}],\"scatter\":[{\"marker\":{\"colorbar\":{\"outlinewidth\":0,\"ticks\":\"\"}},\"type\":\"scatter\"}],\"scatterternary\":[{\"marker\":{\"colorbar\":{\"outlinewidth\":0,\"ticks\":\"\"}},\"type\":\"scatterternary\"}],\"surface\":[{\"colorbar\":{\"outlinewidth\":0,\"ticks\":\"\"},\"colorscale\":[[0.0,\"#0d0887\"],[0.1111111111111111,\"#46039f\"],[0.2222222222222222,\"#7201a8\"],[0.3333333333333333,\"#9c179e\"],[0.4444444444444444,\"#bd3786\"],[0.5555555555555556,\"#d8576b\"],[0.6666666666666666,\"#ed7953\"],[0.7777777777777778,\"#fb9f3a\"],[0.8888888888888888,\"#fdca26\"],[1.0,\"#f0f921\"]],\"type\":\"surface\"}],\"table\":[{\"cells\":{\"fill\":{\"color\":\"#EBF0F8\"},\"line\":{\"color\":\"white\"}},\"header\":{\"fill\":{\"color\":\"#C8D4E3\"},\"line\":{\"color\":\"white\"}},\"type\":\"table\"}]},\"layout\":{\"annotationdefaults\":{\"arrowcolor\":\"#2a3f5f\",\"arrowhead\":0,\"arrowwidth\":1},\"autotypenumbers\":\"strict\",\"coloraxis\":{\"colorbar\":{\"outlinewidth\":0,\"ticks\":\"\"}},\"colorscale\":{\"diverging\":[[0,\"#8e0152\"],[0.1,\"#c51b7d\"],[0.2,\"#de77ae\"],[0.3,\"#f1b6da\"],[0.4,\"#fde0ef\"],[0.5,\"#f7f7f7\"],[0.6,\"#e6f5d0\"],[0.7,\"#b8e186\"],[0.8,\"#7fbc41\"],[0.9,\"#4d9221\"],[1,\"#276419\"]],\"sequential\":[[0.0,\"#0d0887\"],[0.1111111111111111,\"#46039f\"],[0.2222222222222222,\"#7201a8\"],[0.3333333333333333,\"#9c179e\"],[0.4444444444444444,\"#bd3786\"],[0.5555555555555556,\"#d8576b\"],[0.6666666666666666,\"#ed7953\"],[0.7777777777777778,\"#fb9f3a\"],[0.8888888888888888,\"#fdca26\"],[1.0,\"#f0f921\"]],\"sequentialminus\":[[0.0,\"#0d0887\"],[0.1111111111111111,\"#46039f\"],[0.2222222222222222,\"#7201a8\"],[0.3333333333333333,\"#9c179e\"],[0.4444444444444444,\"#bd3786\"],[0.5555555555555556,\"#d8576b\"],[0.6666666666666666,\"#ed7953\"],[0.7777777777777778,\"#fb9f3a\"],[0.8888888888888888,\"#fdca26\"],[1.0,\"#f0f921\"]]},\"colorway\":[\"#636efa\",\"#EF553B\",\"#00cc96\",\"#ab63fa\",\"#FFA15A\",\"#19d3f3\",\"#FF6692\",\"#B6E880\",\"#FF97FF\",\"#FECB52\"],\"font\":{\"color\":\"#2a3f5f\"},\"geo\":{\"bgcolor\":\"white\",\"lakecolor\":\"white\",\"landcolor\":\"#E5ECF6\",\"showlakes\":true,\"showland\":true,\"subunitcolor\":\"white\"},\"hoverlabel\":{\"align\":\"left\"},\"hovermode\":\"closest\",\"mapbox\":{\"style\":\"light\"},\"paper_bgcolor\":\"white\",\"plot_bgcolor\":\"#E5ECF6\",\"polar\":{\"angularaxis\":{\"gridcolor\":\"white\",\"linecolor\":\"white\",\"ticks\":\"\"},\"bgcolor\":\"#E5ECF6\",\"radialaxis\":{\"gridcolor\":\"white\",\"linecolor\":\"white\",\"ticks\":\"\"}},\"scene\":{\"xaxis\":{\"backgroundcolor\":\"#E5ECF6\",\"gridcolor\":\"white\",\"gridwidth\":2,\"linecolor\":\"white\",\"showbackground\":true,\"ticks\":\"\",\"zerolinecolor\":\"white\"},\"yaxis\":{\"backgroundcolor\":\"#E5ECF6\",\"gridcolor\":\"white\",\"gridwidth\":2,\"linecolor\":\"white\",\"showbackground\":true,\"ticks\":\"\",\"zerolinecolor\":\"white\"},\"zaxis\":{\"backgroundcolor\":\"#E5ECF6\",\"gridcolor\":\"white\",\"gridwidth\":2,\"linecolor\":\"white\",\"showbackground\":true,\"ticks\":\"\",\"zerolinecolor\":\"white\"}},\"shapedefaults\":{\"line\":{\"color\":\"#2a3f5f\"}},\"ternary\":{\"aaxis\":{\"gridcolor\":\"white\",\"linecolor\":\"white\",\"ticks\":\"\"},\"baxis\":{\"gridcolor\":\"white\",\"linecolor\":\"white\",\"ticks\":\"\"},\"bgcolor\":\"#E5ECF6\",\"caxis\":{\"gridcolor\":\"white\",\"linecolor\":\"white\",\"ticks\":\"\"}},\"title\":{\"x\":0.05},\"xaxis\":{\"automargin\":true,\"gridcolor\":\"white\",\"linecolor\":\"white\",\"ticks\":\"\",\"title\":{\"standoff\":15},\"zerolinecolor\":\"white\",\"zerolinewidth\":2},\"yaxis\":{\"automargin\":true,\"gridcolor\":\"white\",\"linecolor\":\"white\",\"ticks\":\"\",\"title\":{\"standoff\":15},\"zerolinecolor\":\"white\",\"zerolinewidth\":2}}},\"title\":{\"font\":{\"color\":\"#4D5663\"}},\"xaxis\":{\"gridcolor\":\"#E1E5ED\",\"showgrid\":true,\"tickfont\":{\"color\":\"#4D5663\"},\"title\":{\"font\":{\"color\":\"#4D5663\"},\"text\":\"\"},\"zerolinecolor\":\"#E1E5ED\"},\"yaxis\":{\"gridcolor\":\"#E1E5ED\",\"showgrid\":true,\"tickfont\":{\"color\":\"#4D5663\"},\"title\":{\"font\":{\"color\":\"#4D5663\"},\"text\":\"\"},\"zerolinecolor\":\"#E1E5ED\"}},                        {\"showLink\": true, \"linkText\": \"Export to plot.ly\", \"plotlyServerURL\": \"https://plot.ly\", \"responsive\": true}                    ).then(function(){\n",
       "                            \n",
       "var gd = document.getElementById('a1b79ee4-c3a9-49ba-9ef7-d9b7dce381b5');\n",
       "var x = new MutationObserver(function (mutations, observer) {{\n",
       "        var display = window.getComputedStyle(gd).display;\n",
       "        if (!display || display === 'none') {{\n",
       "            console.log([gd, 'removed!']);\n",
       "            Plotly.purge(gd);\n",
       "            observer.disconnect();\n",
       "        }}\n",
       "}});\n",
       "\n",
       "// Listen for the removal of the full notebook cells\n",
       "var notebookContainer = gd.closest('#notebook-container');\n",
       "if (notebookContainer) {{\n",
       "    x.observe(notebookContainer, {childList: true});\n",
       "}}\n",
       "\n",
       "// Listen for the clearing of the current output cell\n",
       "var outputEl = gd.closest('.output');\n",
       "if (outputEl) {{\n",
       "    x.observe(outputEl, {childList: true});\n",
       "}}\n",
       "\n",
       "                        })                };                });            </script>        </div>"
      ]
     },
     "metadata": {},
     "output_type": "display_data"
    }
   ],
   "source": [
    "df2.iplot(kind ='bar',x ='category', y ='values')"
   ]
  },
  {
   "cell_type": "code",
   "execution_count": 13,
   "id": "f8e5ef42",
   "metadata": {},
   "outputs": [
    {
     "data": {
      "application/vnd.plotly.v1+json": {
       "config": {
        "linkText": "Export to plot.ly",
        "plotlyServerURL": "https://plot.ly",
        "showLink": true
       },
       "data": [
        {
         "marker": {
          "color": "rgba(255, 153, 51, 0.6)",
          "line": {
           "color": "rgba(255, 153, 51, 1.0)",
           "width": 1
          }
         },
         "name": "None",
         "orientation": "v",
         "text": "",
         "type": "bar",
         "x": [
          "A",
          "B",
          "C",
          "D",
          "E"
         ],
         "y": [
          100,
          100,
          100,
          100,
          100
         ]
        }
       ],
       "layout": {
        "legend": {
         "bgcolor": "#F5F6F9",
         "font": {
          "color": "#4D5663"
         }
        },
        "paper_bgcolor": "#F5F6F9",
        "plot_bgcolor": "#F5F6F9",
        "template": {
         "data": {
          "bar": [
           {
            "error_x": {
             "color": "#2a3f5f"
            },
            "error_y": {
             "color": "#2a3f5f"
            },
            "marker": {
             "line": {
              "color": "#E5ECF6",
              "width": 0.5
             },
             "pattern": {
              "fillmode": "overlay",
              "size": 10,
              "solidity": 0.2
             }
            },
            "type": "bar"
           }
          ],
          "barpolar": [
           {
            "marker": {
             "line": {
              "color": "#E5ECF6",
              "width": 0.5
             },
             "pattern": {
              "fillmode": "overlay",
              "size": 10,
              "solidity": 0.2
             }
            },
            "type": "barpolar"
           }
          ],
          "carpet": [
           {
            "aaxis": {
             "endlinecolor": "#2a3f5f",
             "gridcolor": "white",
             "linecolor": "white",
             "minorgridcolor": "white",
             "startlinecolor": "#2a3f5f"
            },
            "baxis": {
             "endlinecolor": "#2a3f5f",
             "gridcolor": "white",
             "linecolor": "white",
             "minorgridcolor": "white",
             "startlinecolor": "#2a3f5f"
            },
            "type": "carpet"
           }
          ],
          "choropleth": [
           {
            "colorbar": {
             "outlinewidth": 0,
             "ticks": ""
            },
            "type": "choropleth"
           }
          ],
          "contour": [
           {
            "colorbar": {
             "outlinewidth": 0,
             "ticks": ""
            },
            "colorscale": [
             [
              0,
              "#0d0887"
             ],
             [
              0.1111111111111111,
              "#46039f"
             ],
             [
              0.2222222222222222,
              "#7201a8"
             ],
             [
              0.3333333333333333,
              "#9c179e"
             ],
             [
              0.4444444444444444,
              "#bd3786"
             ],
             [
              0.5555555555555556,
              "#d8576b"
             ],
             [
              0.6666666666666666,
              "#ed7953"
             ],
             [
              0.7777777777777778,
              "#fb9f3a"
             ],
             [
              0.8888888888888888,
              "#fdca26"
             ],
             [
              1,
              "#f0f921"
             ]
            ],
            "type": "contour"
           }
          ],
          "contourcarpet": [
           {
            "colorbar": {
             "outlinewidth": 0,
             "ticks": ""
            },
            "type": "contourcarpet"
           }
          ],
          "heatmap": [
           {
            "colorbar": {
             "outlinewidth": 0,
             "ticks": ""
            },
            "colorscale": [
             [
              0,
              "#0d0887"
             ],
             [
              0.1111111111111111,
              "#46039f"
             ],
             [
              0.2222222222222222,
              "#7201a8"
             ],
             [
              0.3333333333333333,
              "#9c179e"
             ],
             [
              0.4444444444444444,
              "#bd3786"
             ],
             [
              0.5555555555555556,
              "#d8576b"
             ],
             [
              0.6666666666666666,
              "#ed7953"
             ],
             [
              0.7777777777777778,
              "#fb9f3a"
             ],
             [
              0.8888888888888888,
              "#fdca26"
             ],
             [
              1,
              "#f0f921"
             ]
            ],
            "type": "heatmap"
           }
          ],
          "heatmapgl": [
           {
            "colorbar": {
             "outlinewidth": 0,
             "ticks": ""
            },
            "colorscale": [
             [
              0,
              "#0d0887"
             ],
             [
              0.1111111111111111,
              "#46039f"
             ],
             [
              0.2222222222222222,
              "#7201a8"
             ],
             [
              0.3333333333333333,
              "#9c179e"
             ],
             [
              0.4444444444444444,
              "#bd3786"
             ],
             [
              0.5555555555555556,
              "#d8576b"
             ],
             [
              0.6666666666666666,
              "#ed7953"
             ],
             [
              0.7777777777777778,
              "#fb9f3a"
             ],
             [
              0.8888888888888888,
              "#fdca26"
             ],
             [
              1,
              "#f0f921"
             ]
            ],
            "type": "heatmapgl"
           }
          ],
          "histogram": [
           {
            "marker": {
             "pattern": {
              "fillmode": "overlay",
              "size": 10,
              "solidity": 0.2
             }
            },
            "type": "histogram"
           }
          ],
          "histogram2d": [
           {
            "colorbar": {
             "outlinewidth": 0,
             "ticks": ""
            },
            "colorscale": [
             [
              0,
              "#0d0887"
             ],
             [
              0.1111111111111111,
              "#46039f"
             ],
             [
              0.2222222222222222,
              "#7201a8"
             ],
             [
              0.3333333333333333,
              "#9c179e"
             ],
             [
              0.4444444444444444,
              "#bd3786"
             ],
             [
              0.5555555555555556,
              "#d8576b"
             ],
             [
              0.6666666666666666,
              "#ed7953"
             ],
             [
              0.7777777777777778,
              "#fb9f3a"
             ],
             [
              0.8888888888888888,
              "#fdca26"
             ],
             [
              1,
              "#f0f921"
             ]
            ],
            "type": "histogram2d"
           }
          ],
          "histogram2dcontour": [
           {
            "colorbar": {
             "outlinewidth": 0,
             "ticks": ""
            },
            "colorscale": [
             [
              0,
              "#0d0887"
             ],
             [
              0.1111111111111111,
              "#46039f"
             ],
             [
              0.2222222222222222,
              "#7201a8"
             ],
             [
              0.3333333333333333,
              "#9c179e"
             ],
             [
              0.4444444444444444,
              "#bd3786"
             ],
             [
              0.5555555555555556,
              "#d8576b"
             ],
             [
              0.6666666666666666,
              "#ed7953"
             ],
             [
              0.7777777777777778,
              "#fb9f3a"
             ],
             [
              0.8888888888888888,
              "#fdca26"
             ],
             [
              1,
              "#f0f921"
             ]
            ],
            "type": "histogram2dcontour"
           }
          ],
          "mesh3d": [
           {
            "colorbar": {
             "outlinewidth": 0,
             "ticks": ""
            },
            "type": "mesh3d"
           }
          ],
          "parcoords": [
           {
            "line": {
             "colorbar": {
              "outlinewidth": 0,
              "ticks": ""
             }
            },
            "type": "parcoords"
           }
          ],
          "pie": [
           {
            "automargin": true,
            "type": "pie"
           }
          ],
          "scatter": [
           {
            "marker": {
             "colorbar": {
              "outlinewidth": 0,
              "ticks": ""
             }
            },
            "type": "scatter"
           }
          ],
          "scatter3d": [
           {
            "line": {
             "colorbar": {
              "outlinewidth": 0,
              "ticks": ""
             }
            },
            "marker": {
             "colorbar": {
              "outlinewidth": 0,
              "ticks": ""
             }
            },
            "type": "scatter3d"
           }
          ],
          "scattercarpet": [
           {
            "marker": {
             "colorbar": {
              "outlinewidth": 0,
              "ticks": ""
             }
            },
            "type": "scattercarpet"
           }
          ],
          "scattergeo": [
           {
            "marker": {
             "colorbar": {
              "outlinewidth": 0,
              "ticks": ""
             }
            },
            "type": "scattergeo"
           }
          ],
          "scattergl": [
           {
            "marker": {
             "colorbar": {
              "outlinewidth": 0,
              "ticks": ""
             }
            },
            "type": "scattergl"
           }
          ],
          "scattermapbox": [
           {
            "marker": {
             "colorbar": {
              "outlinewidth": 0,
              "ticks": ""
             }
            },
            "type": "scattermapbox"
           }
          ],
          "scatterpolar": [
           {
            "marker": {
             "colorbar": {
              "outlinewidth": 0,
              "ticks": ""
             }
            },
            "type": "scatterpolar"
           }
          ],
          "scatterpolargl": [
           {
            "marker": {
             "colorbar": {
              "outlinewidth": 0,
              "ticks": ""
             }
            },
            "type": "scatterpolargl"
           }
          ],
          "scatterternary": [
           {
            "marker": {
             "colorbar": {
              "outlinewidth": 0,
              "ticks": ""
             }
            },
            "type": "scatterternary"
           }
          ],
          "surface": [
           {
            "colorbar": {
             "outlinewidth": 0,
             "ticks": ""
            },
            "colorscale": [
             [
              0,
              "#0d0887"
             ],
             [
              0.1111111111111111,
              "#46039f"
             ],
             [
              0.2222222222222222,
              "#7201a8"
             ],
             [
              0.3333333333333333,
              "#9c179e"
             ],
             [
              0.4444444444444444,
              "#bd3786"
             ],
             [
              0.5555555555555556,
              "#d8576b"
             ],
             [
              0.6666666666666666,
              "#ed7953"
             ],
             [
              0.7777777777777778,
              "#fb9f3a"
             ],
             [
              0.8888888888888888,
              "#fdca26"
             ],
             [
              1,
              "#f0f921"
             ]
            ],
            "type": "surface"
           }
          ],
          "table": [
           {
            "cells": {
             "fill": {
              "color": "#EBF0F8"
             },
             "line": {
              "color": "white"
             }
            },
            "header": {
             "fill": {
              "color": "#C8D4E3"
             },
             "line": {
              "color": "white"
             }
            },
            "type": "table"
           }
          ]
         },
         "layout": {
          "annotationdefaults": {
           "arrowcolor": "#2a3f5f",
           "arrowhead": 0,
           "arrowwidth": 1
          },
          "autotypenumbers": "strict",
          "coloraxis": {
           "colorbar": {
            "outlinewidth": 0,
            "ticks": ""
           }
          },
          "colorscale": {
           "diverging": [
            [
             0,
             "#8e0152"
            ],
            [
             0.1,
             "#c51b7d"
            ],
            [
             0.2,
             "#de77ae"
            ],
            [
             0.3,
             "#f1b6da"
            ],
            [
             0.4,
             "#fde0ef"
            ],
            [
             0.5,
             "#f7f7f7"
            ],
            [
             0.6,
             "#e6f5d0"
            ],
            [
             0.7,
             "#b8e186"
            ],
            [
             0.8,
             "#7fbc41"
            ],
            [
             0.9,
             "#4d9221"
            ],
            [
             1,
             "#276419"
            ]
           ],
           "sequential": [
            [
             0,
             "#0d0887"
            ],
            [
             0.1111111111111111,
             "#46039f"
            ],
            [
             0.2222222222222222,
             "#7201a8"
            ],
            [
             0.3333333333333333,
             "#9c179e"
            ],
            [
             0.4444444444444444,
             "#bd3786"
            ],
            [
             0.5555555555555556,
             "#d8576b"
            ],
            [
             0.6666666666666666,
             "#ed7953"
            ],
            [
             0.7777777777777778,
             "#fb9f3a"
            ],
            [
             0.8888888888888888,
             "#fdca26"
            ],
            [
             1,
             "#f0f921"
            ]
           ],
           "sequentialminus": [
            [
             0,
             "#0d0887"
            ],
            [
             0.1111111111111111,
             "#46039f"
            ],
            [
             0.2222222222222222,
             "#7201a8"
            ],
            [
             0.3333333333333333,
             "#9c179e"
            ],
            [
             0.4444444444444444,
             "#bd3786"
            ],
            [
             0.5555555555555556,
             "#d8576b"
            ],
            [
             0.6666666666666666,
             "#ed7953"
            ],
            [
             0.7777777777777778,
             "#fb9f3a"
            ],
            [
             0.8888888888888888,
             "#fdca26"
            ],
            [
             1,
             "#f0f921"
            ]
           ]
          },
          "colorway": [
           "#636efa",
           "#EF553B",
           "#00cc96",
           "#ab63fa",
           "#FFA15A",
           "#19d3f3",
           "#FF6692",
           "#B6E880",
           "#FF97FF",
           "#FECB52"
          ],
          "font": {
           "color": "#2a3f5f"
          },
          "geo": {
           "bgcolor": "white",
           "lakecolor": "white",
           "landcolor": "#E5ECF6",
           "showlakes": true,
           "showland": true,
           "subunitcolor": "white"
          },
          "hoverlabel": {
           "align": "left"
          },
          "hovermode": "closest",
          "mapbox": {
           "style": "light"
          },
          "paper_bgcolor": "white",
          "plot_bgcolor": "#E5ECF6",
          "polar": {
           "angularaxis": {
            "gridcolor": "white",
            "linecolor": "white",
            "ticks": ""
           },
           "bgcolor": "#E5ECF6",
           "radialaxis": {
            "gridcolor": "white",
            "linecolor": "white",
            "ticks": ""
           }
          },
          "scene": {
           "xaxis": {
            "backgroundcolor": "#E5ECF6",
            "gridcolor": "white",
            "gridwidth": 2,
            "linecolor": "white",
            "showbackground": true,
            "ticks": "",
            "zerolinecolor": "white"
           },
           "yaxis": {
            "backgroundcolor": "#E5ECF6",
            "gridcolor": "white",
            "gridwidth": 2,
            "linecolor": "white",
            "showbackground": true,
            "ticks": "",
            "zerolinecolor": "white"
           },
           "zaxis": {
            "backgroundcolor": "#E5ECF6",
            "gridcolor": "white",
            "gridwidth": 2,
            "linecolor": "white",
            "showbackground": true,
            "ticks": "",
            "zerolinecolor": "white"
           }
          },
          "shapedefaults": {
           "line": {
            "color": "#2a3f5f"
           }
          },
          "ternary": {
           "aaxis": {
            "gridcolor": "white",
            "linecolor": "white",
            "ticks": ""
           },
           "baxis": {
            "gridcolor": "white",
            "linecolor": "white",
            "ticks": ""
           },
           "bgcolor": "#E5ECF6",
           "caxis": {
            "gridcolor": "white",
            "linecolor": "white",
            "ticks": ""
           }
          },
          "title": {
           "x": 0.05
          },
          "xaxis": {
           "automargin": true,
           "gridcolor": "white",
           "linecolor": "white",
           "ticks": "",
           "title": {
            "standoff": 15
           },
           "zerolinecolor": "white",
           "zerolinewidth": 2
          },
          "yaxis": {
           "automargin": true,
           "gridcolor": "white",
           "linecolor": "white",
           "ticks": "",
           "title": {
            "standoff": 15
           },
           "zerolinecolor": "white",
           "zerolinewidth": 2
          }
         }
        },
        "title": {
         "font": {
          "color": "#4D5663"
         }
        },
        "xaxis": {
         "gridcolor": "#E1E5ED",
         "showgrid": true,
         "tickfont": {
          "color": "#4D5663"
         },
         "title": {
          "font": {
           "color": "#4D5663"
          },
          "text": ""
         },
         "zerolinecolor": "#E1E5ED"
        },
        "yaxis": {
         "gridcolor": "#E1E5ED",
         "showgrid": true,
         "tickfont": {
          "color": "#4D5663"
         },
         "title": {
          "font": {
           "color": "#4D5663"
          },
          "text": ""
         },
         "zerolinecolor": "#E1E5ED"
        }
       }
      },
      "text/html": [
       "<div>                            <div id=\"1d16448b-51a7-4c61-9b81-d36406b39f51\" class=\"plotly-graph-div\" style=\"height:525px; width:100%;\"></div>            <script type=\"text/javascript\">                require([\"plotly\"], function(Plotly) {                    window.PLOTLYENV=window.PLOTLYENV || {};\n",
       "                    window.PLOTLYENV.BASE_URL='https://plot.ly';                                    if (document.getElementById(\"1d16448b-51a7-4c61-9b81-d36406b39f51\")) {                    Plotly.newPlot(                        \"1d16448b-51a7-4c61-9b81-d36406b39f51\",                        [{\"marker\":{\"color\":\"rgba(255, 153, 51, 0.6)\",\"line\":{\"color\":\"rgba(255, 153, 51, 1.0)\",\"width\":1}},\"name\":\"None\",\"orientation\":\"v\",\"text\":\"\",\"x\":[\"A\",\"B\",\"C\",\"D\",\"E\"],\"y\":[100,100,100,100,100],\"type\":\"bar\"}],                        {\"legend\":{\"bgcolor\":\"#F5F6F9\",\"font\":{\"color\":\"#4D5663\"}},\"paper_bgcolor\":\"#F5F6F9\",\"plot_bgcolor\":\"#F5F6F9\",\"template\":{\"data\":{\"barpolar\":[{\"marker\":{\"line\":{\"color\":\"#E5ECF6\",\"width\":0.5},\"pattern\":{\"fillmode\":\"overlay\",\"size\":10,\"solidity\":0.2}},\"type\":\"barpolar\"}],\"bar\":[{\"error_x\":{\"color\":\"#2a3f5f\"},\"error_y\":{\"color\":\"#2a3f5f\"},\"marker\":{\"line\":{\"color\":\"#E5ECF6\",\"width\":0.5},\"pattern\":{\"fillmode\":\"overlay\",\"size\":10,\"solidity\":0.2}},\"type\":\"bar\"}],\"carpet\":[{\"aaxis\":{\"endlinecolor\":\"#2a3f5f\",\"gridcolor\":\"white\",\"linecolor\":\"white\",\"minorgridcolor\":\"white\",\"startlinecolor\":\"#2a3f5f\"},\"baxis\":{\"endlinecolor\":\"#2a3f5f\",\"gridcolor\":\"white\",\"linecolor\":\"white\",\"minorgridcolor\":\"white\",\"startlinecolor\":\"#2a3f5f\"},\"type\":\"carpet\"}],\"choropleth\":[{\"colorbar\":{\"outlinewidth\":0,\"ticks\":\"\"},\"type\":\"choropleth\"}],\"contourcarpet\":[{\"colorbar\":{\"outlinewidth\":0,\"ticks\":\"\"},\"type\":\"contourcarpet\"}],\"contour\":[{\"colorbar\":{\"outlinewidth\":0,\"ticks\":\"\"},\"colorscale\":[[0.0,\"#0d0887\"],[0.1111111111111111,\"#46039f\"],[0.2222222222222222,\"#7201a8\"],[0.3333333333333333,\"#9c179e\"],[0.4444444444444444,\"#bd3786\"],[0.5555555555555556,\"#d8576b\"],[0.6666666666666666,\"#ed7953\"],[0.7777777777777778,\"#fb9f3a\"],[0.8888888888888888,\"#fdca26\"],[1.0,\"#f0f921\"]],\"type\":\"contour\"}],\"heatmapgl\":[{\"colorbar\":{\"outlinewidth\":0,\"ticks\":\"\"},\"colorscale\":[[0.0,\"#0d0887\"],[0.1111111111111111,\"#46039f\"],[0.2222222222222222,\"#7201a8\"],[0.3333333333333333,\"#9c179e\"],[0.4444444444444444,\"#bd3786\"],[0.5555555555555556,\"#d8576b\"],[0.6666666666666666,\"#ed7953\"],[0.7777777777777778,\"#fb9f3a\"],[0.8888888888888888,\"#fdca26\"],[1.0,\"#f0f921\"]],\"type\":\"heatmapgl\"}],\"heatmap\":[{\"colorbar\":{\"outlinewidth\":0,\"ticks\":\"\"},\"colorscale\":[[0.0,\"#0d0887\"],[0.1111111111111111,\"#46039f\"],[0.2222222222222222,\"#7201a8\"],[0.3333333333333333,\"#9c179e\"],[0.4444444444444444,\"#bd3786\"],[0.5555555555555556,\"#d8576b\"],[0.6666666666666666,\"#ed7953\"],[0.7777777777777778,\"#fb9f3a\"],[0.8888888888888888,\"#fdca26\"],[1.0,\"#f0f921\"]],\"type\":\"heatmap\"}],\"histogram2dcontour\":[{\"colorbar\":{\"outlinewidth\":0,\"ticks\":\"\"},\"colorscale\":[[0.0,\"#0d0887\"],[0.1111111111111111,\"#46039f\"],[0.2222222222222222,\"#7201a8\"],[0.3333333333333333,\"#9c179e\"],[0.4444444444444444,\"#bd3786\"],[0.5555555555555556,\"#d8576b\"],[0.6666666666666666,\"#ed7953\"],[0.7777777777777778,\"#fb9f3a\"],[0.8888888888888888,\"#fdca26\"],[1.0,\"#f0f921\"]],\"type\":\"histogram2dcontour\"}],\"histogram2d\":[{\"colorbar\":{\"outlinewidth\":0,\"ticks\":\"\"},\"colorscale\":[[0.0,\"#0d0887\"],[0.1111111111111111,\"#46039f\"],[0.2222222222222222,\"#7201a8\"],[0.3333333333333333,\"#9c179e\"],[0.4444444444444444,\"#bd3786\"],[0.5555555555555556,\"#d8576b\"],[0.6666666666666666,\"#ed7953\"],[0.7777777777777778,\"#fb9f3a\"],[0.8888888888888888,\"#fdca26\"],[1.0,\"#f0f921\"]],\"type\":\"histogram2d\"}],\"histogram\":[{\"marker\":{\"pattern\":{\"fillmode\":\"overlay\",\"size\":10,\"solidity\":0.2}},\"type\":\"histogram\"}],\"mesh3d\":[{\"colorbar\":{\"outlinewidth\":0,\"ticks\":\"\"},\"type\":\"mesh3d\"}],\"parcoords\":[{\"line\":{\"colorbar\":{\"outlinewidth\":0,\"ticks\":\"\"}},\"type\":\"parcoords\"}],\"pie\":[{\"automargin\":true,\"type\":\"pie\"}],\"scatter3d\":[{\"line\":{\"colorbar\":{\"outlinewidth\":0,\"ticks\":\"\"}},\"marker\":{\"colorbar\":{\"outlinewidth\":0,\"ticks\":\"\"}},\"type\":\"scatter3d\"}],\"scattercarpet\":[{\"marker\":{\"colorbar\":{\"outlinewidth\":0,\"ticks\":\"\"}},\"type\":\"scattercarpet\"}],\"scattergeo\":[{\"marker\":{\"colorbar\":{\"outlinewidth\":0,\"ticks\":\"\"}},\"type\":\"scattergeo\"}],\"scattergl\":[{\"marker\":{\"colorbar\":{\"outlinewidth\":0,\"ticks\":\"\"}},\"type\":\"scattergl\"}],\"scattermapbox\":[{\"marker\":{\"colorbar\":{\"outlinewidth\":0,\"ticks\":\"\"}},\"type\":\"scattermapbox\"}],\"scatterpolargl\":[{\"marker\":{\"colorbar\":{\"outlinewidth\":0,\"ticks\":\"\"}},\"type\":\"scatterpolargl\"}],\"scatterpolar\":[{\"marker\":{\"colorbar\":{\"outlinewidth\":0,\"ticks\":\"\"}},\"type\":\"scatterpolar\"}],\"scatter\":[{\"marker\":{\"colorbar\":{\"outlinewidth\":0,\"ticks\":\"\"}},\"type\":\"scatter\"}],\"scatterternary\":[{\"marker\":{\"colorbar\":{\"outlinewidth\":0,\"ticks\":\"\"}},\"type\":\"scatterternary\"}],\"surface\":[{\"colorbar\":{\"outlinewidth\":0,\"ticks\":\"\"},\"colorscale\":[[0.0,\"#0d0887\"],[0.1111111111111111,\"#46039f\"],[0.2222222222222222,\"#7201a8\"],[0.3333333333333333,\"#9c179e\"],[0.4444444444444444,\"#bd3786\"],[0.5555555555555556,\"#d8576b\"],[0.6666666666666666,\"#ed7953\"],[0.7777777777777778,\"#fb9f3a\"],[0.8888888888888888,\"#fdca26\"],[1.0,\"#f0f921\"]],\"type\":\"surface\"}],\"table\":[{\"cells\":{\"fill\":{\"color\":\"#EBF0F8\"},\"line\":{\"color\":\"white\"}},\"header\":{\"fill\":{\"color\":\"#C8D4E3\"},\"line\":{\"color\":\"white\"}},\"type\":\"table\"}]},\"layout\":{\"annotationdefaults\":{\"arrowcolor\":\"#2a3f5f\",\"arrowhead\":0,\"arrowwidth\":1},\"autotypenumbers\":\"strict\",\"coloraxis\":{\"colorbar\":{\"outlinewidth\":0,\"ticks\":\"\"}},\"colorscale\":{\"diverging\":[[0,\"#8e0152\"],[0.1,\"#c51b7d\"],[0.2,\"#de77ae\"],[0.3,\"#f1b6da\"],[0.4,\"#fde0ef\"],[0.5,\"#f7f7f7\"],[0.6,\"#e6f5d0\"],[0.7,\"#b8e186\"],[0.8,\"#7fbc41\"],[0.9,\"#4d9221\"],[1,\"#276419\"]],\"sequential\":[[0.0,\"#0d0887\"],[0.1111111111111111,\"#46039f\"],[0.2222222222222222,\"#7201a8\"],[0.3333333333333333,\"#9c179e\"],[0.4444444444444444,\"#bd3786\"],[0.5555555555555556,\"#d8576b\"],[0.6666666666666666,\"#ed7953\"],[0.7777777777777778,\"#fb9f3a\"],[0.8888888888888888,\"#fdca26\"],[1.0,\"#f0f921\"]],\"sequentialminus\":[[0.0,\"#0d0887\"],[0.1111111111111111,\"#46039f\"],[0.2222222222222222,\"#7201a8\"],[0.3333333333333333,\"#9c179e\"],[0.4444444444444444,\"#bd3786\"],[0.5555555555555556,\"#d8576b\"],[0.6666666666666666,\"#ed7953\"],[0.7777777777777778,\"#fb9f3a\"],[0.8888888888888888,\"#fdca26\"],[1.0,\"#f0f921\"]]},\"colorway\":[\"#636efa\",\"#EF553B\",\"#00cc96\",\"#ab63fa\",\"#FFA15A\",\"#19d3f3\",\"#FF6692\",\"#B6E880\",\"#FF97FF\",\"#FECB52\"],\"font\":{\"color\":\"#2a3f5f\"},\"geo\":{\"bgcolor\":\"white\",\"lakecolor\":\"white\",\"landcolor\":\"#E5ECF6\",\"showlakes\":true,\"showland\":true,\"subunitcolor\":\"white\"},\"hoverlabel\":{\"align\":\"left\"},\"hovermode\":\"closest\",\"mapbox\":{\"style\":\"light\"},\"paper_bgcolor\":\"white\",\"plot_bgcolor\":\"#E5ECF6\",\"polar\":{\"angularaxis\":{\"gridcolor\":\"white\",\"linecolor\":\"white\",\"ticks\":\"\"},\"bgcolor\":\"#E5ECF6\",\"radialaxis\":{\"gridcolor\":\"white\",\"linecolor\":\"white\",\"ticks\":\"\"}},\"scene\":{\"xaxis\":{\"backgroundcolor\":\"#E5ECF6\",\"gridcolor\":\"white\",\"gridwidth\":2,\"linecolor\":\"white\",\"showbackground\":true,\"ticks\":\"\",\"zerolinecolor\":\"white\"},\"yaxis\":{\"backgroundcolor\":\"#E5ECF6\",\"gridcolor\":\"white\",\"gridwidth\":2,\"linecolor\":\"white\",\"showbackground\":true,\"ticks\":\"\",\"zerolinecolor\":\"white\"},\"zaxis\":{\"backgroundcolor\":\"#E5ECF6\",\"gridcolor\":\"white\",\"gridwidth\":2,\"linecolor\":\"white\",\"showbackground\":true,\"ticks\":\"\",\"zerolinecolor\":\"white\"}},\"shapedefaults\":{\"line\":{\"color\":\"#2a3f5f\"}},\"ternary\":{\"aaxis\":{\"gridcolor\":\"white\",\"linecolor\":\"white\",\"ticks\":\"\"},\"baxis\":{\"gridcolor\":\"white\",\"linecolor\":\"white\",\"ticks\":\"\"},\"bgcolor\":\"#E5ECF6\",\"caxis\":{\"gridcolor\":\"white\",\"linecolor\":\"white\",\"ticks\":\"\"}},\"title\":{\"x\":0.05},\"xaxis\":{\"automargin\":true,\"gridcolor\":\"white\",\"linecolor\":\"white\",\"ticks\":\"\",\"title\":{\"standoff\":15},\"zerolinecolor\":\"white\",\"zerolinewidth\":2},\"yaxis\":{\"automargin\":true,\"gridcolor\":\"white\",\"linecolor\":\"white\",\"ticks\":\"\",\"title\":{\"standoff\":15},\"zerolinecolor\":\"white\",\"zerolinewidth\":2}}},\"title\":{\"font\":{\"color\":\"#4D5663\"}},\"xaxis\":{\"gridcolor\":\"#E1E5ED\",\"showgrid\":true,\"tickfont\":{\"color\":\"#4D5663\"},\"title\":{\"font\":{\"color\":\"#4D5663\"},\"text\":\"\"},\"zerolinecolor\":\"#E1E5ED\"},\"yaxis\":{\"gridcolor\":\"#E1E5ED\",\"showgrid\":true,\"tickfont\":{\"color\":\"#4D5663\"},\"title\":{\"font\":{\"color\":\"#4D5663\"},\"text\":\"\"},\"zerolinecolor\":\"#E1E5ED\"}},                        {\"showLink\": true, \"linkText\": \"Export to plot.ly\", \"plotlyServerURL\": \"https://plot.ly\", \"responsive\": true}                    ).then(function(){\n",
       "                            \n",
       "var gd = document.getElementById('1d16448b-51a7-4c61-9b81-d36406b39f51');\n",
       "var x = new MutationObserver(function (mutations, observer) {{\n",
       "        var display = window.getComputedStyle(gd).display;\n",
       "        if (!display || display === 'none') {{\n",
       "            console.log([gd, 'removed!']);\n",
       "            Plotly.purge(gd);\n",
       "            observer.disconnect();\n",
       "        }}\n",
       "}});\n",
       "\n",
       "// Listen for the removal of the full notebook cells\n",
       "var notebookContainer = gd.closest('#notebook-container');\n",
       "if (notebookContainer) {{\n",
       "    x.observe(notebookContainer, {childList: true});\n",
       "}}\n",
       "\n",
       "// Listen for the clearing of the current output cell\n",
       "var outputEl = gd.closest('.output');\n",
       "if (outputEl) {{\n",
       "    x.observe(outputEl, {childList: true});\n",
       "}}\n",
       "\n",
       "                        })                };                });            </script>        </div>"
      ]
     },
     "metadata": {},
     "output_type": "display_data"
    }
   ],
   "source": [
    "df.count().iplot(kind ='bar')"
   ]
  },
  {
   "cell_type": "markdown",
   "id": "12f0d71c",
   "metadata": {},
   "source": [
    "# Boxplots"
   ]
  },
  {
   "cell_type": "code",
   "execution_count": 14,
   "id": "38afac33",
   "metadata": {},
   "outputs": [
    {
     "data": {
      "application/vnd.plotly.v1+json": {
       "config": {
        "linkText": "Export to plot.ly",
        "plotlyServerURL": "https://plot.ly",
        "showLink": true
       },
       "data": [
        {
         "boxpoints": false,
         "line": {
          "width": 1.3
         },
         "marker": {
          "color": "rgba(255, 153, 51, 1.0)"
         },
         "name": "category",
         "orientation": "v",
         "type": "box",
         "y": [
          "A",
          "B",
          "C",
          "D"
         ]
        },
        {
         "boxpoints": false,
         "line": {
          "width": 1.3
         },
         "marker": {
          "color": "rgba(55, 128, 191, 1.0)"
         },
         "name": "values",
         "orientation": "v",
         "type": "box",
         "y": [
          32,
          43,
          50,
          70
         ]
        }
       ],
       "layout": {
        "legend": {
         "bgcolor": "#F5F6F9",
         "font": {
          "color": "#4D5663"
         }
        },
        "paper_bgcolor": "#F5F6F9",
        "plot_bgcolor": "#F5F6F9",
        "template": {
         "data": {
          "bar": [
           {
            "error_x": {
             "color": "#2a3f5f"
            },
            "error_y": {
             "color": "#2a3f5f"
            },
            "marker": {
             "line": {
              "color": "#E5ECF6",
              "width": 0.5
             },
             "pattern": {
              "fillmode": "overlay",
              "size": 10,
              "solidity": 0.2
             }
            },
            "type": "bar"
           }
          ],
          "barpolar": [
           {
            "marker": {
             "line": {
              "color": "#E5ECF6",
              "width": 0.5
             },
             "pattern": {
              "fillmode": "overlay",
              "size": 10,
              "solidity": 0.2
             }
            },
            "type": "barpolar"
           }
          ],
          "carpet": [
           {
            "aaxis": {
             "endlinecolor": "#2a3f5f",
             "gridcolor": "white",
             "linecolor": "white",
             "minorgridcolor": "white",
             "startlinecolor": "#2a3f5f"
            },
            "baxis": {
             "endlinecolor": "#2a3f5f",
             "gridcolor": "white",
             "linecolor": "white",
             "minorgridcolor": "white",
             "startlinecolor": "#2a3f5f"
            },
            "type": "carpet"
           }
          ],
          "choropleth": [
           {
            "colorbar": {
             "outlinewidth": 0,
             "ticks": ""
            },
            "type": "choropleth"
           }
          ],
          "contour": [
           {
            "colorbar": {
             "outlinewidth": 0,
             "ticks": ""
            },
            "colorscale": [
             [
              0,
              "#0d0887"
             ],
             [
              0.1111111111111111,
              "#46039f"
             ],
             [
              0.2222222222222222,
              "#7201a8"
             ],
             [
              0.3333333333333333,
              "#9c179e"
             ],
             [
              0.4444444444444444,
              "#bd3786"
             ],
             [
              0.5555555555555556,
              "#d8576b"
             ],
             [
              0.6666666666666666,
              "#ed7953"
             ],
             [
              0.7777777777777778,
              "#fb9f3a"
             ],
             [
              0.8888888888888888,
              "#fdca26"
             ],
             [
              1,
              "#f0f921"
             ]
            ],
            "type": "contour"
           }
          ],
          "contourcarpet": [
           {
            "colorbar": {
             "outlinewidth": 0,
             "ticks": ""
            },
            "type": "contourcarpet"
           }
          ],
          "heatmap": [
           {
            "colorbar": {
             "outlinewidth": 0,
             "ticks": ""
            },
            "colorscale": [
             [
              0,
              "#0d0887"
             ],
             [
              0.1111111111111111,
              "#46039f"
             ],
             [
              0.2222222222222222,
              "#7201a8"
             ],
             [
              0.3333333333333333,
              "#9c179e"
             ],
             [
              0.4444444444444444,
              "#bd3786"
             ],
             [
              0.5555555555555556,
              "#d8576b"
             ],
             [
              0.6666666666666666,
              "#ed7953"
             ],
             [
              0.7777777777777778,
              "#fb9f3a"
             ],
             [
              0.8888888888888888,
              "#fdca26"
             ],
             [
              1,
              "#f0f921"
             ]
            ],
            "type": "heatmap"
           }
          ],
          "heatmapgl": [
           {
            "colorbar": {
             "outlinewidth": 0,
             "ticks": ""
            },
            "colorscale": [
             [
              0,
              "#0d0887"
             ],
             [
              0.1111111111111111,
              "#46039f"
             ],
             [
              0.2222222222222222,
              "#7201a8"
             ],
             [
              0.3333333333333333,
              "#9c179e"
             ],
             [
              0.4444444444444444,
              "#bd3786"
             ],
             [
              0.5555555555555556,
              "#d8576b"
             ],
             [
              0.6666666666666666,
              "#ed7953"
             ],
             [
              0.7777777777777778,
              "#fb9f3a"
             ],
             [
              0.8888888888888888,
              "#fdca26"
             ],
             [
              1,
              "#f0f921"
             ]
            ],
            "type": "heatmapgl"
           }
          ],
          "histogram": [
           {
            "marker": {
             "pattern": {
              "fillmode": "overlay",
              "size": 10,
              "solidity": 0.2
             }
            },
            "type": "histogram"
           }
          ],
          "histogram2d": [
           {
            "colorbar": {
             "outlinewidth": 0,
             "ticks": ""
            },
            "colorscale": [
             [
              0,
              "#0d0887"
             ],
             [
              0.1111111111111111,
              "#46039f"
             ],
             [
              0.2222222222222222,
              "#7201a8"
             ],
             [
              0.3333333333333333,
              "#9c179e"
             ],
             [
              0.4444444444444444,
              "#bd3786"
             ],
             [
              0.5555555555555556,
              "#d8576b"
             ],
             [
              0.6666666666666666,
              "#ed7953"
             ],
             [
              0.7777777777777778,
              "#fb9f3a"
             ],
             [
              0.8888888888888888,
              "#fdca26"
             ],
             [
              1,
              "#f0f921"
             ]
            ],
            "type": "histogram2d"
           }
          ],
          "histogram2dcontour": [
           {
            "colorbar": {
             "outlinewidth": 0,
             "ticks": ""
            },
            "colorscale": [
             [
              0,
              "#0d0887"
             ],
             [
              0.1111111111111111,
              "#46039f"
             ],
             [
              0.2222222222222222,
              "#7201a8"
             ],
             [
              0.3333333333333333,
              "#9c179e"
             ],
             [
              0.4444444444444444,
              "#bd3786"
             ],
             [
              0.5555555555555556,
              "#d8576b"
             ],
             [
              0.6666666666666666,
              "#ed7953"
             ],
             [
              0.7777777777777778,
              "#fb9f3a"
             ],
             [
              0.8888888888888888,
              "#fdca26"
             ],
             [
              1,
              "#f0f921"
             ]
            ],
            "type": "histogram2dcontour"
           }
          ],
          "mesh3d": [
           {
            "colorbar": {
             "outlinewidth": 0,
             "ticks": ""
            },
            "type": "mesh3d"
           }
          ],
          "parcoords": [
           {
            "line": {
             "colorbar": {
              "outlinewidth": 0,
              "ticks": ""
             }
            },
            "type": "parcoords"
           }
          ],
          "pie": [
           {
            "automargin": true,
            "type": "pie"
           }
          ],
          "scatter": [
           {
            "marker": {
             "colorbar": {
              "outlinewidth": 0,
              "ticks": ""
             }
            },
            "type": "scatter"
           }
          ],
          "scatter3d": [
           {
            "line": {
             "colorbar": {
              "outlinewidth": 0,
              "ticks": ""
             }
            },
            "marker": {
             "colorbar": {
              "outlinewidth": 0,
              "ticks": ""
             }
            },
            "type": "scatter3d"
           }
          ],
          "scattercarpet": [
           {
            "marker": {
             "colorbar": {
              "outlinewidth": 0,
              "ticks": ""
             }
            },
            "type": "scattercarpet"
           }
          ],
          "scattergeo": [
           {
            "marker": {
             "colorbar": {
              "outlinewidth": 0,
              "ticks": ""
             }
            },
            "type": "scattergeo"
           }
          ],
          "scattergl": [
           {
            "marker": {
             "colorbar": {
              "outlinewidth": 0,
              "ticks": ""
             }
            },
            "type": "scattergl"
           }
          ],
          "scattermapbox": [
           {
            "marker": {
             "colorbar": {
              "outlinewidth": 0,
              "ticks": ""
             }
            },
            "type": "scattermapbox"
           }
          ],
          "scatterpolar": [
           {
            "marker": {
             "colorbar": {
              "outlinewidth": 0,
              "ticks": ""
             }
            },
            "type": "scatterpolar"
           }
          ],
          "scatterpolargl": [
           {
            "marker": {
             "colorbar": {
              "outlinewidth": 0,
              "ticks": ""
             }
            },
            "type": "scatterpolargl"
           }
          ],
          "scatterternary": [
           {
            "marker": {
             "colorbar": {
              "outlinewidth": 0,
              "ticks": ""
             }
            },
            "type": "scatterternary"
           }
          ],
          "surface": [
           {
            "colorbar": {
             "outlinewidth": 0,
             "ticks": ""
            },
            "colorscale": [
             [
              0,
              "#0d0887"
             ],
             [
              0.1111111111111111,
              "#46039f"
             ],
             [
              0.2222222222222222,
              "#7201a8"
             ],
             [
              0.3333333333333333,
              "#9c179e"
             ],
             [
              0.4444444444444444,
              "#bd3786"
             ],
             [
              0.5555555555555556,
              "#d8576b"
             ],
             [
              0.6666666666666666,
              "#ed7953"
             ],
             [
              0.7777777777777778,
              "#fb9f3a"
             ],
             [
              0.8888888888888888,
              "#fdca26"
             ],
             [
              1,
              "#f0f921"
             ]
            ],
            "type": "surface"
           }
          ],
          "table": [
           {
            "cells": {
             "fill": {
              "color": "#EBF0F8"
             },
             "line": {
              "color": "white"
             }
            },
            "header": {
             "fill": {
              "color": "#C8D4E3"
             },
             "line": {
              "color": "white"
             }
            },
            "type": "table"
           }
          ]
         },
         "layout": {
          "annotationdefaults": {
           "arrowcolor": "#2a3f5f",
           "arrowhead": 0,
           "arrowwidth": 1
          },
          "autotypenumbers": "strict",
          "coloraxis": {
           "colorbar": {
            "outlinewidth": 0,
            "ticks": ""
           }
          },
          "colorscale": {
           "diverging": [
            [
             0,
             "#8e0152"
            ],
            [
             0.1,
             "#c51b7d"
            ],
            [
             0.2,
             "#de77ae"
            ],
            [
             0.3,
             "#f1b6da"
            ],
            [
             0.4,
             "#fde0ef"
            ],
            [
             0.5,
             "#f7f7f7"
            ],
            [
             0.6,
             "#e6f5d0"
            ],
            [
             0.7,
             "#b8e186"
            ],
            [
             0.8,
             "#7fbc41"
            ],
            [
             0.9,
             "#4d9221"
            ],
            [
             1,
             "#276419"
            ]
           ],
           "sequential": [
            [
             0,
             "#0d0887"
            ],
            [
             0.1111111111111111,
             "#46039f"
            ],
            [
             0.2222222222222222,
             "#7201a8"
            ],
            [
             0.3333333333333333,
             "#9c179e"
            ],
            [
             0.4444444444444444,
             "#bd3786"
            ],
            [
             0.5555555555555556,
             "#d8576b"
            ],
            [
             0.6666666666666666,
             "#ed7953"
            ],
            [
             0.7777777777777778,
             "#fb9f3a"
            ],
            [
             0.8888888888888888,
             "#fdca26"
            ],
            [
             1,
             "#f0f921"
            ]
           ],
           "sequentialminus": [
            [
             0,
             "#0d0887"
            ],
            [
             0.1111111111111111,
             "#46039f"
            ],
            [
             0.2222222222222222,
             "#7201a8"
            ],
            [
             0.3333333333333333,
             "#9c179e"
            ],
            [
             0.4444444444444444,
             "#bd3786"
            ],
            [
             0.5555555555555556,
             "#d8576b"
            ],
            [
             0.6666666666666666,
             "#ed7953"
            ],
            [
             0.7777777777777778,
             "#fb9f3a"
            ],
            [
             0.8888888888888888,
             "#fdca26"
            ],
            [
             1,
             "#f0f921"
            ]
           ]
          },
          "colorway": [
           "#636efa",
           "#EF553B",
           "#00cc96",
           "#ab63fa",
           "#FFA15A",
           "#19d3f3",
           "#FF6692",
           "#B6E880",
           "#FF97FF",
           "#FECB52"
          ],
          "font": {
           "color": "#2a3f5f"
          },
          "geo": {
           "bgcolor": "white",
           "lakecolor": "white",
           "landcolor": "#E5ECF6",
           "showlakes": true,
           "showland": true,
           "subunitcolor": "white"
          },
          "hoverlabel": {
           "align": "left"
          },
          "hovermode": "closest",
          "mapbox": {
           "style": "light"
          },
          "paper_bgcolor": "white",
          "plot_bgcolor": "#E5ECF6",
          "polar": {
           "angularaxis": {
            "gridcolor": "white",
            "linecolor": "white",
            "ticks": ""
           },
           "bgcolor": "#E5ECF6",
           "radialaxis": {
            "gridcolor": "white",
            "linecolor": "white",
            "ticks": ""
           }
          },
          "scene": {
           "xaxis": {
            "backgroundcolor": "#E5ECF6",
            "gridcolor": "white",
            "gridwidth": 2,
            "linecolor": "white",
            "showbackground": true,
            "ticks": "",
            "zerolinecolor": "white"
           },
           "yaxis": {
            "backgroundcolor": "#E5ECF6",
            "gridcolor": "white",
            "gridwidth": 2,
            "linecolor": "white",
            "showbackground": true,
            "ticks": "",
            "zerolinecolor": "white"
           },
           "zaxis": {
            "backgroundcolor": "#E5ECF6",
            "gridcolor": "white",
            "gridwidth": 2,
            "linecolor": "white",
            "showbackground": true,
            "ticks": "",
            "zerolinecolor": "white"
           }
          },
          "shapedefaults": {
           "line": {
            "color": "#2a3f5f"
           }
          },
          "ternary": {
           "aaxis": {
            "gridcolor": "white",
            "linecolor": "white",
            "ticks": ""
           },
           "baxis": {
            "gridcolor": "white",
            "linecolor": "white",
            "ticks": ""
           },
           "bgcolor": "#E5ECF6",
           "caxis": {
            "gridcolor": "white",
            "linecolor": "white",
            "ticks": ""
           }
          },
          "title": {
           "x": 0.05
          },
          "xaxis": {
           "automargin": true,
           "gridcolor": "white",
           "linecolor": "white",
           "ticks": "",
           "title": {
            "standoff": 15
           },
           "zerolinecolor": "white",
           "zerolinewidth": 2
          },
          "yaxis": {
           "automargin": true,
           "gridcolor": "white",
           "linecolor": "white",
           "ticks": "",
           "title": {
            "standoff": 15
           },
           "zerolinecolor": "white",
           "zerolinewidth": 2
          }
         }
        },
        "title": {
         "font": {
          "color": "#4D5663"
         }
        },
        "xaxis": {
         "gridcolor": "#E1E5ED",
         "showgrid": true,
         "tickfont": {
          "color": "#4D5663"
         },
         "title": {
          "font": {
           "color": "#4D5663"
          },
          "text": ""
         },
         "zerolinecolor": "#E1E5ED"
        },
        "yaxis": {
         "gridcolor": "#E1E5ED",
         "showgrid": true,
         "tickfont": {
          "color": "#4D5663"
         },
         "title": {
          "font": {
           "color": "#4D5663"
          },
          "text": ""
         },
         "zerolinecolor": "#E1E5ED"
        }
       }
      },
      "text/html": [
       "<div>                            <div id=\"16f93694-6ad9-40b3-90bd-e0c59194aa27\" class=\"plotly-graph-div\" style=\"height:525px; width:100%;\"></div>            <script type=\"text/javascript\">                require([\"plotly\"], function(Plotly) {                    window.PLOTLYENV=window.PLOTLYENV || {};\n",
       "                    window.PLOTLYENV.BASE_URL='https://plot.ly';                                    if (document.getElementById(\"16f93694-6ad9-40b3-90bd-e0c59194aa27\")) {                    Plotly.newPlot(                        \"16f93694-6ad9-40b3-90bd-e0c59194aa27\",                        [{\"boxpoints\":false,\"line\":{\"width\":1.3},\"marker\":{\"color\":\"rgba(255, 153, 51, 1.0)\"},\"name\":\"category\",\"orientation\":\"v\",\"y\":[\"A\",\"B\",\"C\",\"D\"],\"type\":\"box\"},{\"boxpoints\":false,\"line\":{\"width\":1.3},\"marker\":{\"color\":\"rgba(55, 128, 191, 1.0)\"},\"name\":\"values\",\"orientation\":\"v\",\"y\":[32,43,50,70],\"type\":\"box\"}],                        {\"legend\":{\"bgcolor\":\"#F5F6F9\",\"font\":{\"color\":\"#4D5663\"}},\"paper_bgcolor\":\"#F5F6F9\",\"plot_bgcolor\":\"#F5F6F9\",\"template\":{\"data\":{\"barpolar\":[{\"marker\":{\"line\":{\"color\":\"#E5ECF6\",\"width\":0.5},\"pattern\":{\"fillmode\":\"overlay\",\"size\":10,\"solidity\":0.2}},\"type\":\"barpolar\"}],\"bar\":[{\"error_x\":{\"color\":\"#2a3f5f\"},\"error_y\":{\"color\":\"#2a3f5f\"},\"marker\":{\"line\":{\"color\":\"#E5ECF6\",\"width\":0.5},\"pattern\":{\"fillmode\":\"overlay\",\"size\":10,\"solidity\":0.2}},\"type\":\"bar\"}],\"carpet\":[{\"aaxis\":{\"endlinecolor\":\"#2a3f5f\",\"gridcolor\":\"white\",\"linecolor\":\"white\",\"minorgridcolor\":\"white\",\"startlinecolor\":\"#2a3f5f\"},\"baxis\":{\"endlinecolor\":\"#2a3f5f\",\"gridcolor\":\"white\",\"linecolor\":\"white\",\"minorgridcolor\":\"white\",\"startlinecolor\":\"#2a3f5f\"},\"type\":\"carpet\"}],\"choropleth\":[{\"colorbar\":{\"outlinewidth\":0,\"ticks\":\"\"},\"type\":\"choropleth\"}],\"contourcarpet\":[{\"colorbar\":{\"outlinewidth\":0,\"ticks\":\"\"},\"type\":\"contourcarpet\"}],\"contour\":[{\"colorbar\":{\"outlinewidth\":0,\"ticks\":\"\"},\"colorscale\":[[0.0,\"#0d0887\"],[0.1111111111111111,\"#46039f\"],[0.2222222222222222,\"#7201a8\"],[0.3333333333333333,\"#9c179e\"],[0.4444444444444444,\"#bd3786\"],[0.5555555555555556,\"#d8576b\"],[0.6666666666666666,\"#ed7953\"],[0.7777777777777778,\"#fb9f3a\"],[0.8888888888888888,\"#fdca26\"],[1.0,\"#f0f921\"]],\"type\":\"contour\"}],\"heatmapgl\":[{\"colorbar\":{\"outlinewidth\":0,\"ticks\":\"\"},\"colorscale\":[[0.0,\"#0d0887\"],[0.1111111111111111,\"#46039f\"],[0.2222222222222222,\"#7201a8\"],[0.3333333333333333,\"#9c179e\"],[0.4444444444444444,\"#bd3786\"],[0.5555555555555556,\"#d8576b\"],[0.6666666666666666,\"#ed7953\"],[0.7777777777777778,\"#fb9f3a\"],[0.8888888888888888,\"#fdca26\"],[1.0,\"#f0f921\"]],\"type\":\"heatmapgl\"}],\"heatmap\":[{\"colorbar\":{\"outlinewidth\":0,\"ticks\":\"\"},\"colorscale\":[[0.0,\"#0d0887\"],[0.1111111111111111,\"#46039f\"],[0.2222222222222222,\"#7201a8\"],[0.3333333333333333,\"#9c179e\"],[0.4444444444444444,\"#bd3786\"],[0.5555555555555556,\"#d8576b\"],[0.6666666666666666,\"#ed7953\"],[0.7777777777777778,\"#fb9f3a\"],[0.8888888888888888,\"#fdca26\"],[1.0,\"#f0f921\"]],\"type\":\"heatmap\"}],\"histogram2dcontour\":[{\"colorbar\":{\"outlinewidth\":0,\"ticks\":\"\"},\"colorscale\":[[0.0,\"#0d0887\"],[0.1111111111111111,\"#46039f\"],[0.2222222222222222,\"#7201a8\"],[0.3333333333333333,\"#9c179e\"],[0.4444444444444444,\"#bd3786\"],[0.5555555555555556,\"#d8576b\"],[0.6666666666666666,\"#ed7953\"],[0.7777777777777778,\"#fb9f3a\"],[0.8888888888888888,\"#fdca26\"],[1.0,\"#f0f921\"]],\"type\":\"histogram2dcontour\"}],\"histogram2d\":[{\"colorbar\":{\"outlinewidth\":0,\"ticks\":\"\"},\"colorscale\":[[0.0,\"#0d0887\"],[0.1111111111111111,\"#46039f\"],[0.2222222222222222,\"#7201a8\"],[0.3333333333333333,\"#9c179e\"],[0.4444444444444444,\"#bd3786\"],[0.5555555555555556,\"#d8576b\"],[0.6666666666666666,\"#ed7953\"],[0.7777777777777778,\"#fb9f3a\"],[0.8888888888888888,\"#fdca26\"],[1.0,\"#f0f921\"]],\"type\":\"histogram2d\"}],\"histogram\":[{\"marker\":{\"pattern\":{\"fillmode\":\"overlay\",\"size\":10,\"solidity\":0.2}},\"type\":\"histogram\"}],\"mesh3d\":[{\"colorbar\":{\"outlinewidth\":0,\"ticks\":\"\"},\"type\":\"mesh3d\"}],\"parcoords\":[{\"line\":{\"colorbar\":{\"outlinewidth\":0,\"ticks\":\"\"}},\"type\":\"parcoords\"}],\"pie\":[{\"automargin\":true,\"type\":\"pie\"}],\"scatter3d\":[{\"line\":{\"colorbar\":{\"outlinewidth\":0,\"ticks\":\"\"}},\"marker\":{\"colorbar\":{\"outlinewidth\":0,\"ticks\":\"\"}},\"type\":\"scatter3d\"}],\"scattercarpet\":[{\"marker\":{\"colorbar\":{\"outlinewidth\":0,\"ticks\":\"\"}},\"type\":\"scattercarpet\"}],\"scattergeo\":[{\"marker\":{\"colorbar\":{\"outlinewidth\":0,\"ticks\":\"\"}},\"type\":\"scattergeo\"}],\"scattergl\":[{\"marker\":{\"colorbar\":{\"outlinewidth\":0,\"ticks\":\"\"}},\"type\":\"scattergl\"}],\"scattermapbox\":[{\"marker\":{\"colorbar\":{\"outlinewidth\":0,\"ticks\":\"\"}},\"type\":\"scattermapbox\"}],\"scatterpolargl\":[{\"marker\":{\"colorbar\":{\"outlinewidth\":0,\"ticks\":\"\"}},\"type\":\"scatterpolargl\"}],\"scatterpolar\":[{\"marker\":{\"colorbar\":{\"outlinewidth\":0,\"ticks\":\"\"}},\"type\":\"scatterpolar\"}],\"scatter\":[{\"marker\":{\"colorbar\":{\"outlinewidth\":0,\"ticks\":\"\"}},\"type\":\"scatter\"}],\"scatterternary\":[{\"marker\":{\"colorbar\":{\"outlinewidth\":0,\"ticks\":\"\"}},\"type\":\"scatterternary\"}],\"surface\":[{\"colorbar\":{\"outlinewidth\":0,\"ticks\":\"\"},\"colorscale\":[[0.0,\"#0d0887\"],[0.1111111111111111,\"#46039f\"],[0.2222222222222222,\"#7201a8\"],[0.3333333333333333,\"#9c179e\"],[0.4444444444444444,\"#bd3786\"],[0.5555555555555556,\"#d8576b\"],[0.6666666666666666,\"#ed7953\"],[0.7777777777777778,\"#fb9f3a\"],[0.8888888888888888,\"#fdca26\"],[1.0,\"#f0f921\"]],\"type\":\"surface\"}],\"table\":[{\"cells\":{\"fill\":{\"color\":\"#EBF0F8\"},\"line\":{\"color\":\"white\"}},\"header\":{\"fill\":{\"color\":\"#C8D4E3\"},\"line\":{\"color\":\"white\"}},\"type\":\"table\"}]},\"layout\":{\"annotationdefaults\":{\"arrowcolor\":\"#2a3f5f\",\"arrowhead\":0,\"arrowwidth\":1},\"autotypenumbers\":\"strict\",\"coloraxis\":{\"colorbar\":{\"outlinewidth\":0,\"ticks\":\"\"}},\"colorscale\":{\"diverging\":[[0,\"#8e0152\"],[0.1,\"#c51b7d\"],[0.2,\"#de77ae\"],[0.3,\"#f1b6da\"],[0.4,\"#fde0ef\"],[0.5,\"#f7f7f7\"],[0.6,\"#e6f5d0\"],[0.7,\"#b8e186\"],[0.8,\"#7fbc41\"],[0.9,\"#4d9221\"],[1,\"#276419\"]],\"sequential\":[[0.0,\"#0d0887\"],[0.1111111111111111,\"#46039f\"],[0.2222222222222222,\"#7201a8\"],[0.3333333333333333,\"#9c179e\"],[0.4444444444444444,\"#bd3786\"],[0.5555555555555556,\"#d8576b\"],[0.6666666666666666,\"#ed7953\"],[0.7777777777777778,\"#fb9f3a\"],[0.8888888888888888,\"#fdca26\"],[1.0,\"#f0f921\"]],\"sequentialminus\":[[0.0,\"#0d0887\"],[0.1111111111111111,\"#46039f\"],[0.2222222222222222,\"#7201a8\"],[0.3333333333333333,\"#9c179e\"],[0.4444444444444444,\"#bd3786\"],[0.5555555555555556,\"#d8576b\"],[0.6666666666666666,\"#ed7953\"],[0.7777777777777778,\"#fb9f3a\"],[0.8888888888888888,\"#fdca26\"],[1.0,\"#f0f921\"]]},\"colorway\":[\"#636efa\",\"#EF553B\",\"#00cc96\",\"#ab63fa\",\"#FFA15A\",\"#19d3f3\",\"#FF6692\",\"#B6E880\",\"#FF97FF\",\"#FECB52\"],\"font\":{\"color\":\"#2a3f5f\"},\"geo\":{\"bgcolor\":\"white\",\"lakecolor\":\"white\",\"landcolor\":\"#E5ECF6\",\"showlakes\":true,\"showland\":true,\"subunitcolor\":\"white\"},\"hoverlabel\":{\"align\":\"left\"},\"hovermode\":\"closest\",\"mapbox\":{\"style\":\"light\"},\"paper_bgcolor\":\"white\",\"plot_bgcolor\":\"#E5ECF6\",\"polar\":{\"angularaxis\":{\"gridcolor\":\"white\",\"linecolor\":\"white\",\"ticks\":\"\"},\"bgcolor\":\"#E5ECF6\",\"radialaxis\":{\"gridcolor\":\"white\",\"linecolor\":\"white\",\"ticks\":\"\"}},\"scene\":{\"xaxis\":{\"backgroundcolor\":\"#E5ECF6\",\"gridcolor\":\"white\",\"gridwidth\":2,\"linecolor\":\"white\",\"showbackground\":true,\"ticks\":\"\",\"zerolinecolor\":\"white\"},\"yaxis\":{\"backgroundcolor\":\"#E5ECF6\",\"gridcolor\":\"white\",\"gridwidth\":2,\"linecolor\":\"white\",\"showbackground\":true,\"ticks\":\"\",\"zerolinecolor\":\"white\"},\"zaxis\":{\"backgroundcolor\":\"#E5ECF6\",\"gridcolor\":\"white\",\"gridwidth\":2,\"linecolor\":\"white\",\"showbackground\":true,\"ticks\":\"\",\"zerolinecolor\":\"white\"}},\"shapedefaults\":{\"line\":{\"color\":\"#2a3f5f\"}},\"ternary\":{\"aaxis\":{\"gridcolor\":\"white\",\"linecolor\":\"white\",\"ticks\":\"\"},\"baxis\":{\"gridcolor\":\"white\",\"linecolor\":\"white\",\"ticks\":\"\"},\"bgcolor\":\"#E5ECF6\",\"caxis\":{\"gridcolor\":\"white\",\"linecolor\":\"white\",\"ticks\":\"\"}},\"title\":{\"x\":0.05},\"xaxis\":{\"automargin\":true,\"gridcolor\":\"white\",\"linecolor\":\"white\",\"ticks\":\"\",\"title\":{\"standoff\":15},\"zerolinecolor\":\"white\",\"zerolinewidth\":2},\"yaxis\":{\"automargin\":true,\"gridcolor\":\"white\",\"linecolor\":\"white\",\"ticks\":\"\",\"title\":{\"standoff\":15},\"zerolinecolor\":\"white\",\"zerolinewidth\":2}}},\"title\":{\"font\":{\"color\":\"#4D5663\"}},\"xaxis\":{\"gridcolor\":\"#E1E5ED\",\"showgrid\":true,\"tickfont\":{\"color\":\"#4D5663\"},\"title\":{\"font\":{\"color\":\"#4D5663\"},\"text\":\"\"},\"zerolinecolor\":\"#E1E5ED\"},\"yaxis\":{\"gridcolor\":\"#E1E5ED\",\"showgrid\":true,\"tickfont\":{\"color\":\"#4D5663\"},\"title\":{\"font\":{\"color\":\"#4D5663\"},\"text\":\"\"},\"zerolinecolor\":\"#E1E5ED\"}},                        {\"showLink\": true, \"linkText\": \"Export to plot.ly\", \"plotlyServerURL\": \"https://plot.ly\", \"responsive\": true}                    ).then(function(){\n",
       "                            \n",
       "var gd = document.getElementById('16f93694-6ad9-40b3-90bd-e0c59194aa27');\n",
       "var x = new MutationObserver(function (mutations, observer) {{\n",
       "        var display = window.getComputedStyle(gd).display;\n",
       "        if (!display || display === 'none') {{\n",
       "            console.log([gd, 'removed!']);\n",
       "            Plotly.purge(gd);\n",
       "            observer.disconnect();\n",
       "        }}\n",
       "}});\n",
       "\n",
       "// Listen for the removal of the full notebook cells\n",
       "var notebookContainer = gd.closest('#notebook-container');\n",
       "if (notebookContainer) {{\n",
       "    x.observe(notebookContainer, {childList: true});\n",
       "}}\n",
       "\n",
       "// Listen for the clearing of the current output cell\n",
       "var outputEl = gd.closest('.output');\n",
       "if (outputEl) {{\n",
       "    x.observe(outputEl, {childList: true});\n",
       "}}\n",
       "\n",
       "                        })                };                });            </script>        </div>"
      ]
     },
     "metadata": {},
     "output_type": "display_data"
    }
   ],
   "source": [
    "df2.iplot(kind ='box')"
   ]
  },
  {
   "cell_type": "code",
   "execution_count": 15,
   "id": "3ff2469b",
   "metadata": {},
   "outputs": [
    {
     "data": {
      "application/vnd.plotly.v1+json": {
       "config": {
        "linkText": "Export to plot.ly",
        "plotlyServerURL": "https://plot.ly",
        "showLink": true
       },
       "data": [
        {
         "boxpoints": false,
         "line": {
          "width": 1.3
         },
         "marker": {
          "color": "rgba(255, 153, 51, 1.0)"
         },
         "name": "A",
         "orientation": "v",
         "type": "box",
         "y": [
          -0.2161184228253383,
          0.8792932512052545,
          0.8159294643263392,
          -0.4635332026275159,
          1.2480606583511327,
          1.1636709077699556,
          0.7922609344528071,
          -0.487105657576173,
          0.5421078085365659,
          0.5700116946872794,
          0.8239368808080885,
          -2.025932373181993,
          -0.7813558580603188,
          -0.8034398249519679,
          1.2512029139420504,
          -0.820332122346455,
          -1.6512522046007363,
          1.5682988107869604,
          -0.0063207362410987915,
          0.4004905726878128,
          0.5203258238161681,
          1.8279603356320633,
          0.13283157408988597,
          1.542945359288579,
          1.6651922182738557,
          -0.18907056450707943,
          0.5662895926834438,
          -0.4460591334360272,
          -0.5962532719116784,
          -0.5631527736349463,
          2.0839310694181905,
          -0.3747192099598198,
          0.2469317564261832,
          -0.4871280695792462,
          -1.399511059198512,
          -0.9279823397322188,
          0.3390474827073605,
          1.0170979834933276,
          -0.1348568156422785,
          1.2344989287853096,
          -0.273536936893138,
          0.5969711416695731,
          -0.5019729300786134,
          -1.5731701762261463,
          -0.776546301945367,
          -0.04443145956515006,
          -0.8568286686510093,
          -0.024763966728982578,
          0.7837974913189243,
          0.9010994038155039,
          -0.4730980172755114,
          0.207587519407055,
          -0.6771743196350672,
          1.2863142031525987,
          1.0405050456937595,
          0.06872578685904618,
          0.20037742174726073,
          0.43338326497446955,
          -1.1232782954405904,
          0.40114918501688485,
          0.5906859056001391,
          2.966926846259941,
          -0.23043343271553118,
          -0.8732939562117886,
          1.14121108723957,
          -0.4914311190409125,
          1.2800135159775534,
          0.8703759276983618,
          -0.69160728844988,
          1.1149661429079787,
          -1.0368988106557855,
          -1.856129353554703,
          0.07728497234778402,
          -0.5566709010013736,
          0.0017236191367242851,
          0.33896141298782556,
          -0.34634373933597523,
          -0.4314493717931845,
          -0.24830094093459376,
          0.7942439153979056,
          0.355227483466092,
          -0.9023647603026724,
          0.26053844043329494,
          -1.4960110241555,
          -0.03606981923271355,
          0.8973986520322429,
          0.8765836951666557,
          0.8099946509436573,
          -0.2546804984597161,
          -1.0077879926848405,
          -1.2867994667714329,
          1.5576794947939168,
          0.019057905893780924,
          -0.5441990567110787,
          0.49670405962304026,
          -0.4854564908395615,
          0.01630221623572593,
          0.4829915653490035,
          0.43406524706242366,
          -0.1857395357813015
         ]
        },
        {
         "boxpoints": false,
         "line": {
          "width": 1.3
         },
         "marker": {
          "color": "rgba(55, 128, 191, 1.0)"
         },
         "name": "B",
         "orientation": "v",
         "type": "box",
         "y": [
          0.6009272176053823,
          -0.47328375717875815,
          1.5102796829570875,
          0.13698648280279452,
          -0.08207927123680447,
          1.3807419460829236,
          0.0008884140464625894,
          1.6770396104112533,
          0.3834029797448087,
          -0.2690010326323169,
          1.597398260776538,
          0.7351648892726675,
          0.10551643845443366,
          -0.6311209883918225,
          0.5572390618218849,
          -0.7738078928039479,
          0.21116745930062886,
          0.14078423344846921,
          -0.4212439874653056,
          -2.3793733930614014,
          1.4212147209842563,
          -0.5812791086667076,
          -0.9415571482963713,
          0.6306110755837304,
          -1.2411071380593497,
          -0.6046780270124452,
          -1.0559399304488928,
          0.42279176280029,
          -1.226271418081291,
          -1.131325103094806,
          -0.8889977036219829,
          1.2648058753496236,
          -0.48442636834005676,
          0.7108960890827798,
          1.3725402153716952,
          -0.5675961974427753,
          0.9253553237255685,
          -0.5692932152077298,
          -0.4174221274552496,
          -0.6979921244017261,
          -0.3393646826749617,
          -1.8087896518381883,
          0.3758793349821352,
          -0.39199851456008206,
          0.07117604173337383,
          -1.213063945919289,
          0.07552353850305901,
          -2.4856059003298836,
          0.451007261823913,
          -0.2289835339458214,
          2.120458797452917,
          -0.6083107357715691,
          0.3047972548593639,
          0.8166894152888184,
          -0.3543723312937055,
          0.9270475773868493,
          0.21671452232011124,
          -1.0860561840875944,
          -0.9241637527989113,
          0.6469123061061172,
          -0.5604065178745599,
          -1.3026393979314375,
          -0.40837785458920023,
          -2.053389222406837,
          0.452689699599634,
          -0.5456880220604482,
          -0.3768008226061331,
          0.8395805250060749,
          0.15638033915065708,
          1.8378173141312133,
          0.18122406269354446,
          -0.5802911040274235,
          -0.9323718692835864,
          0.4085690155151971,
          -1.133680474934867,
          0.36264440141564863,
          0.39943820817481523,
          -0.9810313174504565,
          -1.9976005280155338,
          1.37253433673606,
          0.5368407330853499,
          -0.8077790783101932,
          1.2122769887218132,
          -1.0354813312940023,
          0.7911735578805896,
          -1.8950724841036661,
          -0.2987687049820244,
          -0.6523694211047908,
          0.3830716691262919,
          0.6284618766425324,
          -0.9618366538721196,
          0.3426388646253289,
          1.5482473743187941,
          0.5798472356535777,
          -2.113126103357163,
          -1.6964437945831647,
          1.4718284936317474,
          -2.0029776122015877,
          0.8932118075364441,
          0.34649521334632055
         ]
        },
        {
         "boxpoints": false,
         "line": {
          "width": 1.3
         },
         "marker": {
          "color": "rgba(50, 171, 96, 1.0)"
         },
         "name": "C",
         "orientation": "v",
         "type": "box",
         "y": [
          -0.4904504640967385,
          0.7841649518309355,
          -0.304245861238214,
          0.23262635876766635,
          0.08550828795745093,
          -0.8480255295587014,
          -0.261206028417855,
          1.0577907507364823,
          -1.101211299395131,
          -0.8251206259790931,
          -0.8978443455398513,
          -1.3514533730965124,
          -0.08209426487329435,
          -0.15139757915670202,
          0.2551354321183675,
          0.7703496534057965,
          0.773461549697534,
          -0.3347489154005215,
          0.6823655341579137,
          1.4071878994586549,
          -0.08446934617102379,
          -0.057352780586065716,
          -0.8181938637541752,
          -0.3560552277971145,
          -0.9984524257539489,
          1.6397690684243977,
          1.1179692063944224,
          0.3016059541460915,
          -0.6555521607761945,
          0.31408554857118415,
          1.227842316464888,
          -1.0195835569969778,
          -0.23147217036371884,
          0.9688885701855176,
          0.3663791034068689,
          0.8895085682664936,
          0.1201048283525484,
          -0.2172456199843793,
          0.1221729936381177,
          -0.612688742724828,
          0.39353475351006906,
          -0.4669143592048186,
          0.48145897828600465,
          -1.1566262906735671,
          -1.4434906919821,
          -0.9508393391930143,
          -0.003905118567913522,
          -0.5703679260845474,
          0.6142004685346247,
          -0.6636259640583964,
          0.33594584828727947,
          -1.2246674803442719,
          -1.236122125254678,
          0.3752526319017947,
          0.7099385626038475,
          0.17588998239427525,
          -1.2768953229807145,
          -0.49754404575867583,
          -0.6597825379125649,
          -0.5990728023481424,
          -0.2027848998469554,
          0.49485969059168494,
          -0.21227013145286733,
          1.3053375964643223,
          -0.8379394644268467,
          -0.45173954324054766,
          -0.05020726114742386,
          -0.2465739411683541,
          -1.1559622908329785,
          2.1133715942228823,
          1.1499141155808377,
          -0.719668428072425,
          -1.313000128638488,
          -0.14086947149501206,
          1.352762400486382,
          -0.6024865304159895,
          0.1718946732091916,
          1.4981161545518924,
          0.016829820834161107,
          1.0853450021473872,
          -0.2997287900870656,
          -0.4097044924835301,
          0.344109881082276,
          -0.6574881286582049,
          0.7113548511406034,
          0.2548188733433786,
          -0.021435383179694616,
          0.4318443895919997,
          0.8996224765853629,
          3.553100284631579,
          0.9933288132365087,
          -0.6552503456956092,
          -0.013637084233192327,
          -1.4199077874391282,
          0.7487366691982029,
          0.7258439388367351,
          -1.9525003408463535,
          0.3293431165215186,
          1.9586055182184048,
          -0.7840212250751724
         ]
        },
        {
         "boxpoints": false,
         "line": {
          "width": 1.3
         },
         "marker": {
          "color": "rgba(128, 0, 128, 1.0)"
         },
         "name": "D",
         "orientation": "v",
         "type": "box",
         "y": [
          -0.8318095314056883,
          -2.127859918718398,
          -0.3575127033959953,
          -0.49268790264262496,
          -0.9842456189860612,
          -0.4322563501816288,
          1.4747481391427955,
          0.5062475500603716,
          0.1310274861695234,
          0.4076442076473248,
          -0.7314277467778747,
          -2.9173499945957015,
          -0.9525047054693334,
          0.9118756724059636,
          0.25707034536142476,
          -1.297283158962134,
          0.2739781162595153,
          -0.055826607954760944,
          1.369622226965602,
          -1.2131724971600937,
          -0.8835939036173868,
          -0.844149223135671,
          -0.68250650360624,
          -1.3518867014911353,
          -1.2816275147266365,
          0.1759794026747841,
          -1.356871510619065,
          1.3549346160688758,
          -0.27950043685794207,
          0.9985181852854951,
          0.4035777150848172,
          0.24312444125046834,
          -2.126567552985169,
          1.4493216102722268,
          -0.5298276395414622,
          1.758955947594909,
          0.297331467286769,
          -0.1616950211119704,
          -0.4900760987941368,
          -0.019444513164756882,
          -1.4159961045579175,
          -0.4120808596173528,
          -1.3803598812563393,
          -0.3231294951467188,
          1.3766811066155502,
          -0.6339101000476981,
          -0.32396673433423534,
          1.6467984924910295,
          -1.8254364787042479,
          -0.4594675796723408,
          0.42524149720831955,
          1.5274272211227722,
          2.1138493561271434,
          0.3654477098013026,
          0.3991245714626832,
          0.337614416309407,
          -0.3722626463820364,
          -0.4798913494136549,
          0.20582739295966054,
          1.2285443927162687,
          1.8174528357214632,
          0.7712321037504603,
          -1.0946578564305034,
          -0.18252255724725008,
          0.22200143560962432,
          -0.5873964743421906,
          1.6263915255296177,
          -2.916122165498321,
          1.1354859105944033,
          -0.5612830154318965,
          -2.5338859015393456,
          0.27780592184573993,
          -0.3012395407551603,
          -0.0045730447550044375,
          -0.932026565625512,
          1.006996189347714,
          0.7228320567260069,
          -0.2103306858622351,
          0.07462380696174241,
          0.4128345793013187,
          1.290054881012775,
          0.34733728642021644,
          0.2514302473231246,
          0.06281411331243862,
          0.9127943035268626,
          -0.54464021317776,
          -1.514225799209707,
          0.36184983975761076,
          -0.4179529054782026,
          -0.05496050782729679,
          1.1824281136304102,
          -1.4133747748422434,
          0.938351498687969,
          2.1368044486512656,
          -0.052174832351982114,
          0.1865572824582993,
          -0.5729502162863898,
          -0.5817387839485517,
          0.43581422277414844,
          -2.7096282960158526
         ]
        },
        {
         "boxpoints": false,
         "line": {
          "width": 1.3
         },
         "marker": {
          "color": "rgba(219, 64, 82, 1.0)"
         },
         "name": "E",
         "orientation": "v",
         "type": "box",
         "y": [
          0.985838989899486,
          0.21665256404644945,
          -1.4889031476281207,
          1.3876759317971679,
          0.5710992956833156,
          0.16374187863852463,
          -2.1706736396949498,
          0.19077717470631023,
          -0.27640171123488794,
          -0.7659030027417768,
          -0.9110672948102684,
          -1.3810824348721282,
          0.31793048738075586,
          0.5853699445262994,
          0.061462725006460994,
          -0.07410210757726512,
          -1.1806776449152259,
          0.7516053312905685,
          -1.5122130292802862,
          -0.2961906071419889,
          0.46503893149889275,
          0.19894853394605636,
          -1.9934980582451969,
          0.9590994132320767,
          -0.1082944304485146,
          -1.3109076409134526,
          1.0034588358102212,
          0.37765653683793965,
          0.9480888527360907,
          -0.5996730280193047,
          -0.24064440293746917,
          -0.6878280292402045,
          -0.9220452902725172,
          0.8002119805059846,
          -1.6104225638271787,
          0.9388577018866815,
          0.9029143350784757,
          -1.2004177089372596,
          -1.161030054269115,
          -0.24708457785562524,
          -0.11079675489137149,
          1.1302343282235041,
          0.21672092477696148,
          -0.06600779335608177,
          -0.8559480620795749,
          -1.7271894285586022,
          1.1012891399413387,
          -0.5233424546129773,
          -0.4295596884208994,
          -0.7338296808164192,
          -0.7951980646834268,
          -1.7749778857106635,
          1.4432059910070307,
          2.3960656171106334,
          -0.5530696854143431,
          2.1892029223457548,
          -1.5953607907146865,
          -0.2996578775184909,
          1.2999662824094993,
          -1.1708787580717988,
          -0.5347464084346105,
          1.2117032432670314,
          -0.08649483537720457,
          1.97409461680929,
          -1.0295090195009395,
          -0.012442497362611533,
          0.6432060279406185,
          -1.228594685397098,
          0.889127177754714,
          -1.5110039208620487,
          0.9279784460628189,
          0.19767556454771706,
          -1.2147369047700405,
          1.4950871259291127,
          0.03722613602021257,
          0.6095427437859312,
          -0.7168055764653345,
          0.1392411557047229,
          -1.5405393158372593,
          1.3688855607411003,
          1.652339810904066,
          0.11983929835394566,
          0.501981540004603,
          -0.31849208935861695,
          0.4474342446824646,
          -0.40686413021709095,
          -0.5715589688173871,
          -0.7610615600977046,
          0.4644825134725885,
          0.6790929295572973,
          -2.20861496436523,
          0.07711495796490156,
          -1.6699528186636468,
          -3.0641709594801285,
          1.7074670452404872,
          -0.15447929969220178,
          0.9506468488705513,
          0.7918133508667007,
          0.13147500786445818,
          -0.5357346870225651
         ]
        }
       ],
       "layout": {
        "legend": {
         "bgcolor": "#F5F6F9",
         "font": {
          "color": "#4D5663"
         }
        },
        "paper_bgcolor": "#F5F6F9",
        "plot_bgcolor": "#F5F6F9",
        "template": {
         "data": {
          "bar": [
           {
            "error_x": {
             "color": "#2a3f5f"
            },
            "error_y": {
             "color": "#2a3f5f"
            },
            "marker": {
             "line": {
              "color": "#E5ECF6",
              "width": 0.5
             },
             "pattern": {
              "fillmode": "overlay",
              "size": 10,
              "solidity": 0.2
             }
            },
            "type": "bar"
           }
          ],
          "barpolar": [
           {
            "marker": {
             "line": {
              "color": "#E5ECF6",
              "width": 0.5
             },
             "pattern": {
              "fillmode": "overlay",
              "size": 10,
              "solidity": 0.2
             }
            },
            "type": "barpolar"
           }
          ],
          "carpet": [
           {
            "aaxis": {
             "endlinecolor": "#2a3f5f",
             "gridcolor": "white",
             "linecolor": "white",
             "minorgridcolor": "white",
             "startlinecolor": "#2a3f5f"
            },
            "baxis": {
             "endlinecolor": "#2a3f5f",
             "gridcolor": "white",
             "linecolor": "white",
             "minorgridcolor": "white",
             "startlinecolor": "#2a3f5f"
            },
            "type": "carpet"
           }
          ],
          "choropleth": [
           {
            "colorbar": {
             "outlinewidth": 0,
             "ticks": ""
            },
            "type": "choropleth"
           }
          ],
          "contour": [
           {
            "colorbar": {
             "outlinewidth": 0,
             "ticks": ""
            },
            "colorscale": [
             [
              0,
              "#0d0887"
             ],
             [
              0.1111111111111111,
              "#46039f"
             ],
             [
              0.2222222222222222,
              "#7201a8"
             ],
             [
              0.3333333333333333,
              "#9c179e"
             ],
             [
              0.4444444444444444,
              "#bd3786"
             ],
             [
              0.5555555555555556,
              "#d8576b"
             ],
             [
              0.6666666666666666,
              "#ed7953"
             ],
             [
              0.7777777777777778,
              "#fb9f3a"
             ],
             [
              0.8888888888888888,
              "#fdca26"
             ],
             [
              1,
              "#f0f921"
             ]
            ],
            "type": "contour"
           }
          ],
          "contourcarpet": [
           {
            "colorbar": {
             "outlinewidth": 0,
             "ticks": ""
            },
            "type": "contourcarpet"
           }
          ],
          "heatmap": [
           {
            "colorbar": {
             "outlinewidth": 0,
             "ticks": ""
            },
            "colorscale": [
             [
              0,
              "#0d0887"
             ],
             [
              0.1111111111111111,
              "#46039f"
             ],
             [
              0.2222222222222222,
              "#7201a8"
             ],
             [
              0.3333333333333333,
              "#9c179e"
             ],
             [
              0.4444444444444444,
              "#bd3786"
             ],
             [
              0.5555555555555556,
              "#d8576b"
             ],
             [
              0.6666666666666666,
              "#ed7953"
             ],
             [
              0.7777777777777778,
              "#fb9f3a"
             ],
             [
              0.8888888888888888,
              "#fdca26"
             ],
             [
              1,
              "#f0f921"
             ]
            ],
            "type": "heatmap"
           }
          ],
          "heatmapgl": [
           {
            "colorbar": {
             "outlinewidth": 0,
             "ticks": ""
            },
            "colorscale": [
             [
              0,
              "#0d0887"
             ],
             [
              0.1111111111111111,
              "#46039f"
             ],
             [
              0.2222222222222222,
              "#7201a8"
             ],
             [
              0.3333333333333333,
              "#9c179e"
             ],
             [
              0.4444444444444444,
              "#bd3786"
             ],
             [
              0.5555555555555556,
              "#d8576b"
             ],
             [
              0.6666666666666666,
              "#ed7953"
             ],
             [
              0.7777777777777778,
              "#fb9f3a"
             ],
             [
              0.8888888888888888,
              "#fdca26"
             ],
             [
              1,
              "#f0f921"
             ]
            ],
            "type": "heatmapgl"
           }
          ],
          "histogram": [
           {
            "marker": {
             "pattern": {
              "fillmode": "overlay",
              "size": 10,
              "solidity": 0.2
             }
            },
            "type": "histogram"
           }
          ],
          "histogram2d": [
           {
            "colorbar": {
             "outlinewidth": 0,
             "ticks": ""
            },
            "colorscale": [
             [
              0,
              "#0d0887"
             ],
             [
              0.1111111111111111,
              "#46039f"
             ],
             [
              0.2222222222222222,
              "#7201a8"
             ],
             [
              0.3333333333333333,
              "#9c179e"
             ],
             [
              0.4444444444444444,
              "#bd3786"
             ],
             [
              0.5555555555555556,
              "#d8576b"
             ],
             [
              0.6666666666666666,
              "#ed7953"
             ],
             [
              0.7777777777777778,
              "#fb9f3a"
             ],
             [
              0.8888888888888888,
              "#fdca26"
             ],
             [
              1,
              "#f0f921"
             ]
            ],
            "type": "histogram2d"
           }
          ],
          "histogram2dcontour": [
           {
            "colorbar": {
             "outlinewidth": 0,
             "ticks": ""
            },
            "colorscale": [
             [
              0,
              "#0d0887"
             ],
             [
              0.1111111111111111,
              "#46039f"
             ],
             [
              0.2222222222222222,
              "#7201a8"
             ],
             [
              0.3333333333333333,
              "#9c179e"
             ],
             [
              0.4444444444444444,
              "#bd3786"
             ],
             [
              0.5555555555555556,
              "#d8576b"
             ],
             [
              0.6666666666666666,
              "#ed7953"
             ],
             [
              0.7777777777777778,
              "#fb9f3a"
             ],
             [
              0.8888888888888888,
              "#fdca26"
             ],
             [
              1,
              "#f0f921"
             ]
            ],
            "type": "histogram2dcontour"
           }
          ],
          "mesh3d": [
           {
            "colorbar": {
             "outlinewidth": 0,
             "ticks": ""
            },
            "type": "mesh3d"
           }
          ],
          "parcoords": [
           {
            "line": {
             "colorbar": {
              "outlinewidth": 0,
              "ticks": ""
             }
            },
            "type": "parcoords"
           }
          ],
          "pie": [
           {
            "automargin": true,
            "type": "pie"
           }
          ],
          "scatter": [
           {
            "marker": {
             "colorbar": {
              "outlinewidth": 0,
              "ticks": ""
             }
            },
            "type": "scatter"
           }
          ],
          "scatter3d": [
           {
            "line": {
             "colorbar": {
              "outlinewidth": 0,
              "ticks": ""
             }
            },
            "marker": {
             "colorbar": {
              "outlinewidth": 0,
              "ticks": ""
             }
            },
            "type": "scatter3d"
           }
          ],
          "scattercarpet": [
           {
            "marker": {
             "colorbar": {
              "outlinewidth": 0,
              "ticks": ""
             }
            },
            "type": "scattercarpet"
           }
          ],
          "scattergeo": [
           {
            "marker": {
             "colorbar": {
              "outlinewidth": 0,
              "ticks": ""
             }
            },
            "type": "scattergeo"
           }
          ],
          "scattergl": [
           {
            "marker": {
             "colorbar": {
              "outlinewidth": 0,
              "ticks": ""
             }
            },
            "type": "scattergl"
           }
          ],
          "scattermapbox": [
           {
            "marker": {
             "colorbar": {
              "outlinewidth": 0,
              "ticks": ""
             }
            },
            "type": "scattermapbox"
           }
          ],
          "scatterpolar": [
           {
            "marker": {
             "colorbar": {
              "outlinewidth": 0,
              "ticks": ""
             }
            },
            "type": "scatterpolar"
           }
          ],
          "scatterpolargl": [
           {
            "marker": {
             "colorbar": {
              "outlinewidth": 0,
              "ticks": ""
             }
            },
            "type": "scatterpolargl"
           }
          ],
          "scatterternary": [
           {
            "marker": {
             "colorbar": {
              "outlinewidth": 0,
              "ticks": ""
             }
            },
            "type": "scatterternary"
           }
          ],
          "surface": [
           {
            "colorbar": {
             "outlinewidth": 0,
             "ticks": ""
            },
            "colorscale": [
             [
              0,
              "#0d0887"
             ],
             [
              0.1111111111111111,
              "#46039f"
             ],
             [
              0.2222222222222222,
              "#7201a8"
             ],
             [
              0.3333333333333333,
              "#9c179e"
             ],
             [
              0.4444444444444444,
              "#bd3786"
             ],
             [
              0.5555555555555556,
              "#d8576b"
             ],
             [
              0.6666666666666666,
              "#ed7953"
             ],
             [
              0.7777777777777778,
              "#fb9f3a"
             ],
             [
              0.8888888888888888,
              "#fdca26"
             ],
             [
              1,
              "#f0f921"
             ]
            ],
            "type": "surface"
           }
          ],
          "table": [
           {
            "cells": {
             "fill": {
              "color": "#EBF0F8"
             },
             "line": {
              "color": "white"
             }
            },
            "header": {
             "fill": {
              "color": "#C8D4E3"
             },
             "line": {
              "color": "white"
             }
            },
            "type": "table"
           }
          ]
         },
         "layout": {
          "annotationdefaults": {
           "arrowcolor": "#2a3f5f",
           "arrowhead": 0,
           "arrowwidth": 1
          },
          "autotypenumbers": "strict",
          "coloraxis": {
           "colorbar": {
            "outlinewidth": 0,
            "ticks": ""
           }
          },
          "colorscale": {
           "diverging": [
            [
             0,
             "#8e0152"
            ],
            [
             0.1,
             "#c51b7d"
            ],
            [
             0.2,
             "#de77ae"
            ],
            [
             0.3,
             "#f1b6da"
            ],
            [
             0.4,
             "#fde0ef"
            ],
            [
             0.5,
             "#f7f7f7"
            ],
            [
             0.6,
             "#e6f5d0"
            ],
            [
             0.7,
             "#b8e186"
            ],
            [
             0.8,
             "#7fbc41"
            ],
            [
             0.9,
             "#4d9221"
            ],
            [
             1,
             "#276419"
            ]
           ],
           "sequential": [
            [
             0,
             "#0d0887"
            ],
            [
             0.1111111111111111,
             "#46039f"
            ],
            [
             0.2222222222222222,
             "#7201a8"
            ],
            [
             0.3333333333333333,
             "#9c179e"
            ],
            [
             0.4444444444444444,
             "#bd3786"
            ],
            [
             0.5555555555555556,
             "#d8576b"
            ],
            [
             0.6666666666666666,
             "#ed7953"
            ],
            [
             0.7777777777777778,
             "#fb9f3a"
            ],
            [
             0.8888888888888888,
             "#fdca26"
            ],
            [
             1,
             "#f0f921"
            ]
           ],
           "sequentialminus": [
            [
             0,
             "#0d0887"
            ],
            [
             0.1111111111111111,
             "#46039f"
            ],
            [
             0.2222222222222222,
             "#7201a8"
            ],
            [
             0.3333333333333333,
             "#9c179e"
            ],
            [
             0.4444444444444444,
             "#bd3786"
            ],
            [
             0.5555555555555556,
             "#d8576b"
            ],
            [
             0.6666666666666666,
             "#ed7953"
            ],
            [
             0.7777777777777778,
             "#fb9f3a"
            ],
            [
             0.8888888888888888,
             "#fdca26"
            ],
            [
             1,
             "#f0f921"
            ]
           ]
          },
          "colorway": [
           "#636efa",
           "#EF553B",
           "#00cc96",
           "#ab63fa",
           "#FFA15A",
           "#19d3f3",
           "#FF6692",
           "#B6E880",
           "#FF97FF",
           "#FECB52"
          ],
          "font": {
           "color": "#2a3f5f"
          },
          "geo": {
           "bgcolor": "white",
           "lakecolor": "white",
           "landcolor": "#E5ECF6",
           "showlakes": true,
           "showland": true,
           "subunitcolor": "white"
          },
          "hoverlabel": {
           "align": "left"
          },
          "hovermode": "closest",
          "mapbox": {
           "style": "light"
          },
          "paper_bgcolor": "white",
          "plot_bgcolor": "#E5ECF6",
          "polar": {
           "angularaxis": {
            "gridcolor": "white",
            "linecolor": "white",
            "ticks": ""
           },
           "bgcolor": "#E5ECF6",
           "radialaxis": {
            "gridcolor": "white",
            "linecolor": "white",
            "ticks": ""
           }
          },
          "scene": {
           "xaxis": {
            "backgroundcolor": "#E5ECF6",
            "gridcolor": "white",
            "gridwidth": 2,
            "linecolor": "white",
            "showbackground": true,
            "ticks": "",
            "zerolinecolor": "white"
           },
           "yaxis": {
            "backgroundcolor": "#E5ECF6",
            "gridcolor": "white",
            "gridwidth": 2,
            "linecolor": "white",
            "showbackground": true,
            "ticks": "",
            "zerolinecolor": "white"
           },
           "zaxis": {
            "backgroundcolor": "#E5ECF6",
            "gridcolor": "white",
            "gridwidth": 2,
            "linecolor": "white",
            "showbackground": true,
            "ticks": "",
            "zerolinecolor": "white"
           }
          },
          "shapedefaults": {
           "line": {
            "color": "#2a3f5f"
           }
          },
          "ternary": {
           "aaxis": {
            "gridcolor": "white",
            "linecolor": "white",
            "ticks": ""
           },
           "baxis": {
            "gridcolor": "white",
            "linecolor": "white",
            "ticks": ""
           },
           "bgcolor": "#E5ECF6",
           "caxis": {
            "gridcolor": "white",
            "linecolor": "white",
            "ticks": ""
           }
          },
          "title": {
           "x": 0.05
          },
          "xaxis": {
           "automargin": true,
           "gridcolor": "white",
           "linecolor": "white",
           "ticks": "",
           "title": {
            "standoff": 15
           },
           "zerolinecolor": "white",
           "zerolinewidth": 2
          },
          "yaxis": {
           "automargin": true,
           "gridcolor": "white",
           "linecolor": "white",
           "ticks": "",
           "title": {
            "standoff": 15
           },
           "zerolinecolor": "white",
           "zerolinewidth": 2
          }
         }
        },
        "title": {
         "font": {
          "color": "#4D5663"
         }
        },
        "xaxis": {
         "gridcolor": "#E1E5ED",
         "showgrid": true,
         "tickfont": {
          "color": "#4D5663"
         },
         "title": {
          "font": {
           "color": "#4D5663"
          },
          "text": ""
         },
         "zerolinecolor": "#E1E5ED"
        },
        "yaxis": {
         "gridcolor": "#E1E5ED",
         "showgrid": true,
         "tickfont": {
          "color": "#4D5663"
         },
         "title": {
          "font": {
           "color": "#4D5663"
          },
          "text": ""
         },
         "zerolinecolor": "#E1E5ED"
        }
       }
      },
      "text/html": [
       "<div>                            <div id=\"64be38c0-1962-4cf6-8c62-5abe5da323f9\" class=\"plotly-graph-div\" style=\"height:525px; width:100%;\"></div>            <script type=\"text/javascript\">                require([\"plotly\"], function(Plotly) {                    window.PLOTLYENV=window.PLOTLYENV || {};\n",
       "                    window.PLOTLYENV.BASE_URL='https://plot.ly';                                    if (document.getElementById(\"64be38c0-1962-4cf6-8c62-5abe5da323f9\")) {                    Plotly.newPlot(                        \"64be38c0-1962-4cf6-8c62-5abe5da323f9\",                        [{\"boxpoints\":false,\"line\":{\"width\":1.3},\"marker\":{\"color\":\"rgba(255, 153, 51, 1.0)\"},\"name\":\"A\",\"orientation\":\"v\",\"y\":[-0.2161184228253383,0.8792932512052545,0.8159294643263392,-0.4635332026275159,1.2480606583511327,1.1636709077699556,0.7922609344528071,-0.487105657576173,0.5421078085365659,0.5700116946872794,0.8239368808080885,-2.025932373181993,-0.7813558580603188,-0.8034398249519679,1.2512029139420504,-0.820332122346455,-1.6512522046007363,1.5682988107869604,-0.0063207362410987915,0.4004905726878128,0.5203258238161681,1.8279603356320633,0.13283157408988597,1.542945359288579,1.6651922182738557,-0.18907056450707943,0.5662895926834438,-0.4460591334360272,-0.5962532719116784,-0.5631527736349463,2.0839310694181905,-0.3747192099598198,0.2469317564261832,-0.4871280695792462,-1.399511059198512,-0.9279823397322188,0.3390474827073605,1.0170979834933276,-0.1348568156422785,1.2344989287853096,-0.273536936893138,0.5969711416695731,-0.5019729300786134,-1.5731701762261463,-0.776546301945367,-0.04443145956515006,-0.8568286686510093,-0.024763966728982578,0.7837974913189243,0.9010994038155039,-0.4730980172755114,0.207587519407055,-0.6771743196350672,1.2863142031525987,1.0405050456937595,0.06872578685904618,0.20037742174726073,0.43338326497446955,-1.1232782954405904,0.40114918501688485,0.5906859056001391,2.966926846259941,-0.23043343271553118,-0.8732939562117886,1.14121108723957,-0.4914311190409125,1.2800135159775534,0.8703759276983618,-0.69160728844988,1.1149661429079787,-1.0368988106557855,-1.856129353554703,0.07728497234778402,-0.5566709010013736,0.0017236191367242851,0.33896141298782556,-0.34634373933597523,-0.4314493717931845,-0.24830094093459376,0.7942439153979056,0.355227483466092,-0.9023647603026724,0.26053844043329494,-1.4960110241555,-0.03606981923271355,0.8973986520322429,0.8765836951666557,0.8099946509436573,-0.2546804984597161,-1.0077879926848405,-1.2867994667714329,1.5576794947939168,0.019057905893780924,-0.5441990567110787,0.49670405962304026,-0.4854564908395615,0.01630221623572593,0.4829915653490035,0.43406524706242366,-0.1857395357813015],\"type\":\"box\"},{\"boxpoints\":false,\"line\":{\"width\":1.3},\"marker\":{\"color\":\"rgba(55, 128, 191, 1.0)\"},\"name\":\"B\",\"orientation\":\"v\",\"y\":[0.6009272176053823,-0.47328375717875815,1.5102796829570875,0.13698648280279452,-0.08207927123680447,1.3807419460829236,0.0008884140464625894,1.6770396104112533,0.3834029797448087,-0.2690010326323169,1.597398260776538,0.7351648892726675,0.10551643845443366,-0.6311209883918225,0.5572390618218849,-0.7738078928039479,0.21116745930062886,0.14078423344846921,-0.4212439874653056,-2.3793733930614014,1.4212147209842563,-0.5812791086667076,-0.9415571482963713,0.6306110755837304,-1.2411071380593497,-0.6046780270124452,-1.0559399304488928,0.42279176280029,-1.226271418081291,-1.131325103094806,-0.8889977036219829,1.2648058753496236,-0.48442636834005676,0.7108960890827798,1.3725402153716952,-0.5675961974427753,0.9253553237255685,-0.5692932152077298,-0.4174221274552496,-0.6979921244017261,-0.3393646826749617,-1.8087896518381883,0.3758793349821352,-0.39199851456008206,0.07117604173337383,-1.213063945919289,0.07552353850305901,-2.4856059003298836,0.451007261823913,-0.2289835339458214,2.120458797452917,-0.6083107357715691,0.3047972548593639,0.8166894152888184,-0.3543723312937055,0.9270475773868493,0.21671452232011124,-1.0860561840875944,-0.9241637527989113,0.6469123061061172,-0.5604065178745599,-1.3026393979314375,-0.40837785458920023,-2.053389222406837,0.452689699599634,-0.5456880220604482,-0.3768008226061331,0.8395805250060749,0.15638033915065708,1.8378173141312133,0.18122406269354446,-0.5802911040274235,-0.9323718692835864,0.4085690155151971,-1.133680474934867,0.36264440141564863,0.39943820817481523,-0.9810313174504565,-1.9976005280155338,1.37253433673606,0.5368407330853499,-0.8077790783101932,1.2122769887218132,-1.0354813312940023,0.7911735578805896,-1.8950724841036661,-0.2987687049820244,-0.6523694211047908,0.3830716691262919,0.6284618766425324,-0.9618366538721196,0.3426388646253289,1.5482473743187941,0.5798472356535777,-2.113126103357163,-1.6964437945831647,1.4718284936317474,-2.0029776122015877,0.8932118075364441,0.34649521334632055],\"type\":\"box\"},{\"boxpoints\":false,\"line\":{\"width\":1.3},\"marker\":{\"color\":\"rgba(50, 171, 96, 1.0)\"},\"name\":\"C\",\"orientation\":\"v\",\"y\":[-0.4904504640967385,0.7841649518309355,-0.304245861238214,0.23262635876766635,0.08550828795745093,-0.8480255295587014,-0.261206028417855,1.0577907507364823,-1.101211299395131,-0.8251206259790931,-0.8978443455398513,-1.3514533730965124,-0.08209426487329435,-0.15139757915670202,0.2551354321183675,0.7703496534057965,0.773461549697534,-0.3347489154005215,0.6823655341579137,1.4071878994586549,-0.08446934617102379,-0.057352780586065716,-0.8181938637541752,-0.3560552277971145,-0.9984524257539489,1.6397690684243977,1.1179692063944224,0.3016059541460915,-0.6555521607761945,0.31408554857118415,1.227842316464888,-1.0195835569969778,-0.23147217036371884,0.9688885701855176,0.3663791034068689,0.8895085682664936,0.1201048283525484,-0.2172456199843793,0.1221729936381177,-0.612688742724828,0.39353475351006906,-0.4669143592048186,0.48145897828600465,-1.1566262906735671,-1.4434906919821,-0.9508393391930143,-0.003905118567913522,-0.5703679260845474,0.6142004685346247,-0.6636259640583964,0.33594584828727947,-1.2246674803442719,-1.236122125254678,0.3752526319017947,0.7099385626038475,0.17588998239427525,-1.2768953229807145,-0.49754404575867583,-0.6597825379125649,-0.5990728023481424,-0.2027848998469554,0.49485969059168494,-0.21227013145286733,1.3053375964643223,-0.8379394644268467,-0.45173954324054766,-0.05020726114742386,-0.2465739411683541,-1.1559622908329785,2.1133715942228823,1.1499141155808377,-0.719668428072425,-1.313000128638488,-0.14086947149501206,1.352762400486382,-0.6024865304159895,0.1718946732091916,1.4981161545518924,0.016829820834161107,1.0853450021473872,-0.2997287900870656,-0.4097044924835301,0.344109881082276,-0.6574881286582049,0.7113548511406034,0.2548188733433786,-0.021435383179694616,0.4318443895919997,0.8996224765853629,3.553100284631579,0.9933288132365087,-0.6552503456956092,-0.013637084233192327,-1.4199077874391282,0.7487366691982029,0.7258439388367351,-1.9525003408463535,0.3293431165215186,1.9586055182184048,-0.7840212250751724],\"type\":\"box\"},{\"boxpoints\":false,\"line\":{\"width\":1.3},\"marker\":{\"color\":\"rgba(128, 0, 128, 1.0)\"},\"name\":\"D\",\"orientation\":\"v\",\"y\":[-0.8318095314056883,-2.127859918718398,-0.3575127033959953,-0.49268790264262496,-0.9842456189860612,-0.4322563501816288,1.4747481391427955,0.5062475500603716,0.1310274861695234,0.4076442076473248,-0.7314277467778747,-2.9173499945957015,-0.9525047054693334,0.9118756724059636,0.25707034536142476,-1.297283158962134,0.2739781162595153,-0.055826607954760944,1.369622226965602,-1.2131724971600937,-0.8835939036173868,-0.844149223135671,-0.68250650360624,-1.3518867014911353,-1.2816275147266365,0.1759794026747841,-1.356871510619065,1.3549346160688758,-0.27950043685794207,0.9985181852854951,0.4035777150848172,0.24312444125046834,-2.126567552985169,1.4493216102722268,-0.5298276395414622,1.758955947594909,0.297331467286769,-0.1616950211119704,-0.4900760987941368,-0.019444513164756882,-1.4159961045579175,-0.4120808596173528,-1.3803598812563393,-0.3231294951467188,1.3766811066155502,-0.6339101000476981,-0.32396673433423534,1.6467984924910295,-1.8254364787042479,-0.4594675796723408,0.42524149720831955,1.5274272211227722,2.1138493561271434,0.3654477098013026,0.3991245714626832,0.337614416309407,-0.3722626463820364,-0.4798913494136549,0.20582739295966054,1.2285443927162687,1.8174528357214632,0.7712321037504603,-1.0946578564305034,-0.18252255724725008,0.22200143560962432,-0.5873964743421906,1.6263915255296177,-2.916122165498321,1.1354859105944033,-0.5612830154318965,-2.5338859015393456,0.27780592184573993,-0.3012395407551603,-0.0045730447550044375,-0.932026565625512,1.006996189347714,0.7228320567260069,-0.2103306858622351,0.07462380696174241,0.4128345793013187,1.290054881012775,0.34733728642021644,0.2514302473231246,0.06281411331243862,0.9127943035268626,-0.54464021317776,-1.514225799209707,0.36184983975761076,-0.4179529054782026,-0.05496050782729679,1.1824281136304102,-1.4133747748422434,0.938351498687969,2.1368044486512656,-0.052174832351982114,0.1865572824582993,-0.5729502162863898,-0.5817387839485517,0.43581422277414844,-2.7096282960158526],\"type\":\"box\"},{\"boxpoints\":false,\"line\":{\"width\":1.3},\"marker\":{\"color\":\"rgba(219, 64, 82, 1.0)\"},\"name\":\"E\",\"orientation\":\"v\",\"y\":[0.985838989899486,0.21665256404644945,-1.4889031476281207,1.3876759317971679,0.5710992956833156,0.16374187863852463,-2.1706736396949498,0.19077717470631023,-0.27640171123488794,-0.7659030027417768,-0.9110672948102684,-1.3810824348721282,0.31793048738075586,0.5853699445262994,0.061462725006460994,-0.07410210757726512,-1.1806776449152259,0.7516053312905685,-1.5122130292802862,-0.2961906071419889,0.46503893149889275,0.19894853394605636,-1.9934980582451969,0.9590994132320767,-0.1082944304485146,-1.3109076409134526,1.0034588358102212,0.37765653683793965,0.9480888527360907,-0.5996730280193047,-0.24064440293746917,-0.6878280292402045,-0.9220452902725172,0.8002119805059846,-1.6104225638271787,0.9388577018866815,0.9029143350784757,-1.2004177089372596,-1.161030054269115,-0.24708457785562524,-0.11079675489137149,1.1302343282235041,0.21672092477696148,-0.06600779335608177,-0.8559480620795749,-1.7271894285586022,1.1012891399413387,-0.5233424546129773,-0.4295596884208994,-0.7338296808164192,-0.7951980646834268,-1.7749778857106635,1.4432059910070307,2.3960656171106334,-0.5530696854143431,2.1892029223457548,-1.5953607907146865,-0.2996578775184909,1.2999662824094993,-1.1708787580717988,-0.5347464084346105,1.2117032432670314,-0.08649483537720457,1.97409461680929,-1.0295090195009395,-0.012442497362611533,0.6432060279406185,-1.228594685397098,0.889127177754714,-1.5110039208620487,0.9279784460628189,0.19767556454771706,-1.2147369047700405,1.4950871259291127,0.03722613602021257,0.6095427437859312,-0.7168055764653345,0.1392411557047229,-1.5405393158372593,1.3688855607411003,1.652339810904066,0.11983929835394566,0.501981540004603,-0.31849208935861695,0.4474342446824646,-0.40686413021709095,-0.5715589688173871,-0.7610615600977046,0.4644825134725885,0.6790929295572973,-2.20861496436523,0.07711495796490156,-1.6699528186636468,-3.0641709594801285,1.7074670452404872,-0.15447929969220178,0.9506468488705513,0.7918133508667007,0.13147500786445818,-0.5357346870225651],\"type\":\"box\"}],                        {\"legend\":{\"bgcolor\":\"#F5F6F9\",\"font\":{\"color\":\"#4D5663\"}},\"paper_bgcolor\":\"#F5F6F9\",\"plot_bgcolor\":\"#F5F6F9\",\"template\":{\"data\":{\"barpolar\":[{\"marker\":{\"line\":{\"color\":\"#E5ECF6\",\"width\":0.5},\"pattern\":{\"fillmode\":\"overlay\",\"size\":10,\"solidity\":0.2}},\"type\":\"barpolar\"}],\"bar\":[{\"error_x\":{\"color\":\"#2a3f5f\"},\"error_y\":{\"color\":\"#2a3f5f\"},\"marker\":{\"line\":{\"color\":\"#E5ECF6\",\"width\":0.5},\"pattern\":{\"fillmode\":\"overlay\",\"size\":10,\"solidity\":0.2}},\"type\":\"bar\"}],\"carpet\":[{\"aaxis\":{\"endlinecolor\":\"#2a3f5f\",\"gridcolor\":\"white\",\"linecolor\":\"white\",\"minorgridcolor\":\"white\",\"startlinecolor\":\"#2a3f5f\"},\"baxis\":{\"endlinecolor\":\"#2a3f5f\",\"gridcolor\":\"white\",\"linecolor\":\"white\",\"minorgridcolor\":\"white\",\"startlinecolor\":\"#2a3f5f\"},\"type\":\"carpet\"}],\"choropleth\":[{\"colorbar\":{\"outlinewidth\":0,\"ticks\":\"\"},\"type\":\"choropleth\"}],\"contourcarpet\":[{\"colorbar\":{\"outlinewidth\":0,\"ticks\":\"\"},\"type\":\"contourcarpet\"}],\"contour\":[{\"colorbar\":{\"outlinewidth\":0,\"ticks\":\"\"},\"colorscale\":[[0.0,\"#0d0887\"],[0.1111111111111111,\"#46039f\"],[0.2222222222222222,\"#7201a8\"],[0.3333333333333333,\"#9c179e\"],[0.4444444444444444,\"#bd3786\"],[0.5555555555555556,\"#d8576b\"],[0.6666666666666666,\"#ed7953\"],[0.7777777777777778,\"#fb9f3a\"],[0.8888888888888888,\"#fdca26\"],[1.0,\"#f0f921\"]],\"type\":\"contour\"}],\"heatmapgl\":[{\"colorbar\":{\"outlinewidth\":0,\"ticks\":\"\"},\"colorscale\":[[0.0,\"#0d0887\"],[0.1111111111111111,\"#46039f\"],[0.2222222222222222,\"#7201a8\"],[0.3333333333333333,\"#9c179e\"],[0.4444444444444444,\"#bd3786\"],[0.5555555555555556,\"#d8576b\"],[0.6666666666666666,\"#ed7953\"],[0.7777777777777778,\"#fb9f3a\"],[0.8888888888888888,\"#fdca26\"],[1.0,\"#f0f921\"]],\"type\":\"heatmapgl\"}],\"heatmap\":[{\"colorbar\":{\"outlinewidth\":0,\"ticks\":\"\"},\"colorscale\":[[0.0,\"#0d0887\"],[0.1111111111111111,\"#46039f\"],[0.2222222222222222,\"#7201a8\"],[0.3333333333333333,\"#9c179e\"],[0.4444444444444444,\"#bd3786\"],[0.5555555555555556,\"#d8576b\"],[0.6666666666666666,\"#ed7953\"],[0.7777777777777778,\"#fb9f3a\"],[0.8888888888888888,\"#fdca26\"],[1.0,\"#f0f921\"]],\"type\":\"heatmap\"}],\"histogram2dcontour\":[{\"colorbar\":{\"outlinewidth\":0,\"ticks\":\"\"},\"colorscale\":[[0.0,\"#0d0887\"],[0.1111111111111111,\"#46039f\"],[0.2222222222222222,\"#7201a8\"],[0.3333333333333333,\"#9c179e\"],[0.4444444444444444,\"#bd3786\"],[0.5555555555555556,\"#d8576b\"],[0.6666666666666666,\"#ed7953\"],[0.7777777777777778,\"#fb9f3a\"],[0.8888888888888888,\"#fdca26\"],[1.0,\"#f0f921\"]],\"type\":\"histogram2dcontour\"}],\"histogram2d\":[{\"colorbar\":{\"outlinewidth\":0,\"ticks\":\"\"},\"colorscale\":[[0.0,\"#0d0887\"],[0.1111111111111111,\"#46039f\"],[0.2222222222222222,\"#7201a8\"],[0.3333333333333333,\"#9c179e\"],[0.4444444444444444,\"#bd3786\"],[0.5555555555555556,\"#d8576b\"],[0.6666666666666666,\"#ed7953\"],[0.7777777777777778,\"#fb9f3a\"],[0.8888888888888888,\"#fdca26\"],[1.0,\"#f0f921\"]],\"type\":\"histogram2d\"}],\"histogram\":[{\"marker\":{\"pattern\":{\"fillmode\":\"overlay\",\"size\":10,\"solidity\":0.2}},\"type\":\"histogram\"}],\"mesh3d\":[{\"colorbar\":{\"outlinewidth\":0,\"ticks\":\"\"},\"type\":\"mesh3d\"}],\"parcoords\":[{\"line\":{\"colorbar\":{\"outlinewidth\":0,\"ticks\":\"\"}},\"type\":\"parcoords\"}],\"pie\":[{\"automargin\":true,\"type\":\"pie\"}],\"scatter3d\":[{\"line\":{\"colorbar\":{\"outlinewidth\":0,\"ticks\":\"\"}},\"marker\":{\"colorbar\":{\"outlinewidth\":0,\"ticks\":\"\"}},\"type\":\"scatter3d\"}],\"scattercarpet\":[{\"marker\":{\"colorbar\":{\"outlinewidth\":0,\"ticks\":\"\"}},\"type\":\"scattercarpet\"}],\"scattergeo\":[{\"marker\":{\"colorbar\":{\"outlinewidth\":0,\"ticks\":\"\"}},\"type\":\"scattergeo\"}],\"scattergl\":[{\"marker\":{\"colorbar\":{\"outlinewidth\":0,\"ticks\":\"\"}},\"type\":\"scattergl\"}],\"scattermapbox\":[{\"marker\":{\"colorbar\":{\"outlinewidth\":0,\"ticks\":\"\"}},\"type\":\"scattermapbox\"}],\"scatterpolargl\":[{\"marker\":{\"colorbar\":{\"outlinewidth\":0,\"ticks\":\"\"}},\"type\":\"scatterpolargl\"}],\"scatterpolar\":[{\"marker\":{\"colorbar\":{\"outlinewidth\":0,\"ticks\":\"\"}},\"type\":\"scatterpolar\"}],\"scatter\":[{\"marker\":{\"colorbar\":{\"outlinewidth\":0,\"ticks\":\"\"}},\"type\":\"scatter\"}],\"scatterternary\":[{\"marker\":{\"colorbar\":{\"outlinewidth\":0,\"ticks\":\"\"}},\"type\":\"scatterternary\"}],\"surface\":[{\"colorbar\":{\"outlinewidth\":0,\"ticks\":\"\"},\"colorscale\":[[0.0,\"#0d0887\"],[0.1111111111111111,\"#46039f\"],[0.2222222222222222,\"#7201a8\"],[0.3333333333333333,\"#9c179e\"],[0.4444444444444444,\"#bd3786\"],[0.5555555555555556,\"#d8576b\"],[0.6666666666666666,\"#ed7953\"],[0.7777777777777778,\"#fb9f3a\"],[0.8888888888888888,\"#fdca26\"],[1.0,\"#f0f921\"]],\"type\":\"surface\"}],\"table\":[{\"cells\":{\"fill\":{\"color\":\"#EBF0F8\"},\"line\":{\"color\":\"white\"}},\"header\":{\"fill\":{\"color\":\"#C8D4E3\"},\"line\":{\"color\":\"white\"}},\"type\":\"table\"}]},\"layout\":{\"annotationdefaults\":{\"arrowcolor\":\"#2a3f5f\",\"arrowhead\":0,\"arrowwidth\":1},\"autotypenumbers\":\"strict\",\"coloraxis\":{\"colorbar\":{\"outlinewidth\":0,\"ticks\":\"\"}},\"colorscale\":{\"diverging\":[[0,\"#8e0152\"],[0.1,\"#c51b7d\"],[0.2,\"#de77ae\"],[0.3,\"#f1b6da\"],[0.4,\"#fde0ef\"],[0.5,\"#f7f7f7\"],[0.6,\"#e6f5d0\"],[0.7,\"#b8e186\"],[0.8,\"#7fbc41\"],[0.9,\"#4d9221\"],[1,\"#276419\"]],\"sequential\":[[0.0,\"#0d0887\"],[0.1111111111111111,\"#46039f\"],[0.2222222222222222,\"#7201a8\"],[0.3333333333333333,\"#9c179e\"],[0.4444444444444444,\"#bd3786\"],[0.5555555555555556,\"#d8576b\"],[0.6666666666666666,\"#ed7953\"],[0.7777777777777778,\"#fb9f3a\"],[0.8888888888888888,\"#fdca26\"],[1.0,\"#f0f921\"]],\"sequentialminus\":[[0.0,\"#0d0887\"],[0.1111111111111111,\"#46039f\"],[0.2222222222222222,\"#7201a8\"],[0.3333333333333333,\"#9c179e\"],[0.4444444444444444,\"#bd3786\"],[0.5555555555555556,\"#d8576b\"],[0.6666666666666666,\"#ed7953\"],[0.7777777777777778,\"#fb9f3a\"],[0.8888888888888888,\"#fdca26\"],[1.0,\"#f0f921\"]]},\"colorway\":[\"#636efa\",\"#EF553B\",\"#00cc96\",\"#ab63fa\",\"#FFA15A\",\"#19d3f3\",\"#FF6692\",\"#B6E880\",\"#FF97FF\",\"#FECB52\"],\"font\":{\"color\":\"#2a3f5f\"},\"geo\":{\"bgcolor\":\"white\",\"lakecolor\":\"white\",\"landcolor\":\"#E5ECF6\",\"showlakes\":true,\"showland\":true,\"subunitcolor\":\"white\"},\"hoverlabel\":{\"align\":\"left\"},\"hovermode\":\"closest\",\"mapbox\":{\"style\":\"light\"},\"paper_bgcolor\":\"white\",\"plot_bgcolor\":\"#E5ECF6\",\"polar\":{\"angularaxis\":{\"gridcolor\":\"white\",\"linecolor\":\"white\",\"ticks\":\"\"},\"bgcolor\":\"#E5ECF6\",\"radialaxis\":{\"gridcolor\":\"white\",\"linecolor\":\"white\",\"ticks\":\"\"}},\"scene\":{\"xaxis\":{\"backgroundcolor\":\"#E5ECF6\",\"gridcolor\":\"white\",\"gridwidth\":2,\"linecolor\":\"white\",\"showbackground\":true,\"ticks\":\"\",\"zerolinecolor\":\"white\"},\"yaxis\":{\"backgroundcolor\":\"#E5ECF6\",\"gridcolor\":\"white\",\"gridwidth\":2,\"linecolor\":\"white\",\"showbackground\":true,\"ticks\":\"\",\"zerolinecolor\":\"white\"},\"zaxis\":{\"backgroundcolor\":\"#E5ECF6\",\"gridcolor\":\"white\",\"gridwidth\":2,\"linecolor\":\"white\",\"showbackground\":true,\"ticks\":\"\",\"zerolinecolor\":\"white\"}},\"shapedefaults\":{\"line\":{\"color\":\"#2a3f5f\"}},\"ternary\":{\"aaxis\":{\"gridcolor\":\"white\",\"linecolor\":\"white\",\"ticks\":\"\"},\"baxis\":{\"gridcolor\":\"white\",\"linecolor\":\"white\",\"ticks\":\"\"},\"bgcolor\":\"#E5ECF6\",\"caxis\":{\"gridcolor\":\"white\",\"linecolor\":\"white\",\"ticks\":\"\"}},\"title\":{\"x\":0.05},\"xaxis\":{\"automargin\":true,\"gridcolor\":\"white\",\"linecolor\":\"white\",\"ticks\":\"\",\"title\":{\"standoff\":15},\"zerolinecolor\":\"white\",\"zerolinewidth\":2},\"yaxis\":{\"automargin\":true,\"gridcolor\":\"white\",\"linecolor\":\"white\",\"ticks\":\"\",\"title\":{\"standoff\":15},\"zerolinecolor\":\"white\",\"zerolinewidth\":2}}},\"title\":{\"font\":{\"color\":\"#4D5663\"}},\"xaxis\":{\"gridcolor\":\"#E1E5ED\",\"showgrid\":true,\"tickfont\":{\"color\":\"#4D5663\"},\"title\":{\"font\":{\"color\":\"#4D5663\"},\"text\":\"\"},\"zerolinecolor\":\"#E1E5ED\"},\"yaxis\":{\"gridcolor\":\"#E1E5ED\",\"showgrid\":true,\"tickfont\":{\"color\":\"#4D5663\"},\"title\":{\"font\":{\"color\":\"#4D5663\"},\"text\":\"\"},\"zerolinecolor\":\"#E1E5ED\"}},                        {\"showLink\": true, \"linkText\": \"Export to plot.ly\", \"plotlyServerURL\": \"https://plot.ly\", \"responsive\": true}                    ).then(function(){\n",
       "                            \n",
       "var gd = document.getElementById('64be38c0-1962-4cf6-8c62-5abe5da323f9');\n",
       "var x = new MutationObserver(function (mutations, observer) {{\n",
       "        var display = window.getComputedStyle(gd).display;\n",
       "        if (!display || display === 'none') {{\n",
       "            console.log([gd, 'removed!']);\n",
       "            Plotly.purge(gd);\n",
       "            observer.disconnect();\n",
       "        }}\n",
       "}});\n",
       "\n",
       "// Listen for the removal of the full notebook cells\n",
       "var notebookContainer = gd.closest('#notebook-container');\n",
       "if (notebookContainer) {{\n",
       "    x.observe(notebookContainer, {childList: true});\n",
       "}}\n",
       "\n",
       "// Listen for the clearing of the current output cell\n",
       "var outputEl = gd.closest('.output');\n",
       "if (outputEl) {{\n",
       "    x.observe(outputEl, {childList: true});\n",
       "}}\n",
       "\n",
       "                        })                };                });            </script>        </div>"
      ]
     },
     "metadata": {},
     "output_type": "display_data"
    }
   ],
   "source": [
    "df.iplot(kind = 'box')"
   ]
  },
  {
   "cell_type": "markdown",
   "id": "29ada002",
   "metadata": {},
   "source": [
    "# 3D surface"
   ]
  },
  {
   "cell_type": "code",
   "execution_count": 16,
   "id": "89218a2d",
   "metadata": {},
   "outputs": [
    {
     "data": {
      "text/html": [
       "<div>\n",
       "<style scoped>\n",
       "    .dataframe tbody tr th:only-of-type {\n",
       "        vertical-align: middle;\n",
       "    }\n",
       "\n",
       "    .dataframe tbody tr th {\n",
       "        vertical-align: top;\n",
       "    }\n",
       "\n",
       "    .dataframe thead th {\n",
       "        text-align: right;\n",
       "    }\n",
       "</style>\n",
       "<table border=\"1\" class=\"dataframe\">\n",
       "  <thead>\n",
       "    <tr style=\"text-align: right;\">\n",
       "      <th></th>\n",
       "      <th>x</th>\n",
       "      <th>y</th>\n",
       "      <th>z</th>\n",
       "    </tr>\n",
       "  </thead>\n",
       "  <tbody>\n",
       "    <tr>\n",
       "      <th>0</th>\n",
       "      <td>1</td>\n",
       "      <td>10</td>\n",
       "      <td>5</td>\n",
       "    </tr>\n",
       "    <tr>\n",
       "      <th>1</th>\n",
       "      <td>2</td>\n",
       "      <td>20</td>\n",
       "      <td>4</td>\n",
       "    </tr>\n",
       "    <tr>\n",
       "      <th>2</th>\n",
       "      <td>3</td>\n",
       "      <td>30</td>\n",
       "      <td>3</td>\n",
       "    </tr>\n",
       "    <tr>\n",
       "      <th>3</th>\n",
       "      <td>4</td>\n",
       "      <td>20</td>\n",
       "      <td>2</td>\n",
       "    </tr>\n",
       "    <tr>\n",
       "      <th>4</th>\n",
       "      <td>5</td>\n",
       "      <td>10</td>\n",
       "      <td>1</td>\n",
       "    </tr>\n",
       "  </tbody>\n",
       "</table>\n",
       "</div>"
      ],
      "text/plain": [
       "   x   y  z\n",
       "0  1  10  5\n",
       "1  2  20  4\n",
       "2  3  30  3\n",
       "3  4  20  2\n",
       "4  5  10  1"
      ]
     },
     "execution_count": 16,
     "metadata": {},
     "output_type": "execute_result"
    }
   ],
   "source": [
    "df3 = pd.DataFrame({'x': [1,2,3,4,5], 'y':[10,20,30,20,10], 'z':[5,4,3,2,1]})\n",
    "\n",
    "df3"
   ]
  },
  {
   "cell_type": "code",
   "execution_count": 17,
   "id": "bd00180b",
   "metadata": {},
   "outputs": [
    {
     "data": {
      "application/vnd.plotly.v1+json": {
       "config": {
        "linkText": "Export to plot.ly",
        "plotlyServerURL": "https://plot.ly",
        "showLink": true
       },
       "data": [
        {
         "colorscale": [
          [
           0,
           "rgb(165,0,38)"
          ],
          [
           0.1,
           "rgb(215,48,39)"
          ],
          [
           0.2,
           "rgb(244,109,67)"
          ],
          [
           0.3,
           "rgb(253,174,97)"
          ],
          [
           0.4,
           "rgb(254,224,144)"
          ],
          [
           0.5,
           "rgb(255,255,191)"
          ],
          [
           0.6,
           "rgb(224,243,248)"
          ],
          [
           0.7,
           "rgb(171,217,233)"
          ],
          [
           0.8,
           "rgb(116,173,209)"
          ],
          [
           0.9,
           "rgb(69,117,180)"
          ],
          [
           1,
           "rgb(49,54,149)"
          ]
         ],
         "type": "surface",
         "x": [
          0,
          1,
          2,
          3,
          4
         ],
         "y": [
          "x",
          "y",
          "z"
         ],
         "z": [
          [
           1,
           2,
           3,
           4,
           5
          ],
          [
           10,
           20,
           30,
           20,
           10
          ],
          [
           5,
           4,
           3,
           2,
           1
          ]
         ]
        }
       ],
       "layout": {
        "legend": {
         "bgcolor": "#F5F6F9",
         "font": {
          "color": "#4D5663"
         }
        },
        "paper_bgcolor": "#F5F6F9",
        "plot_bgcolor": "#F5F6F9",
        "template": {
         "data": {
          "bar": [
           {
            "error_x": {
             "color": "#2a3f5f"
            },
            "error_y": {
             "color": "#2a3f5f"
            },
            "marker": {
             "line": {
              "color": "#E5ECF6",
              "width": 0.5
             },
             "pattern": {
              "fillmode": "overlay",
              "size": 10,
              "solidity": 0.2
             }
            },
            "type": "bar"
           }
          ],
          "barpolar": [
           {
            "marker": {
             "line": {
              "color": "#E5ECF6",
              "width": 0.5
             },
             "pattern": {
              "fillmode": "overlay",
              "size": 10,
              "solidity": 0.2
             }
            },
            "type": "barpolar"
           }
          ],
          "carpet": [
           {
            "aaxis": {
             "endlinecolor": "#2a3f5f",
             "gridcolor": "white",
             "linecolor": "white",
             "minorgridcolor": "white",
             "startlinecolor": "#2a3f5f"
            },
            "baxis": {
             "endlinecolor": "#2a3f5f",
             "gridcolor": "white",
             "linecolor": "white",
             "minorgridcolor": "white",
             "startlinecolor": "#2a3f5f"
            },
            "type": "carpet"
           }
          ],
          "choropleth": [
           {
            "colorbar": {
             "outlinewidth": 0,
             "ticks": ""
            },
            "type": "choropleth"
           }
          ],
          "contour": [
           {
            "colorbar": {
             "outlinewidth": 0,
             "ticks": ""
            },
            "colorscale": [
             [
              0,
              "#0d0887"
             ],
             [
              0.1111111111111111,
              "#46039f"
             ],
             [
              0.2222222222222222,
              "#7201a8"
             ],
             [
              0.3333333333333333,
              "#9c179e"
             ],
             [
              0.4444444444444444,
              "#bd3786"
             ],
             [
              0.5555555555555556,
              "#d8576b"
             ],
             [
              0.6666666666666666,
              "#ed7953"
             ],
             [
              0.7777777777777778,
              "#fb9f3a"
             ],
             [
              0.8888888888888888,
              "#fdca26"
             ],
             [
              1,
              "#f0f921"
             ]
            ],
            "type": "contour"
           }
          ],
          "contourcarpet": [
           {
            "colorbar": {
             "outlinewidth": 0,
             "ticks": ""
            },
            "type": "contourcarpet"
           }
          ],
          "heatmap": [
           {
            "colorbar": {
             "outlinewidth": 0,
             "ticks": ""
            },
            "colorscale": [
             [
              0,
              "#0d0887"
             ],
             [
              0.1111111111111111,
              "#46039f"
             ],
             [
              0.2222222222222222,
              "#7201a8"
             ],
             [
              0.3333333333333333,
              "#9c179e"
             ],
             [
              0.4444444444444444,
              "#bd3786"
             ],
             [
              0.5555555555555556,
              "#d8576b"
             ],
             [
              0.6666666666666666,
              "#ed7953"
             ],
             [
              0.7777777777777778,
              "#fb9f3a"
             ],
             [
              0.8888888888888888,
              "#fdca26"
             ],
             [
              1,
              "#f0f921"
             ]
            ],
            "type": "heatmap"
           }
          ],
          "heatmapgl": [
           {
            "colorbar": {
             "outlinewidth": 0,
             "ticks": ""
            },
            "colorscale": [
             [
              0,
              "#0d0887"
             ],
             [
              0.1111111111111111,
              "#46039f"
             ],
             [
              0.2222222222222222,
              "#7201a8"
             ],
             [
              0.3333333333333333,
              "#9c179e"
             ],
             [
              0.4444444444444444,
              "#bd3786"
             ],
             [
              0.5555555555555556,
              "#d8576b"
             ],
             [
              0.6666666666666666,
              "#ed7953"
             ],
             [
              0.7777777777777778,
              "#fb9f3a"
             ],
             [
              0.8888888888888888,
              "#fdca26"
             ],
             [
              1,
              "#f0f921"
             ]
            ],
            "type": "heatmapgl"
           }
          ],
          "histogram": [
           {
            "marker": {
             "pattern": {
              "fillmode": "overlay",
              "size": 10,
              "solidity": 0.2
             }
            },
            "type": "histogram"
           }
          ],
          "histogram2d": [
           {
            "colorbar": {
             "outlinewidth": 0,
             "ticks": ""
            },
            "colorscale": [
             [
              0,
              "#0d0887"
             ],
             [
              0.1111111111111111,
              "#46039f"
             ],
             [
              0.2222222222222222,
              "#7201a8"
             ],
             [
              0.3333333333333333,
              "#9c179e"
             ],
             [
              0.4444444444444444,
              "#bd3786"
             ],
             [
              0.5555555555555556,
              "#d8576b"
             ],
             [
              0.6666666666666666,
              "#ed7953"
             ],
             [
              0.7777777777777778,
              "#fb9f3a"
             ],
             [
              0.8888888888888888,
              "#fdca26"
             ],
             [
              1,
              "#f0f921"
             ]
            ],
            "type": "histogram2d"
           }
          ],
          "histogram2dcontour": [
           {
            "colorbar": {
             "outlinewidth": 0,
             "ticks": ""
            },
            "colorscale": [
             [
              0,
              "#0d0887"
             ],
             [
              0.1111111111111111,
              "#46039f"
             ],
             [
              0.2222222222222222,
              "#7201a8"
             ],
             [
              0.3333333333333333,
              "#9c179e"
             ],
             [
              0.4444444444444444,
              "#bd3786"
             ],
             [
              0.5555555555555556,
              "#d8576b"
             ],
             [
              0.6666666666666666,
              "#ed7953"
             ],
             [
              0.7777777777777778,
              "#fb9f3a"
             ],
             [
              0.8888888888888888,
              "#fdca26"
             ],
             [
              1,
              "#f0f921"
             ]
            ],
            "type": "histogram2dcontour"
           }
          ],
          "mesh3d": [
           {
            "colorbar": {
             "outlinewidth": 0,
             "ticks": ""
            },
            "type": "mesh3d"
           }
          ],
          "parcoords": [
           {
            "line": {
             "colorbar": {
              "outlinewidth": 0,
              "ticks": ""
             }
            },
            "type": "parcoords"
           }
          ],
          "pie": [
           {
            "automargin": true,
            "type": "pie"
           }
          ],
          "scatter": [
           {
            "marker": {
             "colorbar": {
              "outlinewidth": 0,
              "ticks": ""
             }
            },
            "type": "scatter"
           }
          ],
          "scatter3d": [
           {
            "line": {
             "colorbar": {
              "outlinewidth": 0,
              "ticks": ""
             }
            },
            "marker": {
             "colorbar": {
              "outlinewidth": 0,
              "ticks": ""
             }
            },
            "type": "scatter3d"
           }
          ],
          "scattercarpet": [
           {
            "marker": {
             "colorbar": {
              "outlinewidth": 0,
              "ticks": ""
             }
            },
            "type": "scattercarpet"
           }
          ],
          "scattergeo": [
           {
            "marker": {
             "colorbar": {
              "outlinewidth": 0,
              "ticks": ""
             }
            },
            "type": "scattergeo"
           }
          ],
          "scattergl": [
           {
            "marker": {
             "colorbar": {
              "outlinewidth": 0,
              "ticks": ""
             }
            },
            "type": "scattergl"
           }
          ],
          "scattermapbox": [
           {
            "marker": {
             "colorbar": {
              "outlinewidth": 0,
              "ticks": ""
             }
            },
            "type": "scattermapbox"
           }
          ],
          "scatterpolar": [
           {
            "marker": {
             "colorbar": {
              "outlinewidth": 0,
              "ticks": ""
             }
            },
            "type": "scatterpolar"
           }
          ],
          "scatterpolargl": [
           {
            "marker": {
             "colorbar": {
              "outlinewidth": 0,
              "ticks": ""
             }
            },
            "type": "scatterpolargl"
           }
          ],
          "scatterternary": [
           {
            "marker": {
             "colorbar": {
              "outlinewidth": 0,
              "ticks": ""
             }
            },
            "type": "scatterternary"
           }
          ],
          "surface": [
           {
            "colorbar": {
             "outlinewidth": 0,
             "ticks": ""
            },
            "colorscale": [
             [
              0,
              "#0d0887"
             ],
             [
              0.1111111111111111,
              "#46039f"
             ],
             [
              0.2222222222222222,
              "#7201a8"
             ],
             [
              0.3333333333333333,
              "#9c179e"
             ],
             [
              0.4444444444444444,
              "#bd3786"
             ],
             [
              0.5555555555555556,
              "#d8576b"
             ],
             [
              0.6666666666666666,
              "#ed7953"
             ],
             [
              0.7777777777777778,
              "#fb9f3a"
             ],
             [
              0.8888888888888888,
              "#fdca26"
             ],
             [
              1,
              "#f0f921"
             ]
            ],
            "type": "surface"
           }
          ],
          "table": [
           {
            "cells": {
             "fill": {
              "color": "#EBF0F8"
             },
             "line": {
              "color": "white"
             }
            },
            "header": {
             "fill": {
              "color": "#C8D4E3"
             },
             "line": {
              "color": "white"
             }
            },
            "type": "table"
           }
          ]
         },
         "layout": {
          "annotationdefaults": {
           "arrowcolor": "#2a3f5f",
           "arrowhead": 0,
           "arrowwidth": 1
          },
          "autotypenumbers": "strict",
          "coloraxis": {
           "colorbar": {
            "outlinewidth": 0,
            "ticks": ""
           }
          },
          "colorscale": {
           "diverging": [
            [
             0,
             "#8e0152"
            ],
            [
             0.1,
             "#c51b7d"
            ],
            [
             0.2,
             "#de77ae"
            ],
            [
             0.3,
             "#f1b6da"
            ],
            [
             0.4,
             "#fde0ef"
            ],
            [
             0.5,
             "#f7f7f7"
            ],
            [
             0.6,
             "#e6f5d0"
            ],
            [
             0.7,
             "#b8e186"
            ],
            [
             0.8,
             "#7fbc41"
            ],
            [
             0.9,
             "#4d9221"
            ],
            [
             1,
             "#276419"
            ]
           ],
           "sequential": [
            [
             0,
             "#0d0887"
            ],
            [
             0.1111111111111111,
             "#46039f"
            ],
            [
             0.2222222222222222,
             "#7201a8"
            ],
            [
             0.3333333333333333,
             "#9c179e"
            ],
            [
             0.4444444444444444,
             "#bd3786"
            ],
            [
             0.5555555555555556,
             "#d8576b"
            ],
            [
             0.6666666666666666,
             "#ed7953"
            ],
            [
             0.7777777777777778,
             "#fb9f3a"
            ],
            [
             0.8888888888888888,
             "#fdca26"
            ],
            [
             1,
             "#f0f921"
            ]
           ],
           "sequentialminus": [
            [
             0,
             "#0d0887"
            ],
            [
             0.1111111111111111,
             "#46039f"
            ],
            [
             0.2222222222222222,
             "#7201a8"
            ],
            [
             0.3333333333333333,
             "#9c179e"
            ],
            [
             0.4444444444444444,
             "#bd3786"
            ],
            [
             0.5555555555555556,
             "#d8576b"
            ],
            [
             0.6666666666666666,
             "#ed7953"
            ],
            [
             0.7777777777777778,
             "#fb9f3a"
            ],
            [
             0.8888888888888888,
             "#fdca26"
            ],
            [
             1,
             "#f0f921"
            ]
           ]
          },
          "colorway": [
           "#636efa",
           "#EF553B",
           "#00cc96",
           "#ab63fa",
           "#FFA15A",
           "#19d3f3",
           "#FF6692",
           "#B6E880",
           "#FF97FF",
           "#FECB52"
          ],
          "font": {
           "color": "#2a3f5f"
          },
          "geo": {
           "bgcolor": "white",
           "lakecolor": "white",
           "landcolor": "#E5ECF6",
           "showlakes": true,
           "showland": true,
           "subunitcolor": "white"
          },
          "hoverlabel": {
           "align": "left"
          },
          "hovermode": "closest",
          "mapbox": {
           "style": "light"
          },
          "paper_bgcolor": "white",
          "plot_bgcolor": "#E5ECF6",
          "polar": {
           "angularaxis": {
            "gridcolor": "white",
            "linecolor": "white",
            "ticks": ""
           },
           "bgcolor": "#E5ECF6",
           "radialaxis": {
            "gridcolor": "white",
            "linecolor": "white",
            "ticks": ""
           }
          },
          "scene": {
           "xaxis": {
            "backgroundcolor": "#E5ECF6",
            "gridcolor": "white",
            "gridwidth": 2,
            "linecolor": "white",
            "showbackground": true,
            "ticks": "",
            "zerolinecolor": "white"
           },
           "yaxis": {
            "backgroundcolor": "#E5ECF6",
            "gridcolor": "white",
            "gridwidth": 2,
            "linecolor": "white",
            "showbackground": true,
            "ticks": "",
            "zerolinecolor": "white"
           },
           "zaxis": {
            "backgroundcolor": "#E5ECF6",
            "gridcolor": "white",
            "gridwidth": 2,
            "linecolor": "white",
            "showbackground": true,
            "ticks": "",
            "zerolinecolor": "white"
           }
          },
          "shapedefaults": {
           "line": {
            "color": "#2a3f5f"
           }
          },
          "ternary": {
           "aaxis": {
            "gridcolor": "white",
            "linecolor": "white",
            "ticks": ""
           },
           "baxis": {
            "gridcolor": "white",
            "linecolor": "white",
            "ticks": ""
           },
           "bgcolor": "#E5ECF6",
           "caxis": {
            "gridcolor": "white",
            "linecolor": "white",
            "ticks": ""
           }
          },
          "title": {
           "x": 0.05
          },
          "xaxis": {
           "automargin": true,
           "gridcolor": "white",
           "linecolor": "white",
           "ticks": "",
           "title": {
            "standoff": 15
           },
           "zerolinecolor": "white",
           "zerolinewidth": 2
          },
          "yaxis": {
           "automargin": true,
           "gridcolor": "white",
           "linecolor": "white",
           "ticks": "",
           "title": {
            "standoff": 15
           },
           "zerolinecolor": "white",
           "zerolinewidth": 2
          }
         }
        },
        "title": {
         "font": {
          "color": "#4D5663"
         }
        },
        "xaxis": {
         "gridcolor": "#E1E5ED",
         "showgrid": true,
         "tickfont": {
          "color": "#4D5663"
         },
         "title": {
          "font": {
           "color": "#4D5663"
          },
          "text": ""
         },
         "zerolinecolor": "#E1E5ED"
        },
        "yaxis": {
         "gridcolor": "#E1E5ED",
         "showgrid": true,
         "tickfont": {
          "color": "#4D5663"
         },
         "title": {
          "font": {
           "color": "#4D5663"
          },
          "text": ""
         },
         "zerolinecolor": "#E1E5ED"
        }
       }
      },
      "text/html": [
       "<div>                            <div id=\"201263b0-f699-4b33-ab14-9c7412b4dfed\" class=\"plotly-graph-div\" style=\"height:525px; width:100%;\"></div>            <script type=\"text/javascript\">                require([\"plotly\"], function(Plotly) {                    window.PLOTLYENV=window.PLOTLYENV || {};\n",
       "                    window.PLOTLYENV.BASE_URL='https://plot.ly';                                    if (document.getElementById(\"201263b0-f699-4b33-ab14-9c7412b4dfed\")) {                    Plotly.newPlot(                        \"201263b0-f699-4b33-ab14-9c7412b4dfed\",                        [{\"colorscale\":[[0.0,\"rgb(165,0,38)\"],[0.1,\"rgb(215,48,39)\"],[0.2,\"rgb(244,109,67)\"],[0.3,\"rgb(253,174,97)\"],[0.4,\"rgb(254,224,144)\"],[0.5,\"rgb(255,255,191)\"],[0.6,\"rgb(224,243,248)\"],[0.7,\"rgb(171,217,233)\"],[0.8,\"rgb(116,173,209)\"],[0.9,\"rgb(69,117,180)\"],[1.0,\"rgb(49,54,149)\"]],\"x\":[0,1,2,3,4],\"y\":[\"x\",\"y\",\"z\"],\"z\":[[1,2,3,4,5],[10,20,30,20,10],[5,4,3,2,1]],\"type\":\"surface\"}],                        {\"legend\":{\"bgcolor\":\"#F5F6F9\",\"font\":{\"color\":\"#4D5663\"}},\"paper_bgcolor\":\"#F5F6F9\",\"plot_bgcolor\":\"#F5F6F9\",\"template\":{\"data\":{\"barpolar\":[{\"marker\":{\"line\":{\"color\":\"#E5ECF6\",\"width\":0.5},\"pattern\":{\"fillmode\":\"overlay\",\"size\":10,\"solidity\":0.2}},\"type\":\"barpolar\"}],\"bar\":[{\"error_x\":{\"color\":\"#2a3f5f\"},\"error_y\":{\"color\":\"#2a3f5f\"},\"marker\":{\"line\":{\"color\":\"#E5ECF6\",\"width\":0.5},\"pattern\":{\"fillmode\":\"overlay\",\"size\":10,\"solidity\":0.2}},\"type\":\"bar\"}],\"carpet\":[{\"aaxis\":{\"endlinecolor\":\"#2a3f5f\",\"gridcolor\":\"white\",\"linecolor\":\"white\",\"minorgridcolor\":\"white\",\"startlinecolor\":\"#2a3f5f\"},\"baxis\":{\"endlinecolor\":\"#2a3f5f\",\"gridcolor\":\"white\",\"linecolor\":\"white\",\"minorgridcolor\":\"white\",\"startlinecolor\":\"#2a3f5f\"},\"type\":\"carpet\"}],\"choropleth\":[{\"colorbar\":{\"outlinewidth\":0,\"ticks\":\"\"},\"type\":\"choropleth\"}],\"contourcarpet\":[{\"colorbar\":{\"outlinewidth\":0,\"ticks\":\"\"},\"type\":\"contourcarpet\"}],\"contour\":[{\"colorbar\":{\"outlinewidth\":0,\"ticks\":\"\"},\"colorscale\":[[0.0,\"#0d0887\"],[0.1111111111111111,\"#46039f\"],[0.2222222222222222,\"#7201a8\"],[0.3333333333333333,\"#9c179e\"],[0.4444444444444444,\"#bd3786\"],[0.5555555555555556,\"#d8576b\"],[0.6666666666666666,\"#ed7953\"],[0.7777777777777778,\"#fb9f3a\"],[0.8888888888888888,\"#fdca26\"],[1.0,\"#f0f921\"]],\"type\":\"contour\"}],\"heatmapgl\":[{\"colorbar\":{\"outlinewidth\":0,\"ticks\":\"\"},\"colorscale\":[[0.0,\"#0d0887\"],[0.1111111111111111,\"#46039f\"],[0.2222222222222222,\"#7201a8\"],[0.3333333333333333,\"#9c179e\"],[0.4444444444444444,\"#bd3786\"],[0.5555555555555556,\"#d8576b\"],[0.6666666666666666,\"#ed7953\"],[0.7777777777777778,\"#fb9f3a\"],[0.8888888888888888,\"#fdca26\"],[1.0,\"#f0f921\"]],\"type\":\"heatmapgl\"}],\"heatmap\":[{\"colorbar\":{\"outlinewidth\":0,\"ticks\":\"\"},\"colorscale\":[[0.0,\"#0d0887\"],[0.1111111111111111,\"#46039f\"],[0.2222222222222222,\"#7201a8\"],[0.3333333333333333,\"#9c179e\"],[0.4444444444444444,\"#bd3786\"],[0.5555555555555556,\"#d8576b\"],[0.6666666666666666,\"#ed7953\"],[0.7777777777777778,\"#fb9f3a\"],[0.8888888888888888,\"#fdca26\"],[1.0,\"#f0f921\"]],\"type\":\"heatmap\"}],\"histogram2dcontour\":[{\"colorbar\":{\"outlinewidth\":0,\"ticks\":\"\"},\"colorscale\":[[0.0,\"#0d0887\"],[0.1111111111111111,\"#46039f\"],[0.2222222222222222,\"#7201a8\"],[0.3333333333333333,\"#9c179e\"],[0.4444444444444444,\"#bd3786\"],[0.5555555555555556,\"#d8576b\"],[0.6666666666666666,\"#ed7953\"],[0.7777777777777778,\"#fb9f3a\"],[0.8888888888888888,\"#fdca26\"],[1.0,\"#f0f921\"]],\"type\":\"histogram2dcontour\"}],\"histogram2d\":[{\"colorbar\":{\"outlinewidth\":0,\"ticks\":\"\"},\"colorscale\":[[0.0,\"#0d0887\"],[0.1111111111111111,\"#46039f\"],[0.2222222222222222,\"#7201a8\"],[0.3333333333333333,\"#9c179e\"],[0.4444444444444444,\"#bd3786\"],[0.5555555555555556,\"#d8576b\"],[0.6666666666666666,\"#ed7953\"],[0.7777777777777778,\"#fb9f3a\"],[0.8888888888888888,\"#fdca26\"],[1.0,\"#f0f921\"]],\"type\":\"histogram2d\"}],\"histogram\":[{\"marker\":{\"pattern\":{\"fillmode\":\"overlay\",\"size\":10,\"solidity\":0.2}},\"type\":\"histogram\"}],\"mesh3d\":[{\"colorbar\":{\"outlinewidth\":0,\"ticks\":\"\"},\"type\":\"mesh3d\"}],\"parcoords\":[{\"line\":{\"colorbar\":{\"outlinewidth\":0,\"ticks\":\"\"}},\"type\":\"parcoords\"}],\"pie\":[{\"automargin\":true,\"type\":\"pie\"}],\"scatter3d\":[{\"line\":{\"colorbar\":{\"outlinewidth\":0,\"ticks\":\"\"}},\"marker\":{\"colorbar\":{\"outlinewidth\":0,\"ticks\":\"\"}},\"type\":\"scatter3d\"}],\"scattercarpet\":[{\"marker\":{\"colorbar\":{\"outlinewidth\":0,\"ticks\":\"\"}},\"type\":\"scattercarpet\"}],\"scattergeo\":[{\"marker\":{\"colorbar\":{\"outlinewidth\":0,\"ticks\":\"\"}},\"type\":\"scattergeo\"}],\"scattergl\":[{\"marker\":{\"colorbar\":{\"outlinewidth\":0,\"ticks\":\"\"}},\"type\":\"scattergl\"}],\"scattermapbox\":[{\"marker\":{\"colorbar\":{\"outlinewidth\":0,\"ticks\":\"\"}},\"type\":\"scattermapbox\"}],\"scatterpolargl\":[{\"marker\":{\"colorbar\":{\"outlinewidth\":0,\"ticks\":\"\"}},\"type\":\"scatterpolargl\"}],\"scatterpolar\":[{\"marker\":{\"colorbar\":{\"outlinewidth\":0,\"ticks\":\"\"}},\"type\":\"scatterpolar\"}],\"scatter\":[{\"marker\":{\"colorbar\":{\"outlinewidth\":0,\"ticks\":\"\"}},\"type\":\"scatter\"}],\"scatterternary\":[{\"marker\":{\"colorbar\":{\"outlinewidth\":0,\"ticks\":\"\"}},\"type\":\"scatterternary\"}],\"surface\":[{\"colorbar\":{\"outlinewidth\":0,\"ticks\":\"\"},\"colorscale\":[[0.0,\"#0d0887\"],[0.1111111111111111,\"#46039f\"],[0.2222222222222222,\"#7201a8\"],[0.3333333333333333,\"#9c179e\"],[0.4444444444444444,\"#bd3786\"],[0.5555555555555556,\"#d8576b\"],[0.6666666666666666,\"#ed7953\"],[0.7777777777777778,\"#fb9f3a\"],[0.8888888888888888,\"#fdca26\"],[1.0,\"#f0f921\"]],\"type\":\"surface\"}],\"table\":[{\"cells\":{\"fill\":{\"color\":\"#EBF0F8\"},\"line\":{\"color\":\"white\"}},\"header\":{\"fill\":{\"color\":\"#C8D4E3\"},\"line\":{\"color\":\"white\"}},\"type\":\"table\"}]},\"layout\":{\"annotationdefaults\":{\"arrowcolor\":\"#2a3f5f\",\"arrowhead\":0,\"arrowwidth\":1},\"autotypenumbers\":\"strict\",\"coloraxis\":{\"colorbar\":{\"outlinewidth\":0,\"ticks\":\"\"}},\"colorscale\":{\"diverging\":[[0,\"#8e0152\"],[0.1,\"#c51b7d\"],[0.2,\"#de77ae\"],[0.3,\"#f1b6da\"],[0.4,\"#fde0ef\"],[0.5,\"#f7f7f7\"],[0.6,\"#e6f5d0\"],[0.7,\"#b8e186\"],[0.8,\"#7fbc41\"],[0.9,\"#4d9221\"],[1,\"#276419\"]],\"sequential\":[[0.0,\"#0d0887\"],[0.1111111111111111,\"#46039f\"],[0.2222222222222222,\"#7201a8\"],[0.3333333333333333,\"#9c179e\"],[0.4444444444444444,\"#bd3786\"],[0.5555555555555556,\"#d8576b\"],[0.6666666666666666,\"#ed7953\"],[0.7777777777777778,\"#fb9f3a\"],[0.8888888888888888,\"#fdca26\"],[1.0,\"#f0f921\"]],\"sequentialminus\":[[0.0,\"#0d0887\"],[0.1111111111111111,\"#46039f\"],[0.2222222222222222,\"#7201a8\"],[0.3333333333333333,\"#9c179e\"],[0.4444444444444444,\"#bd3786\"],[0.5555555555555556,\"#d8576b\"],[0.6666666666666666,\"#ed7953\"],[0.7777777777777778,\"#fb9f3a\"],[0.8888888888888888,\"#fdca26\"],[1.0,\"#f0f921\"]]},\"colorway\":[\"#636efa\",\"#EF553B\",\"#00cc96\",\"#ab63fa\",\"#FFA15A\",\"#19d3f3\",\"#FF6692\",\"#B6E880\",\"#FF97FF\",\"#FECB52\"],\"font\":{\"color\":\"#2a3f5f\"},\"geo\":{\"bgcolor\":\"white\",\"lakecolor\":\"white\",\"landcolor\":\"#E5ECF6\",\"showlakes\":true,\"showland\":true,\"subunitcolor\":\"white\"},\"hoverlabel\":{\"align\":\"left\"},\"hovermode\":\"closest\",\"mapbox\":{\"style\":\"light\"},\"paper_bgcolor\":\"white\",\"plot_bgcolor\":\"#E5ECF6\",\"polar\":{\"angularaxis\":{\"gridcolor\":\"white\",\"linecolor\":\"white\",\"ticks\":\"\"},\"bgcolor\":\"#E5ECF6\",\"radialaxis\":{\"gridcolor\":\"white\",\"linecolor\":\"white\",\"ticks\":\"\"}},\"scene\":{\"xaxis\":{\"backgroundcolor\":\"#E5ECF6\",\"gridcolor\":\"white\",\"gridwidth\":2,\"linecolor\":\"white\",\"showbackground\":true,\"ticks\":\"\",\"zerolinecolor\":\"white\"},\"yaxis\":{\"backgroundcolor\":\"#E5ECF6\",\"gridcolor\":\"white\",\"gridwidth\":2,\"linecolor\":\"white\",\"showbackground\":true,\"ticks\":\"\",\"zerolinecolor\":\"white\"},\"zaxis\":{\"backgroundcolor\":\"#E5ECF6\",\"gridcolor\":\"white\",\"gridwidth\":2,\"linecolor\":\"white\",\"showbackground\":true,\"ticks\":\"\",\"zerolinecolor\":\"white\"}},\"shapedefaults\":{\"line\":{\"color\":\"#2a3f5f\"}},\"ternary\":{\"aaxis\":{\"gridcolor\":\"white\",\"linecolor\":\"white\",\"ticks\":\"\"},\"baxis\":{\"gridcolor\":\"white\",\"linecolor\":\"white\",\"ticks\":\"\"},\"bgcolor\":\"#E5ECF6\",\"caxis\":{\"gridcolor\":\"white\",\"linecolor\":\"white\",\"ticks\":\"\"}},\"title\":{\"x\":0.05},\"xaxis\":{\"automargin\":true,\"gridcolor\":\"white\",\"linecolor\":\"white\",\"ticks\":\"\",\"title\":{\"standoff\":15},\"zerolinecolor\":\"white\",\"zerolinewidth\":2},\"yaxis\":{\"automargin\":true,\"gridcolor\":\"white\",\"linecolor\":\"white\",\"ticks\":\"\",\"title\":{\"standoff\":15},\"zerolinecolor\":\"white\",\"zerolinewidth\":2}}},\"title\":{\"font\":{\"color\":\"#4D5663\"}},\"xaxis\":{\"gridcolor\":\"#E1E5ED\",\"showgrid\":true,\"tickfont\":{\"color\":\"#4D5663\"},\"title\":{\"font\":{\"color\":\"#4D5663\"},\"text\":\"\"},\"zerolinecolor\":\"#E1E5ED\"},\"yaxis\":{\"gridcolor\":\"#E1E5ED\",\"showgrid\":true,\"tickfont\":{\"color\":\"#4D5663\"},\"title\":{\"font\":{\"color\":\"#4D5663\"},\"text\":\"\"},\"zerolinecolor\":\"#E1E5ED\"}},                        {\"showLink\": true, \"linkText\": \"Export to plot.ly\", \"plotlyServerURL\": \"https://plot.ly\", \"responsive\": true}                    ).then(function(){\n",
       "                            \n",
       "var gd = document.getElementById('201263b0-f699-4b33-ab14-9c7412b4dfed');\n",
       "var x = new MutationObserver(function (mutations, observer) {{\n",
       "        var display = window.getComputedStyle(gd).display;\n",
       "        if (!display || display === 'none') {{\n",
       "            console.log([gd, 'removed!']);\n",
       "            Plotly.purge(gd);\n",
       "            observer.disconnect();\n",
       "        }}\n",
       "}});\n",
       "\n",
       "// Listen for the removal of the full notebook cells\n",
       "var notebookContainer = gd.closest('#notebook-container');\n",
       "if (notebookContainer) {{\n",
       "    x.observe(notebookContainer, {childList: true});\n",
       "}}\n",
       "\n",
       "// Listen for the clearing of the current output cell\n",
       "var outputEl = gd.closest('.output');\n",
       "if (outputEl) {{\n",
       "    x.observe(outputEl, {childList: true});\n",
       "}}\n",
       "\n",
       "                        })                };                });            </script>        </div>"
      ]
     },
     "metadata": {},
     "output_type": "display_data"
    }
   ],
   "source": [
    "df3.iplot(kind = 'surface', colorscale = 'rdylbu')"
   ]
  },
  {
   "cell_type": "markdown",
   "id": "39036770",
   "metadata": {},
   "source": [
    "# Spread"
   ]
  },
  {
   "cell_type": "code",
   "execution_count": 18,
   "id": "8634471d",
   "metadata": {},
   "outputs": [
    {
     "data": {
      "application/vnd.plotly.v1+json": {
       "config": {
        "linkText": "Export to plot.ly",
        "plotlyServerURL": "https://plot.ly",
        "showLink": true
       },
       "data": [
        {
         "line": {
          "color": "rgba(255, 153, 51, 1.0)",
          "dash": "solid",
          "shape": "linear",
          "width": 1.3
         },
         "mode": "lines",
         "name": "A",
         "text": "",
         "type": "scatter",
         "x": [
          0,
          1,
          2,
          3,
          4,
          5,
          6,
          7,
          8,
          9,
          10,
          11,
          12,
          13,
          14,
          15,
          16,
          17,
          18,
          19,
          20,
          21,
          22,
          23,
          24,
          25,
          26,
          27,
          28,
          29,
          30,
          31,
          32,
          33,
          34,
          35,
          36,
          37,
          38,
          39,
          40,
          41,
          42,
          43,
          44,
          45,
          46,
          47,
          48,
          49,
          50,
          51,
          52,
          53,
          54,
          55,
          56,
          57,
          58,
          59,
          60,
          61,
          62,
          63,
          64,
          65,
          66,
          67,
          68,
          69,
          70,
          71,
          72,
          73,
          74,
          75,
          76,
          77,
          78,
          79,
          80,
          81,
          82,
          83,
          84,
          85,
          86,
          87,
          88,
          89,
          90,
          91,
          92,
          93,
          94,
          95,
          96,
          97,
          98,
          99
         ],
         "y": [
          -0.2161184228253383,
          0.8792932512052545,
          0.8159294643263392,
          -0.4635332026275159,
          1.2480606583511327,
          1.1636709077699556,
          0.7922609344528071,
          -0.487105657576173,
          0.5421078085365659,
          0.5700116946872794,
          0.8239368808080885,
          -2.025932373181993,
          -0.7813558580603188,
          -0.8034398249519679,
          1.2512029139420504,
          -0.820332122346455,
          -1.6512522046007363,
          1.5682988107869604,
          -0.0063207362410987915,
          0.4004905726878128,
          0.5203258238161681,
          1.8279603356320633,
          0.13283157408988597,
          1.542945359288579,
          1.6651922182738557,
          -0.18907056450707943,
          0.5662895926834438,
          -0.4460591334360272,
          -0.5962532719116784,
          -0.5631527736349463,
          2.0839310694181905,
          -0.3747192099598198,
          0.2469317564261832,
          -0.4871280695792462,
          -1.399511059198512,
          -0.9279823397322188,
          0.3390474827073605,
          1.0170979834933276,
          -0.1348568156422785,
          1.2344989287853096,
          -0.273536936893138,
          0.5969711416695731,
          -0.5019729300786134,
          -1.5731701762261463,
          -0.776546301945367,
          -0.04443145956515006,
          -0.8568286686510093,
          -0.024763966728982578,
          0.7837974913189243,
          0.9010994038155039,
          -0.4730980172755114,
          0.207587519407055,
          -0.6771743196350672,
          1.2863142031525987,
          1.0405050456937595,
          0.06872578685904618,
          0.20037742174726073,
          0.43338326497446955,
          -1.1232782954405904,
          0.40114918501688485,
          0.5906859056001391,
          2.966926846259941,
          -0.23043343271553118,
          -0.8732939562117886,
          1.14121108723957,
          -0.4914311190409125,
          1.2800135159775534,
          0.8703759276983618,
          -0.69160728844988,
          1.1149661429079787,
          -1.0368988106557855,
          -1.856129353554703,
          0.07728497234778402,
          -0.5566709010013736,
          0.0017236191367242851,
          0.33896141298782556,
          -0.34634373933597523,
          -0.4314493717931845,
          -0.24830094093459376,
          0.7942439153979056,
          0.355227483466092,
          -0.9023647603026724,
          0.26053844043329494,
          -1.4960110241555,
          -0.03606981923271355,
          0.8973986520322429,
          0.8765836951666557,
          0.8099946509436573,
          -0.2546804984597161,
          -1.0077879926848405,
          -1.2867994667714329,
          1.5576794947939168,
          0.019057905893780924,
          -0.5441990567110787,
          0.49670405962304026,
          -0.4854564908395615,
          0.01630221623572593,
          0.4829915653490035,
          0.43406524706242366,
          -0.1857395357813015
         ]
        },
        {
         "line": {
          "color": "rgba(55, 128, 191, 1.0)",
          "dash": "solid",
          "shape": "linear",
          "width": 1.3
         },
         "mode": "lines",
         "name": "B",
         "text": "",
         "type": "scatter",
         "x": [
          0,
          1,
          2,
          3,
          4,
          5,
          6,
          7,
          8,
          9,
          10,
          11,
          12,
          13,
          14,
          15,
          16,
          17,
          18,
          19,
          20,
          21,
          22,
          23,
          24,
          25,
          26,
          27,
          28,
          29,
          30,
          31,
          32,
          33,
          34,
          35,
          36,
          37,
          38,
          39,
          40,
          41,
          42,
          43,
          44,
          45,
          46,
          47,
          48,
          49,
          50,
          51,
          52,
          53,
          54,
          55,
          56,
          57,
          58,
          59,
          60,
          61,
          62,
          63,
          64,
          65,
          66,
          67,
          68,
          69,
          70,
          71,
          72,
          73,
          74,
          75,
          76,
          77,
          78,
          79,
          80,
          81,
          82,
          83,
          84,
          85,
          86,
          87,
          88,
          89,
          90,
          91,
          92,
          93,
          94,
          95,
          96,
          97,
          98,
          99
         ],
         "y": [
          0.6009272176053823,
          -0.47328375717875815,
          1.5102796829570875,
          0.13698648280279452,
          -0.08207927123680447,
          1.3807419460829236,
          0.0008884140464625894,
          1.6770396104112533,
          0.3834029797448087,
          -0.2690010326323169,
          1.597398260776538,
          0.7351648892726675,
          0.10551643845443366,
          -0.6311209883918225,
          0.5572390618218849,
          -0.7738078928039479,
          0.21116745930062886,
          0.14078423344846921,
          -0.4212439874653056,
          -2.3793733930614014,
          1.4212147209842563,
          -0.5812791086667076,
          -0.9415571482963713,
          0.6306110755837304,
          -1.2411071380593497,
          -0.6046780270124452,
          -1.0559399304488928,
          0.42279176280029,
          -1.226271418081291,
          -1.131325103094806,
          -0.8889977036219829,
          1.2648058753496236,
          -0.48442636834005676,
          0.7108960890827798,
          1.3725402153716952,
          -0.5675961974427753,
          0.9253553237255685,
          -0.5692932152077298,
          -0.4174221274552496,
          -0.6979921244017261,
          -0.3393646826749617,
          -1.8087896518381883,
          0.3758793349821352,
          -0.39199851456008206,
          0.07117604173337383,
          -1.213063945919289,
          0.07552353850305901,
          -2.4856059003298836,
          0.451007261823913,
          -0.2289835339458214,
          2.120458797452917,
          -0.6083107357715691,
          0.3047972548593639,
          0.8166894152888184,
          -0.3543723312937055,
          0.9270475773868493,
          0.21671452232011124,
          -1.0860561840875944,
          -0.9241637527989113,
          0.6469123061061172,
          -0.5604065178745599,
          -1.3026393979314375,
          -0.40837785458920023,
          -2.053389222406837,
          0.452689699599634,
          -0.5456880220604482,
          -0.3768008226061331,
          0.8395805250060749,
          0.15638033915065708,
          1.8378173141312133,
          0.18122406269354446,
          -0.5802911040274235,
          -0.9323718692835864,
          0.4085690155151971,
          -1.133680474934867,
          0.36264440141564863,
          0.39943820817481523,
          -0.9810313174504565,
          -1.9976005280155338,
          1.37253433673606,
          0.5368407330853499,
          -0.8077790783101932,
          1.2122769887218132,
          -1.0354813312940023,
          0.7911735578805896,
          -1.8950724841036661,
          -0.2987687049820244,
          -0.6523694211047908,
          0.3830716691262919,
          0.6284618766425324,
          -0.9618366538721196,
          0.3426388646253289,
          1.5482473743187941,
          0.5798472356535777,
          -2.113126103357163,
          -1.6964437945831647,
          1.4718284936317474,
          -2.0029776122015877,
          0.8932118075364441,
          0.34649521334632055
         ]
        },
        {
         "connectgaps": false,
         "fill": "tozeroy",
         "line": {
          "color": "green",
          "dash": "solid",
          "shape": "linear",
          "width": 0.5
         },
         "mode": "lines",
         "name": "Spread",
         "showlegend": false,
         "type": "scatter",
         "x": [
          0,
          1,
          2,
          3,
          4,
          5,
          6,
          7,
          8,
          9,
          10,
          11,
          12,
          13,
          14,
          15,
          16,
          17,
          18,
          19,
          20,
          21,
          22,
          23,
          24,
          25,
          26,
          27,
          28,
          29,
          30,
          31,
          32,
          33,
          34,
          35,
          36,
          37,
          38,
          39,
          40,
          41,
          42,
          43,
          44,
          45,
          46,
          47,
          48,
          49,
          50,
          51,
          52,
          53,
          54,
          55,
          56,
          57,
          58,
          59,
          60,
          61,
          62,
          63,
          64,
          65,
          66,
          67,
          68,
          69,
          70,
          71,
          72,
          73,
          74,
          75,
          76,
          77,
          78,
          79,
          80,
          81,
          82,
          83,
          84,
          85,
          86,
          87,
          88,
          89,
          90,
          91,
          92,
          93,
          94,
          95,
          96,
          97,
          98,
          99
         ],
         "xaxis": "x2",
         "y": [
          "",
          1.3525770083840127,
          "",
          "",
          1.3301399295879373,
          "",
          0.7913725204063445,
          "",
          0.15870482879175724,
          0.8390127273195963,
          "",
          "",
          "",
          "",
          0.6939638521201655,
          "",
          "",
          1.4275145773384912,
          0.4149232512242068,
          2.779863965749214,
          "",
          2.409239444298771,
          1.0743887223862572,
          0.9123342837048485,
          2.9062993563332054,
          0.4156074625053658,
          1.6222295231323365,
          "",
          0.6300181461696126,
          0.5681723294598596,
          2.9729287730401737,
          "",
          0.73135812476624,
          "",
          "",
          "",
          "",
          1.5863911987010573,
          0.28256531181297107,
          1.9324910531870358,
          0.06582774578182371,
          2.4057607935077616,
          "",
          "",
          "",
          1.1686324863541389,
          "",
          2.460841933600901,
          0.3327902294950113,
          1.1300829377613253,
          "",
          0.8158982551786241,
          "",
          0.46962478786378026,
          1.394877376987465,
          "",
          "",
          1.519439449062064,
          "",
          "",
          1.151092423474699,
          4.269566244191378,
          0.17794442187366905,
          1.1800952661950483,
          0.688521387639936,
          0.054256903019535674,
          1.6568143385836867,
          0.030795402692286866,
          "",
          "",
          "",
          "",
          1.0096568416313705,
          "",
          1.1354040940715913,
          "",
          "",
          0.5495819456572719,
          1.74929958708094,
          "",
          "",
          "",
          "",
          "",
          "",
          2.792471136135909,
          1.1753524001486801,
          1.462364072048448,
          "",
          "",
          "",
          1.2150406301685879,
          "",
          "",
          2.609830162980203,
          1.2109873037436032,
          "",
          2.485969177550591,
          "",
          ""
         ],
         "yaxis": "y2"
        },
        {
         "connectgaps": false,
         "fill": "tozeroy",
         "line": {
          "color": "red",
          "dash": "solid",
          "shape": "linear",
          "width": 0.5
         },
         "mode": "lines",
         "name": "Spread",
         "showlegend": false,
         "type": "scatter",
         "x": [
          0,
          1,
          2,
          3,
          4,
          5,
          6,
          7,
          8,
          9,
          10,
          11,
          12,
          13,
          14,
          15,
          16,
          17,
          18,
          19,
          20,
          21,
          22,
          23,
          24,
          25,
          26,
          27,
          28,
          29,
          30,
          31,
          32,
          33,
          34,
          35,
          36,
          37,
          38,
          39,
          40,
          41,
          42,
          43,
          44,
          45,
          46,
          47,
          48,
          49,
          50,
          51,
          52,
          53,
          54,
          55,
          56,
          57,
          58,
          59,
          60,
          61,
          62,
          63,
          64,
          65,
          66,
          67,
          68,
          69,
          70,
          71,
          72,
          73,
          74,
          75,
          76,
          77,
          78,
          79,
          80,
          81,
          82,
          83,
          84,
          85,
          86,
          87,
          88,
          89,
          90,
          91,
          92,
          93,
          94,
          95,
          96,
          97,
          98,
          99
         ],
         "xaxis": "x2",
         "y": [
          -0.8170456404307206,
          "",
          -0.6943502186307483,
          -0.6005196854303104,
          "",
          -0.21707103831296792,
          "",
          -2.1641452679874265,
          "",
          "",
          -0.7734613799684495,
          -2.7610972624546606,
          -0.8868722965147525,
          -0.17231883656014535,
          "",
          -0.04652422954250712,
          -1.862419663901365,
          "",
          "",
          "",
          -0.9008888971680882,
          "",
          "",
          "",
          "",
          "",
          "",
          -0.8688508962363173,
          "",
          "",
          "",
          -1.6395250853094434,
          "",
          -1.198024158662026,
          -2.7720512745702073,
          -0.36038614228944343,
          -0.586307841018208,
          "",
          "",
          "",
          "",
          "",
          -0.8778522650607486,
          -1.1811716616660641,
          -0.8477223436787409,
          "",
          -0.9323522071540683,
          "",
          "",
          "",
          -2.5935568147284287,
          "",
          -0.9819715744944311,
          "",
          "",
          -0.8583217905278031,
          -0.01633710057285051,
          "",
          -0.19911454264167916,
          -0.24576312108923232,
          "",
          "",
          "",
          "",
          "",
          "",
          "",
          "",
          -0.847987627600537,
          -0.7228511712232346,
          -1.21812287334933,
          -1.2758382495272795,
          "",
          -0.9652399165165707,
          "",
          -0.02368298842782307,
          -0.7457819475107905,
          "",
          "",
          -0.5782904213381544,
          -0.18161324961925784,
          -0.09458568199247919,
          -0.9517385482885183,
          -0.4605296928614977,
          -0.8272433771133032,
          "",
          "",
          "",
          -0.6377521675860081,
          -1.636249869327373,
          -0.3249628128993133,
          "",
          -1.5291894684250131,
          -1.1240462923646564,
          "",
          "",
          -1.4555262773960214,
          "",
          -0.45914656047402047,
          -0.532234749127622
         ],
         "yaxis": "y2"
        }
       ],
       "layout": {
        "hovermode": "x",
        "legend": {
         "bgcolor": "#F5F6F9",
         "font": {
          "color": "#4D5663"
         }
        },
        "paper_bgcolor": "#F5F6F9",
        "plot_bgcolor": "#F5F6F9",
        "template": {
         "data": {
          "bar": [
           {
            "error_x": {
             "color": "#2a3f5f"
            },
            "error_y": {
             "color": "#2a3f5f"
            },
            "marker": {
             "line": {
              "color": "#E5ECF6",
              "width": 0.5
             },
             "pattern": {
              "fillmode": "overlay",
              "size": 10,
              "solidity": 0.2
             }
            },
            "type": "bar"
           }
          ],
          "barpolar": [
           {
            "marker": {
             "line": {
              "color": "#E5ECF6",
              "width": 0.5
             },
             "pattern": {
              "fillmode": "overlay",
              "size": 10,
              "solidity": 0.2
             }
            },
            "type": "barpolar"
           }
          ],
          "carpet": [
           {
            "aaxis": {
             "endlinecolor": "#2a3f5f",
             "gridcolor": "white",
             "linecolor": "white",
             "minorgridcolor": "white",
             "startlinecolor": "#2a3f5f"
            },
            "baxis": {
             "endlinecolor": "#2a3f5f",
             "gridcolor": "white",
             "linecolor": "white",
             "minorgridcolor": "white",
             "startlinecolor": "#2a3f5f"
            },
            "type": "carpet"
           }
          ],
          "choropleth": [
           {
            "colorbar": {
             "outlinewidth": 0,
             "ticks": ""
            },
            "type": "choropleth"
           }
          ],
          "contour": [
           {
            "colorbar": {
             "outlinewidth": 0,
             "ticks": ""
            },
            "colorscale": [
             [
              0,
              "#0d0887"
             ],
             [
              0.1111111111111111,
              "#46039f"
             ],
             [
              0.2222222222222222,
              "#7201a8"
             ],
             [
              0.3333333333333333,
              "#9c179e"
             ],
             [
              0.4444444444444444,
              "#bd3786"
             ],
             [
              0.5555555555555556,
              "#d8576b"
             ],
             [
              0.6666666666666666,
              "#ed7953"
             ],
             [
              0.7777777777777778,
              "#fb9f3a"
             ],
             [
              0.8888888888888888,
              "#fdca26"
             ],
             [
              1,
              "#f0f921"
             ]
            ],
            "type": "contour"
           }
          ],
          "contourcarpet": [
           {
            "colorbar": {
             "outlinewidth": 0,
             "ticks": ""
            },
            "type": "contourcarpet"
           }
          ],
          "heatmap": [
           {
            "colorbar": {
             "outlinewidth": 0,
             "ticks": ""
            },
            "colorscale": [
             [
              0,
              "#0d0887"
             ],
             [
              0.1111111111111111,
              "#46039f"
             ],
             [
              0.2222222222222222,
              "#7201a8"
             ],
             [
              0.3333333333333333,
              "#9c179e"
             ],
             [
              0.4444444444444444,
              "#bd3786"
             ],
             [
              0.5555555555555556,
              "#d8576b"
             ],
             [
              0.6666666666666666,
              "#ed7953"
             ],
             [
              0.7777777777777778,
              "#fb9f3a"
             ],
             [
              0.8888888888888888,
              "#fdca26"
             ],
             [
              1,
              "#f0f921"
             ]
            ],
            "type": "heatmap"
           }
          ],
          "heatmapgl": [
           {
            "colorbar": {
             "outlinewidth": 0,
             "ticks": ""
            },
            "colorscale": [
             [
              0,
              "#0d0887"
             ],
             [
              0.1111111111111111,
              "#46039f"
             ],
             [
              0.2222222222222222,
              "#7201a8"
             ],
             [
              0.3333333333333333,
              "#9c179e"
             ],
             [
              0.4444444444444444,
              "#bd3786"
             ],
             [
              0.5555555555555556,
              "#d8576b"
             ],
             [
              0.6666666666666666,
              "#ed7953"
             ],
             [
              0.7777777777777778,
              "#fb9f3a"
             ],
             [
              0.8888888888888888,
              "#fdca26"
             ],
             [
              1,
              "#f0f921"
             ]
            ],
            "type": "heatmapgl"
           }
          ],
          "histogram": [
           {
            "marker": {
             "pattern": {
              "fillmode": "overlay",
              "size": 10,
              "solidity": 0.2
             }
            },
            "type": "histogram"
           }
          ],
          "histogram2d": [
           {
            "colorbar": {
             "outlinewidth": 0,
             "ticks": ""
            },
            "colorscale": [
             [
              0,
              "#0d0887"
             ],
             [
              0.1111111111111111,
              "#46039f"
             ],
             [
              0.2222222222222222,
              "#7201a8"
             ],
             [
              0.3333333333333333,
              "#9c179e"
             ],
             [
              0.4444444444444444,
              "#bd3786"
             ],
             [
              0.5555555555555556,
              "#d8576b"
             ],
             [
              0.6666666666666666,
              "#ed7953"
             ],
             [
              0.7777777777777778,
              "#fb9f3a"
             ],
             [
              0.8888888888888888,
              "#fdca26"
             ],
             [
              1,
              "#f0f921"
             ]
            ],
            "type": "histogram2d"
           }
          ],
          "histogram2dcontour": [
           {
            "colorbar": {
             "outlinewidth": 0,
             "ticks": ""
            },
            "colorscale": [
             [
              0,
              "#0d0887"
             ],
             [
              0.1111111111111111,
              "#46039f"
             ],
             [
              0.2222222222222222,
              "#7201a8"
             ],
             [
              0.3333333333333333,
              "#9c179e"
             ],
             [
              0.4444444444444444,
              "#bd3786"
             ],
             [
              0.5555555555555556,
              "#d8576b"
             ],
             [
              0.6666666666666666,
              "#ed7953"
             ],
             [
              0.7777777777777778,
              "#fb9f3a"
             ],
             [
              0.8888888888888888,
              "#fdca26"
             ],
             [
              1,
              "#f0f921"
             ]
            ],
            "type": "histogram2dcontour"
           }
          ],
          "mesh3d": [
           {
            "colorbar": {
             "outlinewidth": 0,
             "ticks": ""
            },
            "type": "mesh3d"
           }
          ],
          "parcoords": [
           {
            "line": {
             "colorbar": {
              "outlinewidth": 0,
              "ticks": ""
             }
            },
            "type": "parcoords"
           }
          ],
          "pie": [
           {
            "automargin": true,
            "type": "pie"
           }
          ],
          "scatter": [
           {
            "marker": {
             "colorbar": {
              "outlinewidth": 0,
              "ticks": ""
             }
            },
            "type": "scatter"
           }
          ],
          "scatter3d": [
           {
            "line": {
             "colorbar": {
              "outlinewidth": 0,
              "ticks": ""
             }
            },
            "marker": {
             "colorbar": {
              "outlinewidth": 0,
              "ticks": ""
             }
            },
            "type": "scatter3d"
           }
          ],
          "scattercarpet": [
           {
            "marker": {
             "colorbar": {
              "outlinewidth": 0,
              "ticks": ""
             }
            },
            "type": "scattercarpet"
           }
          ],
          "scattergeo": [
           {
            "marker": {
             "colorbar": {
              "outlinewidth": 0,
              "ticks": ""
             }
            },
            "type": "scattergeo"
           }
          ],
          "scattergl": [
           {
            "marker": {
             "colorbar": {
              "outlinewidth": 0,
              "ticks": ""
             }
            },
            "type": "scattergl"
           }
          ],
          "scattermapbox": [
           {
            "marker": {
             "colorbar": {
              "outlinewidth": 0,
              "ticks": ""
             }
            },
            "type": "scattermapbox"
           }
          ],
          "scatterpolar": [
           {
            "marker": {
             "colorbar": {
              "outlinewidth": 0,
              "ticks": ""
             }
            },
            "type": "scatterpolar"
           }
          ],
          "scatterpolargl": [
           {
            "marker": {
             "colorbar": {
              "outlinewidth": 0,
              "ticks": ""
             }
            },
            "type": "scatterpolargl"
           }
          ],
          "scatterternary": [
           {
            "marker": {
             "colorbar": {
              "outlinewidth": 0,
              "ticks": ""
             }
            },
            "type": "scatterternary"
           }
          ],
          "surface": [
           {
            "colorbar": {
             "outlinewidth": 0,
             "ticks": ""
            },
            "colorscale": [
             [
              0,
              "#0d0887"
             ],
             [
              0.1111111111111111,
              "#46039f"
             ],
             [
              0.2222222222222222,
              "#7201a8"
             ],
             [
              0.3333333333333333,
              "#9c179e"
             ],
             [
              0.4444444444444444,
              "#bd3786"
             ],
             [
              0.5555555555555556,
              "#d8576b"
             ],
             [
              0.6666666666666666,
              "#ed7953"
             ],
             [
              0.7777777777777778,
              "#fb9f3a"
             ],
             [
              0.8888888888888888,
              "#fdca26"
             ],
             [
              1,
              "#f0f921"
             ]
            ],
            "type": "surface"
           }
          ],
          "table": [
           {
            "cells": {
             "fill": {
              "color": "#EBF0F8"
             },
             "line": {
              "color": "white"
             }
            },
            "header": {
             "fill": {
              "color": "#C8D4E3"
             },
             "line": {
              "color": "white"
             }
            },
            "type": "table"
           }
          ]
         },
         "layout": {
          "annotationdefaults": {
           "arrowcolor": "#2a3f5f",
           "arrowhead": 0,
           "arrowwidth": 1
          },
          "autotypenumbers": "strict",
          "coloraxis": {
           "colorbar": {
            "outlinewidth": 0,
            "ticks": ""
           }
          },
          "colorscale": {
           "diverging": [
            [
             0,
             "#8e0152"
            ],
            [
             0.1,
             "#c51b7d"
            ],
            [
             0.2,
             "#de77ae"
            ],
            [
             0.3,
             "#f1b6da"
            ],
            [
             0.4,
             "#fde0ef"
            ],
            [
             0.5,
             "#f7f7f7"
            ],
            [
             0.6,
             "#e6f5d0"
            ],
            [
             0.7,
             "#b8e186"
            ],
            [
             0.8,
             "#7fbc41"
            ],
            [
             0.9,
             "#4d9221"
            ],
            [
             1,
             "#276419"
            ]
           ],
           "sequential": [
            [
             0,
             "#0d0887"
            ],
            [
             0.1111111111111111,
             "#46039f"
            ],
            [
             0.2222222222222222,
             "#7201a8"
            ],
            [
             0.3333333333333333,
             "#9c179e"
            ],
            [
             0.4444444444444444,
             "#bd3786"
            ],
            [
             0.5555555555555556,
             "#d8576b"
            ],
            [
             0.6666666666666666,
             "#ed7953"
            ],
            [
             0.7777777777777778,
             "#fb9f3a"
            ],
            [
             0.8888888888888888,
             "#fdca26"
            ],
            [
             1,
             "#f0f921"
            ]
           ],
           "sequentialminus": [
            [
             0,
             "#0d0887"
            ],
            [
             0.1111111111111111,
             "#46039f"
            ],
            [
             0.2222222222222222,
             "#7201a8"
            ],
            [
             0.3333333333333333,
             "#9c179e"
            ],
            [
             0.4444444444444444,
             "#bd3786"
            ],
            [
             0.5555555555555556,
             "#d8576b"
            ],
            [
             0.6666666666666666,
             "#ed7953"
            ],
            [
             0.7777777777777778,
             "#fb9f3a"
            ],
            [
             0.8888888888888888,
             "#fdca26"
            ],
            [
             1,
             "#f0f921"
            ]
           ]
          },
          "colorway": [
           "#636efa",
           "#EF553B",
           "#00cc96",
           "#ab63fa",
           "#FFA15A",
           "#19d3f3",
           "#FF6692",
           "#B6E880",
           "#FF97FF",
           "#FECB52"
          ],
          "font": {
           "color": "#2a3f5f"
          },
          "geo": {
           "bgcolor": "white",
           "lakecolor": "white",
           "landcolor": "#E5ECF6",
           "showlakes": true,
           "showland": true,
           "subunitcolor": "white"
          },
          "hoverlabel": {
           "align": "left"
          },
          "hovermode": "closest",
          "mapbox": {
           "style": "light"
          },
          "paper_bgcolor": "white",
          "plot_bgcolor": "#E5ECF6",
          "polar": {
           "angularaxis": {
            "gridcolor": "white",
            "linecolor": "white",
            "ticks": ""
           },
           "bgcolor": "#E5ECF6",
           "radialaxis": {
            "gridcolor": "white",
            "linecolor": "white",
            "ticks": ""
           }
          },
          "scene": {
           "xaxis": {
            "backgroundcolor": "#E5ECF6",
            "gridcolor": "white",
            "gridwidth": 2,
            "linecolor": "white",
            "showbackground": true,
            "ticks": "",
            "zerolinecolor": "white"
           },
           "yaxis": {
            "backgroundcolor": "#E5ECF6",
            "gridcolor": "white",
            "gridwidth": 2,
            "linecolor": "white",
            "showbackground": true,
            "ticks": "",
            "zerolinecolor": "white"
           },
           "zaxis": {
            "backgroundcolor": "#E5ECF6",
            "gridcolor": "white",
            "gridwidth": 2,
            "linecolor": "white",
            "showbackground": true,
            "ticks": "",
            "zerolinecolor": "white"
           }
          },
          "shapedefaults": {
           "line": {
            "color": "#2a3f5f"
           }
          },
          "ternary": {
           "aaxis": {
            "gridcolor": "white",
            "linecolor": "white",
            "ticks": ""
           },
           "baxis": {
            "gridcolor": "white",
            "linecolor": "white",
            "ticks": ""
           },
           "bgcolor": "#E5ECF6",
           "caxis": {
            "gridcolor": "white",
            "linecolor": "white",
            "ticks": ""
           }
          },
          "title": {
           "x": 0.05
          },
          "xaxis": {
           "automargin": true,
           "gridcolor": "white",
           "linecolor": "white",
           "ticks": "",
           "title": {
            "standoff": 15
           },
           "zerolinecolor": "white",
           "zerolinewidth": 2
          },
          "yaxis": {
           "automargin": true,
           "gridcolor": "white",
           "linecolor": "white",
           "ticks": "",
           "title": {
            "standoff": 15
           },
           "zerolinecolor": "white",
           "zerolinewidth": 2
          }
         }
        },
        "title": {
         "font": {
          "color": "#4D5663"
         }
        },
        "xaxis": {
         "gridcolor": "#E1E5ED",
         "showgrid": true,
         "tickfont": {
          "color": "#4D5663"
         },
         "title": {
          "font": {
           "color": "#4D5663"
          },
          "text": ""
         },
         "zerolinecolor": "#E1E5ED"
        },
        "xaxis2": {
         "anchor": "y2",
         "gridcolor": "#E1E5ED",
         "showgrid": true,
         "showticklabels": false,
         "tickfont": {
          "color": "#4D5663"
         },
         "title": {
          "font": {
           "color": "#4D5663"
          },
          "text": ""
         },
         "zerolinecolor": "#E1E5ED"
        },
        "yaxis": {
         "domain": [
          0.3,
          1
         ],
         "gridcolor": "#E1E5ED",
         "showgrid": true,
         "tickfont": {
          "color": "#4D5663"
         },
         "title": {
          "font": {
           "color": "#4D5663"
          },
          "text": ""
         },
         "zerolinecolor": "#E1E5ED"
        },
        "yaxis2": {
         "domain": [
          0,
          0.25
         ],
         "gridcolor": "#E1E5ED",
         "showgrid": true,
         "tickfont": {
          "color": "#4D5663"
         },
         "title": {
          "font": {
           "color": "#4D5663"
          },
          "text": "Spread"
         },
         "zerolinecolor": "#E1E5ED"
        }
       }
      },
      "text/html": [
       "<div>                            <div id=\"f0a2c969-70b9-4b58-a7ba-ae97a8266c44\" class=\"plotly-graph-div\" style=\"height:525px; width:100%;\"></div>            <script type=\"text/javascript\">                require([\"plotly\"], function(Plotly) {                    window.PLOTLYENV=window.PLOTLYENV || {};\n",
       "                    window.PLOTLYENV.BASE_URL='https://plot.ly';                                    if (document.getElementById(\"f0a2c969-70b9-4b58-a7ba-ae97a8266c44\")) {                    Plotly.newPlot(                        \"f0a2c969-70b9-4b58-a7ba-ae97a8266c44\",                        [{\"line\":{\"color\":\"rgba(255, 153, 51, 1.0)\",\"dash\":\"solid\",\"shape\":\"linear\",\"width\":1.3},\"mode\":\"lines\",\"name\":\"A\",\"text\":\"\",\"x\":[0,1,2,3,4,5,6,7,8,9,10,11,12,13,14,15,16,17,18,19,20,21,22,23,24,25,26,27,28,29,30,31,32,33,34,35,36,37,38,39,40,41,42,43,44,45,46,47,48,49,50,51,52,53,54,55,56,57,58,59,60,61,62,63,64,65,66,67,68,69,70,71,72,73,74,75,76,77,78,79,80,81,82,83,84,85,86,87,88,89,90,91,92,93,94,95,96,97,98,99],\"y\":[-0.2161184228253383,0.8792932512052545,0.8159294643263392,-0.4635332026275159,1.2480606583511327,1.1636709077699556,0.7922609344528071,-0.487105657576173,0.5421078085365659,0.5700116946872794,0.8239368808080885,-2.025932373181993,-0.7813558580603188,-0.8034398249519679,1.2512029139420504,-0.820332122346455,-1.6512522046007363,1.5682988107869604,-0.0063207362410987915,0.4004905726878128,0.5203258238161681,1.8279603356320633,0.13283157408988597,1.542945359288579,1.6651922182738557,-0.18907056450707943,0.5662895926834438,-0.4460591334360272,-0.5962532719116784,-0.5631527736349463,2.0839310694181905,-0.3747192099598198,0.2469317564261832,-0.4871280695792462,-1.399511059198512,-0.9279823397322188,0.3390474827073605,1.0170979834933276,-0.1348568156422785,1.2344989287853096,-0.273536936893138,0.5969711416695731,-0.5019729300786134,-1.5731701762261463,-0.776546301945367,-0.04443145956515006,-0.8568286686510093,-0.024763966728982578,0.7837974913189243,0.9010994038155039,-0.4730980172755114,0.207587519407055,-0.6771743196350672,1.2863142031525987,1.0405050456937595,0.06872578685904618,0.20037742174726073,0.43338326497446955,-1.1232782954405904,0.40114918501688485,0.5906859056001391,2.966926846259941,-0.23043343271553118,-0.8732939562117886,1.14121108723957,-0.4914311190409125,1.2800135159775534,0.8703759276983618,-0.69160728844988,1.1149661429079787,-1.0368988106557855,-1.856129353554703,0.07728497234778402,-0.5566709010013736,0.0017236191367242851,0.33896141298782556,-0.34634373933597523,-0.4314493717931845,-0.24830094093459376,0.7942439153979056,0.355227483466092,-0.9023647603026724,0.26053844043329494,-1.4960110241555,-0.03606981923271355,0.8973986520322429,0.8765836951666557,0.8099946509436573,-0.2546804984597161,-1.0077879926848405,-1.2867994667714329,1.5576794947939168,0.019057905893780924,-0.5441990567110787,0.49670405962304026,-0.4854564908395615,0.01630221623572593,0.4829915653490035,0.43406524706242366,-0.1857395357813015],\"type\":\"scatter\"},{\"line\":{\"color\":\"rgba(55, 128, 191, 1.0)\",\"dash\":\"solid\",\"shape\":\"linear\",\"width\":1.3},\"mode\":\"lines\",\"name\":\"B\",\"text\":\"\",\"x\":[0,1,2,3,4,5,6,7,8,9,10,11,12,13,14,15,16,17,18,19,20,21,22,23,24,25,26,27,28,29,30,31,32,33,34,35,36,37,38,39,40,41,42,43,44,45,46,47,48,49,50,51,52,53,54,55,56,57,58,59,60,61,62,63,64,65,66,67,68,69,70,71,72,73,74,75,76,77,78,79,80,81,82,83,84,85,86,87,88,89,90,91,92,93,94,95,96,97,98,99],\"y\":[0.6009272176053823,-0.47328375717875815,1.5102796829570875,0.13698648280279452,-0.08207927123680447,1.3807419460829236,0.0008884140464625894,1.6770396104112533,0.3834029797448087,-0.2690010326323169,1.597398260776538,0.7351648892726675,0.10551643845443366,-0.6311209883918225,0.5572390618218849,-0.7738078928039479,0.21116745930062886,0.14078423344846921,-0.4212439874653056,-2.3793733930614014,1.4212147209842563,-0.5812791086667076,-0.9415571482963713,0.6306110755837304,-1.2411071380593497,-0.6046780270124452,-1.0559399304488928,0.42279176280029,-1.226271418081291,-1.131325103094806,-0.8889977036219829,1.2648058753496236,-0.48442636834005676,0.7108960890827798,1.3725402153716952,-0.5675961974427753,0.9253553237255685,-0.5692932152077298,-0.4174221274552496,-0.6979921244017261,-0.3393646826749617,-1.8087896518381883,0.3758793349821352,-0.39199851456008206,0.07117604173337383,-1.213063945919289,0.07552353850305901,-2.4856059003298836,0.451007261823913,-0.2289835339458214,2.120458797452917,-0.6083107357715691,0.3047972548593639,0.8166894152888184,-0.3543723312937055,0.9270475773868493,0.21671452232011124,-1.0860561840875944,-0.9241637527989113,0.6469123061061172,-0.5604065178745599,-1.3026393979314375,-0.40837785458920023,-2.053389222406837,0.452689699599634,-0.5456880220604482,-0.3768008226061331,0.8395805250060749,0.15638033915065708,1.8378173141312133,0.18122406269354446,-0.5802911040274235,-0.9323718692835864,0.4085690155151971,-1.133680474934867,0.36264440141564863,0.39943820817481523,-0.9810313174504565,-1.9976005280155338,1.37253433673606,0.5368407330853499,-0.8077790783101932,1.2122769887218132,-1.0354813312940023,0.7911735578805896,-1.8950724841036661,-0.2987687049820244,-0.6523694211047908,0.3830716691262919,0.6284618766425324,-0.9618366538721196,0.3426388646253289,1.5482473743187941,0.5798472356535777,-2.113126103357163,-1.6964437945831647,1.4718284936317474,-2.0029776122015877,0.8932118075364441,0.34649521334632055],\"type\":\"scatter\"},{\"connectgaps\":false,\"fill\":\"tozeroy\",\"line\":{\"color\":\"green\",\"dash\":\"solid\",\"shape\":\"linear\",\"width\":0.5},\"mode\":\"lines\",\"name\":\"Spread\",\"showlegend\":false,\"x\":[0,1,2,3,4,5,6,7,8,9,10,11,12,13,14,15,16,17,18,19,20,21,22,23,24,25,26,27,28,29,30,31,32,33,34,35,36,37,38,39,40,41,42,43,44,45,46,47,48,49,50,51,52,53,54,55,56,57,58,59,60,61,62,63,64,65,66,67,68,69,70,71,72,73,74,75,76,77,78,79,80,81,82,83,84,85,86,87,88,89,90,91,92,93,94,95,96,97,98,99],\"xaxis\":\"x2\",\"y\":[\"\",1.3525770083840127,\"\",\"\",1.3301399295879373,\"\",0.7913725204063445,\"\",0.15870482879175724,0.8390127273195963,\"\",\"\",\"\",\"\",0.6939638521201655,\"\",\"\",1.4275145773384912,0.4149232512242068,2.779863965749214,\"\",2.409239444298771,1.0743887223862572,0.9123342837048485,2.9062993563332054,0.4156074625053658,1.6222295231323365,\"\",0.6300181461696126,0.5681723294598596,2.9729287730401737,\"\",0.73135812476624,\"\",\"\",\"\",\"\",1.5863911987010573,0.28256531181297107,1.9324910531870358,0.06582774578182371,2.4057607935077616,\"\",\"\",\"\",1.1686324863541389,\"\",2.460841933600901,0.3327902294950113,1.1300829377613253,\"\",0.8158982551786241,\"\",0.46962478786378026,1.394877376987465,\"\",\"\",1.519439449062064,\"\",\"\",1.151092423474699,4.269566244191378,0.17794442187366905,1.1800952661950483,0.688521387639936,0.054256903019535674,1.6568143385836867,0.030795402692286866,\"\",\"\",\"\",\"\",1.0096568416313705,\"\",1.1354040940715913,\"\",\"\",0.5495819456572719,1.74929958708094,\"\",\"\",\"\",\"\",\"\",\"\",2.792471136135909,1.1753524001486801,1.462364072048448,\"\",\"\",\"\",1.2150406301685879,\"\",\"\",2.609830162980203,1.2109873037436032,\"\",2.485969177550591,\"\",\"\"],\"yaxis\":\"y2\",\"type\":\"scatter\"},{\"connectgaps\":false,\"fill\":\"tozeroy\",\"line\":{\"color\":\"red\",\"dash\":\"solid\",\"shape\":\"linear\",\"width\":0.5},\"mode\":\"lines\",\"name\":\"Spread\",\"showlegend\":false,\"x\":[0,1,2,3,4,5,6,7,8,9,10,11,12,13,14,15,16,17,18,19,20,21,22,23,24,25,26,27,28,29,30,31,32,33,34,35,36,37,38,39,40,41,42,43,44,45,46,47,48,49,50,51,52,53,54,55,56,57,58,59,60,61,62,63,64,65,66,67,68,69,70,71,72,73,74,75,76,77,78,79,80,81,82,83,84,85,86,87,88,89,90,91,92,93,94,95,96,97,98,99],\"xaxis\":\"x2\",\"y\":[-0.8170456404307206,\"\",-0.6943502186307483,-0.6005196854303104,\"\",-0.21707103831296792,\"\",-2.1641452679874265,\"\",\"\",-0.7734613799684495,-2.7610972624546606,-0.8868722965147525,-0.17231883656014535,\"\",-0.04652422954250712,-1.862419663901365,\"\",\"\",\"\",-0.9008888971680882,\"\",\"\",\"\",\"\",\"\",\"\",-0.8688508962363173,\"\",\"\",\"\",-1.6395250853094434,\"\",-1.198024158662026,-2.7720512745702073,-0.36038614228944343,-0.586307841018208,\"\",\"\",\"\",\"\",\"\",-0.8778522650607486,-1.1811716616660641,-0.8477223436787409,\"\",-0.9323522071540683,\"\",\"\",\"\",-2.5935568147284287,\"\",-0.9819715744944311,\"\",\"\",-0.8583217905278031,-0.01633710057285051,\"\",-0.19911454264167916,-0.24576312108923232,\"\",\"\",\"\",\"\",\"\",\"\",\"\",\"\",-0.847987627600537,-0.7228511712232346,-1.21812287334933,-1.2758382495272795,\"\",-0.9652399165165707,\"\",-0.02368298842782307,-0.7457819475107905,\"\",\"\",-0.5782904213381544,-0.18161324961925784,-0.09458568199247919,-0.9517385482885183,-0.4605296928614977,-0.8272433771133032,\"\",\"\",\"\",-0.6377521675860081,-1.636249869327373,-0.3249628128993133,\"\",-1.5291894684250131,-1.1240462923646564,\"\",\"\",-1.4555262773960214,\"\",-0.45914656047402047,-0.532234749127622],\"yaxis\":\"y2\",\"type\":\"scatter\"}],                        {\"hovermode\":\"x\",\"legend\":{\"bgcolor\":\"#F5F6F9\",\"font\":{\"color\":\"#4D5663\"}},\"paper_bgcolor\":\"#F5F6F9\",\"plot_bgcolor\":\"#F5F6F9\",\"template\":{\"data\":{\"barpolar\":[{\"marker\":{\"line\":{\"color\":\"#E5ECF6\",\"width\":0.5},\"pattern\":{\"fillmode\":\"overlay\",\"size\":10,\"solidity\":0.2}},\"type\":\"barpolar\"}],\"bar\":[{\"error_x\":{\"color\":\"#2a3f5f\"},\"error_y\":{\"color\":\"#2a3f5f\"},\"marker\":{\"line\":{\"color\":\"#E5ECF6\",\"width\":0.5},\"pattern\":{\"fillmode\":\"overlay\",\"size\":10,\"solidity\":0.2}},\"type\":\"bar\"}],\"carpet\":[{\"aaxis\":{\"endlinecolor\":\"#2a3f5f\",\"gridcolor\":\"white\",\"linecolor\":\"white\",\"minorgridcolor\":\"white\",\"startlinecolor\":\"#2a3f5f\"},\"baxis\":{\"endlinecolor\":\"#2a3f5f\",\"gridcolor\":\"white\",\"linecolor\":\"white\",\"minorgridcolor\":\"white\",\"startlinecolor\":\"#2a3f5f\"},\"type\":\"carpet\"}],\"choropleth\":[{\"colorbar\":{\"outlinewidth\":0,\"ticks\":\"\"},\"type\":\"choropleth\"}],\"contourcarpet\":[{\"colorbar\":{\"outlinewidth\":0,\"ticks\":\"\"},\"type\":\"contourcarpet\"}],\"contour\":[{\"colorbar\":{\"outlinewidth\":0,\"ticks\":\"\"},\"colorscale\":[[0.0,\"#0d0887\"],[0.1111111111111111,\"#46039f\"],[0.2222222222222222,\"#7201a8\"],[0.3333333333333333,\"#9c179e\"],[0.4444444444444444,\"#bd3786\"],[0.5555555555555556,\"#d8576b\"],[0.6666666666666666,\"#ed7953\"],[0.7777777777777778,\"#fb9f3a\"],[0.8888888888888888,\"#fdca26\"],[1.0,\"#f0f921\"]],\"type\":\"contour\"}],\"heatmapgl\":[{\"colorbar\":{\"outlinewidth\":0,\"ticks\":\"\"},\"colorscale\":[[0.0,\"#0d0887\"],[0.1111111111111111,\"#46039f\"],[0.2222222222222222,\"#7201a8\"],[0.3333333333333333,\"#9c179e\"],[0.4444444444444444,\"#bd3786\"],[0.5555555555555556,\"#d8576b\"],[0.6666666666666666,\"#ed7953\"],[0.7777777777777778,\"#fb9f3a\"],[0.8888888888888888,\"#fdca26\"],[1.0,\"#f0f921\"]],\"type\":\"heatmapgl\"}],\"heatmap\":[{\"colorbar\":{\"outlinewidth\":0,\"ticks\":\"\"},\"colorscale\":[[0.0,\"#0d0887\"],[0.1111111111111111,\"#46039f\"],[0.2222222222222222,\"#7201a8\"],[0.3333333333333333,\"#9c179e\"],[0.4444444444444444,\"#bd3786\"],[0.5555555555555556,\"#d8576b\"],[0.6666666666666666,\"#ed7953\"],[0.7777777777777778,\"#fb9f3a\"],[0.8888888888888888,\"#fdca26\"],[1.0,\"#f0f921\"]],\"type\":\"heatmap\"}],\"histogram2dcontour\":[{\"colorbar\":{\"outlinewidth\":0,\"ticks\":\"\"},\"colorscale\":[[0.0,\"#0d0887\"],[0.1111111111111111,\"#46039f\"],[0.2222222222222222,\"#7201a8\"],[0.3333333333333333,\"#9c179e\"],[0.4444444444444444,\"#bd3786\"],[0.5555555555555556,\"#d8576b\"],[0.6666666666666666,\"#ed7953\"],[0.7777777777777778,\"#fb9f3a\"],[0.8888888888888888,\"#fdca26\"],[1.0,\"#f0f921\"]],\"type\":\"histogram2dcontour\"}],\"histogram2d\":[{\"colorbar\":{\"outlinewidth\":0,\"ticks\":\"\"},\"colorscale\":[[0.0,\"#0d0887\"],[0.1111111111111111,\"#46039f\"],[0.2222222222222222,\"#7201a8\"],[0.3333333333333333,\"#9c179e\"],[0.4444444444444444,\"#bd3786\"],[0.5555555555555556,\"#d8576b\"],[0.6666666666666666,\"#ed7953\"],[0.7777777777777778,\"#fb9f3a\"],[0.8888888888888888,\"#fdca26\"],[1.0,\"#f0f921\"]],\"type\":\"histogram2d\"}],\"histogram\":[{\"marker\":{\"pattern\":{\"fillmode\":\"overlay\",\"size\":10,\"solidity\":0.2}},\"type\":\"histogram\"}],\"mesh3d\":[{\"colorbar\":{\"outlinewidth\":0,\"ticks\":\"\"},\"type\":\"mesh3d\"}],\"parcoords\":[{\"line\":{\"colorbar\":{\"outlinewidth\":0,\"ticks\":\"\"}},\"type\":\"parcoords\"}],\"pie\":[{\"automargin\":true,\"type\":\"pie\"}],\"scatter3d\":[{\"line\":{\"colorbar\":{\"outlinewidth\":0,\"ticks\":\"\"}},\"marker\":{\"colorbar\":{\"outlinewidth\":0,\"ticks\":\"\"}},\"type\":\"scatter3d\"}],\"scattercarpet\":[{\"marker\":{\"colorbar\":{\"outlinewidth\":0,\"ticks\":\"\"}},\"type\":\"scattercarpet\"}],\"scattergeo\":[{\"marker\":{\"colorbar\":{\"outlinewidth\":0,\"ticks\":\"\"}},\"type\":\"scattergeo\"}],\"scattergl\":[{\"marker\":{\"colorbar\":{\"outlinewidth\":0,\"ticks\":\"\"}},\"type\":\"scattergl\"}],\"scattermapbox\":[{\"marker\":{\"colorbar\":{\"outlinewidth\":0,\"ticks\":\"\"}},\"type\":\"scattermapbox\"}],\"scatterpolargl\":[{\"marker\":{\"colorbar\":{\"outlinewidth\":0,\"ticks\":\"\"}},\"type\":\"scatterpolargl\"}],\"scatterpolar\":[{\"marker\":{\"colorbar\":{\"outlinewidth\":0,\"ticks\":\"\"}},\"type\":\"scatterpolar\"}],\"scatter\":[{\"marker\":{\"colorbar\":{\"outlinewidth\":0,\"ticks\":\"\"}},\"type\":\"scatter\"}],\"scatterternary\":[{\"marker\":{\"colorbar\":{\"outlinewidth\":0,\"ticks\":\"\"}},\"type\":\"scatterternary\"}],\"surface\":[{\"colorbar\":{\"outlinewidth\":0,\"ticks\":\"\"},\"colorscale\":[[0.0,\"#0d0887\"],[0.1111111111111111,\"#46039f\"],[0.2222222222222222,\"#7201a8\"],[0.3333333333333333,\"#9c179e\"],[0.4444444444444444,\"#bd3786\"],[0.5555555555555556,\"#d8576b\"],[0.6666666666666666,\"#ed7953\"],[0.7777777777777778,\"#fb9f3a\"],[0.8888888888888888,\"#fdca26\"],[1.0,\"#f0f921\"]],\"type\":\"surface\"}],\"table\":[{\"cells\":{\"fill\":{\"color\":\"#EBF0F8\"},\"line\":{\"color\":\"white\"}},\"header\":{\"fill\":{\"color\":\"#C8D4E3\"},\"line\":{\"color\":\"white\"}},\"type\":\"table\"}]},\"layout\":{\"annotationdefaults\":{\"arrowcolor\":\"#2a3f5f\",\"arrowhead\":0,\"arrowwidth\":1},\"autotypenumbers\":\"strict\",\"coloraxis\":{\"colorbar\":{\"outlinewidth\":0,\"ticks\":\"\"}},\"colorscale\":{\"diverging\":[[0,\"#8e0152\"],[0.1,\"#c51b7d\"],[0.2,\"#de77ae\"],[0.3,\"#f1b6da\"],[0.4,\"#fde0ef\"],[0.5,\"#f7f7f7\"],[0.6,\"#e6f5d0\"],[0.7,\"#b8e186\"],[0.8,\"#7fbc41\"],[0.9,\"#4d9221\"],[1,\"#276419\"]],\"sequential\":[[0.0,\"#0d0887\"],[0.1111111111111111,\"#46039f\"],[0.2222222222222222,\"#7201a8\"],[0.3333333333333333,\"#9c179e\"],[0.4444444444444444,\"#bd3786\"],[0.5555555555555556,\"#d8576b\"],[0.6666666666666666,\"#ed7953\"],[0.7777777777777778,\"#fb9f3a\"],[0.8888888888888888,\"#fdca26\"],[1.0,\"#f0f921\"]],\"sequentialminus\":[[0.0,\"#0d0887\"],[0.1111111111111111,\"#46039f\"],[0.2222222222222222,\"#7201a8\"],[0.3333333333333333,\"#9c179e\"],[0.4444444444444444,\"#bd3786\"],[0.5555555555555556,\"#d8576b\"],[0.6666666666666666,\"#ed7953\"],[0.7777777777777778,\"#fb9f3a\"],[0.8888888888888888,\"#fdca26\"],[1.0,\"#f0f921\"]]},\"colorway\":[\"#636efa\",\"#EF553B\",\"#00cc96\",\"#ab63fa\",\"#FFA15A\",\"#19d3f3\",\"#FF6692\",\"#B6E880\",\"#FF97FF\",\"#FECB52\"],\"font\":{\"color\":\"#2a3f5f\"},\"geo\":{\"bgcolor\":\"white\",\"lakecolor\":\"white\",\"landcolor\":\"#E5ECF6\",\"showlakes\":true,\"showland\":true,\"subunitcolor\":\"white\"},\"hoverlabel\":{\"align\":\"left\"},\"hovermode\":\"closest\",\"mapbox\":{\"style\":\"light\"},\"paper_bgcolor\":\"white\",\"plot_bgcolor\":\"#E5ECF6\",\"polar\":{\"angularaxis\":{\"gridcolor\":\"white\",\"linecolor\":\"white\",\"ticks\":\"\"},\"bgcolor\":\"#E5ECF6\",\"radialaxis\":{\"gridcolor\":\"white\",\"linecolor\":\"white\",\"ticks\":\"\"}},\"scene\":{\"xaxis\":{\"backgroundcolor\":\"#E5ECF6\",\"gridcolor\":\"white\",\"gridwidth\":2,\"linecolor\":\"white\",\"showbackground\":true,\"ticks\":\"\",\"zerolinecolor\":\"white\"},\"yaxis\":{\"backgroundcolor\":\"#E5ECF6\",\"gridcolor\":\"white\",\"gridwidth\":2,\"linecolor\":\"white\",\"showbackground\":true,\"ticks\":\"\",\"zerolinecolor\":\"white\"},\"zaxis\":{\"backgroundcolor\":\"#E5ECF6\",\"gridcolor\":\"white\",\"gridwidth\":2,\"linecolor\":\"white\",\"showbackground\":true,\"ticks\":\"\",\"zerolinecolor\":\"white\"}},\"shapedefaults\":{\"line\":{\"color\":\"#2a3f5f\"}},\"ternary\":{\"aaxis\":{\"gridcolor\":\"white\",\"linecolor\":\"white\",\"ticks\":\"\"},\"baxis\":{\"gridcolor\":\"white\",\"linecolor\":\"white\",\"ticks\":\"\"},\"bgcolor\":\"#E5ECF6\",\"caxis\":{\"gridcolor\":\"white\",\"linecolor\":\"white\",\"ticks\":\"\"}},\"title\":{\"x\":0.05},\"xaxis\":{\"automargin\":true,\"gridcolor\":\"white\",\"linecolor\":\"white\",\"ticks\":\"\",\"title\":{\"standoff\":15},\"zerolinecolor\":\"white\",\"zerolinewidth\":2},\"yaxis\":{\"automargin\":true,\"gridcolor\":\"white\",\"linecolor\":\"white\",\"ticks\":\"\",\"title\":{\"standoff\":15},\"zerolinecolor\":\"white\",\"zerolinewidth\":2}}},\"title\":{\"font\":{\"color\":\"#4D5663\"}},\"xaxis\":{\"gridcolor\":\"#E1E5ED\",\"showgrid\":true,\"tickfont\":{\"color\":\"#4D5663\"},\"title\":{\"font\":{\"color\":\"#4D5663\"},\"text\":\"\"},\"zerolinecolor\":\"#E1E5ED\"},\"yaxis\":{\"domain\":[0.3,1],\"gridcolor\":\"#E1E5ED\",\"showgrid\":true,\"tickfont\":{\"color\":\"#4D5663\"},\"title\":{\"font\":{\"color\":\"#4D5663\"},\"text\":\"\"},\"zerolinecolor\":\"#E1E5ED\"},\"yaxis2\":{\"domain\":[0,0.25],\"gridcolor\":\"#E1E5ED\",\"showgrid\":true,\"tickfont\":{\"color\":\"#4D5663\"},\"title\":{\"font\":{\"color\":\"#4D5663\"},\"text\":\"Spread\"},\"zerolinecolor\":\"#E1E5ED\"},\"xaxis2\":{\"anchor\":\"y2\",\"gridcolor\":\"#E1E5ED\",\"showgrid\":true,\"showticklabels\":false,\"tickfont\":{\"color\":\"#4D5663\"},\"title\":{\"font\":{\"color\":\"#4D5663\"},\"text\":\"\"},\"zerolinecolor\":\"#E1E5ED\"}},                        {\"showLink\": true, \"linkText\": \"Export to plot.ly\", \"plotlyServerURL\": \"https://plot.ly\", \"responsive\": true}                    ).then(function(){\n",
       "                            \n",
       "var gd = document.getElementById('f0a2c969-70b9-4b58-a7ba-ae97a8266c44');\n",
       "var x = new MutationObserver(function (mutations, observer) {{\n",
       "        var display = window.getComputedStyle(gd).display;\n",
       "        if (!display || display === 'none') {{\n",
       "            console.log([gd, 'removed!']);\n",
       "            Plotly.purge(gd);\n",
       "            observer.disconnect();\n",
       "        }}\n",
       "}});\n",
       "\n",
       "// Listen for the removal of the full notebook cells\n",
       "var notebookContainer = gd.closest('#notebook-container');\n",
       "if (notebookContainer) {{\n",
       "    x.observe(notebookContainer, {childList: true});\n",
       "}}\n",
       "\n",
       "// Listen for the clearing of the current output cell\n",
       "var outputEl = gd.closest('.output');\n",
       "if (outputEl) {{\n",
       "    x.observe(outputEl, {childList: true});\n",
       "}}\n",
       "\n",
       "                        })                };                });            </script>        </div>"
      ]
     },
     "metadata": {},
     "output_type": "display_data"
    }
   ],
   "source": [
    "df[['A','B']].iplot(kind = 'spread')"
   ]
  },
  {
   "cell_type": "markdown",
   "id": "1d5fea4d",
   "metadata": {},
   "source": [
    "# Histogram"
   ]
  },
  {
   "cell_type": "code",
   "execution_count": 19,
   "id": "9cafab00",
   "metadata": {},
   "outputs": [
    {
     "data": {
      "application/vnd.plotly.v1+json": {
       "config": {
        "linkText": "Export to plot.ly",
        "plotlyServerURL": "https://plot.ly",
        "showLink": true
       },
       "data": [
        {
         "histfunc": "count",
         "histnorm": "",
         "marker": {
          "color": "rgba(255, 153, 51, 1.0)",
          "line": {
           "color": "#4D5663",
           "width": 1.3
          }
         },
         "name": "A",
         "nbinsx": 50,
         "opacity": 0.8,
         "orientation": "v",
         "type": "histogram",
         "x": [
          -0.2161184228253383,
          0.8792932512052545,
          0.8159294643263392,
          -0.4635332026275159,
          1.2480606583511327,
          1.1636709077699556,
          0.7922609344528071,
          -0.487105657576173,
          0.5421078085365659,
          0.5700116946872794,
          0.8239368808080885,
          -2.025932373181993,
          -0.7813558580603188,
          -0.8034398249519679,
          1.2512029139420504,
          -0.820332122346455,
          -1.6512522046007363,
          1.5682988107869604,
          -0.0063207362410987915,
          0.4004905726878128,
          0.5203258238161681,
          1.8279603356320633,
          0.13283157408988597,
          1.542945359288579,
          1.6651922182738557,
          -0.18907056450707943,
          0.5662895926834438,
          -0.4460591334360272,
          -0.5962532719116784,
          -0.5631527736349463,
          2.0839310694181905,
          -0.3747192099598198,
          0.2469317564261832,
          -0.4871280695792462,
          -1.399511059198512,
          -0.9279823397322188,
          0.3390474827073605,
          1.0170979834933276,
          -0.1348568156422785,
          1.2344989287853096,
          -0.273536936893138,
          0.5969711416695731,
          -0.5019729300786134,
          -1.5731701762261463,
          -0.776546301945367,
          -0.04443145956515006,
          -0.8568286686510093,
          -0.024763966728982578,
          0.7837974913189243,
          0.9010994038155039,
          -0.4730980172755114,
          0.207587519407055,
          -0.6771743196350672,
          1.2863142031525987,
          1.0405050456937595,
          0.06872578685904618,
          0.20037742174726073,
          0.43338326497446955,
          -1.1232782954405904,
          0.40114918501688485,
          0.5906859056001391,
          2.966926846259941,
          -0.23043343271553118,
          -0.8732939562117886,
          1.14121108723957,
          -0.4914311190409125,
          1.2800135159775534,
          0.8703759276983618,
          -0.69160728844988,
          1.1149661429079787,
          -1.0368988106557855,
          -1.856129353554703,
          0.07728497234778402,
          -0.5566709010013736,
          0.0017236191367242851,
          0.33896141298782556,
          -0.34634373933597523,
          -0.4314493717931845,
          -0.24830094093459376,
          0.7942439153979056,
          0.355227483466092,
          -0.9023647603026724,
          0.26053844043329494,
          -1.4960110241555,
          -0.03606981923271355,
          0.8973986520322429,
          0.8765836951666557,
          0.8099946509436573,
          -0.2546804984597161,
          -1.0077879926848405,
          -1.2867994667714329,
          1.5576794947939168,
          0.019057905893780924,
          -0.5441990567110787,
          0.49670405962304026,
          -0.4854564908395615,
          0.01630221623572593,
          0.4829915653490035,
          0.43406524706242366,
          -0.1857395357813015
         ]
        }
       ],
       "layout": {
        "barmode": "overlay",
        "legend": {
         "bgcolor": "#F5F6F9",
         "font": {
          "color": "#4D5663"
         }
        },
        "paper_bgcolor": "#F5F6F9",
        "plot_bgcolor": "#F5F6F9",
        "template": {
         "data": {
          "bar": [
           {
            "error_x": {
             "color": "#2a3f5f"
            },
            "error_y": {
             "color": "#2a3f5f"
            },
            "marker": {
             "line": {
              "color": "#E5ECF6",
              "width": 0.5
             },
             "pattern": {
              "fillmode": "overlay",
              "size": 10,
              "solidity": 0.2
             }
            },
            "type": "bar"
           }
          ],
          "barpolar": [
           {
            "marker": {
             "line": {
              "color": "#E5ECF6",
              "width": 0.5
             },
             "pattern": {
              "fillmode": "overlay",
              "size": 10,
              "solidity": 0.2
             }
            },
            "type": "barpolar"
           }
          ],
          "carpet": [
           {
            "aaxis": {
             "endlinecolor": "#2a3f5f",
             "gridcolor": "white",
             "linecolor": "white",
             "minorgridcolor": "white",
             "startlinecolor": "#2a3f5f"
            },
            "baxis": {
             "endlinecolor": "#2a3f5f",
             "gridcolor": "white",
             "linecolor": "white",
             "minorgridcolor": "white",
             "startlinecolor": "#2a3f5f"
            },
            "type": "carpet"
           }
          ],
          "choropleth": [
           {
            "colorbar": {
             "outlinewidth": 0,
             "ticks": ""
            },
            "type": "choropleth"
           }
          ],
          "contour": [
           {
            "colorbar": {
             "outlinewidth": 0,
             "ticks": ""
            },
            "colorscale": [
             [
              0,
              "#0d0887"
             ],
             [
              0.1111111111111111,
              "#46039f"
             ],
             [
              0.2222222222222222,
              "#7201a8"
             ],
             [
              0.3333333333333333,
              "#9c179e"
             ],
             [
              0.4444444444444444,
              "#bd3786"
             ],
             [
              0.5555555555555556,
              "#d8576b"
             ],
             [
              0.6666666666666666,
              "#ed7953"
             ],
             [
              0.7777777777777778,
              "#fb9f3a"
             ],
             [
              0.8888888888888888,
              "#fdca26"
             ],
             [
              1,
              "#f0f921"
             ]
            ],
            "type": "contour"
           }
          ],
          "contourcarpet": [
           {
            "colorbar": {
             "outlinewidth": 0,
             "ticks": ""
            },
            "type": "contourcarpet"
           }
          ],
          "heatmap": [
           {
            "colorbar": {
             "outlinewidth": 0,
             "ticks": ""
            },
            "colorscale": [
             [
              0,
              "#0d0887"
             ],
             [
              0.1111111111111111,
              "#46039f"
             ],
             [
              0.2222222222222222,
              "#7201a8"
             ],
             [
              0.3333333333333333,
              "#9c179e"
             ],
             [
              0.4444444444444444,
              "#bd3786"
             ],
             [
              0.5555555555555556,
              "#d8576b"
             ],
             [
              0.6666666666666666,
              "#ed7953"
             ],
             [
              0.7777777777777778,
              "#fb9f3a"
             ],
             [
              0.8888888888888888,
              "#fdca26"
             ],
             [
              1,
              "#f0f921"
             ]
            ],
            "type": "heatmap"
           }
          ],
          "heatmapgl": [
           {
            "colorbar": {
             "outlinewidth": 0,
             "ticks": ""
            },
            "colorscale": [
             [
              0,
              "#0d0887"
             ],
             [
              0.1111111111111111,
              "#46039f"
             ],
             [
              0.2222222222222222,
              "#7201a8"
             ],
             [
              0.3333333333333333,
              "#9c179e"
             ],
             [
              0.4444444444444444,
              "#bd3786"
             ],
             [
              0.5555555555555556,
              "#d8576b"
             ],
             [
              0.6666666666666666,
              "#ed7953"
             ],
             [
              0.7777777777777778,
              "#fb9f3a"
             ],
             [
              0.8888888888888888,
              "#fdca26"
             ],
             [
              1,
              "#f0f921"
             ]
            ],
            "type": "heatmapgl"
           }
          ],
          "histogram": [
           {
            "marker": {
             "pattern": {
              "fillmode": "overlay",
              "size": 10,
              "solidity": 0.2
             }
            },
            "type": "histogram"
           }
          ],
          "histogram2d": [
           {
            "colorbar": {
             "outlinewidth": 0,
             "ticks": ""
            },
            "colorscale": [
             [
              0,
              "#0d0887"
             ],
             [
              0.1111111111111111,
              "#46039f"
             ],
             [
              0.2222222222222222,
              "#7201a8"
             ],
             [
              0.3333333333333333,
              "#9c179e"
             ],
             [
              0.4444444444444444,
              "#bd3786"
             ],
             [
              0.5555555555555556,
              "#d8576b"
             ],
             [
              0.6666666666666666,
              "#ed7953"
             ],
             [
              0.7777777777777778,
              "#fb9f3a"
             ],
             [
              0.8888888888888888,
              "#fdca26"
             ],
             [
              1,
              "#f0f921"
             ]
            ],
            "type": "histogram2d"
           }
          ],
          "histogram2dcontour": [
           {
            "colorbar": {
             "outlinewidth": 0,
             "ticks": ""
            },
            "colorscale": [
             [
              0,
              "#0d0887"
             ],
             [
              0.1111111111111111,
              "#46039f"
             ],
             [
              0.2222222222222222,
              "#7201a8"
             ],
             [
              0.3333333333333333,
              "#9c179e"
             ],
             [
              0.4444444444444444,
              "#bd3786"
             ],
             [
              0.5555555555555556,
              "#d8576b"
             ],
             [
              0.6666666666666666,
              "#ed7953"
             ],
             [
              0.7777777777777778,
              "#fb9f3a"
             ],
             [
              0.8888888888888888,
              "#fdca26"
             ],
             [
              1,
              "#f0f921"
             ]
            ],
            "type": "histogram2dcontour"
           }
          ],
          "mesh3d": [
           {
            "colorbar": {
             "outlinewidth": 0,
             "ticks": ""
            },
            "type": "mesh3d"
           }
          ],
          "parcoords": [
           {
            "line": {
             "colorbar": {
              "outlinewidth": 0,
              "ticks": ""
             }
            },
            "type": "parcoords"
           }
          ],
          "pie": [
           {
            "automargin": true,
            "type": "pie"
           }
          ],
          "scatter": [
           {
            "marker": {
             "colorbar": {
              "outlinewidth": 0,
              "ticks": ""
             }
            },
            "type": "scatter"
           }
          ],
          "scatter3d": [
           {
            "line": {
             "colorbar": {
              "outlinewidth": 0,
              "ticks": ""
             }
            },
            "marker": {
             "colorbar": {
              "outlinewidth": 0,
              "ticks": ""
             }
            },
            "type": "scatter3d"
           }
          ],
          "scattercarpet": [
           {
            "marker": {
             "colorbar": {
              "outlinewidth": 0,
              "ticks": ""
             }
            },
            "type": "scattercarpet"
           }
          ],
          "scattergeo": [
           {
            "marker": {
             "colorbar": {
              "outlinewidth": 0,
              "ticks": ""
             }
            },
            "type": "scattergeo"
           }
          ],
          "scattergl": [
           {
            "marker": {
             "colorbar": {
              "outlinewidth": 0,
              "ticks": ""
             }
            },
            "type": "scattergl"
           }
          ],
          "scattermapbox": [
           {
            "marker": {
             "colorbar": {
              "outlinewidth": 0,
              "ticks": ""
             }
            },
            "type": "scattermapbox"
           }
          ],
          "scatterpolar": [
           {
            "marker": {
             "colorbar": {
              "outlinewidth": 0,
              "ticks": ""
             }
            },
            "type": "scatterpolar"
           }
          ],
          "scatterpolargl": [
           {
            "marker": {
             "colorbar": {
              "outlinewidth": 0,
              "ticks": ""
             }
            },
            "type": "scatterpolargl"
           }
          ],
          "scatterternary": [
           {
            "marker": {
             "colorbar": {
              "outlinewidth": 0,
              "ticks": ""
             }
            },
            "type": "scatterternary"
           }
          ],
          "surface": [
           {
            "colorbar": {
             "outlinewidth": 0,
             "ticks": ""
            },
            "colorscale": [
             [
              0,
              "#0d0887"
             ],
             [
              0.1111111111111111,
              "#46039f"
             ],
             [
              0.2222222222222222,
              "#7201a8"
             ],
             [
              0.3333333333333333,
              "#9c179e"
             ],
             [
              0.4444444444444444,
              "#bd3786"
             ],
             [
              0.5555555555555556,
              "#d8576b"
             ],
             [
              0.6666666666666666,
              "#ed7953"
             ],
             [
              0.7777777777777778,
              "#fb9f3a"
             ],
             [
              0.8888888888888888,
              "#fdca26"
             ],
             [
              1,
              "#f0f921"
             ]
            ],
            "type": "surface"
           }
          ],
          "table": [
           {
            "cells": {
             "fill": {
              "color": "#EBF0F8"
             },
             "line": {
              "color": "white"
             }
            },
            "header": {
             "fill": {
              "color": "#C8D4E3"
             },
             "line": {
              "color": "white"
             }
            },
            "type": "table"
           }
          ]
         },
         "layout": {
          "annotationdefaults": {
           "arrowcolor": "#2a3f5f",
           "arrowhead": 0,
           "arrowwidth": 1
          },
          "autotypenumbers": "strict",
          "coloraxis": {
           "colorbar": {
            "outlinewidth": 0,
            "ticks": ""
           }
          },
          "colorscale": {
           "diverging": [
            [
             0,
             "#8e0152"
            ],
            [
             0.1,
             "#c51b7d"
            ],
            [
             0.2,
             "#de77ae"
            ],
            [
             0.3,
             "#f1b6da"
            ],
            [
             0.4,
             "#fde0ef"
            ],
            [
             0.5,
             "#f7f7f7"
            ],
            [
             0.6,
             "#e6f5d0"
            ],
            [
             0.7,
             "#b8e186"
            ],
            [
             0.8,
             "#7fbc41"
            ],
            [
             0.9,
             "#4d9221"
            ],
            [
             1,
             "#276419"
            ]
           ],
           "sequential": [
            [
             0,
             "#0d0887"
            ],
            [
             0.1111111111111111,
             "#46039f"
            ],
            [
             0.2222222222222222,
             "#7201a8"
            ],
            [
             0.3333333333333333,
             "#9c179e"
            ],
            [
             0.4444444444444444,
             "#bd3786"
            ],
            [
             0.5555555555555556,
             "#d8576b"
            ],
            [
             0.6666666666666666,
             "#ed7953"
            ],
            [
             0.7777777777777778,
             "#fb9f3a"
            ],
            [
             0.8888888888888888,
             "#fdca26"
            ],
            [
             1,
             "#f0f921"
            ]
           ],
           "sequentialminus": [
            [
             0,
             "#0d0887"
            ],
            [
             0.1111111111111111,
             "#46039f"
            ],
            [
             0.2222222222222222,
             "#7201a8"
            ],
            [
             0.3333333333333333,
             "#9c179e"
            ],
            [
             0.4444444444444444,
             "#bd3786"
            ],
            [
             0.5555555555555556,
             "#d8576b"
            ],
            [
             0.6666666666666666,
             "#ed7953"
            ],
            [
             0.7777777777777778,
             "#fb9f3a"
            ],
            [
             0.8888888888888888,
             "#fdca26"
            ],
            [
             1,
             "#f0f921"
            ]
           ]
          },
          "colorway": [
           "#636efa",
           "#EF553B",
           "#00cc96",
           "#ab63fa",
           "#FFA15A",
           "#19d3f3",
           "#FF6692",
           "#B6E880",
           "#FF97FF",
           "#FECB52"
          ],
          "font": {
           "color": "#2a3f5f"
          },
          "geo": {
           "bgcolor": "white",
           "lakecolor": "white",
           "landcolor": "#E5ECF6",
           "showlakes": true,
           "showland": true,
           "subunitcolor": "white"
          },
          "hoverlabel": {
           "align": "left"
          },
          "hovermode": "closest",
          "mapbox": {
           "style": "light"
          },
          "paper_bgcolor": "white",
          "plot_bgcolor": "#E5ECF6",
          "polar": {
           "angularaxis": {
            "gridcolor": "white",
            "linecolor": "white",
            "ticks": ""
           },
           "bgcolor": "#E5ECF6",
           "radialaxis": {
            "gridcolor": "white",
            "linecolor": "white",
            "ticks": ""
           }
          },
          "scene": {
           "xaxis": {
            "backgroundcolor": "#E5ECF6",
            "gridcolor": "white",
            "gridwidth": 2,
            "linecolor": "white",
            "showbackground": true,
            "ticks": "",
            "zerolinecolor": "white"
           },
           "yaxis": {
            "backgroundcolor": "#E5ECF6",
            "gridcolor": "white",
            "gridwidth": 2,
            "linecolor": "white",
            "showbackground": true,
            "ticks": "",
            "zerolinecolor": "white"
           },
           "zaxis": {
            "backgroundcolor": "#E5ECF6",
            "gridcolor": "white",
            "gridwidth": 2,
            "linecolor": "white",
            "showbackground": true,
            "ticks": "",
            "zerolinecolor": "white"
           }
          },
          "shapedefaults": {
           "line": {
            "color": "#2a3f5f"
           }
          },
          "ternary": {
           "aaxis": {
            "gridcolor": "white",
            "linecolor": "white",
            "ticks": ""
           },
           "baxis": {
            "gridcolor": "white",
            "linecolor": "white",
            "ticks": ""
           },
           "bgcolor": "#E5ECF6",
           "caxis": {
            "gridcolor": "white",
            "linecolor": "white",
            "ticks": ""
           }
          },
          "title": {
           "x": 0.05
          },
          "xaxis": {
           "automargin": true,
           "gridcolor": "white",
           "linecolor": "white",
           "ticks": "",
           "title": {
            "standoff": 15
           },
           "zerolinecolor": "white",
           "zerolinewidth": 2
          },
          "yaxis": {
           "automargin": true,
           "gridcolor": "white",
           "linecolor": "white",
           "ticks": "",
           "title": {
            "standoff": 15
           },
           "zerolinecolor": "white",
           "zerolinewidth": 2
          }
         }
        },
        "title": {
         "font": {
          "color": "#4D5663"
         }
        },
        "xaxis": {
         "gridcolor": "#E1E5ED",
         "showgrid": true,
         "tickfont": {
          "color": "#4D5663"
         },
         "title": {
          "font": {
           "color": "#4D5663"
          },
          "text": ""
         },
         "zerolinecolor": "#E1E5ED"
        },
        "yaxis": {
         "gridcolor": "#E1E5ED",
         "showgrid": true,
         "tickfont": {
          "color": "#4D5663"
         },
         "title": {
          "font": {
           "color": "#4D5663"
          },
          "text": ""
         },
         "zerolinecolor": "#E1E5ED"
        }
       }
      },
      "text/html": [
       "<div>                            <div id=\"a7fc5416-8242-44ab-80d1-be716f9840af\" class=\"plotly-graph-div\" style=\"height:525px; width:100%;\"></div>            <script type=\"text/javascript\">                require([\"plotly\"], function(Plotly) {                    window.PLOTLYENV=window.PLOTLYENV || {};\n",
       "                    window.PLOTLYENV.BASE_URL='https://plot.ly';                                    if (document.getElementById(\"a7fc5416-8242-44ab-80d1-be716f9840af\")) {                    Plotly.newPlot(                        \"a7fc5416-8242-44ab-80d1-be716f9840af\",                        [{\"histfunc\":\"count\",\"histnorm\":\"\",\"marker\":{\"color\":\"rgba(255, 153, 51, 1.0)\",\"line\":{\"color\":\"#4D5663\",\"width\":1.3}},\"name\":\"A\",\"nbinsx\":50,\"opacity\":0.8,\"orientation\":\"v\",\"x\":[-0.2161184228253383,0.8792932512052545,0.8159294643263392,-0.4635332026275159,1.2480606583511327,1.1636709077699556,0.7922609344528071,-0.487105657576173,0.5421078085365659,0.5700116946872794,0.8239368808080885,-2.025932373181993,-0.7813558580603188,-0.8034398249519679,1.2512029139420504,-0.820332122346455,-1.6512522046007363,1.5682988107869604,-0.0063207362410987915,0.4004905726878128,0.5203258238161681,1.8279603356320633,0.13283157408988597,1.542945359288579,1.6651922182738557,-0.18907056450707943,0.5662895926834438,-0.4460591334360272,-0.5962532719116784,-0.5631527736349463,2.0839310694181905,-0.3747192099598198,0.2469317564261832,-0.4871280695792462,-1.399511059198512,-0.9279823397322188,0.3390474827073605,1.0170979834933276,-0.1348568156422785,1.2344989287853096,-0.273536936893138,0.5969711416695731,-0.5019729300786134,-1.5731701762261463,-0.776546301945367,-0.04443145956515006,-0.8568286686510093,-0.024763966728982578,0.7837974913189243,0.9010994038155039,-0.4730980172755114,0.207587519407055,-0.6771743196350672,1.2863142031525987,1.0405050456937595,0.06872578685904618,0.20037742174726073,0.43338326497446955,-1.1232782954405904,0.40114918501688485,0.5906859056001391,2.966926846259941,-0.23043343271553118,-0.8732939562117886,1.14121108723957,-0.4914311190409125,1.2800135159775534,0.8703759276983618,-0.69160728844988,1.1149661429079787,-1.0368988106557855,-1.856129353554703,0.07728497234778402,-0.5566709010013736,0.0017236191367242851,0.33896141298782556,-0.34634373933597523,-0.4314493717931845,-0.24830094093459376,0.7942439153979056,0.355227483466092,-0.9023647603026724,0.26053844043329494,-1.4960110241555,-0.03606981923271355,0.8973986520322429,0.8765836951666557,0.8099946509436573,-0.2546804984597161,-1.0077879926848405,-1.2867994667714329,1.5576794947939168,0.019057905893780924,-0.5441990567110787,0.49670405962304026,-0.4854564908395615,0.01630221623572593,0.4829915653490035,0.43406524706242366,-0.1857395357813015],\"type\":\"histogram\"}],                        {\"barmode\":\"overlay\",\"legend\":{\"bgcolor\":\"#F5F6F9\",\"font\":{\"color\":\"#4D5663\"}},\"paper_bgcolor\":\"#F5F6F9\",\"plot_bgcolor\":\"#F5F6F9\",\"template\":{\"data\":{\"barpolar\":[{\"marker\":{\"line\":{\"color\":\"#E5ECF6\",\"width\":0.5},\"pattern\":{\"fillmode\":\"overlay\",\"size\":10,\"solidity\":0.2}},\"type\":\"barpolar\"}],\"bar\":[{\"error_x\":{\"color\":\"#2a3f5f\"},\"error_y\":{\"color\":\"#2a3f5f\"},\"marker\":{\"line\":{\"color\":\"#E5ECF6\",\"width\":0.5},\"pattern\":{\"fillmode\":\"overlay\",\"size\":10,\"solidity\":0.2}},\"type\":\"bar\"}],\"carpet\":[{\"aaxis\":{\"endlinecolor\":\"#2a3f5f\",\"gridcolor\":\"white\",\"linecolor\":\"white\",\"minorgridcolor\":\"white\",\"startlinecolor\":\"#2a3f5f\"},\"baxis\":{\"endlinecolor\":\"#2a3f5f\",\"gridcolor\":\"white\",\"linecolor\":\"white\",\"minorgridcolor\":\"white\",\"startlinecolor\":\"#2a3f5f\"},\"type\":\"carpet\"}],\"choropleth\":[{\"colorbar\":{\"outlinewidth\":0,\"ticks\":\"\"},\"type\":\"choropleth\"}],\"contourcarpet\":[{\"colorbar\":{\"outlinewidth\":0,\"ticks\":\"\"},\"type\":\"contourcarpet\"}],\"contour\":[{\"colorbar\":{\"outlinewidth\":0,\"ticks\":\"\"},\"colorscale\":[[0.0,\"#0d0887\"],[0.1111111111111111,\"#46039f\"],[0.2222222222222222,\"#7201a8\"],[0.3333333333333333,\"#9c179e\"],[0.4444444444444444,\"#bd3786\"],[0.5555555555555556,\"#d8576b\"],[0.6666666666666666,\"#ed7953\"],[0.7777777777777778,\"#fb9f3a\"],[0.8888888888888888,\"#fdca26\"],[1.0,\"#f0f921\"]],\"type\":\"contour\"}],\"heatmapgl\":[{\"colorbar\":{\"outlinewidth\":0,\"ticks\":\"\"},\"colorscale\":[[0.0,\"#0d0887\"],[0.1111111111111111,\"#46039f\"],[0.2222222222222222,\"#7201a8\"],[0.3333333333333333,\"#9c179e\"],[0.4444444444444444,\"#bd3786\"],[0.5555555555555556,\"#d8576b\"],[0.6666666666666666,\"#ed7953\"],[0.7777777777777778,\"#fb9f3a\"],[0.8888888888888888,\"#fdca26\"],[1.0,\"#f0f921\"]],\"type\":\"heatmapgl\"}],\"heatmap\":[{\"colorbar\":{\"outlinewidth\":0,\"ticks\":\"\"},\"colorscale\":[[0.0,\"#0d0887\"],[0.1111111111111111,\"#46039f\"],[0.2222222222222222,\"#7201a8\"],[0.3333333333333333,\"#9c179e\"],[0.4444444444444444,\"#bd3786\"],[0.5555555555555556,\"#d8576b\"],[0.6666666666666666,\"#ed7953\"],[0.7777777777777778,\"#fb9f3a\"],[0.8888888888888888,\"#fdca26\"],[1.0,\"#f0f921\"]],\"type\":\"heatmap\"}],\"histogram2dcontour\":[{\"colorbar\":{\"outlinewidth\":0,\"ticks\":\"\"},\"colorscale\":[[0.0,\"#0d0887\"],[0.1111111111111111,\"#46039f\"],[0.2222222222222222,\"#7201a8\"],[0.3333333333333333,\"#9c179e\"],[0.4444444444444444,\"#bd3786\"],[0.5555555555555556,\"#d8576b\"],[0.6666666666666666,\"#ed7953\"],[0.7777777777777778,\"#fb9f3a\"],[0.8888888888888888,\"#fdca26\"],[1.0,\"#f0f921\"]],\"type\":\"histogram2dcontour\"}],\"histogram2d\":[{\"colorbar\":{\"outlinewidth\":0,\"ticks\":\"\"},\"colorscale\":[[0.0,\"#0d0887\"],[0.1111111111111111,\"#46039f\"],[0.2222222222222222,\"#7201a8\"],[0.3333333333333333,\"#9c179e\"],[0.4444444444444444,\"#bd3786\"],[0.5555555555555556,\"#d8576b\"],[0.6666666666666666,\"#ed7953\"],[0.7777777777777778,\"#fb9f3a\"],[0.8888888888888888,\"#fdca26\"],[1.0,\"#f0f921\"]],\"type\":\"histogram2d\"}],\"histogram\":[{\"marker\":{\"pattern\":{\"fillmode\":\"overlay\",\"size\":10,\"solidity\":0.2}},\"type\":\"histogram\"}],\"mesh3d\":[{\"colorbar\":{\"outlinewidth\":0,\"ticks\":\"\"},\"type\":\"mesh3d\"}],\"parcoords\":[{\"line\":{\"colorbar\":{\"outlinewidth\":0,\"ticks\":\"\"}},\"type\":\"parcoords\"}],\"pie\":[{\"automargin\":true,\"type\":\"pie\"}],\"scatter3d\":[{\"line\":{\"colorbar\":{\"outlinewidth\":0,\"ticks\":\"\"}},\"marker\":{\"colorbar\":{\"outlinewidth\":0,\"ticks\":\"\"}},\"type\":\"scatter3d\"}],\"scattercarpet\":[{\"marker\":{\"colorbar\":{\"outlinewidth\":0,\"ticks\":\"\"}},\"type\":\"scattercarpet\"}],\"scattergeo\":[{\"marker\":{\"colorbar\":{\"outlinewidth\":0,\"ticks\":\"\"}},\"type\":\"scattergeo\"}],\"scattergl\":[{\"marker\":{\"colorbar\":{\"outlinewidth\":0,\"ticks\":\"\"}},\"type\":\"scattergl\"}],\"scattermapbox\":[{\"marker\":{\"colorbar\":{\"outlinewidth\":0,\"ticks\":\"\"}},\"type\":\"scattermapbox\"}],\"scatterpolargl\":[{\"marker\":{\"colorbar\":{\"outlinewidth\":0,\"ticks\":\"\"}},\"type\":\"scatterpolargl\"}],\"scatterpolar\":[{\"marker\":{\"colorbar\":{\"outlinewidth\":0,\"ticks\":\"\"}},\"type\":\"scatterpolar\"}],\"scatter\":[{\"marker\":{\"colorbar\":{\"outlinewidth\":0,\"ticks\":\"\"}},\"type\":\"scatter\"}],\"scatterternary\":[{\"marker\":{\"colorbar\":{\"outlinewidth\":0,\"ticks\":\"\"}},\"type\":\"scatterternary\"}],\"surface\":[{\"colorbar\":{\"outlinewidth\":0,\"ticks\":\"\"},\"colorscale\":[[0.0,\"#0d0887\"],[0.1111111111111111,\"#46039f\"],[0.2222222222222222,\"#7201a8\"],[0.3333333333333333,\"#9c179e\"],[0.4444444444444444,\"#bd3786\"],[0.5555555555555556,\"#d8576b\"],[0.6666666666666666,\"#ed7953\"],[0.7777777777777778,\"#fb9f3a\"],[0.8888888888888888,\"#fdca26\"],[1.0,\"#f0f921\"]],\"type\":\"surface\"}],\"table\":[{\"cells\":{\"fill\":{\"color\":\"#EBF0F8\"},\"line\":{\"color\":\"white\"}},\"header\":{\"fill\":{\"color\":\"#C8D4E3\"},\"line\":{\"color\":\"white\"}},\"type\":\"table\"}]},\"layout\":{\"annotationdefaults\":{\"arrowcolor\":\"#2a3f5f\",\"arrowhead\":0,\"arrowwidth\":1},\"autotypenumbers\":\"strict\",\"coloraxis\":{\"colorbar\":{\"outlinewidth\":0,\"ticks\":\"\"}},\"colorscale\":{\"diverging\":[[0,\"#8e0152\"],[0.1,\"#c51b7d\"],[0.2,\"#de77ae\"],[0.3,\"#f1b6da\"],[0.4,\"#fde0ef\"],[0.5,\"#f7f7f7\"],[0.6,\"#e6f5d0\"],[0.7,\"#b8e186\"],[0.8,\"#7fbc41\"],[0.9,\"#4d9221\"],[1,\"#276419\"]],\"sequential\":[[0.0,\"#0d0887\"],[0.1111111111111111,\"#46039f\"],[0.2222222222222222,\"#7201a8\"],[0.3333333333333333,\"#9c179e\"],[0.4444444444444444,\"#bd3786\"],[0.5555555555555556,\"#d8576b\"],[0.6666666666666666,\"#ed7953\"],[0.7777777777777778,\"#fb9f3a\"],[0.8888888888888888,\"#fdca26\"],[1.0,\"#f0f921\"]],\"sequentialminus\":[[0.0,\"#0d0887\"],[0.1111111111111111,\"#46039f\"],[0.2222222222222222,\"#7201a8\"],[0.3333333333333333,\"#9c179e\"],[0.4444444444444444,\"#bd3786\"],[0.5555555555555556,\"#d8576b\"],[0.6666666666666666,\"#ed7953\"],[0.7777777777777778,\"#fb9f3a\"],[0.8888888888888888,\"#fdca26\"],[1.0,\"#f0f921\"]]},\"colorway\":[\"#636efa\",\"#EF553B\",\"#00cc96\",\"#ab63fa\",\"#FFA15A\",\"#19d3f3\",\"#FF6692\",\"#B6E880\",\"#FF97FF\",\"#FECB52\"],\"font\":{\"color\":\"#2a3f5f\"},\"geo\":{\"bgcolor\":\"white\",\"lakecolor\":\"white\",\"landcolor\":\"#E5ECF6\",\"showlakes\":true,\"showland\":true,\"subunitcolor\":\"white\"},\"hoverlabel\":{\"align\":\"left\"},\"hovermode\":\"closest\",\"mapbox\":{\"style\":\"light\"},\"paper_bgcolor\":\"white\",\"plot_bgcolor\":\"#E5ECF6\",\"polar\":{\"angularaxis\":{\"gridcolor\":\"white\",\"linecolor\":\"white\",\"ticks\":\"\"},\"bgcolor\":\"#E5ECF6\",\"radialaxis\":{\"gridcolor\":\"white\",\"linecolor\":\"white\",\"ticks\":\"\"}},\"scene\":{\"xaxis\":{\"backgroundcolor\":\"#E5ECF6\",\"gridcolor\":\"white\",\"gridwidth\":2,\"linecolor\":\"white\",\"showbackground\":true,\"ticks\":\"\",\"zerolinecolor\":\"white\"},\"yaxis\":{\"backgroundcolor\":\"#E5ECF6\",\"gridcolor\":\"white\",\"gridwidth\":2,\"linecolor\":\"white\",\"showbackground\":true,\"ticks\":\"\",\"zerolinecolor\":\"white\"},\"zaxis\":{\"backgroundcolor\":\"#E5ECF6\",\"gridcolor\":\"white\",\"gridwidth\":2,\"linecolor\":\"white\",\"showbackground\":true,\"ticks\":\"\",\"zerolinecolor\":\"white\"}},\"shapedefaults\":{\"line\":{\"color\":\"#2a3f5f\"}},\"ternary\":{\"aaxis\":{\"gridcolor\":\"white\",\"linecolor\":\"white\",\"ticks\":\"\"},\"baxis\":{\"gridcolor\":\"white\",\"linecolor\":\"white\",\"ticks\":\"\"},\"bgcolor\":\"#E5ECF6\",\"caxis\":{\"gridcolor\":\"white\",\"linecolor\":\"white\",\"ticks\":\"\"}},\"title\":{\"x\":0.05},\"xaxis\":{\"automargin\":true,\"gridcolor\":\"white\",\"linecolor\":\"white\",\"ticks\":\"\",\"title\":{\"standoff\":15},\"zerolinecolor\":\"white\",\"zerolinewidth\":2},\"yaxis\":{\"automargin\":true,\"gridcolor\":\"white\",\"linecolor\":\"white\",\"ticks\":\"\",\"title\":{\"standoff\":15},\"zerolinecolor\":\"white\",\"zerolinewidth\":2}}},\"title\":{\"font\":{\"color\":\"#4D5663\"}},\"xaxis\":{\"gridcolor\":\"#E1E5ED\",\"showgrid\":true,\"tickfont\":{\"color\":\"#4D5663\"},\"title\":{\"font\":{\"color\":\"#4D5663\"},\"text\":\"\"},\"zerolinecolor\":\"#E1E5ED\"},\"yaxis\":{\"gridcolor\":\"#E1E5ED\",\"showgrid\":true,\"tickfont\":{\"color\":\"#4D5663\"},\"title\":{\"font\":{\"color\":\"#4D5663\"},\"text\":\"\"},\"zerolinecolor\":\"#E1E5ED\"}},                        {\"showLink\": true, \"linkText\": \"Export to plot.ly\", \"plotlyServerURL\": \"https://plot.ly\", \"responsive\": true}                    ).then(function(){\n",
       "                            \n",
       "var gd = document.getElementById('a7fc5416-8242-44ab-80d1-be716f9840af');\n",
       "var x = new MutationObserver(function (mutations, observer) {{\n",
       "        var display = window.getComputedStyle(gd).display;\n",
       "        if (!display || display === 'none') {{\n",
       "            console.log([gd, 'removed!']);\n",
       "            Plotly.purge(gd);\n",
       "            observer.disconnect();\n",
       "        }}\n",
       "}});\n",
       "\n",
       "// Listen for the removal of the full notebook cells\n",
       "var notebookContainer = gd.closest('#notebook-container');\n",
       "if (notebookContainer) {{\n",
       "    x.observe(notebookContainer, {childList: true});\n",
       "}}\n",
       "\n",
       "// Listen for the clearing of the current output cell\n",
       "var outputEl = gd.closest('.output');\n",
       "if (outputEl) {{\n",
       "    x.observe(outputEl, {childList: true});\n",
       "}}\n",
       "\n",
       "                        })                };                });            </script>        </div>"
      ]
     },
     "metadata": {},
     "output_type": "display_data"
    }
   ],
   "source": [
    "df['A'].iplot(kind ='hist', bins =50)"
   ]
  },
  {
   "cell_type": "markdown",
   "id": "b0e1cf53",
   "metadata": {},
   "source": [
    "# Bubble"
   ]
  },
  {
   "cell_type": "code",
   "execution_count": 20,
   "id": "b0126bbe",
   "metadata": {},
   "outputs": [
    {
     "data": {
      "application/vnd.plotly.v1+json": {
       "config": {
        "linkText": "Export to plot.ly",
        "plotlyServerURL": "https://plot.ly",
        "showLink": true
       },
       "data": [
        {
         "marker": {
          "color": [
           "rgb(255, 153, 51)",
           "rgb(55, 128, 191)",
           "rgb(50, 171, 96)",
           "rgb(128, 0, 128)",
           "rgb(219, 64, 82)",
           "rgb(0, 128, 128)",
           "rgb(255, 255, 51)",
           "rgb(128, 128, 0)",
           "rgb(251, 128, 114)",
           "rgb(128, 177, 211)"
          ],
          "line": {
           "width": 1.3
          },
          "size": [
           38,
           61,
           41,
           51,
           49,
           32,
           42,
           66,
           27,
           32,
           31,
           22,
           45,
           44,
           52,
           61,
           61,
           41,
           59,
           73,
           45,
           46,
           32,
           40,
           29,
           77,
           67,
           52,
           35,
           53,
           69,
           28,
           43,
           65,
           54,
           63,
           49,
           43,
           49,
           36,
           54,
           38,
           56,
           26,
           21,
           30,
           47,
           37,
           58,
           35,
           53,
           25,
           25,
           54,
           60,
           50,
           24,
           38,
           35,
           36,
           43,
           56,
           43,
           71,
           32,
           39,
           46,
           42,
           26,
           85,
           68,
           34,
           23,
           44,
           72,
           36,
           50,
           74,
           47,
           67,
           42,
           40,
           53,
           35,
           60,
           52,
           47,
           55,
           63,
           112,
           65,
           35,
           47,
           21,
           61,
           60,
           12,
           53,
           83,
           33
          ],
          "symbol": "circle"
         },
         "mode": "markers",
         "text": "",
         "type": "scatter",
         "x": [
          -0.2161184228253383,
          0.8792932512052545,
          0.8159294643263392,
          -0.4635332026275159,
          1.2480606583511327,
          1.1636709077699556,
          0.7922609344528071,
          -0.487105657576173,
          0.5421078085365659,
          0.5700116946872794,
          0.8239368808080885,
          -2.025932373181993,
          -0.7813558580603188,
          -0.8034398249519679,
          1.2512029139420504,
          -0.820332122346455,
          -1.6512522046007363,
          1.5682988107869604,
          -0.0063207362410987915,
          0.4004905726878128,
          0.5203258238161681,
          1.8279603356320633,
          0.13283157408988597,
          1.542945359288579,
          1.6651922182738557,
          -0.18907056450707943,
          0.5662895926834438,
          -0.4460591334360272,
          -0.5962532719116784,
          -0.5631527736349463,
          2.0839310694181905,
          -0.3747192099598198,
          0.2469317564261832,
          -0.4871280695792462,
          -1.399511059198512,
          -0.9279823397322188,
          0.3390474827073605,
          1.0170979834933276,
          -0.1348568156422785,
          1.2344989287853096,
          -0.273536936893138,
          0.5969711416695731,
          -0.5019729300786134,
          -1.5731701762261463,
          -0.776546301945367,
          -0.04443145956515006,
          -0.8568286686510093,
          -0.024763966728982578,
          0.7837974913189243,
          0.9010994038155039,
          -0.4730980172755114,
          0.207587519407055,
          -0.6771743196350672,
          1.2863142031525987,
          1.0405050456937595,
          0.06872578685904618,
          0.20037742174726073,
          0.43338326497446955,
          -1.1232782954405904,
          0.40114918501688485,
          0.5906859056001391,
          2.966926846259941,
          -0.23043343271553118,
          -0.8732939562117886,
          1.14121108723957,
          -0.4914311190409125,
          1.2800135159775534,
          0.8703759276983618,
          -0.69160728844988,
          1.1149661429079787,
          -1.0368988106557855,
          -1.856129353554703,
          0.07728497234778402,
          -0.5566709010013736,
          0.0017236191367242851,
          0.33896141298782556,
          -0.34634373933597523,
          -0.4314493717931845,
          -0.24830094093459376,
          0.7942439153979056,
          0.355227483466092,
          -0.9023647603026724,
          0.26053844043329494,
          -1.4960110241555,
          -0.03606981923271355,
          0.8973986520322429,
          0.8765836951666557,
          0.8099946509436573,
          -0.2546804984597161,
          -1.0077879926848405,
          -1.2867994667714329,
          1.5576794947939168,
          0.019057905893780924,
          -0.5441990567110787,
          0.49670405962304026,
          -0.4854564908395615,
          0.01630221623572593,
          0.4829915653490035,
          0.43406524706242366,
          -0.1857395357813015
         ],
         "y": [
          0.6009272176053823,
          -0.47328375717875815,
          1.5102796829570875,
          0.13698648280279452,
          -0.08207927123680447,
          1.3807419460829236,
          0.0008884140464625894,
          1.6770396104112533,
          0.3834029797448087,
          -0.2690010326323169,
          1.597398260776538,
          0.7351648892726675,
          0.10551643845443366,
          -0.6311209883918225,
          0.5572390618218849,
          -0.7738078928039479,
          0.21116745930062886,
          0.14078423344846921,
          -0.4212439874653056,
          -2.3793733930614014,
          1.4212147209842563,
          -0.5812791086667076,
          -0.9415571482963713,
          0.6306110755837304,
          -1.2411071380593497,
          -0.6046780270124452,
          -1.0559399304488928,
          0.42279176280029,
          -1.226271418081291,
          -1.131325103094806,
          -0.8889977036219829,
          1.2648058753496236,
          -0.48442636834005676,
          0.7108960890827798,
          1.3725402153716952,
          -0.5675961974427753,
          0.9253553237255685,
          -0.5692932152077298,
          -0.4174221274552496,
          -0.6979921244017261,
          -0.3393646826749617,
          -1.8087896518381883,
          0.3758793349821352,
          -0.39199851456008206,
          0.07117604173337383,
          -1.213063945919289,
          0.07552353850305901,
          -2.4856059003298836,
          0.451007261823913,
          -0.2289835339458214,
          2.120458797452917,
          -0.6083107357715691,
          0.3047972548593639,
          0.8166894152888184,
          -0.3543723312937055,
          0.9270475773868493,
          0.21671452232011124,
          -1.0860561840875944,
          -0.9241637527989113,
          0.6469123061061172,
          -0.5604065178745599,
          -1.3026393979314375,
          -0.40837785458920023,
          -2.053389222406837,
          0.452689699599634,
          -0.5456880220604482,
          -0.3768008226061331,
          0.8395805250060749,
          0.15638033915065708,
          1.8378173141312133,
          0.18122406269354446,
          -0.5802911040274235,
          -0.9323718692835864,
          0.4085690155151971,
          -1.133680474934867,
          0.36264440141564863,
          0.39943820817481523,
          -0.9810313174504565,
          -1.9976005280155338,
          1.37253433673606,
          0.5368407330853499,
          -0.8077790783101932,
          1.2122769887218132,
          -1.0354813312940023,
          0.7911735578805896,
          -1.8950724841036661,
          -0.2987687049820244,
          -0.6523694211047908,
          0.3830716691262919,
          0.6284618766425324,
          -0.9618366538721196,
          0.3426388646253289,
          1.5482473743187941,
          0.5798472356535777,
          -2.113126103357163,
          -1.6964437945831647,
          1.4718284936317474,
          -2.0029776122015877,
          0.8932118075364441,
          0.34649521334632055
         ]
        }
       ],
       "layout": {
        "legend": {
         "bgcolor": "#F5F6F9",
         "font": {
          "color": "#4D5663"
         }
        },
        "paper_bgcolor": "#F5F6F9",
        "plot_bgcolor": "#F5F6F9",
        "template": {
         "data": {
          "bar": [
           {
            "error_x": {
             "color": "#2a3f5f"
            },
            "error_y": {
             "color": "#2a3f5f"
            },
            "marker": {
             "line": {
              "color": "#E5ECF6",
              "width": 0.5
             },
             "pattern": {
              "fillmode": "overlay",
              "size": 10,
              "solidity": 0.2
             }
            },
            "type": "bar"
           }
          ],
          "barpolar": [
           {
            "marker": {
             "line": {
              "color": "#E5ECF6",
              "width": 0.5
             },
             "pattern": {
              "fillmode": "overlay",
              "size": 10,
              "solidity": 0.2
             }
            },
            "type": "barpolar"
           }
          ],
          "carpet": [
           {
            "aaxis": {
             "endlinecolor": "#2a3f5f",
             "gridcolor": "white",
             "linecolor": "white",
             "minorgridcolor": "white",
             "startlinecolor": "#2a3f5f"
            },
            "baxis": {
             "endlinecolor": "#2a3f5f",
             "gridcolor": "white",
             "linecolor": "white",
             "minorgridcolor": "white",
             "startlinecolor": "#2a3f5f"
            },
            "type": "carpet"
           }
          ],
          "choropleth": [
           {
            "colorbar": {
             "outlinewidth": 0,
             "ticks": ""
            },
            "type": "choropleth"
           }
          ],
          "contour": [
           {
            "colorbar": {
             "outlinewidth": 0,
             "ticks": ""
            },
            "colorscale": [
             [
              0,
              "#0d0887"
             ],
             [
              0.1111111111111111,
              "#46039f"
             ],
             [
              0.2222222222222222,
              "#7201a8"
             ],
             [
              0.3333333333333333,
              "#9c179e"
             ],
             [
              0.4444444444444444,
              "#bd3786"
             ],
             [
              0.5555555555555556,
              "#d8576b"
             ],
             [
              0.6666666666666666,
              "#ed7953"
             ],
             [
              0.7777777777777778,
              "#fb9f3a"
             ],
             [
              0.8888888888888888,
              "#fdca26"
             ],
             [
              1,
              "#f0f921"
             ]
            ],
            "type": "contour"
           }
          ],
          "contourcarpet": [
           {
            "colorbar": {
             "outlinewidth": 0,
             "ticks": ""
            },
            "type": "contourcarpet"
           }
          ],
          "heatmap": [
           {
            "colorbar": {
             "outlinewidth": 0,
             "ticks": ""
            },
            "colorscale": [
             [
              0,
              "#0d0887"
             ],
             [
              0.1111111111111111,
              "#46039f"
             ],
             [
              0.2222222222222222,
              "#7201a8"
             ],
             [
              0.3333333333333333,
              "#9c179e"
             ],
             [
              0.4444444444444444,
              "#bd3786"
             ],
             [
              0.5555555555555556,
              "#d8576b"
             ],
             [
              0.6666666666666666,
              "#ed7953"
             ],
             [
              0.7777777777777778,
              "#fb9f3a"
             ],
             [
              0.8888888888888888,
              "#fdca26"
             ],
             [
              1,
              "#f0f921"
             ]
            ],
            "type": "heatmap"
           }
          ],
          "heatmapgl": [
           {
            "colorbar": {
             "outlinewidth": 0,
             "ticks": ""
            },
            "colorscale": [
             [
              0,
              "#0d0887"
             ],
             [
              0.1111111111111111,
              "#46039f"
             ],
             [
              0.2222222222222222,
              "#7201a8"
             ],
             [
              0.3333333333333333,
              "#9c179e"
             ],
             [
              0.4444444444444444,
              "#bd3786"
             ],
             [
              0.5555555555555556,
              "#d8576b"
             ],
             [
              0.6666666666666666,
              "#ed7953"
             ],
             [
              0.7777777777777778,
              "#fb9f3a"
             ],
             [
              0.8888888888888888,
              "#fdca26"
             ],
             [
              1,
              "#f0f921"
             ]
            ],
            "type": "heatmapgl"
           }
          ],
          "histogram": [
           {
            "marker": {
             "pattern": {
              "fillmode": "overlay",
              "size": 10,
              "solidity": 0.2
             }
            },
            "type": "histogram"
           }
          ],
          "histogram2d": [
           {
            "colorbar": {
             "outlinewidth": 0,
             "ticks": ""
            },
            "colorscale": [
             [
              0,
              "#0d0887"
             ],
             [
              0.1111111111111111,
              "#46039f"
             ],
             [
              0.2222222222222222,
              "#7201a8"
             ],
             [
              0.3333333333333333,
              "#9c179e"
             ],
             [
              0.4444444444444444,
              "#bd3786"
             ],
             [
              0.5555555555555556,
              "#d8576b"
             ],
             [
              0.6666666666666666,
              "#ed7953"
             ],
             [
              0.7777777777777778,
              "#fb9f3a"
             ],
             [
              0.8888888888888888,
              "#fdca26"
             ],
             [
              1,
              "#f0f921"
             ]
            ],
            "type": "histogram2d"
           }
          ],
          "histogram2dcontour": [
           {
            "colorbar": {
             "outlinewidth": 0,
             "ticks": ""
            },
            "colorscale": [
             [
              0,
              "#0d0887"
             ],
             [
              0.1111111111111111,
              "#46039f"
             ],
             [
              0.2222222222222222,
              "#7201a8"
             ],
             [
              0.3333333333333333,
              "#9c179e"
             ],
             [
              0.4444444444444444,
              "#bd3786"
             ],
             [
              0.5555555555555556,
              "#d8576b"
             ],
             [
              0.6666666666666666,
              "#ed7953"
             ],
             [
              0.7777777777777778,
              "#fb9f3a"
             ],
             [
              0.8888888888888888,
              "#fdca26"
             ],
             [
              1,
              "#f0f921"
             ]
            ],
            "type": "histogram2dcontour"
           }
          ],
          "mesh3d": [
           {
            "colorbar": {
             "outlinewidth": 0,
             "ticks": ""
            },
            "type": "mesh3d"
           }
          ],
          "parcoords": [
           {
            "line": {
             "colorbar": {
              "outlinewidth": 0,
              "ticks": ""
             }
            },
            "type": "parcoords"
           }
          ],
          "pie": [
           {
            "automargin": true,
            "type": "pie"
           }
          ],
          "scatter": [
           {
            "marker": {
             "colorbar": {
              "outlinewidth": 0,
              "ticks": ""
             }
            },
            "type": "scatter"
           }
          ],
          "scatter3d": [
           {
            "line": {
             "colorbar": {
              "outlinewidth": 0,
              "ticks": ""
             }
            },
            "marker": {
             "colorbar": {
              "outlinewidth": 0,
              "ticks": ""
             }
            },
            "type": "scatter3d"
           }
          ],
          "scattercarpet": [
           {
            "marker": {
             "colorbar": {
              "outlinewidth": 0,
              "ticks": ""
             }
            },
            "type": "scattercarpet"
           }
          ],
          "scattergeo": [
           {
            "marker": {
             "colorbar": {
              "outlinewidth": 0,
              "ticks": ""
             }
            },
            "type": "scattergeo"
           }
          ],
          "scattergl": [
           {
            "marker": {
             "colorbar": {
              "outlinewidth": 0,
              "ticks": ""
             }
            },
            "type": "scattergl"
           }
          ],
          "scattermapbox": [
           {
            "marker": {
             "colorbar": {
              "outlinewidth": 0,
              "ticks": ""
             }
            },
            "type": "scattermapbox"
           }
          ],
          "scatterpolar": [
           {
            "marker": {
             "colorbar": {
              "outlinewidth": 0,
              "ticks": ""
             }
            },
            "type": "scatterpolar"
           }
          ],
          "scatterpolargl": [
           {
            "marker": {
             "colorbar": {
              "outlinewidth": 0,
              "ticks": ""
             }
            },
            "type": "scatterpolargl"
           }
          ],
          "scatterternary": [
           {
            "marker": {
             "colorbar": {
              "outlinewidth": 0,
              "ticks": ""
             }
            },
            "type": "scatterternary"
           }
          ],
          "surface": [
           {
            "colorbar": {
             "outlinewidth": 0,
             "ticks": ""
            },
            "colorscale": [
             [
              0,
              "#0d0887"
             ],
             [
              0.1111111111111111,
              "#46039f"
             ],
             [
              0.2222222222222222,
              "#7201a8"
             ],
             [
              0.3333333333333333,
              "#9c179e"
             ],
             [
              0.4444444444444444,
              "#bd3786"
             ],
             [
              0.5555555555555556,
              "#d8576b"
             ],
             [
              0.6666666666666666,
              "#ed7953"
             ],
             [
              0.7777777777777778,
              "#fb9f3a"
             ],
             [
              0.8888888888888888,
              "#fdca26"
             ],
             [
              1,
              "#f0f921"
             ]
            ],
            "type": "surface"
           }
          ],
          "table": [
           {
            "cells": {
             "fill": {
              "color": "#EBF0F8"
             },
             "line": {
              "color": "white"
             }
            },
            "header": {
             "fill": {
              "color": "#C8D4E3"
             },
             "line": {
              "color": "white"
             }
            },
            "type": "table"
           }
          ]
         },
         "layout": {
          "annotationdefaults": {
           "arrowcolor": "#2a3f5f",
           "arrowhead": 0,
           "arrowwidth": 1
          },
          "autotypenumbers": "strict",
          "coloraxis": {
           "colorbar": {
            "outlinewidth": 0,
            "ticks": ""
           }
          },
          "colorscale": {
           "diverging": [
            [
             0,
             "#8e0152"
            ],
            [
             0.1,
             "#c51b7d"
            ],
            [
             0.2,
             "#de77ae"
            ],
            [
             0.3,
             "#f1b6da"
            ],
            [
             0.4,
             "#fde0ef"
            ],
            [
             0.5,
             "#f7f7f7"
            ],
            [
             0.6,
             "#e6f5d0"
            ],
            [
             0.7,
             "#b8e186"
            ],
            [
             0.8,
             "#7fbc41"
            ],
            [
             0.9,
             "#4d9221"
            ],
            [
             1,
             "#276419"
            ]
           ],
           "sequential": [
            [
             0,
             "#0d0887"
            ],
            [
             0.1111111111111111,
             "#46039f"
            ],
            [
             0.2222222222222222,
             "#7201a8"
            ],
            [
             0.3333333333333333,
             "#9c179e"
            ],
            [
             0.4444444444444444,
             "#bd3786"
            ],
            [
             0.5555555555555556,
             "#d8576b"
            ],
            [
             0.6666666666666666,
             "#ed7953"
            ],
            [
             0.7777777777777778,
             "#fb9f3a"
            ],
            [
             0.8888888888888888,
             "#fdca26"
            ],
            [
             1,
             "#f0f921"
            ]
           ],
           "sequentialminus": [
            [
             0,
             "#0d0887"
            ],
            [
             0.1111111111111111,
             "#46039f"
            ],
            [
             0.2222222222222222,
             "#7201a8"
            ],
            [
             0.3333333333333333,
             "#9c179e"
            ],
            [
             0.4444444444444444,
             "#bd3786"
            ],
            [
             0.5555555555555556,
             "#d8576b"
            ],
            [
             0.6666666666666666,
             "#ed7953"
            ],
            [
             0.7777777777777778,
             "#fb9f3a"
            ],
            [
             0.8888888888888888,
             "#fdca26"
            ],
            [
             1,
             "#f0f921"
            ]
           ]
          },
          "colorway": [
           "#636efa",
           "#EF553B",
           "#00cc96",
           "#ab63fa",
           "#FFA15A",
           "#19d3f3",
           "#FF6692",
           "#B6E880",
           "#FF97FF",
           "#FECB52"
          ],
          "font": {
           "color": "#2a3f5f"
          },
          "geo": {
           "bgcolor": "white",
           "lakecolor": "white",
           "landcolor": "#E5ECF6",
           "showlakes": true,
           "showland": true,
           "subunitcolor": "white"
          },
          "hoverlabel": {
           "align": "left"
          },
          "hovermode": "closest",
          "mapbox": {
           "style": "light"
          },
          "paper_bgcolor": "white",
          "plot_bgcolor": "#E5ECF6",
          "polar": {
           "angularaxis": {
            "gridcolor": "white",
            "linecolor": "white",
            "ticks": ""
           },
           "bgcolor": "#E5ECF6",
           "radialaxis": {
            "gridcolor": "white",
            "linecolor": "white",
            "ticks": ""
           }
          },
          "scene": {
           "xaxis": {
            "backgroundcolor": "#E5ECF6",
            "gridcolor": "white",
            "gridwidth": 2,
            "linecolor": "white",
            "showbackground": true,
            "ticks": "",
            "zerolinecolor": "white"
           },
           "yaxis": {
            "backgroundcolor": "#E5ECF6",
            "gridcolor": "white",
            "gridwidth": 2,
            "linecolor": "white",
            "showbackground": true,
            "ticks": "",
            "zerolinecolor": "white"
           },
           "zaxis": {
            "backgroundcolor": "#E5ECF6",
            "gridcolor": "white",
            "gridwidth": 2,
            "linecolor": "white",
            "showbackground": true,
            "ticks": "",
            "zerolinecolor": "white"
           }
          },
          "shapedefaults": {
           "line": {
            "color": "#2a3f5f"
           }
          },
          "ternary": {
           "aaxis": {
            "gridcolor": "white",
            "linecolor": "white",
            "ticks": ""
           },
           "baxis": {
            "gridcolor": "white",
            "linecolor": "white",
            "ticks": ""
           },
           "bgcolor": "#E5ECF6",
           "caxis": {
            "gridcolor": "white",
            "linecolor": "white",
            "ticks": ""
           }
          },
          "title": {
           "x": 0.05
          },
          "xaxis": {
           "automargin": true,
           "gridcolor": "white",
           "linecolor": "white",
           "ticks": "",
           "title": {
            "standoff": 15
           },
           "zerolinecolor": "white",
           "zerolinewidth": 2
          },
          "yaxis": {
           "automargin": true,
           "gridcolor": "white",
           "linecolor": "white",
           "ticks": "",
           "title": {
            "standoff": 15
           },
           "zerolinecolor": "white",
           "zerolinewidth": 2
          }
         }
        },
        "title": {
         "font": {
          "color": "#4D5663"
         }
        },
        "xaxis": {
         "gridcolor": "#E1E5ED",
         "showgrid": true,
         "tickfont": {
          "color": "#4D5663"
         },
         "title": {
          "font": {
           "color": "#4D5663"
          },
          "text": ""
         },
         "zerolinecolor": "#E1E5ED"
        },
        "yaxis": {
         "gridcolor": "#E1E5ED",
         "showgrid": true,
         "tickfont": {
          "color": "#4D5663"
         },
         "title": {
          "font": {
           "color": "#4D5663"
          },
          "text": ""
         },
         "zerolinecolor": "#E1E5ED"
        }
       }
      },
      "text/html": [
       "<div>                            <div id=\"0ff983e6-07aa-4bd7-b61f-3b5111fe55f6\" class=\"plotly-graph-div\" style=\"height:525px; width:100%;\"></div>            <script type=\"text/javascript\">                require([\"plotly\"], function(Plotly) {                    window.PLOTLYENV=window.PLOTLYENV || {};\n",
       "                    window.PLOTLYENV.BASE_URL='https://plot.ly';                                    if (document.getElementById(\"0ff983e6-07aa-4bd7-b61f-3b5111fe55f6\")) {                    Plotly.newPlot(                        \"0ff983e6-07aa-4bd7-b61f-3b5111fe55f6\",                        [{\"marker\":{\"color\":[\"rgb(255, 153, 51)\",\"rgb(55, 128, 191)\",\"rgb(50, 171, 96)\",\"rgb(128, 0, 128)\",\"rgb(219, 64, 82)\",\"rgb(0, 128, 128)\",\"rgb(255, 255, 51)\",\"rgb(128, 128, 0)\",\"rgb(251, 128, 114)\",\"rgb(128, 177, 211)\"],\"line\":{\"width\":1.3},\"size\":[38,61,41,51,49,32,42,66,27,32,31,22,45,44,52,61,61,41,59,73,45,46,32,40,29,77,67,52,35,53,69,28,43,65,54,63,49,43,49,36,54,38,56,26,21,30,47,37,58,35,53,25,25,54,60,50,24,38,35,36,43,56,43,71,32,39,46,42,26,85,68,34,23,44,72,36,50,74,47,67,42,40,53,35,60,52,47,55,63,112,65,35,47,21,61,60,12,53,83,33],\"symbol\":\"circle\"},\"mode\":\"markers\",\"text\":\"\",\"x\":[-0.2161184228253383,0.8792932512052545,0.8159294643263392,-0.4635332026275159,1.2480606583511327,1.1636709077699556,0.7922609344528071,-0.487105657576173,0.5421078085365659,0.5700116946872794,0.8239368808080885,-2.025932373181993,-0.7813558580603188,-0.8034398249519679,1.2512029139420504,-0.820332122346455,-1.6512522046007363,1.5682988107869604,-0.0063207362410987915,0.4004905726878128,0.5203258238161681,1.8279603356320633,0.13283157408988597,1.542945359288579,1.6651922182738557,-0.18907056450707943,0.5662895926834438,-0.4460591334360272,-0.5962532719116784,-0.5631527736349463,2.0839310694181905,-0.3747192099598198,0.2469317564261832,-0.4871280695792462,-1.399511059198512,-0.9279823397322188,0.3390474827073605,1.0170979834933276,-0.1348568156422785,1.2344989287853096,-0.273536936893138,0.5969711416695731,-0.5019729300786134,-1.5731701762261463,-0.776546301945367,-0.04443145956515006,-0.8568286686510093,-0.024763966728982578,0.7837974913189243,0.9010994038155039,-0.4730980172755114,0.207587519407055,-0.6771743196350672,1.2863142031525987,1.0405050456937595,0.06872578685904618,0.20037742174726073,0.43338326497446955,-1.1232782954405904,0.40114918501688485,0.5906859056001391,2.966926846259941,-0.23043343271553118,-0.8732939562117886,1.14121108723957,-0.4914311190409125,1.2800135159775534,0.8703759276983618,-0.69160728844988,1.1149661429079787,-1.0368988106557855,-1.856129353554703,0.07728497234778402,-0.5566709010013736,0.0017236191367242851,0.33896141298782556,-0.34634373933597523,-0.4314493717931845,-0.24830094093459376,0.7942439153979056,0.355227483466092,-0.9023647603026724,0.26053844043329494,-1.4960110241555,-0.03606981923271355,0.8973986520322429,0.8765836951666557,0.8099946509436573,-0.2546804984597161,-1.0077879926848405,-1.2867994667714329,1.5576794947939168,0.019057905893780924,-0.5441990567110787,0.49670405962304026,-0.4854564908395615,0.01630221623572593,0.4829915653490035,0.43406524706242366,-0.1857395357813015],\"y\":[0.6009272176053823,-0.47328375717875815,1.5102796829570875,0.13698648280279452,-0.08207927123680447,1.3807419460829236,0.0008884140464625894,1.6770396104112533,0.3834029797448087,-0.2690010326323169,1.597398260776538,0.7351648892726675,0.10551643845443366,-0.6311209883918225,0.5572390618218849,-0.7738078928039479,0.21116745930062886,0.14078423344846921,-0.4212439874653056,-2.3793733930614014,1.4212147209842563,-0.5812791086667076,-0.9415571482963713,0.6306110755837304,-1.2411071380593497,-0.6046780270124452,-1.0559399304488928,0.42279176280029,-1.226271418081291,-1.131325103094806,-0.8889977036219829,1.2648058753496236,-0.48442636834005676,0.7108960890827798,1.3725402153716952,-0.5675961974427753,0.9253553237255685,-0.5692932152077298,-0.4174221274552496,-0.6979921244017261,-0.3393646826749617,-1.8087896518381883,0.3758793349821352,-0.39199851456008206,0.07117604173337383,-1.213063945919289,0.07552353850305901,-2.4856059003298836,0.451007261823913,-0.2289835339458214,2.120458797452917,-0.6083107357715691,0.3047972548593639,0.8166894152888184,-0.3543723312937055,0.9270475773868493,0.21671452232011124,-1.0860561840875944,-0.9241637527989113,0.6469123061061172,-0.5604065178745599,-1.3026393979314375,-0.40837785458920023,-2.053389222406837,0.452689699599634,-0.5456880220604482,-0.3768008226061331,0.8395805250060749,0.15638033915065708,1.8378173141312133,0.18122406269354446,-0.5802911040274235,-0.9323718692835864,0.4085690155151971,-1.133680474934867,0.36264440141564863,0.39943820817481523,-0.9810313174504565,-1.9976005280155338,1.37253433673606,0.5368407330853499,-0.8077790783101932,1.2122769887218132,-1.0354813312940023,0.7911735578805896,-1.8950724841036661,-0.2987687049820244,-0.6523694211047908,0.3830716691262919,0.6284618766425324,-0.9618366538721196,0.3426388646253289,1.5482473743187941,0.5798472356535777,-2.113126103357163,-1.6964437945831647,1.4718284936317474,-2.0029776122015877,0.8932118075364441,0.34649521334632055],\"type\":\"scatter\"}],                        {\"legend\":{\"bgcolor\":\"#F5F6F9\",\"font\":{\"color\":\"#4D5663\"}},\"paper_bgcolor\":\"#F5F6F9\",\"plot_bgcolor\":\"#F5F6F9\",\"template\":{\"data\":{\"barpolar\":[{\"marker\":{\"line\":{\"color\":\"#E5ECF6\",\"width\":0.5},\"pattern\":{\"fillmode\":\"overlay\",\"size\":10,\"solidity\":0.2}},\"type\":\"barpolar\"}],\"bar\":[{\"error_x\":{\"color\":\"#2a3f5f\"},\"error_y\":{\"color\":\"#2a3f5f\"},\"marker\":{\"line\":{\"color\":\"#E5ECF6\",\"width\":0.5},\"pattern\":{\"fillmode\":\"overlay\",\"size\":10,\"solidity\":0.2}},\"type\":\"bar\"}],\"carpet\":[{\"aaxis\":{\"endlinecolor\":\"#2a3f5f\",\"gridcolor\":\"white\",\"linecolor\":\"white\",\"minorgridcolor\":\"white\",\"startlinecolor\":\"#2a3f5f\"},\"baxis\":{\"endlinecolor\":\"#2a3f5f\",\"gridcolor\":\"white\",\"linecolor\":\"white\",\"minorgridcolor\":\"white\",\"startlinecolor\":\"#2a3f5f\"},\"type\":\"carpet\"}],\"choropleth\":[{\"colorbar\":{\"outlinewidth\":0,\"ticks\":\"\"},\"type\":\"choropleth\"}],\"contourcarpet\":[{\"colorbar\":{\"outlinewidth\":0,\"ticks\":\"\"},\"type\":\"contourcarpet\"}],\"contour\":[{\"colorbar\":{\"outlinewidth\":0,\"ticks\":\"\"},\"colorscale\":[[0.0,\"#0d0887\"],[0.1111111111111111,\"#46039f\"],[0.2222222222222222,\"#7201a8\"],[0.3333333333333333,\"#9c179e\"],[0.4444444444444444,\"#bd3786\"],[0.5555555555555556,\"#d8576b\"],[0.6666666666666666,\"#ed7953\"],[0.7777777777777778,\"#fb9f3a\"],[0.8888888888888888,\"#fdca26\"],[1.0,\"#f0f921\"]],\"type\":\"contour\"}],\"heatmapgl\":[{\"colorbar\":{\"outlinewidth\":0,\"ticks\":\"\"},\"colorscale\":[[0.0,\"#0d0887\"],[0.1111111111111111,\"#46039f\"],[0.2222222222222222,\"#7201a8\"],[0.3333333333333333,\"#9c179e\"],[0.4444444444444444,\"#bd3786\"],[0.5555555555555556,\"#d8576b\"],[0.6666666666666666,\"#ed7953\"],[0.7777777777777778,\"#fb9f3a\"],[0.8888888888888888,\"#fdca26\"],[1.0,\"#f0f921\"]],\"type\":\"heatmapgl\"}],\"heatmap\":[{\"colorbar\":{\"outlinewidth\":0,\"ticks\":\"\"},\"colorscale\":[[0.0,\"#0d0887\"],[0.1111111111111111,\"#46039f\"],[0.2222222222222222,\"#7201a8\"],[0.3333333333333333,\"#9c179e\"],[0.4444444444444444,\"#bd3786\"],[0.5555555555555556,\"#d8576b\"],[0.6666666666666666,\"#ed7953\"],[0.7777777777777778,\"#fb9f3a\"],[0.8888888888888888,\"#fdca26\"],[1.0,\"#f0f921\"]],\"type\":\"heatmap\"}],\"histogram2dcontour\":[{\"colorbar\":{\"outlinewidth\":0,\"ticks\":\"\"},\"colorscale\":[[0.0,\"#0d0887\"],[0.1111111111111111,\"#46039f\"],[0.2222222222222222,\"#7201a8\"],[0.3333333333333333,\"#9c179e\"],[0.4444444444444444,\"#bd3786\"],[0.5555555555555556,\"#d8576b\"],[0.6666666666666666,\"#ed7953\"],[0.7777777777777778,\"#fb9f3a\"],[0.8888888888888888,\"#fdca26\"],[1.0,\"#f0f921\"]],\"type\":\"histogram2dcontour\"}],\"histogram2d\":[{\"colorbar\":{\"outlinewidth\":0,\"ticks\":\"\"},\"colorscale\":[[0.0,\"#0d0887\"],[0.1111111111111111,\"#46039f\"],[0.2222222222222222,\"#7201a8\"],[0.3333333333333333,\"#9c179e\"],[0.4444444444444444,\"#bd3786\"],[0.5555555555555556,\"#d8576b\"],[0.6666666666666666,\"#ed7953\"],[0.7777777777777778,\"#fb9f3a\"],[0.8888888888888888,\"#fdca26\"],[1.0,\"#f0f921\"]],\"type\":\"histogram2d\"}],\"histogram\":[{\"marker\":{\"pattern\":{\"fillmode\":\"overlay\",\"size\":10,\"solidity\":0.2}},\"type\":\"histogram\"}],\"mesh3d\":[{\"colorbar\":{\"outlinewidth\":0,\"ticks\":\"\"},\"type\":\"mesh3d\"}],\"parcoords\":[{\"line\":{\"colorbar\":{\"outlinewidth\":0,\"ticks\":\"\"}},\"type\":\"parcoords\"}],\"pie\":[{\"automargin\":true,\"type\":\"pie\"}],\"scatter3d\":[{\"line\":{\"colorbar\":{\"outlinewidth\":0,\"ticks\":\"\"}},\"marker\":{\"colorbar\":{\"outlinewidth\":0,\"ticks\":\"\"}},\"type\":\"scatter3d\"}],\"scattercarpet\":[{\"marker\":{\"colorbar\":{\"outlinewidth\":0,\"ticks\":\"\"}},\"type\":\"scattercarpet\"}],\"scattergeo\":[{\"marker\":{\"colorbar\":{\"outlinewidth\":0,\"ticks\":\"\"}},\"type\":\"scattergeo\"}],\"scattergl\":[{\"marker\":{\"colorbar\":{\"outlinewidth\":0,\"ticks\":\"\"}},\"type\":\"scattergl\"}],\"scattermapbox\":[{\"marker\":{\"colorbar\":{\"outlinewidth\":0,\"ticks\":\"\"}},\"type\":\"scattermapbox\"}],\"scatterpolargl\":[{\"marker\":{\"colorbar\":{\"outlinewidth\":0,\"ticks\":\"\"}},\"type\":\"scatterpolargl\"}],\"scatterpolar\":[{\"marker\":{\"colorbar\":{\"outlinewidth\":0,\"ticks\":\"\"}},\"type\":\"scatterpolar\"}],\"scatter\":[{\"marker\":{\"colorbar\":{\"outlinewidth\":0,\"ticks\":\"\"}},\"type\":\"scatter\"}],\"scatterternary\":[{\"marker\":{\"colorbar\":{\"outlinewidth\":0,\"ticks\":\"\"}},\"type\":\"scatterternary\"}],\"surface\":[{\"colorbar\":{\"outlinewidth\":0,\"ticks\":\"\"},\"colorscale\":[[0.0,\"#0d0887\"],[0.1111111111111111,\"#46039f\"],[0.2222222222222222,\"#7201a8\"],[0.3333333333333333,\"#9c179e\"],[0.4444444444444444,\"#bd3786\"],[0.5555555555555556,\"#d8576b\"],[0.6666666666666666,\"#ed7953\"],[0.7777777777777778,\"#fb9f3a\"],[0.8888888888888888,\"#fdca26\"],[1.0,\"#f0f921\"]],\"type\":\"surface\"}],\"table\":[{\"cells\":{\"fill\":{\"color\":\"#EBF0F8\"},\"line\":{\"color\":\"white\"}},\"header\":{\"fill\":{\"color\":\"#C8D4E3\"},\"line\":{\"color\":\"white\"}},\"type\":\"table\"}]},\"layout\":{\"annotationdefaults\":{\"arrowcolor\":\"#2a3f5f\",\"arrowhead\":0,\"arrowwidth\":1},\"autotypenumbers\":\"strict\",\"coloraxis\":{\"colorbar\":{\"outlinewidth\":0,\"ticks\":\"\"}},\"colorscale\":{\"diverging\":[[0,\"#8e0152\"],[0.1,\"#c51b7d\"],[0.2,\"#de77ae\"],[0.3,\"#f1b6da\"],[0.4,\"#fde0ef\"],[0.5,\"#f7f7f7\"],[0.6,\"#e6f5d0\"],[0.7,\"#b8e186\"],[0.8,\"#7fbc41\"],[0.9,\"#4d9221\"],[1,\"#276419\"]],\"sequential\":[[0.0,\"#0d0887\"],[0.1111111111111111,\"#46039f\"],[0.2222222222222222,\"#7201a8\"],[0.3333333333333333,\"#9c179e\"],[0.4444444444444444,\"#bd3786\"],[0.5555555555555556,\"#d8576b\"],[0.6666666666666666,\"#ed7953\"],[0.7777777777777778,\"#fb9f3a\"],[0.8888888888888888,\"#fdca26\"],[1.0,\"#f0f921\"]],\"sequentialminus\":[[0.0,\"#0d0887\"],[0.1111111111111111,\"#46039f\"],[0.2222222222222222,\"#7201a8\"],[0.3333333333333333,\"#9c179e\"],[0.4444444444444444,\"#bd3786\"],[0.5555555555555556,\"#d8576b\"],[0.6666666666666666,\"#ed7953\"],[0.7777777777777778,\"#fb9f3a\"],[0.8888888888888888,\"#fdca26\"],[1.0,\"#f0f921\"]]},\"colorway\":[\"#636efa\",\"#EF553B\",\"#00cc96\",\"#ab63fa\",\"#FFA15A\",\"#19d3f3\",\"#FF6692\",\"#B6E880\",\"#FF97FF\",\"#FECB52\"],\"font\":{\"color\":\"#2a3f5f\"},\"geo\":{\"bgcolor\":\"white\",\"lakecolor\":\"white\",\"landcolor\":\"#E5ECF6\",\"showlakes\":true,\"showland\":true,\"subunitcolor\":\"white\"},\"hoverlabel\":{\"align\":\"left\"},\"hovermode\":\"closest\",\"mapbox\":{\"style\":\"light\"},\"paper_bgcolor\":\"white\",\"plot_bgcolor\":\"#E5ECF6\",\"polar\":{\"angularaxis\":{\"gridcolor\":\"white\",\"linecolor\":\"white\",\"ticks\":\"\"},\"bgcolor\":\"#E5ECF6\",\"radialaxis\":{\"gridcolor\":\"white\",\"linecolor\":\"white\",\"ticks\":\"\"}},\"scene\":{\"xaxis\":{\"backgroundcolor\":\"#E5ECF6\",\"gridcolor\":\"white\",\"gridwidth\":2,\"linecolor\":\"white\",\"showbackground\":true,\"ticks\":\"\",\"zerolinecolor\":\"white\"},\"yaxis\":{\"backgroundcolor\":\"#E5ECF6\",\"gridcolor\":\"white\",\"gridwidth\":2,\"linecolor\":\"white\",\"showbackground\":true,\"ticks\":\"\",\"zerolinecolor\":\"white\"},\"zaxis\":{\"backgroundcolor\":\"#E5ECF6\",\"gridcolor\":\"white\",\"gridwidth\":2,\"linecolor\":\"white\",\"showbackground\":true,\"ticks\":\"\",\"zerolinecolor\":\"white\"}},\"shapedefaults\":{\"line\":{\"color\":\"#2a3f5f\"}},\"ternary\":{\"aaxis\":{\"gridcolor\":\"white\",\"linecolor\":\"white\",\"ticks\":\"\"},\"baxis\":{\"gridcolor\":\"white\",\"linecolor\":\"white\",\"ticks\":\"\"},\"bgcolor\":\"#E5ECF6\",\"caxis\":{\"gridcolor\":\"white\",\"linecolor\":\"white\",\"ticks\":\"\"}},\"title\":{\"x\":0.05},\"xaxis\":{\"automargin\":true,\"gridcolor\":\"white\",\"linecolor\":\"white\",\"ticks\":\"\",\"title\":{\"standoff\":15},\"zerolinecolor\":\"white\",\"zerolinewidth\":2},\"yaxis\":{\"automargin\":true,\"gridcolor\":\"white\",\"linecolor\":\"white\",\"ticks\":\"\",\"title\":{\"standoff\":15},\"zerolinecolor\":\"white\",\"zerolinewidth\":2}}},\"title\":{\"font\":{\"color\":\"#4D5663\"}},\"xaxis\":{\"gridcolor\":\"#E1E5ED\",\"showgrid\":true,\"tickfont\":{\"color\":\"#4D5663\"},\"title\":{\"font\":{\"color\":\"#4D5663\"},\"text\":\"\"},\"zerolinecolor\":\"#E1E5ED\"},\"yaxis\":{\"gridcolor\":\"#E1E5ED\",\"showgrid\":true,\"tickfont\":{\"color\":\"#4D5663\"},\"title\":{\"font\":{\"color\":\"#4D5663\"},\"text\":\"\"},\"zerolinecolor\":\"#E1E5ED\"}},                        {\"showLink\": true, \"linkText\": \"Export to plot.ly\", \"plotlyServerURL\": \"https://plot.ly\", \"responsive\": true}                    ).then(function(){\n",
       "                            \n",
       "var gd = document.getElementById('0ff983e6-07aa-4bd7-b61f-3b5111fe55f6');\n",
       "var x = new MutationObserver(function (mutations, observer) {{\n",
       "        var display = window.getComputedStyle(gd).display;\n",
       "        if (!display || display === 'none') {{\n",
       "            console.log([gd, 'removed!']);\n",
       "            Plotly.purge(gd);\n",
       "            observer.disconnect();\n",
       "        }}\n",
       "}});\n",
       "\n",
       "// Listen for the removal of the full notebook cells\n",
       "var notebookContainer = gd.closest('#notebook-container');\n",
       "if (notebookContainer) {{\n",
       "    x.observe(notebookContainer, {childList: true});\n",
       "}}\n",
       "\n",
       "// Listen for the clearing of the current output cell\n",
       "var outputEl = gd.closest('.output');\n",
       "if (outputEl) {{\n",
       "    x.observe(outputEl, {childList: true});\n",
       "}}\n",
       "\n",
       "                        })                };                });            </script>        </div>"
      ]
     },
     "metadata": {},
     "output_type": "display_data"
    }
   ],
   "source": [
    "df.iplot(kind ='bubble', x ='A', y='B', size='C')"
   ]
  },
  {
   "cell_type": "code",
   "execution_count": 21,
   "id": "2ccafa34",
   "metadata": {},
   "outputs": [
    {
     "data": {
      "application/vnd.plotly.v1+json": {
       "config": {
        "linkText": "Export to plot.ly",
        "plotlyServerURL": "https://plot.ly",
        "showLink": true
       },
       "data": [
        {
         "marker": {
          "color": [
           "rgb(255, 153, 51)",
           "rgb(55, 128, 191)",
           "rgb(50, 171, 96)",
           "rgb(128, 0, 128)",
           "rgb(219, 64, 82)",
           "rgb(0, 128, 128)",
           "rgb(255, 255, 51)",
           "rgb(128, 128, 0)",
           "rgb(251, 128, 114)",
           "rgb(128, 177, 211)"
          ],
          "line": {
           "width": 1.3
          },
          "size": [
           112,
           87,
           62,
           37,
           12
          ],
          "symbol": "circle"
         },
         "mode": "markers",
         "text": "",
         "type": "scatter",
         "x": [
          1,
          2,
          3,
          4,
          5
         ],
         "y": [
          5,
          4,
          3,
          2,
          1
         ]
        }
       ],
       "layout": {
        "legend": {
         "bgcolor": "#F5F6F9",
         "font": {
          "color": "#4D5663"
         }
        },
        "paper_bgcolor": "#F5F6F9",
        "plot_bgcolor": "#F5F6F9",
        "template": {
         "data": {
          "bar": [
           {
            "error_x": {
             "color": "#2a3f5f"
            },
            "error_y": {
             "color": "#2a3f5f"
            },
            "marker": {
             "line": {
              "color": "#E5ECF6",
              "width": 0.5
             },
             "pattern": {
              "fillmode": "overlay",
              "size": 10,
              "solidity": 0.2
             }
            },
            "type": "bar"
           }
          ],
          "barpolar": [
           {
            "marker": {
             "line": {
              "color": "#E5ECF6",
              "width": 0.5
             },
             "pattern": {
              "fillmode": "overlay",
              "size": 10,
              "solidity": 0.2
             }
            },
            "type": "barpolar"
           }
          ],
          "carpet": [
           {
            "aaxis": {
             "endlinecolor": "#2a3f5f",
             "gridcolor": "white",
             "linecolor": "white",
             "minorgridcolor": "white",
             "startlinecolor": "#2a3f5f"
            },
            "baxis": {
             "endlinecolor": "#2a3f5f",
             "gridcolor": "white",
             "linecolor": "white",
             "minorgridcolor": "white",
             "startlinecolor": "#2a3f5f"
            },
            "type": "carpet"
           }
          ],
          "choropleth": [
           {
            "colorbar": {
             "outlinewidth": 0,
             "ticks": ""
            },
            "type": "choropleth"
           }
          ],
          "contour": [
           {
            "colorbar": {
             "outlinewidth": 0,
             "ticks": ""
            },
            "colorscale": [
             [
              0,
              "#0d0887"
             ],
             [
              0.1111111111111111,
              "#46039f"
             ],
             [
              0.2222222222222222,
              "#7201a8"
             ],
             [
              0.3333333333333333,
              "#9c179e"
             ],
             [
              0.4444444444444444,
              "#bd3786"
             ],
             [
              0.5555555555555556,
              "#d8576b"
             ],
             [
              0.6666666666666666,
              "#ed7953"
             ],
             [
              0.7777777777777778,
              "#fb9f3a"
             ],
             [
              0.8888888888888888,
              "#fdca26"
             ],
             [
              1,
              "#f0f921"
             ]
            ],
            "type": "contour"
           }
          ],
          "contourcarpet": [
           {
            "colorbar": {
             "outlinewidth": 0,
             "ticks": ""
            },
            "type": "contourcarpet"
           }
          ],
          "heatmap": [
           {
            "colorbar": {
             "outlinewidth": 0,
             "ticks": ""
            },
            "colorscale": [
             [
              0,
              "#0d0887"
             ],
             [
              0.1111111111111111,
              "#46039f"
             ],
             [
              0.2222222222222222,
              "#7201a8"
             ],
             [
              0.3333333333333333,
              "#9c179e"
             ],
             [
              0.4444444444444444,
              "#bd3786"
             ],
             [
              0.5555555555555556,
              "#d8576b"
             ],
             [
              0.6666666666666666,
              "#ed7953"
             ],
             [
              0.7777777777777778,
              "#fb9f3a"
             ],
             [
              0.8888888888888888,
              "#fdca26"
             ],
             [
              1,
              "#f0f921"
             ]
            ],
            "type": "heatmap"
           }
          ],
          "heatmapgl": [
           {
            "colorbar": {
             "outlinewidth": 0,
             "ticks": ""
            },
            "colorscale": [
             [
              0,
              "#0d0887"
             ],
             [
              0.1111111111111111,
              "#46039f"
             ],
             [
              0.2222222222222222,
              "#7201a8"
             ],
             [
              0.3333333333333333,
              "#9c179e"
             ],
             [
              0.4444444444444444,
              "#bd3786"
             ],
             [
              0.5555555555555556,
              "#d8576b"
             ],
             [
              0.6666666666666666,
              "#ed7953"
             ],
             [
              0.7777777777777778,
              "#fb9f3a"
             ],
             [
              0.8888888888888888,
              "#fdca26"
             ],
             [
              1,
              "#f0f921"
             ]
            ],
            "type": "heatmapgl"
           }
          ],
          "histogram": [
           {
            "marker": {
             "pattern": {
              "fillmode": "overlay",
              "size": 10,
              "solidity": 0.2
             }
            },
            "type": "histogram"
           }
          ],
          "histogram2d": [
           {
            "colorbar": {
             "outlinewidth": 0,
             "ticks": ""
            },
            "colorscale": [
             [
              0,
              "#0d0887"
             ],
             [
              0.1111111111111111,
              "#46039f"
             ],
             [
              0.2222222222222222,
              "#7201a8"
             ],
             [
              0.3333333333333333,
              "#9c179e"
             ],
             [
              0.4444444444444444,
              "#bd3786"
             ],
             [
              0.5555555555555556,
              "#d8576b"
             ],
             [
              0.6666666666666666,
              "#ed7953"
             ],
             [
              0.7777777777777778,
              "#fb9f3a"
             ],
             [
              0.8888888888888888,
              "#fdca26"
             ],
             [
              1,
              "#f0f921"
             ]
            ],
            "type": "histogram2d"
           }
          ],
          "histogram2dcontour": [
           {
            "colorbar": {
             "outlinewidth": 0,
             "ticks": ""
            },
            "colorscale": [
             [
              0,
              "#0d0887"
             ],
             [
              0.1111111111111111,
              "#46039f"
             ],
             [
              0.2222222222222222,
              "#7201a8"
             ],
             [
              0.3333333333333333,
              "#9c179e"
             ],
             [
              0.4444444444444444,
              "#bd3786"
             ],
             [
              0.5555555555555556,
              "#d8576b"
             ],
             [
              0.6666666666666666,
              "#ed7953"
             ],
             [
              0.7777777777777778,
              "#fb9f3a"
             ],
             [
              0.8888888888888888,
              "#fdca26"
             ],
             [
              1,
              "#f0f921"
             ]
            ],
            "type": "histogram2dcontour"
           }
          ],
          "mesh3d": [
           {
            "colorbar": {
             "outlinewidth": 0,
             "ticks": ""
            },
            "type": "mesh3d"
           }
          ],
          "parcoords": [
           {
            "line": {
             "colorbar": {
              "outlinewidth": 0,
              "ticks": ""
             }
            },
            "type": "parcoords"
           }
          ],
          "pie": [
           {
            "automargin": true,
            "type": "pie"
           }
          ],
          "scatter": [
           {
            "marker": {
             "colorbar": {
              "outlinewidth": 0,
              "ticks": ""
             }
            },
            "type": "scatter"
           }
          ],
          "scatter3d": [
           {
            "line": {
             "colorbar": {
              "outlinewidth": 0,
              "ticks": ""
             }
            },
            "marker": {
             "colorbar": {
              "outlinewidth": 0,
              "ticks": ""
             }
            },
            "type": "scatter3d"
           }
          ],
          "scattercarpet": [
           {
            "marker": {
             "colorbar": {
              "outlinewidth": 0,
              "ticks": ""
             }
            },
            "type": "scattercarpet"
           }
          ],
          "scattergeo": [
           {
            "marker": {
             "colorbar": {
              "outlinewidth": 0,
              "ticks": ""
             }
            },
            "type": "scattergeo"
           }
          ],
          "scattergl": [
           {
            "marker": {
             "colorbar": {
              "outlinewidth": 0,
              "ticks": ""
             }
            },
            "type": "scattergl"
           }
          ],
          "scattermapbox": [
           {
            "marker": {
             "colorbar": {
              "outlinewidth": 0,
              "ticks": ""
             }
            },
            "type": "scattermapbox"
           }
          ],
          "scatterpolar": [
           {
            "marker": {
             "colorbar": {
              "outlinewidth": 0,
              "ticks": ""
             }
            },
            "type": "scatterpolar"
           }
          ],
          "scatterpolargl": [
           {
            "marker": {
             "colorbar": {
              "outlinewidth": 0,
              "ticks": ""
             }
            },
            "type": "scatterpolargl"
           }
          ],
          "scatterternary": [
           {
            "marker": {
             "colorbar": {
              "outlinewidth": 0,
              "ticks": ""
             }
            },
            "type": "scatterternary"
           }
          ],
          "surface": [
           {
            "colorbar": {
             "outlinewidth": 0,
             "ticks": ""
            },
            "colorscale": [
             [
              0,
              "#0d0887"
             ],
             [
              0.1111111111111111,
              "#46039f"
             ],
             [
              0.2222222222222222,
              "#7201a8"
             ],
             [
              0.3333333333333333,
              "#9c179e"
             ],
             [
              0.4444444444444444,
              "#bd3786"
             ],
             [
              0.5555555555555556,
              "#d8576b"
             ],
             [
              0.6666666666666666,
              "#ed7953"
             ],
             [
              0.7777777777777778,
              "#fb9f3a"
             ],
             [
              0.8888888888888888,
              "#fdca26"
             ],
             [
              1,
              "#f0f921"
             ]
            ],
            "type": "surface"
           }
          ],
          "table": [
           {
            "cells": {
             "fill": {
              "color": "#EBF0F8"
             },
             "line": {
              "color": "white"
             }
            },
            "header": {
             "fill": {
              "color": "#C8D4E3"
             },
             "line": {
              "color": "white"
             }
            },
            "type": "table"
           }
          ]
         },
         "layout": {
          "annotationdefaults": {
           "arrowcolor": "#2a3f5f",
           "arrowhead": 0,
           "arrowwidth": 1
          },
          "autotypenumbers": "strict",
          "coloraxis": {
           "colorbar": {
            "outlinewidth": 0,
            "ticks": ""
           }
          },
          "colorscale": {
           "diverging": [
            [
             0,
             "#8e0152"
            ],
            [
             0.1,
             "#c51b7d"
            ],
            [
             0.2,
             "#de77ae"
            ],
            [
             0.3,
             "#f1b6da"
            ],
            [
             0.4,
             "#fde0ef"
            ],
            [
             0.5,
             "#f7f7f7"
            ],
            [
             0.6,
             "#e6f5d0"
            ],
            [
             0.7,
             "#b8e186"
            ],
            [
             0.8,
             "#7fbc41"
            ],
            [
             0.9,
             "#4d9221"
            ],
            [
             1,
             "#276419"
            ]
           ],
           "sequential": [
            [
             0,
             "#0d0887"
            ],
            [
             0.1111111111111111,
             "#46039f"
            ],
            [
             0.2222222222222222,
             "#7201a8"
            ],
            [
             0.3333333333333333,
             "#9c179e"
            ],
            [
             0.4444444444444444,
             "#bd3786"
            ],
            [
             0.5555555555555556,
             "#d8576b"
            ],
            [
             0.6666666666666666,
             "#ed7953"
            ],
            [
             0.7777777777777778,
             "#fb9f3a"
            ],
            [
             0.8888888888888888,
             "#fdca26"
            ],
            [
             1,
             "#f0f921"
            ]
           ],
           "sequentialminus": [
            [
             0,
             "#0d0887"
            ],
            [
             0.1111111111111111,
             "#46039f"
            ],
            [
             0.2222222222222222,
             "#7201a8"
            ],
            [
             0.3333333333333333,
             "#9c179e"
            ],
            [
             0.4444444444444444,
             "#bd3786"
            ],
            [
             0.5555555555555556,
             "#d8576b"
            ],
            [
             0.6666666666666666,
             "#ed7953"
            ],
            [
             0.7777777777777778,
             "#fb9f3a"
            ],
            [
             0.8888888888888888,
             "#fdca26"
            ],
            [
             1,
             "#f0f921"
            ]
           ]
          },
          "colorway": [
           "#636efa",
           "#EF553B",
           "#00cc96",
           "#ab63fa",
           "#FFA15A",
           "#19d3f3",
           "#FF6692",
           "#B6E880",
           "#FF97FF",
           "#FECB52"
          ],
          "font": {
           "color": "#2a3f5f"
          },
          "geo": {
           "bgcolor": "white",
           "lakecolor": "white",
           "landcolor": "#E5ECF6",
           "showlakes": true,
           "showland": true,
           "subunitcolor": "white"
          },
          "hoverlabel": {
           "align": "left"
          },
          "hovermode": "closest",
          "mapbox": {
           "style": "light"
          },
          "paper_bgcolor": "white",
          "plot_bgcolor": "#E5ECF6",
          "polar": {
           "angularaxis": {
            "gridcolor": "white",
            "linecolor": "white",
            "ticks": ""
           },
           "bgcolor": "#E5ECF6",
           "radialaxis": {
            "gridcolor": "white",
            "linecolor": "white",
            "ticks": ""
           }
          },
          "scene": {
           "xaxis": {
            "backgroundcolor": "#E5ECF6",
            "gridcolor": "white",
            "gridwidth": 2,
            "linecolor": "white",
            "showbackground": true,
            "ticks": "",
            "zerolinecolor": "white"
           },
           "yaxis": {
            "backgroundcolor": "#E5ECF6",
            "gridcolor": "white",
            "gridwidth": 2,
            "linecolor": "white",
            "showbackground": true,
            "ticks": "",
            "zerolinecolor": "white"
           },
           "zaxis": {
            "backgroundcolor": "#E5ECF6",
            "gridcolor": "white",
            "gridwidth": 2,
            "linecolor": "white",
            "showbackground": true,
            "ticks": "",
            "zerolinecolor": "white"
           }
          },
          "shapedefaults": {
           "line": {
            "color": "#2a3f5f"
           }
          },
          "ternary": {
           "aaxis": {
            "gridcolor": "white",
            "linecolor": "white",
            "ticks": ""
           },
           "baxis": {
            "gridcolor": "white",
            "linecolor": "white",
            "ticks": ""
           },
           "bgcolor": "#E5ECF6",
           "caxis": {
            "gridcolor": "white",
            "linecolor": "white",
            "ticks": ""
           }
          },
          "title": {
           "x": 0.05
          },
          "xaxis": {
           "automargin": true,
           "gridcolor": "white",
           "linecolor": "white",
           "ticks": "",
           "title": {
            "standoff": 15
           },
           "zerolinecolor": "white",
           "zerolinewidth": 2
          },
          "yaxis": {
           "automargin": true,
           "gridcolor": "white",
           "linecolor": "white",
           "ticks": "",
           "title": {
            "standoff": 15
           },
           "zerolinecolor": "white",
           "zerolinewidth": 2
          }
         }
        },
        "title": {
         "font": {
          "color": "#4D5663"
         }
        },
        "xaxis": {
         "gridcolor": "#E1E5ED",
         "showgrid": true,
         "tickfont": {
          "color": "#4D5663"
         },
         "title": {
          "font": {
           "color": "#4D5663"
          },
          "text": ""
         },
         "zerolinecolor": "#E1E5ED"
        },
        "yaxis": {
         "gridcolor": "#E1E5ED",
         "showgrid": true,
         "tickfont": {
          "color": "#4D5663"
         },
         "title": {
          "font": {
           "color": "#4D5663"
          },
          "text": ""
         },
         "zerolinecolor": "#E1E5ED"
        }
       }
      },
      "text/html": [
       "<div>                            <div id=\"6b543d93-1925-4291-9c15-423899df7df5\" class=\"plotly-graph-div\" style=\"height:525px; width:100%;\"></div>            <script type=\"text/javascript\">                require([\"plotly\"], function(Plotly) {                    window.PLOTLYENV=window.PLOTLYENV || {};\n",
       "                    window.PLOTLYENV.BASE_URL='https://plot.ly';                                    if (document.getElementById(\"6b543d93-1925-4291-9c15-423899df7df5\")) {                    Plotly.newPlot(                        \"6b543d93-1925-4291-9c15-423899df7df5\",                        [{\"marker\":{\"color\":[\"rgb(255, 153, 51)\",\"rgb(55, 128, 191)\",\"rgb(50, 171, 96)\",\"rgb(128, 0, 128)\",\"rgb(219, 64, 82)\",\"rgb(0, 128, 128)\",\"rgb(255, 255, 51)\",\"rgb(128, 128, 0)\",\"rgb(251, 128, 114)\",\"rgb(128, 177, 211)\"],\"line\":{\"width\":1.3},\"size\":[112,87,62,37,12],\"symbol\":\"circle\"},\"mode\":\"markers\",\"text\":\"\",\"x\":[1,2,3,4,5],\"y\":[5,4,3,2,1],\"type\":\"scatter\"}],                        {\"legend\":{\"bgcolor\":\"#F5F6F9\",\"font\":{\"color\":\"#4D5663\"}},\"paper_bgcolor\":\"#F5F6F9\",\"plot_bgcolor\":\"#F5F6F9\",\"template\":{\"data\":{\"barpolar\":[{\"marker\":{\"line\":{\"color\":\"#E5ECF6\",\"width\":0.5},\"pattern\":{\"fillmode\":\"overlay\",\"size\":10,\"solidity\":0.2}},\"type\":\"barpolar\"}],\"bar\":[{\"error_x\":{\"color\":\"#2a3f5f\"},\"error_y\":{\"color\":\"#2a3f5f\"},\"marker\":{\"line\":{\"color\":\"#E5ECF6\",\"width\":0.5},\"pattern\":{\"fillmode\":\"overlay\",\"size\":10,\"solidity\":0.2}},\"type\":\"bar\"}],\"carpet\":[{\"aaxis\":{\"endlinecolor\":\"#2a3f5f\",\"gridcolor\":\"white\",\"linecolor\":\"white\",\"minorgridcolor\":\"white\",\"startlinecolor\":\"#2a3f5f\"},\"baxis\":{\"endlinecolor\":\"#2a3f5f\",\"gridcolor\":\"white\",\"linecolor\":\"white\",\"minorgridcolor\":\"white\",\"startlinecolor\":\"#2a3f5f\"},\"type\":\"carpet\"}],\"choropleth\":[{\"colorbar\":{\"outlinewidth\":0,\"ticks\":\"\"},\"type\":\"choropleth\"}],\"contourcarpet\":[{\"colorbar\":{\"outlinewidth\":0,\"ticks\":\"\"},\"type\":\"contourcarpet\"}],\"contour\":[{\"colorbar\":{\"outlinewidth\":0,\"ticks\":\"\"},\"colorscale\":[[0.0,\"#0d0887\"],[0.1111111111111111,\"#46039f\"],[0.2222222222222222,\"#7201a8\"],[0.3333333333333333,\"#9c179e\"],[0.4444444444444444,\"#bd3786\"],[0.5555555555555556,\"#d8576b\"],[0.6666666666666666,\"#ed7953\"],[0.7777777777777778,\"#fb9f3a\"],[0.8888888888888888,\"#fdca26\"],[1.0,\"#f0f921\"]],\"type\":\"contour\"}],\"heatmapgl\":[{\"colorbar\":{\"outlinewidth\":0,\"ticks\":\"\"},\"colorscale\":[[0.0,\"#0d0887\"],[0.1111111111111111,\"#46039f\"],[0.2222222222222222,\"#7201a8\"],[0.3333333333333333,\"#9c179e\"],[0.4444444444444444,\"#bd3786\"],[0.5555555555555556,\"#d8576b\"],[0.6666666666666666,\"#ed7953\"],[0.7777777777777778,\"#fb9f3a\"],[0.8888888888888888,\"#fdca26\"],[1.0,\"#f0f921\"]],\"type\":\"heatmapgl\"}],\"heatmap\":[{\"colorbar\":{\"outlinewidth\":0,\"ticks\":\"\"},\"colorscale\":[[0.0,\"#0d0887\"],[0.1111111111111111,\"#46039f\"],[0.2222222222222222,\"#7201a8\"],[0.3333333333333333,\"#9c179e\"],[0.4444444444444444,\"#bd3786\"],[0.5555555555555556,\"#d8576b\"],[0.6666666666666666,\"#ed7953\"],[0.7777777777777778,\"#fb9f3a\"],[0.8888888888888888,\"#fdca26\"],[1.0,\"#f0f921\"]],\"type\":\"heatmap\"}],\"histogram2dcontour\":[{\"colorbar\":{\"outlinewidth\":0,\"ticks\":\"\"},\"colorscale\":[[0.0,\"#0d0887\"],[0.1111111111111111,\"#46039f\"],[0.2222222222222222,\"#7201a8\"],[0.3333333333333333,\"#9c179e\"],[0.4444444444444444,\"#bd3786\"],[0.5555555555555556,\"#d8576b\"],[0.6666666666666666,\"#ed7953\"],[0.7777777777777778,\"#fb9f3a\"],[0.8888888888888888,\"#fdca26\"],[1.0,\"#f0f921\"]],\"type\":\"histogram2dcontour\"}],\"histogram2d\":[{\"colorbar\":{\"outlinewidth\":0,\"ticks\":\"\"},\"colorscale\":[[0.0,\"#0d0887\"],[0.1111111111111111,\"#46039f\"],[0.2222222222222222,\"#7201a8\"],[0.3333333333333333,\"#9c179e\"],[0.4444444444444444,\"#bd3786\"],[0.5555555555555556,\"#d8576b\"],[0.6666666666666666,\"#ed7953\"],[0.7777777777777778,\"#fb9f3a\"],[0.8888888888888888,\"#fdca26\"],[1.0,\"#f0f921\"]],\"type\":\"histogram2d\"}],\"histogram\":[{\"marker\":{\"pattern\":{\"fillmode\":\"overlay\",\"size\":10,\"solidity\":0.2}},\"type\":\"histogram\"}],\"mesh3d\":[{\"colorbar\":{\"outlinewidth\":0,\"ticks\":\"\"},\"type\":\"mesh3d\"}],\"parcoords\":[{\"line\":{\"colorbar\":{\"outlinewidth\":0,\"ticks\":\"\"}},\"type\":\"parcoords\"}],\"pie\":[{\"automargin\":true,\"type\":\"pie\"}],\"scatter3d\":[{\"line\":{\"colorbar\":{\"outlinewidth\":0,\"ticks\":\"\"}},\"marker\":{\"colorbar\":{\"outlinewidth\":0,\"ticks\":\"\"}},\"type\":\"scatter3d\"}],\"scattercarpet\":[{\"marker\":{\"colorbar\":{\"outlinewidth\":0,\"ticks\":\"\"}},\"type\":\"scattercarpet\"}],\"scattergeo\":[{\"marker\":{\"colorbar\":{\"outlinewidth\":0,\"ticks\":\"\"}},\"type\":\"scattergeo\"}],\"scattergl\":[{\"marker\":{\"colorbar\":{\"outlinewidth\":0,\"ticks\":\"\"}},\"type\":\"scattergl\"}],\"scattermapbox\":[{\"marker\":{\"colorbar\":{\"outlinewidth\":0,\"ticks\":\"\"}},\"type\":\"scattermapbox\"}],\"scatterpolargl\":[{\"marker\":{\"colorbar\":{\"outlinewidth\":0,\"ticks\":\"\"}},\"type\":\"scatterpolargl\"}],\"scatterpolar\":[{\"marker\":{\"colorbar\":{\"outlinewidth\":0,\"ticks\":\"\"}},\"type\":\"scatterpolar\"}],\"scatter\":[{\"marker\":{\"colorbar\":{\"outlinewidth\":0,\"ticks\":\"\"}},\"type\":\"scatter\"}],\"scatterternary\":[{\"marker\":{\"colorbar\":{\"outlinewidth\":0,\"ticks\":\"\"}},\"type\":\"scatterternary\"}],\"surface\":[{\"colorbar\":{\"outlinewidth\":0,\"ticks\":\"\"},\"colorscale\":[[0.0,\"#0d0887\"],[0.1111111111111111,\"#46039f\"],[0.2222222222222222,\"#7201a8\"],[0.3333333333333333,\"#9c179e\"],[0.4444444444444444,\"#bd3786\"],[0.5555555555555556,\"#d8576b\"],[0.6666666666666666,\"#ed7953\"],[0.7777777777777778,\"#fb9f3a\"],[0.8888888888888888,\"#fdca26\"],[1.0,\"#f0f921\"]],\"type\":\"surface\"}],\"table\":[{\"cells\":{\"fill\":{\"color\":\"#EBF0F8\"},\"line\":{\"color\":\"white\"}},\"header\":{\"fill\":{\"color\":\"#C8D4E3\"},\"line\":{\"color\":\"white\"}},\"type\":\"table\"}]},\"layout\":{\"annotationdefaults\":{\"arrowcolor\":\"#2a3f5f\",\"arrowhead\":0,\"arrowwidth\":1},\"autotypenumbers\":\"strict\",\"coloraxis\":{\"colorbar\":{\"outlinewidth\":0,\"ticks\":\"\"}},\"colorscale\":{\"diverging\":[[0,\"#8e0152\"],[0.1,\"#c51b7d\"],[0.2,\"#de77ae\"],[0.3,\"#f1b6da\"],[0.4,\"#fde0ef\"],[0.5,\"#f7f7f7\"],[0.6,\"#e6f5d0\"],[0.7,\"#b8e186\"],[0.8,\"#7fbc41\"],[0.9,\"#4d9221\"],[1,\"#276419\"]],\"sequential\":[[0.0,\"#0d0887\"],[0.1111111111111111,\"#46039f\"],[0.2222222222222222,\"#7201a8\"],[0.3333333333333333,\"#9c179e\"],[0.4444444444444444,\"#bd3786\"],[0.5555555555555556,\"#d8576b\"],[0.6666666666666666,\"#ed7953\"],[0.7777777777777778,\"#fb9f3a\"],[0.8888888888888888,\"#fdca26\"],[1.0,\"#f0f921\"]],\"sequentialminus\":[[0.0,\"#0d0887\"],[0.1111111111111111,\"#46039f\"],[0.2222222222222222,\"#7201a8\"],[0.3333333333333333,\"#9c179e\"],[0.4444444444444444,\"#bd3786\"],[0.5555555555555556,\"#d8576b\"],[0.6666666666666666,\"#ed7953\"],[0.7777777777777778,\"#fb9f3a\"],[0.8888888888888888,\"#fdca26\"],[1.0,\"#f0f921\"]]},\"colorway\":[\"#636efa\",\"#EF553B\",\"#00cc96\",\"#ab63fa\",\"#FFA15A\",\"#19d3f3\",\"#FF6692\",\"#B6E880\",\"#FF97FF\",\"#FECB52\"],\"font\":{\"color\":\"#2a3f5f\"},\"geo\":{\"bgcolor\":\"white\",\"lakecolor\":\"white\",\"landcolor\":\"#E5ECF6\",\"showlakes\":true,\"showland\":true,\"subunitcolor\":\"white\"},\"hoverlabel\":{\"align\":\"left\"},\"hovermode\":\"closest\",\"mapbox\":{\"style\":\"light\"},\"paper_bgcolor\":\"white\",\"plot_bgcolor\":\"#E5ECF6\",\"polar\":{\"angularaxis\":{\"gridcolor\":\"white\",\"linecolor\":\"white\",\"ticks\":\"\"},\"bgcolor\":\"#E5ECF6\",\"radialaxis\":{\"gridcolor\":\"white\",\"linecolor\":\"white\",\"ticks\":\"\"}},\"scene\":{\"xaxis\":{\"backgroundcolor\":\"#E5ECF6\",\"gridcolor\":\"white\",\"gridwidth\":2,\"linecolor\":\"white\",\"showbackground\":true,\"ticks\":\"\",\"zerolinecolor\":\"white\"},\"yaxis\":{\"backgroundcolor\":\"#E5ECF6\",\"gridcolor\":\"white\",\"gridwidth\":2,\"linecolor\":\"white\",\"showbackground\":true,\"ticks\":\"\",\"zerolinecolor\":\"white\"},\"zaxis\":{\"backgroundcolor\":\"#E5ECF6\",\"gridcolor\":\"white\",\"gridwidth\":2,\"linecolor\":\"white\",\"showbackground\":true,\"ticks\":\"\",\"zerolinecolor\":\"white\"}},\"shapedefaults\":{\"line\":{\"color\":\"#2a3f5f\"}},\"ternary\":{\"aaxis\":{\"gridcolor\":\"white\",\"linecolor\":\"white\",\"ticks\":\"\"},\"baxis\":{\"gridcolor\":\"white\",\"linecolor\":\"white\",\"ticks\":\"\"},\"bgcolor\":\"#E5ECF6\",\"caxis\":{\"gridcolor\":\"white\",\"linecolor\":\"white\",\"ticks\":\"\"}},\"title\":{\"x\":0.05},\"xaxis\":{\"automargin\":true,\"gridcolor\":\"white\",\"linecolor\":\"white\",\"ticks\":\"\",\"title\":{\"standoff\":15},\"zerolinecolor\":\"white\",\"zerolinewidth\":2},\"yaxis\":{\"automargin\":true,\"gridcolor\":\"white\",\"linecolor\":\"white\",\"ticks\":\"\",\"title\":{\"standoff\":15},\"zerolinecolor\":\"white\",\"zerolinewidth\":2}}},\"title\":{\"font\":{\"color\":\"#4D5663\"}},\"xaxis\":{\"gridcolor\":\"#E1E5ED\",\"showgrid\":true,\"tickfont\":{\"color\":\"#4D5663\"},\"title\":{\"font\":{\"color\":\"#4D5663\"},\"text\":\"\"},\"zerolinecolor\":\"#E1E5ED\"},\"yaxis\":{\"gridcolor\":\"#E1E5ED\",\"showgrid\":true,\"tickfont\":{\"color\":\"#4D5663\"},\"title\":{\"font\":{\"color\":\"#4D5663\"},\"text\":\"\"},\"zerolinecolor\":\"#E1E5ED\"}},                        {\"showLink\": true, \"linkText\": \"Export to plot.ly\", \"plotlyServerURL\": \"https://plot.ly\", \"responsive\": true}                    ).then(function(){\n",
       "                            \n",
       "var gd = document.getElementById('6b543d93-1925-4291-9c15-423899df7df5');\n",
       "var x = new MutationObserver(function (mutations, observer) {{\n",
       "        var display = window.getComputedStyle(gd).display;\n",
       "        if (!display || display === 'none') {{\n",
       "            console.log([gd, 'removed!']);\n",
       "            Plotly.purge(gd);\n",
       "            observer.disconnect();\n",
       "        }}\n",
       "}});\n",
       "\n",
       "// Listen for the removal of the full notebook cells\n",
       "var notebookContainer = gd.closest('#notebook-container');\n",
       "if (notebookContainer) {{\n",
       "    x.observe(notebookContainer, {childList: true});\n",
       "}}\n",
       "\n",
       "// Listen for the clearing of the current output cell\n",
       "var outputEl = gd.closest('.output');\n",
       "if (outputEl) {{\n",
       "    x.observe(outputEl, {childList: true});\n",
       "}}\n",
       "\n",
       "                        })                };                });            </script>        </div>"
      ]
     },
     "metadata": {},
     "output_type": "display_data"
    }
   ],
   "source": [
    "df3.iplot(kind ='bubble', x='x',y='z', size='z')          # play with this"
   ]
  },
  {
   "cell_type": "markdown",
   "id": "a0b5c745",
   "metadata": {},
   "source": [
    "# Scatter_matrix"
   ]
  },
  {
   "cell_type": "code",
   "execution_count": 22,
   "id": "337a04c6",
   "metadata": {},
   "outputs": [
    {
     "data": {
      "application/vnd.plotly.v1+json": {
       "config": {
        "linkText": "Export to plot.ly",
        "plotlyServerURL": "https://plot.ly",
        "showLink": true
       },
       "data": [
        {
         "histfunc": "count",
         "histnorm": "",
         "marker": {
          "color": "rgba(255, 153, 51, 1.0)",
          "line": {
           "color": "#4D5663",
           "width": 1.3
          }
         },
         "name": "A",
         "nbinsx": 10,
         "opacity": 0.8,
         "orientation": "v",
         "type": "histogram",
         "x": [
          -0.2161184228253383,
          0.8792932512052545,
          0.8159294643263392,
          -0.4635332026275159,
          1.2480606583511327,
          1.1636709077699556,
          0.7922609344528071,
          -0.487105657576173,
          0.5421078085365659,
          0.5700116946872794,
          0.8239368808080885,
          -2.025932373181993,
          -0.7813558580603188,
          -0.8034398249519679,
          1.2512029139420504,
          -0.820332122346455,
          -1.6512522046007363,
          1.5682988107869604,
          -0.0063207362410987915,
          0.4004905726878128,
          0.5203258238161681,
          1.8279603356320633,
          0.13283157408988597,
          1.542945359288579,
          1.6651922182738557,
          -0.18907056450707943,
          0.5662895926834438,
          -0.4460591334360272,
          -0.5962532719116784,
          -0.5631527736349463,
          2.0839310694181905,
          -0.3747192099598198,
          0.2469317564261832,
          -0.4871280695792462,
          -1.399511059198512,
          -0.9279823397322188,
          0.3390474827073605,
          1.0170979834933276,
          -0.1348568156422785,
          1.2344989287853096,
          -0.273536936893138,
          0.5969711416695731,
          -0.5019729300786134,
          -1.5731701762261463,
          -0.776546301945367,
          -0.04443145956515006,
          -0.8568286686510093,
          -0.024763966728982578,
          0.7837974913189243,
          0.9010994038155039,
          -0.4730980172755114,
          0.207587519407055,
          -0.6771743196350672,
          1.2863142031525987,
          1.0405050456937595,
          0.06872578685904618,
          0.20037742174726073,
          0.43338326497446955,
          -1.1232782954405904,
          0.40114918501688485,
          0.5906859056001391,
          2.966926846259941,
          -0.23043343271553118,
          -0.8732939562117886,
          1.14121108723957,
          -0.4914311190409125,
          1.2800135159775534,
          0.8703759276983618,
          -0.69160728844988,
          1.1149661429079787,
          -1.0368988106557855,
          -1.856129353554703,
          0.07728497234778402,
          -0.5566709010013736,
          0.0017236191367242851,
          0.33896141298782556,
          -0.34634373933597523,
          -0.4314493717931845,
          -0.24830094093459376,
          0.7942439153979056,
          0.355227483466092,
          -0.9023647603026724,
          0.26053844043329494,
          -1.4960110241555,
          -0.03606981923271355,
          0.8973986520322429,
          0.8765836951666557,
          0.8099946509436573,
          -0.2546804984597161,
          -1.0077879926848405,
          -1.2867994667714329,
          1.5576794947939168,
          0.019057905893780924,
          -0.5441990567110787,
          0.49670405962304026,
          -0.4854564908395615,
          0.01630221623572593,
          0.4829915653490035,
          0.43406524706242366,
          -0.1857395357813015
         ],
         "xaxis": "x",
         "yaxis": "y"
        },
        {
         "line": {
          "color": "rgba(128, 128, 128, 1.0)",
          "dash": "solid",
          "shape": "linear",
          "width": 1.3
         },
         "marker": {
          "size": 2,
          "symbol": "circle"
         },
         "mode": "markers",
         "name": "A",
         "text": "",
         "type": "scatter",
         "x": [
          0.6009272176053823,
          -0.47328375717875815,
          1.5102796829570875,
          0.13698648280279452,
          -0.08207927123680447,
          1.3807419460829236,
          0.0008884140464625894,
          1.6770396104112533,
          0.3834029797448087,
          -0.2690010326323169,
          1.597398260776538,
          0.7351648892726675,
          0.10551643845443366,
          -0.6311209883918225,
          0.5572390618218849,
          -0.7738078928039479,
          0.21116745930062886,
          0.14078423344846921,
          -0.4212439874653056,
          -2.3793733930614014,
          1.4212147209842563,
          -0.5812791086667076,
          -0.9415571482963713,
          0.6306110755837304,
          -1.2411071380593497,
          -0.6046780270124452,
          -1.0559399304488928,
          0.42279176280029,
          -1.226271418081291,
          -1.131325103094806,
          -0.8889977036219829,
          1.2648058753496236,
          -0.48442636834005676,
          0.7108960890827798,
          1.3725402153716952,
          -0.5675961974427753,
          0.9253553237255685,
          -0.5692932152077298,
          -0.4174221274552496,
          -0.6979921244017261,
          -0.3393646826749617,
          -1.8087896518381883,
          0.3758793349821352,
          -0.39199851456008206,
          0.07117604173337383,
          -1.213063945919289,
          0.07552353850305901,
          -2.4856059003298836,
          0.451007261823913,
          -0.2289835339458214,
          2.120458797452917,
          -0.6083107357715691,
          0.3047972548593639,
          0.8166894152888184,
          -0.3543723312937055,
          0.9270475773868493,
          0.21671452232011124,
          -1.0860561840875944,
          -0.9241637527989113,
          0.6469123061061172,
          -0.5604065178745599,
          -1.3026393979314375,
          -0.40837785458920023,
          -2.053389222406837,
          0.452689699599634,
          -0.5456880220604482,
          -0.3768008226061331,
          0.8395805250060749,
          0.15638033915065708,
          1.8378173141312133,
          0.18122406269354446,
          -0.5802911040274235,
          -0.9323718692835864,
          0.4085690155151971,
          -1.133680474934867,
          0.36264440141564863,
          0.39943820817481523,
          -0.9810313174504565,
          -1.9976005280155338,
          1.37253433673606,
          0.5368407330853499,
          -0.8077790783101932,
          1.2122769887218132,
          -1.0354813312940023,
          0.7911735578805896,
          -1.8950724841036661,
          -0.2987687049820244,
          -0.6523694211047908,
          0.3830716691262919,
          0.6284618766425324,
          -0.9618366538721196,
          0.3426388646253289,
          1.5482473743187941,
          0.5798472356535777,
          -2.113126103357163,
          -1.6964437945831647,
          1.4718284936317474,
          -2.0029776122015877,
          0.8932118075364441,
          0.34649521334632055
         ],
         "xaxis": "x2",
         "y": [
          -0.2161184228253383,
          0.8792932512052545,
          0.8159294643263392,
          -0.4635332026275159,
          1.2480606583511327,
          1.1636709077699556,
          0.7922609344528071,
          -0.487105657576173,
          0.5421078085365659,
          0.5700116946872794,
          0.8239368808080885,
          -2.025932373181993,
          -0.7813558580603188,
          -0.8034398249519679,
          1.2512029139420504,
          -0.820332122346455,
          -1.6512522046007363,
          1.5682988107869604,
          -0.0063207362410987915,
          0.4004905726878128,
          0.5203258238161681,
          1.8279603356320633,
          0.13283157408988597,
          1.542945359288579,
          1.6651922182738557,
          -0.18907056450707943,
          0.5662895926834438,
          -0.4460591334360272,
          -0.5962532719116784,
          -0.5631527736349463,
          2.0839310694181905,
          -0.3747192099598198,
          0.2469317564261832,
          -0.4871280695792462,
          -1.399511059198512,
          -0.9279823397322188,
          0.3390474827073605,
          1.0170979834933276,
          -0.1348568156422785,
          1.2344989287853096,
          -0.273536936893138,
          0.5969711416695731,
          -0.5019729300786134,
          -1.5731701762261463,
          -0.776546301945367,
          -0.04443145956515006,
          -0.8568286686510093,
          -0.024763966728982578,
          0.7837974913189243,
          0.9010994038155039,
          -0.4730980172755114,
          0.207587519407055,
          -0.6771743196350672,
          1.2863142031525987,
          1.0405050456937595,
          0.06872578685904618,
          0.20037742174726073,
          0.43338326497446955,
          -1.1232782954405904,
          0.40114918501688485,
          0.5906859056001391,
          2.966926846259941,
          -0.23043343271553118,
          -0.8732939562117886,
          1.14121108723957,
          -0.4914311190409125,
          1.2800135159775534,
          0.8703759276983618,
          -0.69160728844988,
          1.1149661429079787,
          -1.0368988106557855,
          -1.856129353554703,
          0.07728497234778402,
          -0.5566709010013736,
          0.0017236191367242851,
          0.33896141298782556,
          -0.34634373933597523,
          -0.4314493717931845,
          -0.24830094093459376,
          0.7942439153979056,
          0.355227483466092,
          -0.9023647603026724,
          0.26053844043329494,
          -1.4960110241555,
          -0.03606981923271355,
          0.8973986520322429,
          0.8765836951666557,
          0.8099946509436573,
          -0.2546804984597161,
          -1.0077879926848405,
          -1.2867994667714329,
          1.5576794947939168,
          0.019057905893780924,
          -0.5441990567110787,
          0.49670405962304026,
          -0.4854564908395615,
          0.01630221623572593,
          0.4829915653490035,
          0.43406524706242366,
          -0.1857395357813015
         ],
         "yaxis": "y2"
        },
        {
         "line": {
          "color": "rgba(128, 128, 128, 1.0)",
          "dash": "solid",
          "shape": "linear",
          "width": 1.3
         },
         "marker": {
          "size": 2,
          "symbol": "circle"
         },
         "mode": "markers",
         "name": "A",
         "text": "",
         "type": "scatter",
         "x": [
          -0.4904504640967385,
          0.7841649518309355,
          -0.304245861238214,
          0.23262635876766635,
          0.08550828795745093,
          -0.8480255295587014,
          -0.261206028417855,
          1.0577907507364823,
          -1.101211299395131,
          -0.8251206259790931,
          -0.8978443455398513,
          -1.3514533730965124,
          -0.08209426487329435,
          -0.15139757915670202,
          0.2551354321183675,
          0.7703496534057965,
          0.773461549697534,
          -0.3347489154005215,
          0.6823655341579137,
          1.4071878994586549,
          -0.08446934617102379,
          -0.057352780586065716,
          -0.8181938637541752,
          -0.3560552277971145,
          -0.9984524257539489,
          1.6397690684243977,
          1.1179692063944224,
          0.3016059541460915,
          -0.6555521607761945,
          0.31408554857118415,
          1.227842316464888,
          -1.0195835569969778,
          -0.23147217036371884,
          0.9688885701855176,
          0.3663791034068689,
          0.8895085682664936,
          0.1201048283525484,
          -0.2172456199843793,
          0.1221729936381177,
          -0.612688742724828,
          0.39353475351006906,
          -0.4669143592048186,
          0.48145897828600465,
          -1.1566262906735671,
          -1.4434906919821,
          -0.9508393391930143,
          -0.003905118567913522,
          -0.5703679260845474,
          0.6142004685346247,
          -0.6636259640583964,
          0.33594584828727947,
          -1.2246674803442719,
          -1.236122125254678,
          0.3752526319017947,
          0.7099385626038475,
          0.17588998239427525,
          -1.2768953229807145,
          -0.49754404575867583,
          -0.6597825379125649,
          -0.5990728023481424,
          -0.2027848998469554,
          0.49485969059168494,
          -0.21227013145286733,
          1.3053375964643223,
          -0.8379394644268467,
          -0.45173954324054766,
          -0.05020726114742386,
          -0.2465739411683541,
          -1.1559622908329785,
          2.1133715942228823,
          1.1499141155808377,
          -0.719668428072425,
          -1.313000128638488,
          -0.14086947149501206,
          1.352762400486382,
          -0.6024865304159895,
          0.1718946732091916,
          1.4981161545518924,
          0.016829820834161107,
          1.0853450021473872,
          -0.2997287900870656,
          -0.4097044924835301,
          0.344109881082276,
          -0.6574881286582049,
          0.7113548511406034,
          0.2548188733433786,
          -0.021435383179694616,
          0.4318443895919997,
          0.8996224765853629,
          3.553100284631579,
          0.9933288132365087,
          -0.6552503456956092,
          -0.013637084233192327,
          -1.4199077874391282,
          0.7487366691982029,
          0.7258439388367351,
          -1.9525003408463535,
          0.3293431165215186,
          1.9586055182184048,
          -0.7840212250751724
         ],
         "xaxis": "x3",
         "y": [
          -0.2161184228253383,
          0.8792932512052545,
          0.8159294643263392,
          -0.4635332026275159,
          1.2480606583511327,
          1.1636709077699556,
          0.7922609344528071,
          -0.487105657576173,
          0.5421078085365659,
          0.5700116946872794,
          0.8239368808080885,
          -2.025932373181993,
          -0.7813558580603188,
          -0.8034398249519679,
          1.2512029139420504,
          -0.820332122346455,
          -1.6512522046007363,
          1.5682988107869604,
          -0.0063207362410987915,
          0.4004905726878128,
          0.5203258238161681,
          1.8279603356320633,
          0.13283157408988597,
          1.542945359288579,
          1.6651922182738557,
          -0.18907056450707943,
          0.5662895926834438,
          -0.4460591334360272,
          -0.5962532719116784,
          -0.5631527736349463,
          2.0839310694181905,
          -0.3747192099598198,
          0.2469317564261832,
          -0.4871280695792462,
          -1.399511059198512,
          -0.9279823397322188,
          0.3390474827073605,
          1.0170979834933276,
          -0.1348568156422785,
          1.2344989287853096,
          -0.273536936893138,
          0.5969711416695731,
          -0.5019729300786134,
          -1.5731701762261463,
          -0.776546301945367,
          -0.04443145956515006,
          -0.8568286686510093,
          -0.024763966728982578,
          0.7837974913189243,
          0.9010994038155039,
          -0.4730980172755114,
          0.207587519407055,
          -0.6771743196350672,
          1.2863142031525987,
          1.0405050456937595,
          0.06872578685904618,
          0.20037742174726073,
          0.43338326497446955,
          -1.1232782954405904,
          0.40114918501688485,
          0.5906859056001391,
          2.966926846259941,
          -0.23043343271553118,
          -0.8732939562117886,
          1.14121108723957,
          -0.4914311190409125,
          1.2800135159775534,
          0.8703759276983618,
          -0.69160728844988,
          1.1149661429079787,
          -1.0368988106557855,
          -1.856129353554703,
          0.07728497234778402,
          -0.5566709010013736,
          0.0017236191367242851,
          0.33896141298782556,
          -0.34634373933597523,
          -0.4314493717931845,
          -0.24830094093459376,
          0.7942439153979056,
          0.355227483466092,
          -0.9023647603026724,
          0.26053844043329494,
          -1.4960110241555,
          -0.03606981923271355,
          0.8973986520322429,
          0.8765836951666557,
          0.8099946509436573,
          -0.2546804984597161,
          -1.0077879926848405,
          -1.2867994667714329,
          1.5576794947939168,
          0.019057905893780924,
          -0.5441990567110787,
          0.49670405962304026,
          -0.4854564908395615,
          0.01630221623572593,
          0.4829915653490035,
          0.43406524706242366,
          -0.1857395357813015
         ],
         "yaxis": "y3"
        },
        {
         "line": {
          "color": "rgba(128, 128, 128, 1.0)",
          "dash": "solid",
          "shape": "linear",
          "width": 1.3
         },
         "marker": {
          "size": 2,
          "symbol": "circle"
         },
         "mode": "markers",
         "name": "A",
         "text": "",
         "type": "scatter",
         "x": [
          -0.8318095314056883,
          -2.127859918718398,
          -0.3575127033959953,
          -0.49268790264262496,
          -0.9842456189860612,
          -0.4322563501816288,
          1.4747481391427955,
          0.5062475500603716,
          0.1310274861695234,
          0.4076442076473248,
          -0.7314277467778747,
          -2.9173499945957015,
          -0.9525047054693334,
          0.9118756724059636,
          0.25707034536142476,
          -1.297283158962134,
          0.2739781162595153,
          -0.055826607954760944,
          1.369622226965602,
          -1.2131724971600937,
          -0.8835939036173868,
          -0.844149223135671,
          -0.68250650360624,
          -1.3518867014911353,
          -1.2816275147266365,
          0.1759794026747841,
          -1.356871510619065,
          1.3549346160688758,
          -0.27950043685794207,
          0.9985181852854951,
          0.4035777150848172,
          0.24312444125046834,
          -2.126567552985169,
          1.4493216102722268,
          -0.5298276395414622,
          1.758955947594909,
          0.297331467286769,
          -0.1616950211119704,
          -0.4900760987941368,
          -0.019444513164756882,
          -1.4159961045579175,
          -0.4120808596173528,
          -1.3803598812563393,
          -0.3231294951467188,
          1.3766811066155502,
          -0.6339101000476981,
          -0.32396673433423534,
          1.6467984924910295,
          -1.8254364787042479,
          -0.4594675796723408,
          0.42524149720831955,
          1.5274272211227722,
          2.1138493561271434,
          0.3654477098013026,
          0.3991245714626832,
          0.337614416309407,
          -0.3722626463820364,
          -0.4798913494136549,
          0.20582739295966054,
          1.2285443927162687,
          1.8174528357214632,
          0.7712321037504603,
          -1.0946578564305034,
          -0.18252255724725008,
          0.22200143560962432,
          -0.5873964743421906,
          1.6263915255296177,
          -2.916122165498321,
          1.1354859105944033,
          -0.5612830154318965,
          -2.5338859015393456,
          0.27780592184573993,
          -0.3012395407551603,
          -0.0045730447550044375,
          -0.932026565625512,
          1.006996189347714,
          0.7228320567260069,
          -0.2103306858622351,
          0.07462380696174241,
          0.4128345793013187,
          1.290054881012775,
          0.34733728642021644,
          0.2514302473231246,
          0.06281411331243862,
          0.9127943035268626,
          -0.54464021317776,
          -1.514225799209707,
          0.36184983975761076,
          -0.4179529054782026,
          -0.05496050782729679,
          1.1824281136304102,
          -1.4133747748422434,
          0.938351498687969,
          2.1368044486512656,
          -0.052174832351982114,
          0.1865572824582993,
          -0.5729502162863898,
          -0.5817387839485517,
          0.43581422277414844,
          -2.7096282960158526
         ],
         "xaxis": "x4",
         "y": [
          -0.2161184228253383,
          0.8792932512052545,
          0.8159294643263392,
          -0.4635332026275159,
          1.2480606583511327,
          1.1636709077699556,
          0.7922609344528071,
          -0.487105657576173,
          0.5421078085365659,
          0.5700116946872794,
          0.8239368808080885,
          -2.025932373181993,
          -0.7813558580603188,
          -0.8034398249519679,
          1.2512029139420504,
          -0.820332122346455,
          -1.6512522046007363,
          1.5682988107869604,
          -0.0063207362410987915,
          0.4004905726878128,
          0.5203258238161681,
          1.8279603356320633,
          0.13283157408988597,
          1.542945359288579,
          1.6651922182738557,
          -0.18907056450707943,
          0.5662895926834438,
          -0.4460591334360272,
          -0.5962532719116784,
          -0.5631527736349463,
          2.0839310694181905,
          -0.3747192099598198,
          0.2469317564261832,
          -0.4871280695792462,
          -1.399511059198512,
          -0.9279823397322188,
          0.3390474827073605,
          1.0170979834933276,
          -0.1348568156422785,
          1.2344989287853096,
          -0.273536936893138,
          0.5969711416695731,
          -0.5019729300786134,
          -1.5731701762261463,
          -0.776546301945367,
          -0.04443145956515006,
          -0.8568286686510093,
          -0.024763966728982578,
          0.7837974913189243,
          0.9010994038155039,
          -0.4730980172755114,
          0.207587519407055,
          -0.6771743196350672,
          1.2863142031525987,
          1.0405050456937595,
          0.06872578685904618,
          0.20037742174726073,
          0.43338326497446955,
          -1.1232782954405904,
          0.40114918501688485,
          0.5906859056001391,
          2.966926846259941,
          -0.23043343271553118,
          -0.8732939562117886,
          1.14121108723957,
          -0.4914311190409125,
          1.2800135159775534,
          0.8703759276983618,
          -0.69160728844988,
          1.1149661429079787,
          -1.0368988106557855,
          -1.856129353554703,
          0.07728497234778402,
          -0.5566709010013736,
          0.0017236191367242851,
          0.33896141298782556,
          -0.34634373933597523,
          -0.4314493717931845,
          -0.24830094093459376,
          0.7942439153979056,
          0.355227483466092,
          -0.9023647603026724,
          0.26053844043329494,
          -1.4960110241555,
          -0.03606981923271355,
          0.8973986520322429,
          0.8765836951666557,
          0.8099946509436573,
          -0.2546804984597161,
          -1.0077879926848405,
          -1.2867994667714329,
          1.5576794947939168,
          0.019057905893780924,
          -0.5441990567110787,
          0.49670405962304026,
          -0.4854564908395615,
          0.01630221623572593,
          0.4829915653490035,
          0.43406524706242366,
          -0.1857395357813015
         ],
         "yaxis": "y4"
        },
        {
         "line": {
          "color": "rgba(128, 128, 128, 1.0)",
          "dash": "solid",
          "shape": "linear",
          "width": 1.3
         },
         "marker": {
          "size": 2,
          "symbol": "circle"
         },
         "mode": "markers",
         "name": "A",
         "text": "",
         "type": "scatter",
         "x": [
          0.985838989899486,
          0.21665256404644945,
          -1.4889031476281207,
          1.3876759317971679,
          0.5710992956833156,
          0.16374187863852463,
          -2.1706736396949498,
          0.19077717470631023,
          -0.27640171123488794,
          -0.7659030027417768,
          -0.9110672948102684,
          -1.3810824348721282,
          0.31793048738075586,
          0.5853699445262994,
          0.061462725006460994,
          -0.07410210757726512,
          -1.1806776449152259,
          0.7516053312905685,
          -1.5122130292802862,
          -0.2961906071419889,
          0.46503893149889275,
          0.19894853394605636,
          -1.9934980582451969,
          0.9590994132320767,
          -0.1082944304485146,
          -1.3109076409134526,
          1.0034588358102212,
          0.37765653683793965,
          0.9480888527360907,
          -0.5996730280193047,
          -0.24064440293746917,
          -0.6878280292402045,
          -0.9220452902725172,
          0.8002119805059846,
          -1.6104225638271787,
          0.9388577018866815,
          0.9029143350784757,
          -1.2004177089372596,
          -1.161030054269115,
          -0.24708457785562524,
          -0.11079675489137149,
          1.1302343282235041,
          0.21672092477696148,
          -0.06600779335608177,
          -0.8559480620795749,
          -1.7271894285586022,
          1.1012891399413387,
          -0.5233424546129773,
          -0.4295596884208994,
          -0.7338296808164192,
          -0.7951980646834268,
          -1.7749778857106635,
          1.4432059910070307,
          2.3960656171106334,
          -0.5530696854143431,
          2.1892029223457548,
          -1.5953607907146865,
          -0.2996578775184909,
          1.2999662824094993,
          -1.1708787580717988,
          -0.5347464084346105,
          1.2117032432670314,
          -0.08649483537720457,
          1.97409461680929,
          -1.0295090195009395,
          -0.012442497362611533,
          0.6432060279406185,
          -1.228594685397098,
          0.889127177754714,
          -1.5110039208620487,
          0.9279784460628189,
          0.19767556454771706,
          -1.2147369047700405,
          1.4950871259291127,
          0.03722613602021257,
          0.6095427437859312,
          -0.7168055764653345,
          0.1392411557047229,
          -1.5405393158372593,
          1.3688855607411003,
          1.652339810904066,
          0.11983929835394566,
          0.501981540004603,
          -0.31849208935861695,
          0.4474342446824646,
          -0.40686413021709095,
          -0.5715589688173871,
          -0.7610615600977046,
          0.4644825134725885,
          0.6790929295572973,
          -2.20861496436523,
          0.07711495796490156,
          -1.6699528186636468,
          -3.0641709594801285,
          1.7074670452404872,
          -0.15447929969220178,
          0.9506468488705513,
          0.7918133508667007,
          0.13147500786445818,
          -0.5357346870225651
         ],
         "xaxis": "x5",
         "y": [
          -0.2161184228253383,
          0.8792932512052545,
          0.8159294643263392,
          -0.4635332026275159,
          1.2480606583511327,
          1.1636709077699556,
          0.7922609344528071,
          -0.487105657576173,
          0.5421078085365659,
          0.5700116946872794,
          0.8239368808080885,
          -2.025932373181993,
          -0.7813558580603188,
          -0.8034398249519679,
          1.2512029139420504,
          -0.820332122346455,
          -1.6512522046007363,
          1.5682988107869604,
          -0.0063207362410987915,
          0.4004905726878128,
          0.5203258238161681,
          1.8279603356320633,
          0.13283157408988597,
          1.542945359288579,
          1.6651922182738557,
          -0.18907056450707943,
          0.5662895926834438,
          -0.4460591334360272,
          -0.5962532719116784,
          -0.5631527736349463,
          2.0839310694181905,
          -0.3747192099598198,
          0.2469317564261832,
          -0.4871280695792462,
          -1.399511059198512,
          -0.9279823397322188,
          0.3390474827073605,
          1.0170979834933276,
          -0.1348568156422785,
          1.2344989287853096,
          -0.273536936893138,
          0.5969711416695731,
          -0.5019729300786134,
          -1.5731701762261463,
          -0.776546301945367,
          -0.04443145956515006,
          -0.8568286686510093,
          -0.024763966728982578,
          0.7837974913189243,
          0.9010994038155039,
          -0.4730980172755114,
          0.207587519407055,
          -0.6771743196350672,
          1.2863142031525987,
          1.0405050456937595,
          0.06872578685904618,
          0.20037742174726073,
          0.43338326497446955,
          -1.1232782954405904,
          0.40114918501688485,
          0.5906859056001391,
          2.966926846259941,
          -0.23043343271553118,
          -0.8732939562117886,
          1.14121108723957,
          -0.4914311190409125,
          1.2800135159775534,
          0.8703759276983618,
          -0.69160728844988,
          1.1149661429079787,
          -1.0368988106557855,
          -1.856129353554703,
          0.07728497234778402,
          -0.5566709010013736,
          0.0017236191367242851,
          0.33896141298782556,
          -0.34634373933597523,
          -0.4314493717931845,
          -0.24830094093459376,
          0.7942439153979056,
          0.355227483466092,
          -0.9023647603026724,
          0.26053844043329494,
          -1.4960110241555,
          -0.03606981923271355,
          0.8973986520322429,
          0.8765836951666557,
          0.8099946509436573,
          -0.2546804984597161,
          -1.0077879926848405,
          -1.2867994667714329,
          1.5576794947939168,
          0.019057905893780924,
          -0.5441990567110787,
          0.49670405962304026,
          -0.4854564908395615,
          0.01630221623572593,
          0.4829915653490035,
          0.43406524706242366,
          -0.1857395357813015
         ],
         "yaxis": "y5"
        },
        {
         "line": {
          "color": "rgba(128, 128, 128, 1.0)",
          "dash": "solid",
          "shape": "linear",
          "width": 1.3
         },
         "marker": {
          "size": 2,
          "symbol": "circle"
         },
         "mode": "markers",
         "name": "B",
         "text": "",
         "type": "scatter",
         "x": [
          -0.2161184228253383,
          0.8792932512052545,
          0.8159294643263392,
          -0.4635332026275159,
          1.2480606583511327,
          1.1636709077699556,
          0.7922609344528071,
          -0.487105657576173,
          0.5421078085365659,
          0.5700116946872794,
          0.8239368808080885,
          -2.025932373181993,
          -0.7813558580603188,
          -0.8034398249519679,
          1.2512029139420504,
          -0.820332122346455,
          -1.6512522046007363,
          1.5682988107869604,
          -0.0063207362410987915,
          0.4004905726878128,
          0.5203258238161681,
          1.8279603356320633,
          0.13283157408988597,
          1.542945359288579,
          1.6651922182738557,
          -0.18907056450707943,
          0.5662895926834438,
          -0.4460591334360272,
          -0.5962532719116784,
          -0.5631527736349463,
          2.0839310694181905,
          -0.3747192099598198,
          0.2469317564261832,
          -0.4871280695792462,
          -1.399511059198512,
          -0.9279823397322188,
          0.3390474827073605,
          1.0170979834933276,
          -0.1348568156422785,
          1.2344989287853096,
          -0.273536936893138,
          0.5969711416695731,
          -0.5019729300786134,
          -1.5731701762261463,
          -0.776546301945367,
          -0.04443145956515006,
          -0.8568286686510093,
          -0.024763966728982578,
          0.7837974913189243,
          0.9010994038155039,
          -0.4730980172755114,
          0.207587519407055,
          -0.6771743196350672,
          1.2863142031525987,
          1.0405050456937595,
          0.06872578685904618,
          0.20037742174726073,
          0.43338326497446955,
          -1.1232782954405904,
          0.40114918501688485,
          0.5906859056001391,
          2.966926846259941,
          -0.23043343271553118,
          -0.8732939562117886,
          1.14121108723957,
          -0.4914311190409125,
          1.2800135159775534,
          0.8703759276983618,
          -0.69160728844988,
          1.1149661429079787,
          -1.0368988106557855,
          -1.856129353554703,
          0.07728497234778402,
          -0.5566709010013736,
          0.0017236191367242851,
          0.33896141298782556,
          -0.34634373933597523,
          -0.4314493717931845,
          -0.24830094093459376,
          0.7942439153979056,
          0.355227483466092,
          -0.9023647603026724,
          0.26053844043329494,
          -1.4960110241555,
          -0.03606981923271355,
          0.8973986520322429,
          0.8765836951666557,
          0.8099946509436573,
          -0.2546804984597161,
          -1.0077879926848405,
          -1.2867994667714329,
          1.5576794947939168,
          0.019057905893780924,
          -0.5441990567110787,
          0.49670405962304026,
          -0.4854564908395615,
          0.01630221623572593,
          0.4829915653490035,
          0.43406524706242366,
          -0.1857395357813015
         ],
         "xaxis": "x6",
         "y": [
          0.6009272176053823,
          -0.47328375717875815,
          1.5102796829570875,
          0.13698648280279452,
          -0.08207927123680447,
          1.3807419460829236,
          0.0008884140464625894,
          1.6770396104112533,
          0.3834029797448087,
          -0.2690010326323169,
          1.597398260776538,
          0.7351648892726675,
          0.10551643845443366,
          -0.6311209883918225,
          0.5572390618218849,
          -0.7738078928039479,
          0.21116745930062886,
          0.14078423344846921,
          -0.4212439874653056,
          -2.3793733930614014,
          1.4212147209842563,
          -0.5812791086667076,
          -0.9415571482963713,
          0.6306110755837304,
          -1.2411071380593497,
          -0.6046780270124452,
          -1.0559399304488928,
          0.42279176280029,
          -1.226271418081291,
          -1.131325103094806,
          -0.8889977036219829,
          1.2648058753496236,
          -0.48442636834005676,
          0.7108960890827798,
          1.3725402153716952,
          -0.5675961974427753,
          0.9253553237255685,
          -0.5692932152077298,
          -0.4174221274552496,
          -0.6979921244017261,
          -0.3393646826749617,
          -1.8087896518381883,
          0.3758793349821352,
          -0.39199851456008206,
          0.07117604173337383,
          -1.213063945919289,
          0.07552353850305901,
          -2.4856059003298836,
          0.451007261823913,
          -0.2289835339458214,
          2.120458797452917,
          -0.6083107357715691,
          0.3047972548593639,
          0.8166894152888184,
          -0.3543723312937055,
          0.9270475773868493,
          0.21671452232011124,
          -1.0860561840875944,
          -0.9241637527989113,
          0.6469123061061172,
          -0.5604065178745599,
          -1.3026393979314375,
          -0.40837785458920023,
          -2.053389222406837,
          0.452689699599634,
          -0.5456880220604482,
          -0.3768008226061331,
          0.8395805250060749,
          0.15638033915065708,
          1.8378173141312133,
          0.18122406269354446,
          -0.5802911040274235,
          -0.9323718692835864,
          0.4085690155151971,
          -1.133680474934867,
          0.36264440141564863,
          0.39943820817481523,
          -0.9810313174504565,
          -1.9976005280155338,
          1.37253433673606,
          0.5368407330853499,
          -0.8077790783101932,
          1.2122769887218132,
          -1.0354813312940023,
          0.7911735578805896,
          -1.8950724841036661,
          -0.2987687049820244,
          -0.6523694211047908,
          0.3830716691262919,
          0.6284618766425324,
          -0.9618366538721196,
          0.3426388646253289,
          1.5482473743187941,
          0.5798472356535777,
          -2.113126103357163,
          -1.6964437945831647,
          1.4718284936317474,
          -2.0029776122015877,
          0.8932118075364441,
          0.34649521334632055
         ],
         "yaxis": "y6"
        },
        {
         "histfunc": "count",
         "histnorm": "",
         "marker": {
          "color": "rgba(55, 128, 191, 1.0)",
          "line": {
           "color": "#4D5663",
           "width": 1.3
          }
         },
         "name": "B",
         "nbinsx": 10,
         "opacity": 0.8,
         "orientation": "v",
         "type": "histogram",
         "x": [
          0.6009272176053823,
          -0.47328375717875815,
          1.5102796829570875,
          0.13698648280279452,
          -0.08207927123680447,
          1.3807419460829236,
          0.0008884140464625894,
          1.6770396104112533,
          0.3834029797448087,
          -0.2690010326323169,
          1.597398260776538,
          0.7351648892726675,
          0.10551643845443366,
          -0.6311209883918225,
          0.5572390618218849,
          -0.7738078928039479,
          0.21116745930062886,
          0.14078423344846921,
          -0.4212439874653056,
          -2.3793733930614014,
          1.4212147209842563,
          -0.5812791086667076,
          -0.9415571482963713,
          0.6306110755837304,
          -1.2411071380593497,
          -0.6046780270124452,
          -1.0559399304488928,
          0.42279176280029,
          -1.226271418081291,
          -1.131325103094806,
          -0.8889977036219829,
          1.2648058753496236,
          -0.48442636834005676,
          0.7108960890827798,
          1.3725402153716952,
          -0.5675961974427753,
          0.9253553237255685,
          -0.5692932152077298,
          -0.4174221274552496,
          -0.6979921244017261,
          -0.3393646826749617,
          -1.8087896518381883,
          0.3758793349821352,
          -0.39199851456008206,
          0.07117604173337383,
          -1.213063945919289,
          0.07552353850305901,
          -2.4856059003298836,
          0.451007261823913,
          -0.2289835339458214,
          2.120458797452917,
          -0.6083107357715691,
          0.3047972548593639,
          0.8166894152888184,
          -0.3543723312937055,
          0.9270475773868493,
          0.21671452232011124,
          -1.0860561840875944,
          -0.9241637527989113,
          0.6469123061061172,
          -0.5604065178745599,
          -1.3026393979314375,
          -0.40837785458920023,
          -2.053389222406837,
          0.452689699599634,
          -0.5456880220604482,
          -0.3768008226061331,
          0.8395805250060749,
          0.15638033915065708,
          1.8378173141312133,
          0.18122406269354446,
          -0.5802911040274235,
          -0.9323718692835864,
          0.4085690155151971,
          -1.133680474934867,
          0.36264440141564863,
          0.39943820817481523,
          -0.9810313174504565,
          -1.9976005280155338,
          1.37253433673606,
          0.5368407330853499,
          -0.8077790783101932,
          1.2122769887218132,
          -1.0354813312940023,
          0.7911735578805896,
          -1.8950724841036661,
          -0.2987687049820244,
          -0.6523694211047908,
          0.3830716691262919,
          0.6284618766425324,
          -0.9618366538721196,
          0.3426388646253289,
          1.5482473743187941,
          0.5798472356535777,
          -2.113126103357163,
          -1.6964437945831647,
          1.4718284936317474,
          -2.0029776122015877,
          0.8932118075364441,
          0.34649521334632055
         ],
         "xaxis": "x7",
         "yaxis": "y7"
        },
        {
         "line": {
          "color": "rgba(128, 128, 128, 1.0)",
          "dash": "solid",
          "shape": "linear",
          "width": 1.3
         },
         "marker": {
          "size": 2,
          "symbol": "circle"
         },
         "mode": "markers",
         "name": "B",
         "text": "",
         "type": "scatter",
         "x": [
          -0.4904504640967385,
          0.7841649518309355,
          -0.304245861238214,
          0.23262635876766635,
          0.08550828795745093,
          -0.8480255295587014,
          -0.261206028417855,
          1.0577907507364823,
          -1.101211299395131,
          -0.8251206259790931,
          -0.8978443455398513,
          -1.3514533730965124,
          -0.08209426487329435,
          -0.15139757915670202,
          0.2551354321183675,
          0.7703496534057965,
          0.773461549697534,
          -0.3347489154005215,
          0.6823655341579137,
          1.4071878994586549,
          -0.08446934617102379,
          -0.057352780586065716,
          -0.8181938637541752,
          -0.3560552277971145,
          -0.9984524257539489,
          1.6397690684243977,
          1.1179692063944224,
          0.3016059541460915,
          -0.6555521607761945,
          0.31408554857118415,
          1.227842316464888,
          -1.0195835569969778,
          -0.23147217036371884,
          0.9688885701855176,
          0.3663791034068689,
          0.8895085682664936,
          0.1201048283525484,
          -0.2172456199843793,
          0.1221729936381177,
          -0.612688742724828,
          0.39353475351006906,
          -0.4669143592048186,
          0.48145897828600465,
          -1.1566262906735671,
          -1.4434906919821,
          -0.9508393391930143,
          -0.003905118567913522,
          -0.5703679260845474,
          0.6142004685346247,
          -0.6636259640583964,
          0.33594584828727947,
          -1.2246674803442719,
          -1.236122125254678,
          0.3752526319017947,
          0.7099385626038475,
          0.17588998239427525,
          -1.2768953229807145,
          -0.49754404575867583,
          -0.6597825379125649,
          -0.5990728023481424,
          -0.2027848998469554,
          0.49485969059168494,
          -0.21227013145286733,
          1.3053375964643223,
          -0.8379394644268467,
          -0.45173954324054766,
          -0.05020726114742386,
          -0.2465739411683541,
          -1.1559622908329785,
          2.1133715942228823,
          1.1499141155808377,
          -0.719668428072425,
          -1.313000128638488,
          -0.14086947149501206,
          1.352762400486382,
          -0.6024865304159895,
          0.1718946732091916,
          1.4981161545518924,
          0.016829820834161107,
          1.0853450021473872,
          -0.2997287900870656,
          -0.4097044924835301,
          0.344109881082276,
          -0.6574881286582049,
          0.7113548511406034,
          0.2548188733433786,
          -0.021435383179694616,
          0.4318443895919997,
          0.8996224765853629,
          3.553100284631579,
          0.9933288132365087,
          -0.6552503456956092,
          -0.013637084233192327,
          -1.4199077874391282,
          0.7487366691982029,
          0.7258439388367351,
          -1.9525003408463535,
          0.3293431165215186,
          1.9586055182184048,
          -0.7840212250751724
         ],
         "xaxis": "x8",
         "y": [
          0.6009272176053823,
          -0.47328375717875815,
          1.5102796829570875,
          0.13698648280279452,
          -0.08207927123680447,
          1.3807419460829236,
          0.0008884140464625894,
          1.6770396104112533,
          0.3834029797448087,
          -0.2690010326323169,
          1.597398260776538,
          0.7351648892726675,
          0.10551643845443366,
          -0.6311209883918225,
          0.5572390618218849,
          -0.7738078928039479,
          0.21116745930062886,
          0.14078423344846921,
          -0.4212439874653056,
          -2.3793733930614014,
          1.4212147209842563,
          -0.5812791086667076,
          -0.9415571482963713,
          0.6306110755837304,
          -1.2411071380593497,
          -0.6046780270124452,
          -1.0559399304488928,
          0.42279176280029,
          -1.226271418081291,
          -1.131325103094806,
          -0.8889977036219829,
          1.2648058753496236,
          -0.48442636834005676,
          0.7108960890827798,
          1.3725402153716952,
          -0.5675961974427753,
          0.9253553237255685,
          -0.5692932152077298,
          -0.4174221274552496,
          -0.6979921244017261,
          -0.3393646826749617,
          -1.8087896518381883,
          0.3758793349821352,
          -0.39199851456008206,
          0.07117604173337383,
          -1.213063945919289,
          0.07552353850305901,
          -2.4856059003298836,
          0.451007261823913,
          -0.2289835339458214,
          2.120458797452917,
          -0.6083107357715691,
          0.3047972548593639,
          0.8166894152888184,
          -0.3543723312937055,
          0.9270475773868493,
          0.21671452232011124,
          -1.0860561840875944,
          -0.9241637527989113,
          0.6469123061061172,
          -0.5604065178745599,
          -1.3026393979314375,
          -0.40837785458920023,
          -2.053389222406837,
          0.452689699599634,
          -0.5456880220604482,
          -0.3768008226061331,
          0.8395805250060749,
          0.15638033915065708,
          1.8378173141312133,
          0.18122406269354446,
          -0.5802911040274235,
          -0.9323718692835864,
          0.4085690155151971,
          -1.133680474934867,
          0.36264440141564863,
          0.39943820817481523,
          -0.9810313174504565,
          -1.9976005280155338,
          1.37253433673606,
          0.5368407330853499,
          -0.8077790783101932,
          1.2122769887218132,
          -1.0354813312940023,
          0.7911735578805896,
          -1.8950724841036661,
          -0.2987687049820244,
          -0.6523694211047908,
          0.3830716691262919,
          0.6284618766425324,
          -0.9618366538721196,
          0.3426388646253289,
          1.5482473743187941,
          0.5798472356535777,
          -2.113126103357163,
          -1.6964437945831647,
          1.4718284936317474,
          -2.0029776122015877,
          0.8932118075364441,
          0.34649521334632055
         ],
         "yaxis": "y8"
        },
        {
         "line": {
          "color": "rgba(128, 128, 128, 1.0)",
          "dash": "solid",
          "shape": "linear",
          "width": 1.3
         },
         "marker": {
          "size": 2,
          "symbol": "circle"
         },
         "mode": "markers",
         "name": "B",
         "text": "",
         "type": "scatter",
         "x": [
          -0.8318095314056883,
          -2.127859918718398,
          -0.3575127033959953,
          -0.49268790264262496,
          -0.9842456189860612,
          -0.4322563501816288,
          1.4747481391427955,
          0.5062475500603716,
          0.1310274861695234,
          0.4076442076473248,
          -0.7314277467778747,
          -2.9173499945957015,
          -0.9525047054693334,
          0.9118756724059636,
          0.25707034536142476,
          -1.297283158962134,
          0.2739781162595153,
          -0.055826607954760944,
          1.369622226965602,
          -1.2131724971600937,
          -0.8835939036173868,
          -0.844149223135671,
          -0.68250650360624,
          -1.3518867014911353,
          -1.2816275147266365,
          0.1759794026747841,
          -1.356871510619065,
          1.3549346160688758,
          -0.27950043685794207,
          0.9985181852854951,
          0.4035777150848172,
          0.24312444125046834,
          -2.126567552985169,
          1.4493216102722268,
          -0.5298276395414622,
          1.758955947594909,
          0.297331467286769,
          -0.1616950211119704,
          -0.4900760987941368,
          -0.019444513164756882,
          -1.4159961045579175,
          -0.4120808596173528,
          -1.3803598812563393,
          -0.3231294951467188,
          1.3766811066155502,
          -0.6339101000476981,
          -0.32396673433423534,
          1.6467984924910295,
          -1.8254364787042479,
          -0.4594675796723408,
          0.42524149720831955,
          1.5274272211227722,
          2.1138493561271434,
          0.3654477098013026,
          0.3991245714626832,
          0.337614416309407,
          -0.3722626463820364,
          -0.4798913494136549,
          0.20582739295966054,
          1.2285443927162687,
          1.8174528357214632,
          0.7712321037504603,
          -1.0946578564305034,
          -0.18252255724725008,
          0.22200143560962432,
          -0.5873964743421906,
          1.6263915255296177,
          -2.916122165498321,
          1.1354859105944033,
          -0.5612830154318965,
          -2.5338859015393456,
          0.27780592184573993,
          -0.3012395407551603,
          -0.0045730447550044375,
          -0.932026565625512,
          1.006996189347714,
          0.7228320567260069,
          -0.2103306858622351,
          0.07462380696174241,
          0.4128345793013187,
          1.290054881012775,
          0.34733728642021644,
          0.2514302473231246,
          0.06281411331243862,
          0.9127943035268626,
          -0.54464021317776,
          -1.514225799209707,
          0.36184983975761076,
          -0.4179529054782026,
          -0.05496050782729679,
          1.1824281136304102,
          -1.4133747748422434,
          0.938351498687969,
          2.1368044486512656,
          -0.052174832351982114,
          0.1865572824582993,
          -0.5729502162863898,
          -0.5817387839485517,
          0.43581422277414844,
          -2.7096282960158526
         ],
         "xaxis": "x9",
         "y": [
          0.6009272176053823,
          -0.47328375717875815,
          1.5102796829570875,
          0.13698648280279452,
          -0.08207927123680447,
          1.3807419460829236,
          0.0008884140464625894,
          1.6770396104112533,
          0.3834029797448087,
          -0.2690010326323169,
          1.597398260776538,
          0.7351648892726675,
          0.10551643845443366,
          -0.6311209883918225,
          0.5572390618218849,
          -0.7738078928039479,
          0.21116745930062886,
          0.14078423344846921,
          -0.4212439874653056,
          -2.3793733930614014,
          1.4212147209842563,
          -0.5812791086667076,
          -0.9415571482963713,
          0.6306110755837304,
          -1.2411071380593497,
          -0.6046780270124452,
          -1.0559399304488928,
          0.42279176280029,
          -1.226271418081291,
          -1.131325103094806,
          -0.8889977036219829,
          1.2648058753496236,
          -0.48442636834005676,
          0.7108960890827798,
          1.3725402153716952,
          -0.5675961974427753,
          0.9253553237255685,
          -0.5692932152077298,
          -0.4174221274552496,
          -0.6979921244017261,
          -0.3393646826749617,
          -1.8087896518381883,
          0.3758793349821352,
          -0.39199851456008206,
          0.07117604173337383,
          -1.213063945919289,
          0.07552353850305901,
          -2.4856059003298836,
          0.451007261823913,
          -0.2289835339458214,
          2.120458797452917,
          -0.6083107357715691,
          0.3047972548593639,
          0.8166894152888184,
          -0.3543723312937055,
          0.9270475773868493,
          0.21671452232011124,
          -1.0860561840875944,
          -0.9241637527989113,
          0.6469123061061172,
          -0.5604065178745599,
          -1.3026393979314375,
          -0.40837785458920023,
          -2.053389222406837,
          0.452689699599634,
          -0.5456880220604482,
          -0.3768008226061331,
          0.8395805250060749,
          0.15638033915065708,
          1.8378173141312133,
          0.18122406269354446,
          -0.5802911040274235,
          -0.9323718692835864,
          0.4085690155151971,
          -1.133680474934867,
          0.36264440141564863,
          0.39943820817481523,
          -0.9810313174504565,
          -1.9976005280155338,
          1.37253433673606,
          0.5368407330853499,
          -0.8077790783101932,
          1.2122769887218132,
          -1.0354813312940023,
          0.7911735578805896,
          -1.8950724841036661,
          -0.2987687049820244,
          -0.6523694211047908,
          0.3830716691262919,
          0.6284618766425324,
          -0.9618366538721196,
          0.3426388646253289,
          1.5482473743187941,
          0.5798472356535777,
          -2.113126103357163,
          -1.6964437945831647,
          1.4718284936317474,
          -2.0029776122015877,
          0.8932118075364441,
          0.34649521334632055
         ],
         "yaxis": "y9"
        },
        {
         "line": {
          "color": "rgba(128, 128, 128, 1.0)",
          "dash": "solid",
          "shape": "linear",
          "width": 1.3
         },
         "marker": {
          "size": 2,
          "symbol": "circle"
         },
         "mode": "markers",
         "name": "B",
         "text": "",
         "type": "scatter",
         "x": [
          0.985838989899486,
          0.21665256404644945,
          -1.4889031476281207,
          1.3876759317971679,
          0.5710992956833156,
          0.16374187863852463,
          -2.1706736396949498,
          0.19077717470631023,
          -0.27640171123488794,
          -0.7659030027417768,
          -0.9110672948102684,
          -1.3810824348721282,
          0.31793048738075586,
          0.5853699445262994,
          0.061462725006460994,
          -0.07410210757726512,
          -1.1806776449152259,
          0.7516053312905685,
          -1.5122130292802862,
          -0.2961906071419889,
          0.46503893149889275,
          0.19894853394605636,
          -1.9934980582451969,
          0.9590994132320767,
          -0.1082944304485146,
          -1.3109076409134526,
          1.0034588358102212,
          0.37765653683793965,
          0.9480888527360907,
          -0.5996730280193047,
          -0.24064440293746917,
          -0.6878280292402045,
          -0.9220452902725172,
          0.8002119805059846,
          -1.6104225638271787,
          0.9388577018866815,
          0.9029143350784757,
          -1.2004177089372596,
          -1.161030054269115,
          -0.24708457785562524,
          -0.11079675489137149,
          1.1302343282235041,
          0.21672092477696148,
          -0.06600779335608177,
          -0.8559480620795749,
          -1.7271894285586022,
          1.1012891399413387,
          -0.5233424546129773,
          -0.4295596884208994,
          -0.7338296808164192,
          -0.7951980646834268,
          -1.7749778857106635,
          1.4432059910070307,
          2.3960656171106334,
          -0.5530696854143431,
          2.1892029223457548,
          -1.5953607907146865,
          -0.2996578775184909,
          1.2999662824094993,
          -1.1708787580717988,
          -0.5347464084346105,
          1.2117032432670314,
          -0.08649483537720457,
          1.97409461680929,
          -1.0295090195009395,
          -0.012442497362611533,
          0.6432060279406185,
          -1.228594685397098,
          0.889127177754714,
          -1.5110039208620487,
          0.9279784460628189,
          0.19767556454771706,
          -1.2147369047700405,
          1.4950871259291127,
          0.03722613602021257,
          0.6095427437859312,
          -0.7168055764653345,
          0.1392411557047229,
          -1.5405393158372593,
          1.3688855607411003,
          1.652339810904066,
          0.11983929835394566,
          0.501981540004603,
          -0.31849208935861695,
          0.4474342446824646,
          -0.40686413021709095,
          -0.5715589688173871,
          -0.7610615600977046,
          0.4644825134725885,
          0.6790929295572973,
          -2.20861496436523,
          0.07711495796490156,
          -1.6699528186636468,
          -3.0641709594801285,
          1.7074670452404872,
          -0.15447929969220178,
          0.9506468488705513,
          0.7918133508667007,
          0.13147500786445818,
          -0.5357346870225651
         ],
         "xaxis": "x10",
         "y": [
          0.6009272176053823,
          -0.47328375717875815,
          1.5102796829570875,
          0.13698648280279452,
          -0.08207927123680447,
          1.3807419460829236,
          0.0008884140464625894,
          1.6770396104112533,
          0.3834029797448087,
          -0.2690010326323169,
          1.597398260776538,
          0.7351648892726675,
          0.10551643845443366,
          -0.6311209883918225,
          0.5572390618218849,
          -0.7738078928039479,
          0.21116745930062886,
          0.14078423344846921,
          -0.4212439874653056,
          -2.3793733930614014,
          1.4212147209842563,
          -0.5812791086667076,
          -0.9415571482963713,
          0.6306110755837304,
          -1.2411071380593497,
          -0.6046780270124452,
          -1.0559399304488928,
          0.42279176280029,
          -1.226271418081291,
          -1.131325103094806,
          -0.8889977036219829,
          1.2648058753496236,
          -0.48442636834005676,
          0.7108960890827798,
          1.3725402153716952,
          -0.5675961974427753,
          0.9253553237255685,
          -0.5692932152077298,
          -0.4174221274552496,
          -0.6979921244017261,
          -0.3393646826749617,
          -1.8087896518381883,
          0.3758793349821352,
          -0.39199851456008206,
          0.07117604173337383,
          -1.213063945919289,
          0.07552353850305901,
          -2.4856059003298836,
          0.451007261823913,
          -0.2289835339458214,
          2.120458797452917,
          -0.6083107357715691,
          0.3047972548593639,
          0.8166894152888184,
          -0.3543723312937055,
          0.9270475773868493,
          0.21671452232011124,
          -1.0860561840875944,
          -0.9241637527989113,
          0.6469123061061172,
          -0.5604065178745599,
          -1.3026393979314375,
          -0.40837785458920023,
          -2.053389222406837,
          0.452689699599634,
          -0.5456880220604482,
          -0.3768008226061331,
          0.8395805250060749,
          0.15638033915065708,
          1.8378173141312133,
          0.18122406269354446,
          -0.5802911040274235,
          -0.9323718692835864,
          0.4085690155151971,
          -1.133680474934867,
          0.36264440141564863,
          0.39943820817481523,
          -0.9810313174504565,
          -1.9976005280155338,
          1.37253433673606,
          0.5368407330853499,
          -0.8077790783101932,
          1.2122769887218132,
          -1.0354813312940023,
          0.7911735578805896,
          -1.8950724841036661,
          -0.2987687049820244,
          -0.6523694211047908,
          0.3830716691262919,
          0.6284618766425324,
          -0.9618366538721196,
          0.3426388646253289,
          1.5482473743187941,
          0.5798472356535777,
          -2.113126103357163,
          -1.6964437945831647,
          1.4718284936317474,
          -2.0029776122015877,
          0.8932118075364441,
          0.34649521334632055
         ],
         "yaxis": "y10"
        },
        {
         "line": {
          "color": "rgba(128, 128, 128, 1.0)",
          "dash": "solid",
          "shape": "linear",
          "width": 1.3
         },
         "marker": {
          "size": 2,
          "symbol": "circle"
         },
         "mode": "markers",
         "name": "C",
         "text": "",
         "type": "scatter",
         "x": [
          -0.2161184228253383,
          0.8792932512052545,
          0.8159294643263392,
          -0.4635332026275159,
          1.2480606583511327,
          1.1636709077699556,
          0.7922609344528071,
          -0.487105657576173,
          0.5421078085365659,
          0.5700116946872794,
          0.8239368808080885,
          -2.025932373181993,
          -0.7813558580603188,
          -0.8034398249519679,
          1.2512029139420504,
          -0.820332122346455,
          -1.6512522046007363,
          1.5682988107869604,
          -0.0063207362410987915,
          0.4004905726878128,
          0.5203258238161681,
          1.8279603356320633,
          0.13283157408988597,
          1.542945359288579,
          1.6651922182738557,
          -0.18907056450707943,
          0.5662895926834438,
          -0.4460591334360272,
          -0.5962532719116784,
          -0.5631527736349463,
          2.0839310694181905,
          -0.3747192099598198,
          0.2469317564261832,
          -0.4871280695792462,
          -1.399511059198512,
          -0.9279823397322188,
          0.3390474827073605,
          1.0170979834933276,
          -0.1348568156422785,
          1.2344989287853096,
          -0.273536936893138,
          0.5969711416695731,
          -0.5019729300786134,
          -1.5731701762261463,
          -0.776546301945367,
          -0.04443145956515006,
          -0.8568286686510093,
          -0.024763966728982578,
          0.7837974913189243,
          0.9010994038155039,
          -0.4730980172755114,
          0.207587519407055,
          -0.6771743196350672,
          1.2863142031525987,
          1.0405050456937595,
          0.06872578685904618,
          0.20037742174726073,
          0.43338326497446955,
          -1.1232782954405904,
          0.40114918501688485,
          0.5906859056001391,
          2.966926846259941,
          -0.23043343271553118,
          -0.8732939562117886,
          1.14121108723957,
          -0.4914311190409125,
          1.2800135159775534,
          0.8703759276983618,
          -0.69160728844988,
          1.1149661429079787,
          -1.0368988106557855,
          -1.856129353554703,
          0.07728497234778402,
          -0.5566709010013736,
          0.0017236191367242851,
          0.33896141298782556,
          -0.34634373933597523,
          -0.4314493717931845,
          -0.24830094093459376,
          0.7942439153979056,
          0.355227483466092,
          -0.9023647603026724,
          0.26053844043329494,
          -1.4960110241555,
          -0.03606981923271355,
          0.8973986520322429,
          0.8765836951666557,
          0.8099946509436573,
          -0.2546804984597161,
          -1.0077879926848405,
          -1.2867994667714329,
          1.5576794947939168,
          0.019057905893780924,
          -0.5441990567110787,
          0.49670405962304026,
          -0.4854564908395615,
          0.01630221623572593,
          0.4829915653490035,
          0.43406524706242366,
          -0.1857395357813015
         ],
         "xaxis": "x11",
         "y": [
          -0.4904504640967385,
          0.7841649518309355,
          -0.304245861238214,
          0.23262635876766635,
          0.08550828795745093,
          -0.8480255295587014,
          -0.261206028417855,
          1.0577907507364823,
          -1.101211299395131,
          -0.8251206259790931,
          -0.8978443455398513,
          -1.3514533730965124,
          -0.08209426487329435,
          -0.15139757915670202,
          0.2551354321183675,
          0.7703496534057965,
          0.773461549697534,
          -0.3347489154005215,
          0.6823655341579137,
          1.4071878994586549,
          -0.08446934617102379,
          -0.057352780586065716,
          -0.8181938637541752,
          -0.3560552277971145,
          -0.9984524257539489,
          1.6397690684243977,
          1.1179692063944224,
          0.3016059541460915,
          -0.6555521607761945,
          0.31408554857118415,
          1.227842316464888,
          -1.0195835569969778,
          -0.23147217036371884,
          0.9688885701855176,
          0.3663791034068689,
          0.8895085682664936,
          0.1201048283525484,
          -0.2172456199843793,
          0.1221729936381177,
          -0.612688742724828,
          0.39353475351006906,
          -0.4669143592048186,
          0.48145897828600465,
          -1.1566262906735671,
          -1.4434906919821,
          -0.9508393391930143,
          -0.003905118567913522,
          -0.5703679260845474,
          0.6142004685346247,
          -0.6636259640583964,
          0.33594584828727947,
          -1.2246674803442719,
          -1.236122125254678,
          0.3752526319017947,
          0.7099385626038475,
          0.17588998239427525,
          -1.2768953229807145,
          -0.49754404575867583,
          -0.6597825379125649,
          -0.5990728023481424,
          -0.2027848998469554,
          0.49485969059168494,
          -0.21227013145286733,
          1.3053375964643223,
          -0.8379394644268467,
          -0.45173954324054766,
          -0.05020726114742386,
          -0.2465739411683541,
          -1.1559622908329785,
          2.1133715942228823,
          1.1499141155808377,
          -0.719668428072425,
          -1.313000128638488,
          -0.14086947149501206,
          1.352762400486382,
          -0.6024865304159895,
          0.1718946732091916,
          1.4981161545518924,
          0.016829820834161107,
          1.0853450021473872,
          -0.2997287900870656,
          -0.4097044924835301,
          0.344109881082276,
          -0.6574881286582049,
          0.7113548511406034,
          0.2548188733433786,
          -0.021435383179694616,
          0.4318443895919997,
          0.8996224765853629,
          3.553100284631579,
          0.9933288132365087,
          -0.6552503456956092,
          -0.013637084233192327,
          -1.4199077874391282,
          0.7487366691982029,
          0.7258439388367351,
          -1.9525003408463535,
          0.3293431165215186,
          1.9586055182184048,
          -0.7840212250751724
         ],
         "yaxis": "y11"
        },
        {
         "line": {
          "color": "rgba(128, 128, 128, 1.0)",
          "dash": "solid",
          "shape": "linear",
          "width": 1.3
         },
         "marker": {
          "size": 2,
          "symbol": "circle"
         },
         "mode": "markers",
         "name": "C",
         "text": "",
         "type": "scatter",
         "x": [
          0.6009272176053823,
          -0.47328375717875815,
          1.5102796829570875,
          0.13698648280279452,
          -0.08207927123680447,
          1.3807419460829236,
          0.0008884140464625894,
          1.6770396104112533,
          0.3834029797448087,
          -0.2690010326323169,
          1.597398260776538,
          0.7351648892726675,
          0.10551643845443366,
          -0.6311209883918225,
          0.5572390618218849,
          -0.7738078928039479,
          0.21116745930062886,
          0.14078423344846921,
          -0.4212439874653056,
          -2.3793733930614014,
          1.4212147209842563,
          -0.5812791086667076,
          -0.9415571482963713,
          0.6306110755837304,
          -1.2411071380593497,
          -0.6046780270124452,
          -1.0559399304488928,
          0.42279176280029,
          -1.226271418081291,
          -1.131325103094806,
          -0.8889977036219829,
          1.2648058753496236,
          -0.48442636834005676,
          0.7108960890827798,
          1.3725402153716952,
          -0.5675961974427753,
          0.9253553237255685,
          -0.5692932152077298,
          -0.4174221274552496,
          -0.6979921244017261,
          -0.3393646826749617,
          -1.8087896518381883,
          0.3758793349821352,
          -0.39199851456008206,
          0.07117604173337383,
          -1.213063945919289,
          0.07552353850305901,
          -2.4856059003298836,
          0.451007261823913,
          -0.2289835339458214,
          2.120458797452917,
          -0.6083107357715691,
          0.3047972548593639,
          0.8166894152888184,
          -0.3543723312937055,
          0.9270475773868493,
          0.21671452232011124,
          -1.0860561840875944,
          -0.9241637527989113,
          0.6469123061061172,
          -0.5604065178745599,
          -1.3026393979314375,
          -0.40837785458920023,
          -2.053389222406837,
          0.452689699599634,
          -0.5456880220604482,
          -0.3768008226061331,
          0.8395805250060749,
          0.15638033915065708,
          1.8378173141312133,
          0.18122406269354446,
          -0.5802911040274235,
          -0.9323718692835864,
          0.4085690155151971,
          -1.133680474934867,
          0.36264440141564863,
          0.39943820817481523,
          -0.9810313174504565,
          -1.9976005280155338,
          1.37253433673606,
          0.5368407330853499,
          -0.8077790783101932,
          1.2122769887218132,
          -1.0354813312940023,
          0.7911735578805896,
          -1.8950724841036661,
          -0.2987687049820244,
          -0.6523694211047908,
          0.3830716691262919,
          0.6284618766425324,
          -0.9618366538721196,
          0.3426388646253289,
          1.5482473743187941,
          0.5798472356535777,
          -2.113126103357163,
          -1.6964437945831647,
          1.4718284936317474,
          -2.0029776122015877,
          0.8932118075364441,
          0.34649521334632055
         ],
         "xaxis": "x12",
         "y": [
          -0.4904504640967385,
          0.7841649518309355,
          -0.304245861238214,
          0.23262635876766635,
          0.08550828795745093,
          -0.8480255295587014,
          -0.261206028417855,
          1.0577907507364823,
          -1.101211299395131,
          -0.8251206259790931,
          -0.8978443455398513,
          -1.3514533730965124,
          -0.08209426487329435,
          -0.15139757915670202,
          0.2551354321183675,
          0.7703496534057965,
          0.773461549697534,
          -0.3347489154005215,
          0.6823655341579137,
          1.4071878994586549,
          -0.08446934617102379,
          -0.057352780586065716,
          -0.8181938637541752,
          -0.3560552277971145,
          -0.9984524257539489,
          1.6397690684243977,
          1.1179692063944224,
          0.3016059541460915,
          -0.6555521607761945,
          0.31408554857118415,
          1.227842316464888,
          -1.0195835569969778,
          -0.23147217036371884,
          0.9688885701855176,
          0.3663791034068689,
          0.8895085682664936,
          0.1201048283525484,
          -0.2172456199843793,
          0.1221729936381177,
          -0.612688742724828,
          0.39353475351006906,
          -0.4669143592048186,
          0.48145897828600465,
          -1.1566262906735671,
          -1.4434906919821,
          -0.9508393391930143,
          -0.003905118567913522,
          -0.5703679260845474,
          0.6142004685346247,
          -0.6636259640583964,
          0.33594584828727947,
          -1.2246674803442719,
          -1.236122125254678,
          0.3752526319017947,
          0.7099385626038475,
          0.17588998239427525,
          -1.2768953229807145,
          -0.49754404575867583,
          -0.6597825379125649,
          -0.5990728023481424,
          -0.2027848998469554,
          0.49485969059168494,
          -0.21227013145286733,
          1.3053375964643223,
          -0.8379394644268467,
          -0.45173954324054766,
          -0.05020726114742386,
          -0.2465739411683541,
          -1.1559622908329785,
          2.1133715942228823,
          1.1499141155808377,
          -0.719668428072425,
          -1.313000128638488,
          -0.14086947149501206,
          1.352762400486382,
          -0.6024865304159895,
          0.1718946732091916,
          1.4981161545518924,
          0.016829820834161107,
          1.0853450021473872,
          -0.2997287900870656,
          -0.4097044924835301,
          0.344109881082276,
          -0.6574881286582049,
          0.7113548511406034,
          0.2548188733433786,
          -0.021435383179694616,
          0.4318443895919997,
          0.8996224765853629,
          3.553100284631579,
          0.9933288132365087,
          -0.6552503456956092,
          -0.013637084233192327,
          -1.4199077874391282,
          0.7487366691982029,
          0.7258439388367351,
          -1.9525003408463535,
          0.3293431165215186,
          1.9586055182184048,
          -0.7840212250751724
         ],
         "yaxis": "y12"
        },
        {
         "histfunc": "count",
         "histnorm": "",
         "marker": {
          "color": "rgba(50, 171, 96, 1.0)",
          "line": {
           "color": "#4D5663",
           "width": 1.3
          }
         },
         "name": "C",
         "nbinsx": 10,
         "opacity": 0.8,
         "orientation": "v",
         "type": "histogram",
         "x": [
          -0.4904504640967385,
          0.7841649518309355,
          -0.304245861238214,
          0.23262635876766635,
          0.08550828795745093,
          -0.8480255295587014,
          -0.261206028417855,
          1.0577907507364823,
          -1.101211299395131,
          -0.8251206259790931,
          -0.8978443455398513,
          -1.3514533730965124,
          -0.08209426487329435,
          -0.15139757915670202,
          0.2551354321183675,
          0.7703496534057965,
          0.773461549697534,
          -0.3347489154005215,
          0.6823655341579137,
          1.4071878994586549,
          -0.08446934617102379,
          -0.057352780586065716,
          -0.8181938637541752,
          -0.3560552277971145,
          -0.9984524257539489,
          1.6397690684243977,
          1.1179692063944224,
          0.3016059541460915,
          -0.6555521607761945,
          0.31408554857118415,
          1.227842316464888,
          -1.0195835569969778,
          -0.23147217036371884,
          0.9688885701855176,
          0.3663791034068689,
          0.8895085682664936,
          0.1201048283525484,
          -0.2172456199843793,
          0.1221729936381177,
          -0.612688742724828,
          0.39353475351006906,
          -0.4669143592048186,
          0.48145897828600465,
          -1.1566262906735671,
          -1.4434906919821,
          -0.9508393391930143,
          -0.003905118567913522,
          -0.5703679260845474,
          0.6142004685346247,
          -0.6636259640583964,
          0.33594584828727947,
          -1.2246674803442719,
          -1.236122125254678,
          0.3752526319017947,
          0.7099385626038475,
          0.17588998239427525,
          -1.2768953229807145,
          -0.49754404575867583,
          -0.6597825379125649,
          -0.5990728023481424,
          -0.2027848998469554,
          0.49485969059168494,
          -0.21227013145286733,
          1.3053375964643223,
          -0.8379394644268467,
          -0.45173954324054766,
          -0.05020726114742386,
          -0.2465739411683541,
          -1.1559622908329785,
          2.1133715942228823,
          1.1499141155808377,
          -0.719668428072425,
          -1.313000128638488,
          -0.14086947149501206,
          1.352762400486382,
          -0.6024865304159895,
          0.1718946732091916,
          1.4981161545518924,
          0.016829820834161107,
          1.0853450021473872,
          -0.2997287900870656,
          -0.4097044924835301,
          0.344109881082276,
          -0.6574881286582049,
          0.7113548511406034,
          0.2548188733433786,
          -0.021435383179694616,
          0.4318443895919997,
          0.8996224765853629,
          3.553100284631579,
          0.9933288132365087,
          -0.6552503456956092,
          -0.013637084233192327,
          -1.4199077874391282,
          0.7487366691982029,
          0.7258439388367351,
          -1.9525003408463535,
          0.3293431165215186,
          1.9586055182184048,
          -0.7840212250751724
         ],
         "xaxis": "x13",
         "yaxis": "y13"
        },
        {
         "line": {
          "color": "rgba(128, 128, 128, 1.0)",
          "dash": "solid",
          "shape": "linear",
          "width": 1.3
         },
         "marker": {
          "size": 2,
          "symbol": "circle"
         },
         "mode": "markers",
         "name": "C",
         "text": "",
         "type": "scatter",
         "x": [
          -0.8318095314056883,
          -2.127859918718398,
          -0.3575127033959953,
          -0.49268790264262496,
          -0.9842456189860612,
          -0.4322563501816288,
          1.4747481391427955,
          0.5062475500603716,
          0.1310274861695234,
          0.4076442076473248,
          -0.7314277467778747,
          -2.9173499945957015,
          -0.9525047054693334,
          0.9118756724059636,
          0.25707034536142476,
          -1.297283158962134,
          0.2739781162595153,
          -0.055826607954760944,
          1.369622226965602,
          -1.2131724971600937,
          -0.8835939036173868,
          -0.844149223135671,
          -0.68250650360624,
          -1.3518867014911353,
          -1.2816275147266365,
          0.1759794026747841,
          -1.356871510619065,
          1.3549346160688758,
          -0.27950043685794207,
          0.9985181852854951,
          0.4035777150848172,
          0.24312444125046834,
          -2.126567552985169,
          1.4493216102722268,
          -0.5298276395414622,
          1.758955947594909,
          0.297331467286769,
          -0.1616950211119704,
          -0.4900760987941368,
          -0.019444513164756882,
          -1.4159961045579175,
          -0.4120808596173528,
          -1.3803598812563393,
          -0.3231294951467188,
          1.3766811066155502,
          -0.6339101000476981,
          -0.32396673433423534,
          1.6467984924910295,
          -1.8254364787042479,
          -0.4594675796723408,
          0.42524149720831955,
          1.5274272211227722,
          2.1138493561271434,
          0.3654477098013026,
          0.3991245714626832,
          0.337614416309407,
          -0.3722626463820364,
          -0.4798913494136549,
          0.20582739295966054,
          1.2285443927162687,
          1.8174528357214632,
          0.7712321037504603,
          -1.0946578564305034,
          -0.18252255724725008,
          0.22200143560962432,
          -0.5873964743421906,
          1.6263915255296177,
          -2.916122165498321,
          1.1354859105944033,
          -0.5612830154318965,
          -2.5338859015393456,
          0.27780592184573993,
          -0.3012395407551603,
          -0.0045730447550044375,
          -0.932026565625512,
          1.006996189347714,
          0.7228320567260069,
          -0.2103306858622351,
          0.07462380696174241,
          0.4128345793013187,
          1.290054881012775,
          0.34733728642021644,
          0.2514302473231246,
          0.06281411331243862,
          0.9127943035268626,
          -0.54464021317776,
          -1.514225799209707,
          0.36184983975761076,
          -0.4179529054782026,
          -0.05496050782729679,
          1.1824281136304102,
          -1.4133747748422434,
          0.938351498687969,
          2.1368044486512656,
          -0.052174832351982114,
          0.1865572824582993,
          -0.5729502162863898,
          -0.5817387839485517,
          0.43581422277414844,
          -2.7096282960158526
         ],
         "xaxis": "x14",
         "y": [
          -0.4904504640967385,
          0.7841649518309355,
          -0.304245861238214,
          0.23262635876766635,
          0.08550828795745093,
          -0.8480255295587014,
          -0.261206028417855,
          1.0577907507364823,
          -1.101211299395131,
          -0.8251206259790931,
          -0.8978443455398513,
          -1.3514533730965124,
          -0.08209426487329435,
          -0.15139757915670202,
          0.2551354321183675,
          0.7703496534057965,
          0.773461549697534,
          -0.3347489154005215,
          0.6823655341579137,
          1.4071878994586549,
          -0.08446934617102379,
          -0.057352780586065716,
          -0.8181938637541752,
          -0.3560552277971145,
          -0.9984524257539489,
          1.6397690684243977,
          1.1179692063944224,
          0.3016059541460915,
          -0.6555521607761945,
          0.31408554857118415,
          1.227842316464888,
          -1.0195835569969778,
          -0.23147217036371884,
          0.9688885701855176,
          0.3663791034068689,
          0.8895085682664936,
          0.1201048283525484,
          -0.2172456199843793,
          0.1221729936381177,
          -0.612688742724828,
          0.39353475351006906,
          -0.4669143592048186,
          0.48145897828600465,
          -1.1566262906735671,
          -1.4434906919821,
          -0.9508393391930143,
          -0.003905118567913522,
          -0.5703679260845474,
          0.6142004685346247,
          -0.6636259640583964,
          0.33594584828727947,
          -1.2246674803442719,
          -1.236122125254678,
          0.3752526319017947,
          0.7099385626038475,
          0.17588998239427525,
          -1.2768953229807145,
          -0.49754404575867583,
          -0.6597825379125649,
          -0.5990728023481424,
          -0.2027848998469554,
          0.49485969059168494,
          -0.21227013145286733,
          1.3053375964643223,
          -0.8379394644268467,
          -0.45173954324054766,
          -0.05020726114742386,
          -0.2465739411683541,
          -1.1559622908329785,
          2.1133715942228823,
          1.1499141155808377,
          -0.719668428072425,
          -1.313000128638488,
          -0.14086947149501206,
          1.352762400486382,
          -0.6024865304159895,
          0.1718946732091916,
          1.4981161545518924,
          0.016829820834161107,
          1.0853450021473872,
          -0.2997287900870656,
          -0.4097044924835301,
          0.344109881082276,
          -0.6574881286582049,
          0.7113548511406034,
          0.2548188733433786,
          -0.021435383179694616,
          0.4318443895919997,
          0.8996224765853629,
          3.553100284631579,
          0.9933288132365087,
          -0.6552503456956092,
          -0.013637084233192327,
          -1.4199077874391282,
          0.7487366691982029,
          0.7258439388367351,
          -1.9525003408463535,
          0.3293431165215186,
          1.9586055182184048,
          -0.7840212250751724
         ],
         "yaxis": "y14"
        },
        {
         "line": {
          "color": "rgba(128, 128, 128, 1.0)",
          "dash": "solid",
          "shape": "linear",
          "width": 1.3
         },
         "marker": {
          "size": 2,
          "symbol": "circle"
         },
         "mode": "markers",
         "name": "C",
         "text": "",
         "type": "scatter",
         "x": [
          0.985838989899486,
          0.21665256404644945,
          -1.4889031476281207,
          1.3876759317971679,
          0.5710992956833156,
          0.16374187863852463,
          -2.1706736396949498,
          0.19077717470631023,
          -0.27640171123488794,
          -0.7659030027417768,
          -0.9110672948102684,
          -1.3810824348721282,
          0.31793048738075586,
          0.5853699445262994,
          0.061462725006460994,
          -0.07410210757726512,
          -1.1806776449152259,
          0.7516053312905685,
          -1.5122130292802862,
          -0.2961906071419889,
          0.46503893149889275,
          0.19894853394605636,
          -1.9934980582451969,
          0.9590994132320767,
          -0.1082944304485146,
          -1.3109076409134526,
          1.0034588358102212,
          0.37765653683793965,
          0.9480888527360907,
          -0.5996730280193047,
          -0.24064440293746917,
          -0.6878280292402045,
          -0.9220452902725172,
          0.8002119805059846,
          -1.6104225638271787,
          0.9388577018866815,
          0.9029143350784757,
          -1.2004177089372596,
          -1.161030054269115,
          -0.24708457785562524,
          -0.11079675489137149,
          1.1302343282235041,
          0.21672092477696148,
          -0.06600779335608177,
          -0.8559480620795749,
          -1.7271894285586022,
          1.1012891399413387,
          -0.5233424546129773,
          -0.4295596884208994,
          -0.7338296808164192,
          -0.7951980646834268,
          -1.7749778857106635,
          1.4432059910070307,
          2.3960656171106334,
          -0.5530696854143431,
          2.1892029223457548,
          -1.5953607907146865,
          -0.2996578775184909,
          1.2999662824094993,
          -1.1708787580717988,
          -0.5347464084346105,
          1.2117032432670314,
          -0.08649483537720457,
          1.97409461680929,
          -1.0295090195009395,
          -0.012442497362611533,
          0.6432060279406185,
          -1.228594685397098,
          0.889127177754714,
          -1.5110039208620487,
          0.9279784460628189,
          0.19767556454771706,
          -1.2147369047700405,
          1.4950871259291127,
          0.03722613602021257,
          0.6095427437859312,
          -0.7168055764653345,
          0.1392411557047229,
          -1.5405393158372593,
          1.3688855607411003,
          1.652339810904066,
          0.11983929835394566,
          0.501981540004603,
          -0.31849208935861695,
          0.4474342446824646,
          -0.40686413021709095,
          -0.5715589688173871,
          -0.7610615600977046,
          0.4644825134725885,
          0.6790929295572973,
          -2.20861496436523,
          0.07711495796490156,
          -1.6699528186636468,
          -3.0641709594801285,
          1.7074670452404872,
          -0.15447929969220178,
          0.9506468488705513,
          0.7918133508667007,
          0.13147500786445818,
          -0.5357346870225651
         ],
         "xaxis": "x15",
         "y": [
          -0.4904504640967385,
          0.7841649518309355,
          -0.304245861238214,
          0.23262635876766635,
          0.08550828795745093,
          -0.8480255295587014,
          -0.261206028417855,
          1.0577907507364823,
          -1.101211299395131,
          -0.8251206259790931,
          -0.8978443455398513,
          -1.3514533730965124,
          -0.08209426487329435,
          -0.15139757915670202,
          0.2551354321183675,
          0.7703496534057965,
          0.773461549697534,
          -0.3347489154005215,
          0.6823655341579137,
          1.4071878994586549,
          -0.08446934617102379,
          -0.057352780586065716,
          -0.8181938637541752,
          -0.3560552277971145,
          -0.9984524257539489,
          1.6397690684243977,
          1.1179692063944224,
          0.3016059541460915,
          -0.6555521607761945,
          0.31408554857118415,
          1.227842316464888,
          -1.0195835569969778,
          -0.23147217036371884,
          0.9688885701855176,
          0.3663791034068689,
          0.8895085682664936,
          0.1201048283525484,
          -0.2172456199843793,
          0.1221729936381177,
          -0.612688742724828,
          0.39353475351006906,
          -0.4669143592048186,
          0.48145897828600465,
          -1.1566262906735671,
          -1.4434906919821,
          -0.9508393391930143,
          -0.003905118567913522,
          -0.5703679260845474,
          0.6142004685346247,
          -0.6636259640583964,
          0.33594584828727947,
          -1.2246674803442719,
          -1.236122125254678,
          0.3752526319017947,
          0.7099385626038475,
          0.17588998239427525,
          -1.2768953229807145,
          -0.49754404575867583,
          -0.6597825379125649,
          -0.5990728023481424,
          -0.2027848998469554,
          0.49485969059168494,
          -0.21227013145286733,
          1.3053375964643223,
          -0.8379394644268467,
          -0.45173954324054766,
          -0.05020726114742386,
          -0.2465739411683541,
          -1.1559622908329785,
          2.1133715942228823,
          1.1499141155808377,
          -0.719668428072425,
          -1.313000128638488,
          -0.14086947149501206,
          1.352762400486382,
          -0.6024865304159895,
          0.1718946732091916,
          1.4981161545518924,
          0.016829820834161107,
          1.0853450021473872,
          -0.2997287900870656,
          -0.4097044924835301,
          0.344109881082276,
          -0.6574881286582049,
          0.7113548511406034,
          0.2548188733433786,
          -0.021435383179694616,
          0.4318443895919997,
          0.8996224765853629,
          3.553100284631579,
          0.9933288132365087,
          -0.6552503456956092,
          -0.013637084233192327,
          -1.4199077874391282,
          0.7487366691982029,
          0.7258439388367351,
          -1.9525003408463535,
          0.3293431165215186,
          1.9586055182184048,
          -0.7840212250751724
         ],
         "yaxis": "y15"
        },
        {
         "line": {
          "color": "rgba(128, 128, 128, 1.0)",
          "dash": "solid",
          "shape": "linear",
          "width": 1.3
         },
         "marker": {
          "size": 2,
          "symbol": "circle"
         },
         "mode": "markers",
         "name": "D",
         "text": "",
         "type": "scatter",
         "x": [
          -0.2161184228253383,
          0.8792932512052545,
          0.8159294643263392,
          -0.4635332026275159,
          1.2480606583511327,
          1.1636709077699556,
          0.7922609344528071,
          -0.487105657576173,
          0.5421078085365659,
          0.5700116946872794,
          0.8239368808080885,
          -2.025932373181993,
          -0.7813558580603188,
          -0.8034398249519679,
          1.2512029139420504,
          -0.820332122346455,
          -1.6512522046007363,
          1.5682988107869604,
          -0.0063207362410987915,
          0.4004905726878128,
          0.5203258238161681,
          1.8279603356320633,
          0.13283157408988597,
          1.542945359288579,
          1.6651922182738557,
          -0.18907056450707943,
          0.5662895926834438,
          -0.4460591334360272,
          -0.5962532719116784,
          -0.5631527736349463,
          2.0839310694181905,
          -0.3747192099598198,
          0.2469317564261832,
          -0.4871280695792462,
          -1.399511059198512,
          -0.9279823397322188,
          0.3390474827073605,
          1.0170979834933276,
          -0.1348568156422785,
          1.2344989287853096,
          -0.273536936893138,
          0.5969711416695731,
          -0.5019729300786134,
          -1.5731701762261463,
          -0.776546301945367,
          -0.04443145956515006,
          -0.8568286686510093,
          -0.024763966728982578,
          0.7837974913189243,
          0.9010994038155039,
          -0.4730980172755114,
          0.207587519407055,
          -0.6771743196350672,
          1.2863142031525987,
          1.0405050456937595,
          0.06872578685904618,
          0.20037742174726073,
          0.43338326497446955,
          -1.1232782954405904,
          0.40114918501688485,
          0.5906859056001391,
          2.966926846259941,
          -0.23043343271553118,
          -0.8732939562117886,
          1.14121108723957,
          -0.4914311190409125,
          1.2800135159775534,
          0.8703759276983618,
          -0.69160728844988,
          1.1149661429079787,
          -1.0368988106557855,
          -1.856129353554703,
          0.07728497234778402,
          -0.5566709010013736,
          0.0017236191367242851,
          0.33896141298782556,
          -0.34634373933597523,
          -0.4314493717931845,
          -0.24830094093459376,
          0.7942439153979056,
          0.355227483466092,
          -0.9023647603026724,
          0.26053844043329494,
          -1.4960110241555,
          -0.03606981923271355,
          0.8973986520322429,
          0.8765836951666557,
          0.8099946509436573,
          -0.2546804984597161,
          -1.0077879926848405,
          -1.2867994667714329,
          1.5576794947939168,
          0.019057905893780924,
          -0.5441990567110787,
          0.49670405962304026,
          -0.4854564908395615,
          0.01630221623572593,
          0.4829915653490035,
          0.43406524706242366,
          -0.1857395357813015
         ],
         "xaxis": "x16",
         "y": [
          -0.8318095314056883,
          -2.127859918718398,
          -0.3575127033959953,
          -0.49268790264262496,
          -0.9842456189860612,
          -0.4322563501816288,
          1.4747481391427955,
          0.5062475500603716,
          0.1310274861695234,
          0.4076442076473248,
          -0.7314277467778747,
          -2.9173499945957015,
          -0.9525047054693334,
          0.9118756724059636,
          0.25707034536142476,
          -1.297283158962134,
          0.2739781162595153,
          -0.055826607954760944,
          1.369622226965602,
          -1.2131724971600937,
          -0.8835939036173868,
          -0.844149223135671,
          -0.68250650360624,
          -1.3518867014911353,
          -1.2816275147266365,
          0.1759794026747841,
          -1.356871510619065,
          1.3549346160688758,
          -0.27950043685794207,
          0.9985181852854951,
          0.4035777150848172,
          0.24312444125046834,
          -2.126567552985169,
          1.4493216102722268,
          -0.5298276395414622,
          1.758955947594909,
          0.297331467286769,
          -0.1616950211119704,
          -0.4900760987941368,
          -0.019444513164756882,
          -1.4159961045579175,
          -0.4120808596173528,
          -1.3803598812563393,
          -0.3231294951467188,
          1.3766811066155502,
          -0.6339101000476981,
          -0.32396673433423534,
          1.6467984924910295,
          -1.8254364787042479,
          -0.4594675796723408,
          0.42524149720831955,
          1.5274272211227722,
          2.1138493561271434,
          0.3654477098013026,
          0.3991245714626832,
          0.337614416309407,
          -0.3722626463820364,
          -0.4798913494136549,
          0.20582739295966054,
          1.2285443927162687,
          1.8174528357214632,
          0.7712321037504603,
          -1.0946578564305034,
          -0.18252255724725008,
          0.22200143560962432,
          -0.5873964743421906,
          1.6263915255296177,
          -2.916122165498321,
          1.1354859105944033,
          -0.5612830154318965,
          -2.5338859015393456,
          0.27780592184573993,
          -0.3012395407551603,
          -0.0045730447550044375,
          -0.932026565625512,
          1.006996189347714,
          0.7228320567260069,
          -0.2103306858622351,
          0.07462380696174241,
          0.4128345793013187,
          1.290054881012775,
          0.34733728642021644,
          0.2514302473231246,
          0.06281411331243862,
          0.9127943035268626,
          -0.54464021317776,
          -1.514225799209707,
          0.36184983975761076,
          -0.4179529054782026,
          -0.05496050782729679,
          1.1824281136304102,
          -1.4133747748422434,
          0.938351498687969,
          2.1368044486512656,
          -0.052174832351982114,
          0.1865572824582993,
          -0.5729502162863898,
          -0.5817387839485517,
          0.43581422277414844,
          -2.7096282960158526
         ],
         "yaxis": "y16"
        },
        {
         "line": {
          "color": "rgba(128, 128, 128, 1.0)",
          "dash": "solid",
          "shape": "linear",
          "width": 1.3
         },
         "marker": {
          "size": 2,
          "symbol": "circle"
         },
         "mode": "markers",
         "name": "D",
         "text": "",
         "type": "scatter",
         "x": [
          0.6009272176053823,
          -0.47328375717875815,
          1.5102796829570875,
          0.13698648280279452,
          -0.08207927123680447,
          1.3807419460829236,
          0.0008884140464625894,
          1.6770396104112533,
          0.3834029797448087,
          -0.2690010326323169,
          1.597398260776538,
          0.7351648892726675,
          0.10551643845443366,
          -0.6311209883918225,
          0.5572390618218849,
          -0.7738078928039479,
          0.21116745930062886,
          0.14078423344846921,
          -0.4212439874653056,
          -2.3793733930614014,
          1.4212147209842563,
          -0.5812791086667076,
          -0.9415571482963713,
          0.6306110755837304,
          -1.2411071380593497,
          -0.6046780270124452,
          -1.0559399304488928,
          0.42279176280029,
          -1.226271418081291,
          -1.131325103094806,
          -0.8889977036219829,
          1.2648058753496236,
          -0.48442636834005676,
          0.7108960890827798,
          1.3725402153716952,
          -0.5675961974427753,
          0.9253553237255685,
          -0.5692932152077298,
          -0.4174221274552496,
          -0.6979921244017261,
          -0.3393646826749617,
          -1.8087896518381883,
          0.3758793349821352,
          -0.39199851456008206,
          0.07117604173337383,
          -1.213063945919289,
          0.07552353850305901,
          -2.4856059003298836,
          0.451007261823913,
          -0.2289835339458214,
          2.120458797452917,
          -0.6083107357715691,
          0.3047972548593639,
          0.8166894152888184,
          -0.3543723312937055,
          0.9270475773868493,
          0.21671452232011124,
          -1.0860561840875944,
          -0.9241637527989113,
          0.6469123061061172,
          -0.5604065178745599,
          -1.3026393979314375,
          -0.40837785458920023,
          -2.053389222406837,
          0.452689699599634,
          -0.5456880220604482,
          -0.3768008226061331,
          0.8395805250060749,
          0.15638033915065708,
          1.8378173141312133,
          0.18122406269354446,
          -0.5802911040274235,
          -0.9323718692835864,
          0.4085690155151971,
          -1.133680474934867,
          0.36264440141564863,
          0.39943820817481523,
          -0.9810313174504565,
          -1.9976005280155338,
          1.37253433673606,
          0.5368407330853499,
          -0.8077790783101932,
          1.2122769887218132,
          -1.0354813312940023,
          0.7911735578805896,
          -1.8950724841036661,
          -0.2987687049820244,
          -0.6523694211047908,
          0.3830716691262919,
          0.6284618766425324,
          -0.9618366538721196,
          0.3426388646253289,
          1.5482473743187941,
          0.5798472356535777,
          -2.113126103357163,
          -1.6964437945831647,
          1.4718284936317474,
          -2.0029776122015877,
          0.8932118075364441,
          0.34649521334632055
         ],
         "xaxis": "x17",
         "y": [
          -0.8318095314056883,
          -2.127859918718398,
          -0.3575127033959953,
          -0.49268790264262496,
          -0.9842456189860612,
          -0.4322563501816288,
          1.4747481391427955,
          0.5062475500603716,
          0.1310274861695234,
          0.4076442076473248,
          -0.7314277467778747,
          -2.9173499945957015,
          -0.9525047054693334,
          0.9118756724059636,
          0.25707034536142476,
          -1.297283158962134,
          0.2739781162595153,
          -0.055826607954760944,
          1.369622226965602,
          -1.2131724971600937,
          -0.8835939036173868,
          -0.844149223135671,
          -0.68250650360624,
          -1.3518867014911353,
          -1.2816275147266365,
          0.1759794026747841,
          -1.356871510619065,
          1.3549346160688758,
          -0.27950043685794207,
          0.9985181852854951,
          0.4035777150848172,
          0.24312444125046834,
          -2.126567552985169,
          1.4493216102722268,
          -0.5298276395414622,
          1.758955947594909,
          0.297331467286769,
          -0.1616950211119704,
          -0.4900760987941368,
          -0.019444513164756882,
          -1.4159961045579175,
          -0.4120808596173528,
          -1.3803598812563393,
          -0.3231294951467188,
          1.3766811066155502,
          -0.6339101000476981,
          -0.32396673433423534,
          1.6467984924910295,
          -1.8254364787042479,
          -0.4594675796723408,
          0.42524149720831955,
          1.5274272211227722,
          2.1138493561271434,
          0.3654477098013026,
          0.3991245714626832,
          0.337614416309407,
          -0.3722626463820364,
          -0.4798913494136549,
          0.20582739295966054,
          1.2285443927162687,
          1.8174528357214632,
          0.7712321037504603,
          -1.0946578564305034,
          -0.18252255724725008,
          0.22200143560962432,
          -0.5873964743421906,
          1.6263915255296177,
          -2.916122165498321,
          1.1354859105944033,
          -0.5612830154318965,
          -2.5338859015393456,
          0.27780592184573993,
          -0.3012395407551603,
          -0.0045730447550044375,
          -0.932026565625512,
          1.006996189347714,
          0.7228320567260069,
          -0.2103306858622351,
          0.07462380696174241,
          0.4128345793013187,
          1.290054881012775,
          0.34733728642021644,
          0.2514302473231246,
          0.06281411331243862,
          0.9127943035268626,
          -0.54464021317776,
          -1.514225799209707,
          0.36184983975761076,
          -0.4179529054782026,
          -0.05496050782729679,
          1.1824281136304102,
          -1.4133747748422434,
          0.938351498687969,
          2.1368044486512656,
          -0.052174832351982114,
          0.1865572824582993,
          -0.5729502162863898,
          -0.5817387839485517,
          0.43581422277414844,
          -2.7096282960158526
         ],
         "yaxis": "y17"
        },
        {
         "line": {
          "color": "rgba(128, 128, 128, 1.0)",
          "dash": "solid",
          "shape": "linear",
          "width": 1.3
         },
         "marker": {
          "size": 2,
          "symbol": "circle"
         },
         "mode": "markers",
         "name": "D",
         "text": "",
         "type": "scatter",
         "x": [
          -0.4904504640967385,
          0.7841649518309355,
          -0.304245861238214,
          0.23262635876766635,
          0.08550828795745093,
          -0.8480255295587014,
          -0.261206028417855,
          1.0577907507364823,
          -1.101211299395131,
          -0.8251206259790931,
          -0.8978443455398513,
          -1.3514533730965124,
          -0.08209426487329435,
          -0.15139757915670202,
          0.2551354321183675,
          0.7703496534057965,
          0.773461549697534,
          -0.3347489154005215,
          0.6823655341579137,
          1.4071878994586549,
          -0.08446934617102379,
          -0.057352780586065716,
          -0.8181938637541752,
          -0.3560552277971145,
          -0.9984524257539489,
          1.6397690684243977,
          1.1179692063944224,
          0.3016059541460915,
          -0.6555521607761945,
          0.31408554857118415,
          1.227842316464888,
          -1.0195835569969778,
          -0.23147217036371884,
          0.9688885701855176,
          0.3663791034068689,
          0.8895085682664936,
          0.1201048283525484,
          -0.2172456199843793,
          0.1221729936381177,
          -0.612688742724828,
          0.39353475351006906,
          -0.4669143592048186,
          0.48145897828600465,
          -1.1566262906735671,
          -1.4434906919821,
          -0.9508393391930143,
          -0.003905118567913522,
          -0.5703679260845474,
          0.6142004685346247,
          -0.6636259640583964,
          0.33594584828727947,
          -1.2246674803442719,
          -1.236122125254678,
          0.3752526319017947,
          0.7099385626038475,
          0.17588998239427525,
          -1.2768953229807145,
          -0.49754404575867583,
          -0.6597825379125649,
          -0.5990728023481424,
          -0.2027848998469554,
          0.49485969059168494,
          -0.21227013145286733,
          1.3053375964643223,
          -0.8379394644268467,
          -0.45173954324054766,
          -0.05020726114742386,
          -0.2465739411683541,
          -1.1559622908329785,
          2.1133715942228823,
          1.1499141155808377,
          -0.719668428072425,
          -1.313000128638488,
          -0.14086947149501206,
          1.352762400486382,
          -0.6024865304159895,
          0.1718946732091916,
          1.4981161545518924,
          0.016829820834161107,
          1.0853450021473872,
          -0.2997287900870656,
          -0.4097044924835301,
          0.344109881082276,
          -0.6574881286582049,
          0.7113548511406034,
          0.2548188733433786,
          -0.021435383179694616,
          0.4318443895919997,
          0.8996224765853629,
          3.553100284631579,
          0.9933288132365087,
          -0.6552503456956092,
          -0.013637084233192327,
          -1.4199077874391282,
          0.7487366691982029,
          0.7258439388367351,
          -1.9525003408463535,
          0.3293431165215186,
          1.9586055182184048,
          -0.7840212250751724
         ],
         "xaxis": "x18",
         "y": [
          -0.8318095314056883,
          -2.127859918718398,
          -0.3575127033959953,
          -0.49268790264262496,
          -0.9842456189860612,
          -0.4322563501816288,
          1.4747481391427955,
          0.5062475500603716,
          0.1310274861695234,
          0.4076442076473248,
          -0.7314277467778747,
          -2.9173499945957015,
          -0.9525047054693334,
          0.9118756724059636,
          0.25707034536142476,
          -1.297283158962134,
          0.2739781162595153,
          -0.055826607954760944,
          1.369622226965602,
          -1.2131724971600937,
          -0.8835939036173868,
          -0.844149223135671,
          -0.68250650360624,
          -1.3518867014911353,
          -1.2816275147266365,
          0.1759794026747841,
          -1.356871510619065,
          1.3549346160688758,
          -0.27950043685794207,
          0.9985181852854951,
          0.4035777150848172,
          0.24312444125046834,
          -2.126567552985169,
          1.4493216102722268,
          -0.5298276395414622,
          1.758955947594909,
          0.297331467286769,
          -0.1616950211119704,
          -0.4900760987941368,
          -0.019444513164756882,
          -1.4159961045579175,
          -0.4120808596173528,
          -1.3803598812563393,
          -0.3231294951467188,
          1.3766811066155502,
          -0.6339101000476981,
          -0.32396673433423534,
          1.6467984924910295,
          -1.8254364787042479,
          -0.4594675796723408,
          0.42524149720831955,
          1.5274272211227722,
          2.1138493561271434,
          0.3654477098013026,
          0.3991245714626832,
          0.337614416309407,
          -0.3722626463820364,
          -0.4798913494136549,
          0.20582739295966054,
          1.2285443927162687,
          1.8174528357214632,
          0.7712321037504603,
          -1.0946578564305034,
          -0.18252255724725008,
          0.22200143560962432,
          -0.5873964743421906,
          1.6263915255296177,
          -2.916122165498321,
          1.1354859105944033,
          -0.5612830154318965,
          -2.5338859015393456,
          0.27780592184573993,
          -0.3012395407551603,
          -0.0045730447550044375,
          -0.932026565625512,
          1.006996189347714,
          0.7228320567260069,
          -0.2103306858622351,
          0.07462380696174241,
          0.4128345793013187,
          1.290054881012775,
          0.34733728642021644,
          0.2514302473231246,
          0.06281411331243862,
          0.9127943035268626,
          -0.54464021317776,
          -1.514225799209707,
          0.36184983975761076,
          -0.4179529054782026,
          -0.05496050782729679,
          1.1824281136304102,
          -1.4133747748422434,
          0.938351498687969,
          2.1368044486512656,
          -0.052174832351982114,
          0.1865572824582993,
          -0.5729502162863898,
          -0.5817387839485517,
          0.43581422277414844,
          -2.7096282960158526
         ],
         "yaxis": "y18"
        },
        {
         "histfunc": "count",
         "histnorm": "",
         "marker": {
          "color": "rgba(128, 0, 128, 1.0)",
          "line": {
           "color": "#4D5663",
           "width": 1.3
          }
         },
         "name": "D",
         "nbinsx": 10,
         "opacity": 0.8,
         "orientation": "v",
         "type": "histogram",
         "x": [
          -0.8318095314056883,
          -2.127859918718398,
          -0.3575127033959953,
          -0.49268790264262496,
          -0.9842456189860612,
          -0.4322563501816288,
          1.4747481391427955,
          0.5062475500603716,
          0.1310274861695234,
          0.4076442076473248,
          -0.7314277467778747,
          -2.9173499945957015,
          -0.9525047054693334,
          0.9118756724059636,
          0.25707034536142476,
          -1.297283158962134,
          0.2739781162595153,
          -0.055826607954760944,
          1.369622226965602,
          -1.2131724971600937,
          -0.8835939036173868,
          -0.844149223135671,
          -0.68250650360624,
          -1.3518867014911353,
          -1.2816275147266365,
          0.1759794026747841,
          -1.356871510619065,
          1.3549346160688758,
          -0.27950043685794207,
          0.9985181852854951,
          0.4035777150848172,
          0.24312444125046834,
          -2.126567552985169,
          1.4493216102722268,
          -0.5298276395414622,
          1.758955947594909,
          0.297331467286769,
          -0.1616950211119704,
          -0.4900760987941368,
          -0.019444513164756882,
          -1.4159961045579175,
          -0.4120808596173528,
          -1.3803598812563393,
          -0.3231294951467188,
          1.3766811066155502,
          -0.6339101000476981,
          -0.32396673433423534,
          1.6467984924910295,
          -1.8254364787042479,
          -0.4594675796723408,
          0.42524149720831955,
          1.5274272211227722,
          2.1138493561271434,
          0.3654477098013026,
          0.3991245714626832,
          0.337614416309407,
          -0.3722626463820364,
          -0.4798913494136549,
          0.20582739295966054,
          1.2285443927162687,
          1.8174528357214632,
          0.7712321037504603,
          -1.0946578564305034,
          -0.18252255724725008,
          0.22200143560962432,
          -0.5873964743421906,
          1.6263915255296177,
          -2.916122165498321,
          1.1354859105944033,
          -0.5612830154318965,
          -2.5338859015393456,
          0.27780592184573993,
          -0.3012395407551603,
          -0.0045730447550044375,
          -0.932026565625512,
          1.006996189347714,
          0.7228320567260069,
          -0.2103306858622351,
          0.07462380696174241,
          0.4128345793013187,
          1.290054881012775,
          0.34733728642021644,
          0.2514302473231246,
          0.06281411331243862,
          0.9127943035268626,
          -0.54464021317776,
          -1.514225799209707,
          0.36184983975761076,
          -0.4179529054782026,
          -0.05496050782729679,
          1.1824281136304102,
          -1.4133747748422434,
          0.938351498687969,
          2.1368044486512656,
          -0.052174832351982114,
          0.1865572824582993,
          -0.5729502162863898,
          -0.5817387839485517,
          0.43581422277414844,
          -2.7096282960158526
         ],
         "xaxis": "x19",
         "yaxis": "y19"
        },
        {
         "line": {
          "color": "rgba(128, 128, 128, 1.0)",
          "dash": "solid",
          "shape": "linear",
          "width": 1.3
         },
         "marker": {
          "size": 2,
          "symbol": "circle"
         },
         "mode": "markers",
         "name": "D",
         "text": "",
         "type": "scatter",
         "x": [
          0.985838989899486,
          0.21665256404644945,
          -1.4889031476281207,
          1.3876759317971679,
          0.5710992956833156,
          0.16374187863852463,
          -2.1706736396949498,
          0.19077717470631023,
          -0.27640171123488794,
          -0.7659030027417768,
          -0.9110672948102684,
          -1.3810824348721282,
          0.31793048738075586,
          0.5853699445262994,
          0.061462725006460994,
          -0.07410210757726512,
          -1.1806776449152259,
          0.7516053312905685,
          -1.5122130292802862,
          -0.2961906071419889,
          0.46503893149889275,
          0.19894853394605636,
          -1.9934980582451969,
          0.9590994132320767,
          -0.1082944304485146,
          -1.3109076409134526,
          1.0034588358102212,
          0.37765653683793965,
          0.9480888527360907,
          -0.5996730280193047,
          -0.24064440293746917,
          -0.6878280292402045,
          -0.9220452902725172,
          0.8002119805059846,
          -1.6104225638271787,
          0.9388577018866815,
          0.9029143350784757,
          -1.2004177089372596,
          -1.161030054269115,
          -0.24708457785562524,
          -0.11079675489137149,
          1.1302343282235041,
          0.21672092477696148,
          -0.06600779335608177,
          -0.8559480620795749,
          -1.7271894285586022,
          1.1012891399413387,
          -0.5233424546129773,
          -0.4295596884208994,
          -0.7338296808164192,
          -0.7951980646834268,
          -1.7749778857106635,
          1.4432059910070307,
          2.3960656171106334,
          -0.5530696854143431,
          2.1892029223457548,
          -1.5953607907146865,
          -0.2996578775184909,
          1.2999662824094993,
          -1.1708787580717988,
          -0.5347464084346105,
          1.2117032432670314,
          -0.08649483537720457,
          1.97409461680929,
          -1.0295090195009395,
          -0.012442497362611533,
          0.6432060279406185,
          -1.228594685397098,
          0.889127177754714,
          -1.5110039208620487,
          0.9279784460628189,
          0.19767556454771706,
          -1.2147369047700405,
          1.4950871259291127,
          0.03722613602021257,
          0.6095427437859312,
          -0.7168055764653345,
          0.1392411557047229,
          -1.5405393158372593,
          1.3688855607411003,
          1.652339810904066,
          0.11983929835394566,
          0.501981540004603,
          -0.31849208935861695,
          0.4474342446824646,
          -0.40686413021709095,
          -0.5715589688173871,
          -0.7610615600977046,
          0.4644825134725885,
          0.6790929295572973,
          -2.20861496436523,
          0.07711495796490156,
          -1.6699528186636468,
          -3.0641709594801285,
          1.7074670452404872,
          -0.15447929969220178,
          0.9506468488705513,
          0.7918133508667007,
          0.13147500786445818,
          -0.5357346870225651
         ],
         "xaxis": "x20",
         "y": [
          -0.8318095314056883,
          -2.127859918718398,
          -0.3575127033959953,
          -0.49268790264262496,
          -0.9842456189860612,
          -0.4322563501816288,
          1.4747481391427955,
          0.5062475500603716,
          0.1310274861695234,
          0.4076442076473248,
          -0.7314277467778747,
          -2.9173499945957015,
          -0.9525047054693334,
          0.9118756724059636,
          0.25707034536142476,
          -1.297283158962134,
          0.2739781162595153,
          -0.055826607954760944,
          1.369622226965602,
          -1.2131724971600937,
          -0.8835939036173868,
          -0.844149223135671,
          -0.68250650360624,
          -1.3518867014911353,
          -1.2816275147266365,
          0.1759794026747841,
          -1.356871510619065,
          1.3549346160688758,
          -0.27950043685794207,
          0.9985181852854951,
          0.4035777150848172,
          0.24312444125046834,
          -2.126567552985169,
          1.4493216102722268,
          -0.5298276395414622,
          1.758955947594909,
          0.297331467286769,
          -0.1616950211119704,
          -0.4900760987941368,
          -0.019444513164756882,
          -1.4159961045579175,
          -0.4120808596173528,
          -1.3803598812563393,
          -0.3231294951467188,
          1.3766811066155502,
          -0.6339101000476981,
          -0.32396673433423534,
          1.6467984924910295,
          -1.8254364787042479,
          -0.4594675796723408,
          0.42524149720831955,
          1.5274272211227722,
          2.1138493561271434,
          0.3654477098013026,
          0.3991245714626832,
          0.337614416309407,
          -0.3722626463820364,
          -0.4798913494136549,
          0.20582739295966054,
          1.2285443927162687,
          1.8174528357214632,
          0.7712321037504603,
          -1.0946578564305034,
          -0.18252255724725008,
          0.22200143560962432,
          -0.5873964743421906,
          1.6263915255296177,
          -2.916122165498321,
          1.1354859105944033,
          -0.5612830154318965,
          -2.5338859015393456,
          0.27780592184573993,
          -0.3012395407551603,
          -0.0045730447550044375,
          -0.932026565625512,
          1.006996189347714,
          0.7228320567260069,
          -0.2103306858622351,
          0.07462380696174241,
          0.4128345793013187,
          1.290054881012775,
          0.34733728642021644,
          0.2514302473231246,
          0.06281411331243862,
          0.9127943035268626,
          -0.54464021317776,
          -1.514225799209707,
          0.36184983975761076,
          -0.4179529054782026,
          -0.05496050782729679,
          1.1824281136304102,
          -1.4133747748422434,
          0.938351498687969,
          2.1368044486512656,
          -0.052174832351982114,
          0.1865572824582993,
          -0.5729502162863898,
          -0.5817387839485517,
          0.43581422277414844,
          -2.7096282960158526
         ],
         "yaxis": "y20"
        },
        {
         "line": {
          "color": "rgba(128, 128, 128, 1.0)",
          "dash": "solid",
          "shape": "linear",
          "width": 1.3
         },
         "marker": {
          "size": 2,
          "symbol": "circle"
         },
         "mode": "markers",
         "name": "E",
         "text": "",
         "type": "scatter",
         "x": [
          -0.2161184228253383,
          0.8792932512052545,
          0.8159294643263392,
          -0.4635332026275159,
          1.2480606583511327,
          1.1636709077699556,
          0.7922609344528071,
          -0.487105657576173,
          0.5421078085365659,
          0.5700116946872794,
          0.8239368808080885,
          -2.025932373181993,
          -0.7813558580603188,
          -0.8034398249519679,
          1.2512029139420504,
          -0.820332122346455,
          -1.6512522046007363,
          1.5682988107869604,
          -0.0063207362410987915,
          0.4004905726878128,
          0.5203258238161681,
          1.8279603356320633,
          0.13283157408988597,
          1.542945359288579,
          1.6651922182738557,
          -0.18907056450707943,
          0.5662895926834438,
          -0.4460591334360272,
          -0.5962532719116784,
          -0.5631527736349463,
          2.0839310694181905,
          -0.3747192099598198,
          0.2469317564261832,
          -0.4871280695792462,
          -1.399511059198512,
          -0.9279823397322188,
          0.3390474827073605,
          1.0170979834933276,
          -0.1348568156422785,
          1.2344989287853096,
          -0.273536936893138,
          0.5969711416695731,
          -0.5019729300786134,
          -1.5731701762261463,
          -0.776546301945367,
          -0.04443145956515006,
          -0.8568286686510093,
          -0.024763966728982578,
          0.7837974913189243,
          0.9010994038155039,
          -0.4730980172755114,
          0.207587519407055,
          -0.6771743196350672,
          1.2863142031525987,
          1.0405050456937595,
          0.06872578685904618,
          0.20037742174726073,
          0.43338326497446955,
          -1.1232782954405904,
          0.40114918501688485,
          0.5906859056001391,
          2.966926846259941,
          -0.23043343271553118,
          -0.8732939562117886,
          1.14121108723957,
          -0.4914311190409125,
          1.2800135159775534,
          0.8703759276983618,
          -0.69160728844988,
          1.1149661429079787,
          -1.0368988106557855,
          -1.856129353554703,
          0.07728497234778402,
          -0.5566709010013736,
          0.0017236191367242851,
          0.33896141298782556,
          -0.34634373933597523,
          -0.4314493717931845,
          -0.24830094093459376,
          0.7942439153979056,
          0.355227483466092,
          -0.9023647603026724,
          0.26053844043329494,
          -1.4960110241555,
          -0.03606981923271355,
          0.8973986520322429,
          0.8765836951666557,
          0.8099946509436573,
          -0.2546804984597161,
          -1.0077879926848405,
          -1.2867994667714329,
          1.5576794947939168,
          0.019057905893780924,
          -0.5441990567110787,
          0.49670405962304026,
          -0.4854564908395615,
          0.01630221623572593,
          0.4829915653490035,
          0.43406524706242366,
          -0.1857395357813015
         ],
         "xaxis": "x21",
         "y": [
          0.985838989899486,
          0.21665256404644945,
          -1.4889031476281207,
          1.3876759317971679,
          0.5710992956833156,
          0.16374187863852463,
          -2.1706736396949498,
          0.19077717470631023,
          -0.27640171123488794,
          -0.7659030027417768,
          -0.9110672948102684,
          -1.3810824348721282,
          0.31793048738075586,
          0.5853699445262994,
          0.061462725006460994,
          -0.07410210757726512,
          -1.1806776449152259,
          0.7516053312905685,
          -1.5122130292802862,
          -0.2961906071419889,
          0.46503893149889275,
          0.19894853394605636,
          -1.9934980582451969,
          0.9590994132320767,
          -0.1082944304485146,
          -1.3109076409134526,
          1.0034588358102212,
          0.37765653683793965,
          0.9480888527360907,
          -0.5996730280193047,
          -0.24064440293746917,
          -0.6878280292402045,
          -0.9220452902725172,
          0.8002119805059846,
          -1.6104225638271787,
          0.9388577018866815,
          0.9029143350784757,
          -1.2004177089372596,
          -1.161030054269115,
          -0.24708457785562524,
          -0.11079675489137149,
          1.1302343282235041,
          0.21672092477696148,
          -0.06600779335608177,
          -0.8559480620795749,
          -1.7271894285586022,
          1.1012891399413387,
          -0.5233424546129773,
          -0.4295596884208994,
          -0.7338296808164192,
          -0.7951980646834268,
          -1.7749778857106635,
          1.4432059910070307,
          2.3960656171106334,
          -0.5530696854143431,
          2.1892029223457548,
          -1.5953607907146865,
          -0.2996578775184909,
          1.2999662824094993,
          -1.1708787580717988,
          -0.5347464084346105,
          1.2117032432670314,
          -0.08649483537720457,
          1.97409461680929,
          -1.0295090195009395,
          -0.012442497362611533,
          0.6432060279406185,
          -1.228594685397098,
          0.889127177754714,
          -1.5110039208620487,
          0.9279784460628189,
          0.19767556454771706,
          -1.2147369047700405,
          1.4950871259291127,
          0.03722613602021257,
          0.6095427437859312,
          -0.7168055764653345,
          0.1392411557047229,
          -1.5405393158372593,
          1.3688855607411003,
          1.652339810904066,
          0.11983929835394566,
          0.501981540004603,
          -0.31849208935861695,
          0.4474342446824646,
          -0.40686413021709095,
          -0.5715589688173871,
          -0.7610615600977046,
          0.4644825134725885,
          0.6790929295572973,
          -2.20861496436523,
          0.07711495796490156,
          -1.6699528186636468,
          -3.0641709594801285,
          1.7074670452404872,
          -0.15447929969220178,
          0.9506468488705513,
          0.7918133508667007,
          0.13147500786445818,
          -0.5357346870225651
         ],
         "yaxis": "y21"
        },
        {
         "line": {
          "color": "rgba(128, 128, 128, 1.0)",
          "dash": "solid",
          "shape": "linear",
          "width": 1.3
         },
         "marker": {
          "size": 2,
          "symbol": "circle"
         },
         "mode": "markers",
         "name": "E",
         "text": "",
         "type": "scatter",
         "x": [
          0.6009272176053823,
          -0.47328375717875815,
          1.5102796829570875,
          0.13698648280279452,
          -0.08207927123680447,
          1.3807419460829236,
          0.0008884140464625894,
          1.6770396104112533,
          0.3834029797448087,
          -0.2690010326323169,
          1.597398260776538,
          0.7351648892726675,
          0.10551643845443366,
          -0.6311209883918225,
          0.5572390618218849,
          -0.7738078928039479,
          0.21116745930062886,
          0.14078423344846921,
          -0.4212439874653056,
          -2.3793733930614014,
          1.4212147209842563,
          -0.5812791086667076,
          -0.9415571482963713,
          0.6306110755837304,
          -1.2411071380593497,
          -0.6046780270124452,
          -1.0559399304488928,
          0.42279176280029,
          -1.226271418081291,
          -1.131325103094806,
          -0.8889977036219829,
          1.2648058753496236,
          -0.48442636834005676,
          0.7108960890827798,
          1.3725402153716952,
          -0.5675961974427753,
          0.9253553237255685,
          -0.5692932152077298,
          -0.4174221274552496,
          -0.6979921244017261,
          -0.3393646826749617,
          -1.8087896518381883,
          0.3758793349821352,
          -0.39199851456008206,
          0.07117604173337383,
          -1.213063945919289,
          0.07552353850305901,
          -2.4856059003298836,
          0.451007261823913,
          -0.2289835339458214,
          2.120458797452917,
          -0.6083107357715691,
          0.3047972548593639,
          0.8166894152888184,
          -0.3543723312937055,
          0.9270475773868493,
          0.21671452232011124,
          -1.0860561840875944,
          -0.9241637527989113,
          0.6469123061061172,
          -0.5604065178745599,
          -1.3026393979314375,
          -0.40837785458920023,
          -2.053389222406837,
          0.452689699599634,
          -0.5456880220604482,
          -0.3768008226061331,
          0.8395805250060749,
          0.15638033915065708,
          1.8378173141312133,
          0.18122406269354446,
          -0.5802911040274235,
          -0.9323718692835864,
          0.4085690155151971,
          -1.133680474934867,
          0.36264440141564863,
          0.39943820817481523,
          -0.9810313174504565,
          -1.9976005280155338,
          1.37253433673606,
          0.5368407330853499,
          -0.8077790783101932,
          1.2122769887218132,
          -1.0354813312940023,
          0.7911735578805896,
          -1.8950724841036661,
          -0.2987687049820244,
          -0.6523694211047908,
          0.3830716691262919,
          0.6284618766425324,
          -0.9618366538721196,
          0.3426388646253289,
          1.5482473743187941,
          0.5798472356535777,
          -2.113126103357163,
          -1.6964437945831647,
          1.4718284936317474,
          -2.0029776122015877,
          0.8932118075364441,
          0.34649521334632055
         ],
         "xaxis": "x22",
         "y": [
          0.985838989899486,
          0.21665256404644945,
          -1.4889031476281207,
          1.3876759317971679,
          0.5710992956833156,
          0.16374187863852463,
          -2.1706736396949498,
          0.19077717470631023,
          -0.27640171123488794,
          -0.7659030027417768,
          -0.9110672948102684,
          -1.3810824348721282,
          0.31793048738075586,
          0.5853699445262994,
          0.061462725006460994,
          -0.07410210757726512,
          -1.1806776449152259,
          0.7516053312905685,
          -1.5122130292802862,
          -0.2961906071419889,
          0.46503893149889275,
          0.19894853394605636,
          -1.9934980582451969,
          0.9590994132320767,
          -0.1082944304485146,
          -1.3109076409134526,
          1.0034588358102212,
          0.37765653683793965,
          0.9480888527360907,
          -0.5996730280193047,
          -0.24064440293746917,
          -0.6878280292402045,
          -0.9220452902725172,
          0.8002119805059846,
          -1.6104225638271787,
          0.9388577018866815,
          0.9029143350784757,
          -1.2004177089372596,
          -1.161030054269115,
          -0.24708457785562524,
          -0.11079675489137149,
          1.1302343282235041,
          0.21672092477696148,
          -0.06600779335608177,
          -0.8559480620795749,
          -1.7271894285586022,
          1.1012891399413387,
          -0.5233424546129773,
          -0.4295596884208994,
          -0.7338296808164192,
          -0.7951980646834268,
          -1.7749778857106635,
          1.4432059910070307,
          2.3960656171106334,
          -0.5530696854143431,
          2.1892029223457548,
          -1.5953607907146865,
          -0.2996578775184909,
          1.2999662824094993,
          -1.1708787580717988,
          -0.5347464084346105,
          1.2117032432670314,
          -0.08649483537720457,
          1.97409461680929,
          -1.0295090195009395,
          -0.012442497362611533,
          0.6432060279406185,
          -1.228594685397098,
          0.889127177754714,
          -1.5110039208620487,
          0.9279784460628189,
          0.19767556454771706,
          -1.2147369047700405,
          1.4950871259291127,
          0.03722613602021257,
          0.6095427437859312,
          -0.7168055764653345,
          0.1392411557047229,
          -1.5405393158372593,
          1.3688855607411003,
          1.652339810904066,
          0.11983929835394566,
          0.501981540004603,
          -0.31849208935861695,
          0.4474342446824646,
          -0.40686413021709095,
          -0.5715589688173871,
          -0.7610615600977046,
          0.4644825134725885,
          0.6790929295572973,
          -2.20861496436523,
          0.07711495796490156,
          -1.6699528186636468,
          -3.0641709594801285,
          1.7074670452404872,
          -0.15447929969220178,
          0.9506468488705513,
          0.7918133508667007,
          0.13147500786445818,
          -0.5357346870225651
         ],
         "yaxis": "y22"
        },
        {
         "line": {
          "color": "rgba(128, 128, 128, 1.0)",
          "dash": "solid",
          "shape": "linear",
          "width": 1.3
         },
         "marker": {
          "size": 2,
          "symbol": "circle"
         },
         "mode": "markers",
         "name": "E",
         "text": "",
         "type": "scatter",
         "x": [
          -0.4904504640967385,
          0.7841649518309355,
          -0.304245861238214,
          0.23262635876766635,
          0.08550828795745093,
          -0.8480255295587014,
          -0.261206028417855,
          1.0577907507364823,
          -1.101211299395131,
          -0.8251206259790931,
          -0.8978443455398513,
          -1.3514533730965124,
          -0.08209426487329435,
          -0.15139757915670202,
          0.2551354321183675,
          0.7703496534057965,
          0.773461549697534,
          -0.3347489154005215,
          0.6823655341579137,
          1.4071878994586549,
          -0.08446934617102379,
          -0.057352780586065716,
          -0.8181938637541752,
          -0.3560552277971145,
          -0.9984524257539489,
          1.6397690684243977,
          1.1179692063944224,
          0.3016059541460915,
          -0.6555521607761945,
          0.31408554857118415,
          1.227842316464888,
          -1.0195835569969778,
          -0.23147217036371884,
          0.9688885701855176,
          0.3663791034068689,
          0.8895085682664936,
          0.1201048283525484,
          -0.2172456199843793,
          0.1221729936381177,
          -0.612688742724828,
          0.39353475351006906,
          -0.4669143592048186,
          0.48145897828600465,
          -1.1566262906735671,
          -1.4434906919821,
          -0.9508393391930143,
          -0.003905118567913522,
          -0.5703679260845474,
          0.6142004685346247,
          -0.6636259640583964,
          0.33594584828727947,
          -1.2246674803442719,
          -1.236122125254678,
          0.3752526319017947,
          0.7099385626038475,
          0.17588998239427525,
          -1.2768953229807145,
          -0.49754404575867583,
          -0.6597825379125649,
          -0.5990728023481424,
          -0.2027848998469554,
          0.49485969059168494,
          -0.21227013145286733,
          1.3053375964643223,
          -0.8379394644268467,
          -0.45173954324054766,
          -0.05020726114742386,
          -0.2465739411683541,
          -1.1559622908329785,
          2.1133715942228823,
          1.1499141155808377,
          -0.719668428072425,
          -1.313000128638488,
          -0.14086947149501206,
          1.352762400486382,
          -0.6024865304159895,
          0.1718946732091916,
          1.4981161545518924,
          0.016829820834161107,
          1.0853450021473872,
          -0.2997287900870656,
          -0.4097044924835301,
          0.344109881082276,
          -0.6574881286582049,
          0.7113548511406034,
          0.2548188733433786,
          -0.021435383179694616,
          0.4318443895919997,
          0.8996224765853629,
          3.553100284631579,
          0.9933288132365087,
          -0.6552503456956092,
          -0.013637084233192327,
          -1.4199077874391282,
          0.7487366691982029,
          0.7258439388367351,
          -1.9525003408463535,
          0.3293431165215186,
          1.9586055182184048,
          -0.7840212250751724
         ],
         "xaxis": "x23",
         "y": [
          0.985838989899486,
          0.21665256404644945,
          -1.4889031476281207,
          1.3876759317971679,
          0.5710992956833156,
          0.16374187863852463,
          -2.1706736396949498,
          0.19077717470631023,
          -0.27640171123488794,
          -0.7659030027417768,
          -0.9110672948102684,
          -1.3810824348721282,
          0.31793048738075586,
          0.5853699445262994,
          0.061462725006460994,
          -0.07410210757726512,
          -1.1806776449152259,
          0.7516053312905685,
          -1.5122130292802862,
          -0.2961906071419889,
          0.46503893149889275,
          0.19894853394605636,
          -1.9934980582451969,
          0.9590994132320767,
          -0.1082944304485146,
          -1.3109076409134526,
          1.0034588358102212,
          0.37765653683793965,
          0.9480888527360907,
          -0.5996730280193047,
          -0.24064440293746917,
          -0.6878280292402045,
          -0.9220452902725172,
          0.8002119805059846,
          -1.6104225638271787,
          0.9388577018866815,
          0.9029143350784757,
          -1.2004177089372596,
          -1.161030054269115,
          -0.24708457785562524,
          -0.11079675489137149,
          1.1302343282235041,
          0.21672092477696148,
          -0.06600779335608177,
          -0.8559480620795749,
          -1.7271894285586022,
          1.1012891399413387,
          -0.5233424546129773,
          -0.4295596884208994,
          -0.7338296808164192,
          -0.7951980646834268,
          -1.7749778857106635,
          1.4432059910070307,
          2.3960656171106334,
          -0.5530696854143431,
          2.1892029223457548,
          -1.5953607907146865,
          -0.2996578775184909,
          1.2999662824094993,
          -1.1708787580717988,
          -0.5347464084346105,
          1.2117032432670314,
          -0.08649483537720457,
          1.97409461680929,
          -1.0295090195009395,
          -0.012442497362611533,
          0.6432060279406185,
          -1.228594685397098,
          0.889127177754714,
          -1.5110039208620487,
          0.9279784460628189,
          0.19767556454771706,
          -1.2147369047700405,
          1.4950871259291127,
          0.03722613602021257,
          0.6095427437859312,
          -0.7168055764653345,
          0.1392411557047229,
          -1.5405393158372593,
          1.3688855607411003,
          1.652339810904066,
          0.11983929835394566,
          0.501981540004603,
          -0.31849208935861695,
          0.4474342446824646,
          -0.40686413021709095,
          -0.5715589688173871,
          -0.7610615600977046,
          0.4644825134725885,
          0.6790929295572973,
          -2.20861496436523,
          0.07711495796490156,
          -1.6699528186636468,
          -3.0641709594801285,
          1.7074670452404872,
          -0.15447929969220178,
          0.9506468488705513,
          0.7918133508667007,
          0.13147500786445818,
          -0.5357346870225651
         ],
         "yaxis": "y23"
        },
        {
         "line": {
          "color": "rgba(128, 128, 128, 1.0)",
          "dash": "solid",
          "shape": "linear",
          "width": 1.3
         },
         "marker": {
          "size": 2,
          "symbol": "circle"
         },
         "mode": "markers",
         "name": "E",
         "text": "",
         "type": "scatter",
         "x": [
          -0.8318095314056883,
          -2.127859918718398,
          -0.3575127033959953,
          -0.49268790264262496,
          -0.9842456189860612,
          -0.4322563501816288,
          1.4747481391427955,
          0.5062475500603716,
          0.1310274861695234,
          0.4076442076473248,
          -0.7314277467778747,
          -2.9173499945957015,
          -0.9525047054693334,
          0.9118756724059636,
          0.25707034536142476,
          -1.297283158962134,
          0.2739781162595153,
          -0.055826607954760944,
          1.369622226965602,
          -1.2131724971600937,
          -0.8835939036173868,
          -0.844149223135671,
          -0.68250650360624,
          -1.3518867014911353,
          -1.2816275147266365,
          0.1759794026747841,
          -1.356871510619065,
          1.3549346160688758,
          -0.27950043685794207,
          0.9985181852854951,
          0.4035777150848172,
          0.24312444125046834,
          -2.126567552985169,
          1.4493216102722268,
          -0.5298276395414622,
          1.758955947594909,
          0.297331467286769,
          -0.1616950211119704,
          -0.4900760987941368,
          -0.019444513164756882,
          -1.4159961045579175,
          -0.4120808596173528,
          -1.3803598812563393,
          -0.3231294951467188,
          1.3766811066155502,
          -0.6339101000476981,
          -0.32396673433423534,
          1.6467984924910295,
          -1.8254364787042479,
          -0.4594675796723408,
          0.42524149720831955,
          1.5274272211227722,
          2.1138493561271434,
          0.3654477098013026,
          0.3991245714626832,
          0.337614416309407,
          -0.3722626463820364,
          -0.4798913494136549,
          0.20582739295966054,
          1.2285443927162687,
          1.8174528357214632,
          0.7712321037504603,
          -1.0946578564305034,
          -0.18252255724725008,
          0.22200143560962432,
          -0.5873964743421906,
          1.6263915255296177,
          -2.916122165498321,
          1.1354859105944033,
          -0.5612830154318965,
          -2.5338859015393456,
          0.27780592184573993,
          -0.3012395407551603,
          -0.0045730447550044375,
          -0.932026565625512,
          1.006996189347714,
          0.7228320567260069,
          -0.2103306858622351,
          0.07462380696174241,
          0.4128345793013187,
          1.290054881012775,
          0.34733728642021644,
          0.2514302473231246,
          0.06281411331243862,
          0.9127943035268626,
          -0.54464021317776,
          -1.514225799209707,
          0.36184983975761076,
          -0.4179529054782026,
          -0.05496050782729679,
          1.1824281136304102,
          -1.4133747748422434,
          0.938351498687969,
          2.1368044486512656,
          -0.052174832351982114,
          0.1865572824582993,
          -0.5729502162863898,
          -0.5817387839485517,
          0.43581422277414844,
          -2.7096282960158526
         ],
         "xaxis": "x24",
         "y": [
          0.985838989899486,
          0.21665256404644945,
          -1.4889031476281207,
          1.3876759317971679,
          0.5710992956833156,
          0.16374187863852463,
          -2.1706736396949498,
          0.19077717470631023,
          -0.27640171123488794,
          -0.7659030027417768,
          -0.9110672948102684,
          -1.3810824348721282,
          0.31793048738075586,
          0.5853699445262994,
          0.061462725006460994,
          -0.07410210757726512,
          -1.1806776449152259,
          0.7516053312905685,
          -1.5122130292802862,
          -0.2961906071419889,
          0.46503893149889275,
          0.19894853394605636,
          -1.9934980582451969,
          0.9590994132320767,
          -0.1082944304485146,
          -1.3109076409134526,
          1.0034588358102212,
          0.37765653683793965,
          0.9480888527360907,
          -0.5996730280193047,
          -0.24064440293746917,
          -0.6878280292402045,
          -0.9220452902725172,
          0.8002119805059846,
          -1.6104225638271787,
          0.9388577018866815,
          0.9029143350784757,
          -1.2004177089372596,
          -1.161030054269115,
          -0.24708457785562524,
          -0.11079675489137149,
          1.1302343282235041,
          0.21672092477696148,
          -0.06600779335608177,
          -0.8559480620795749,
          -1.7271894285586022,
          1.1012891399413387,
          -0.5233424546129773,
          -0.4295596884208994,
          -0.7338296808164192,
          -0.7951980646834268,
          -1.7749778857106635,
          1.4432059910070307,
          2.3960656171106334,
          -0.5530696854143431,
          2.1892029223457548,
          -1.5953607907146865,
          -0.2996578775184909,
          1.2999662824094993,
          -1.1708787580717988,
          -0.5347464084346105,
          1.2117032432670314,
          -0.08649483537720457,
          1.97409461680929,
          -1.0295090195009395,
          -0.012442497362611533,
          0.6432060279406185,
          -1.228594685397098,
          0.889127177754714,
          -1.5110039208620487,
          0.9279784460628189,
          0.19767556454771706,
          -1.2147369047700405,
          1.4950871259291127,
          0.03722613602021257,
          0.6095427437859312,
          -0.7168055764653345,
          0.1392411557047229,
          -1.5405393158372593,
          1.3688855607411003,
          1.652339810904066,
          0.11983929835394566,
          0.501981540004603,
          -0.31849208935861695,
          0.4474342446824646,
          -0.40686413021709095,
          -0.5715589688173871,
          -0.7610615600977046,
          0.4644825134725885,
          0.6790929295572973,
          -2.20861496436523,
          0.07711495796490156,
          -1.6699528186636468,
          -3.0641709594801285,
          1.7074670452404872,
          -0.15447929969220178,
          0.9506468488705513,
          0.7918133508667007,
          0.13147500786445818,
          -0.5357346870225651
         ],
         "yaxis": "y24"
        },
        {
         "histfunc": "count",
         "histnorm": "",
         "marker": {
          "color": "rgba(219, 64, 82, 1.0)",
          "line": {
           "color": "#4D5663",
           "width": 1.3
          }
         },
         "name": "E",
         "nbinsx": 10,
         "opacity": 0.8,
         "orientation": "v",
         "type": "histogram",
         "x": [
          0.985838989899486,
          0.21665256404644945,
          -1.4889031476281207,
          1.3876759317971679,
          0.5710992956833156,
          0.16374187863852463,
          -2.1706736396949498,
          0.19077717470631023,
          -0.27640171123488794,
          -0.7659030027417768,
          -0.9110672948102684,
          -1.3810824348721282,
          0.31793048738075586,
          0.5853699445262994,
          0.061462725006460994,
          -0.07410210757726512,
          -1.1806776449152259,
          0.7516053312905685,
          -1.5122130292802862,
          -0.2961906071419889,
          0.46503893149889275,
          0.19894853394605636,
          -1.9934980582451969,
          0.9590994132320767,
          -0.1082944304485146,
          -1.3109076409134526,
          1.0034588358102212,
          0.37765653683793965,
          0.9480888527360907,
          -0.5996730280193047,
          -0.24064440293746917,
          -0.6878280292402045,
          -0.9220452902725172,
          0.8002119805059846,
          -1.6104225638271787,
          0.9388577018866815,
          0.9029143350784757,
          -1.2004177089372596,
          -1.161030054269115,
          -0.24708457785562524,
          -0.11079675489137149,
          1.1302343282235041,
          0.21672092477696148,
          -0.06600779335608177,
          -0.8559480620795749,
          -1.7271894285586022,
          1.1012891399413387,
          -0.5233424546129773,
          -0.4295596884208994,
          -0.7338296808164192,
          -0.7951980646834268,
          -1.7749778857106635,
          1.4432059910070307,
          2.3960656171106334,
          -0.5530696854143431,
          2.1892029223457548,
          -1.5953607907146865,
          -0.2996578775184909,
          1.2999662824094993,
          -1.1708787580717988,
          -0.5347464084346105,
          1.2117032432670314,
          -0.08649483537720457,
          1.97409461680929,
          -1.0295090195009395,
          -0.012442497362611533,
          0.6432060279406185,
          -1.228594685397098,
          0.889127177754714,
          -1.5110039208620487,
          0.9279784460628189,
          0.19767556454771706,
          -1.2147369047700405,
          1.4950871259291127,
          0.03722613602021257,
          0.6095427437859312,
          -0.7168055764653345,
          0.1392411557047229,
          -1.5405393158372593,
          1.3688855607411003,
          1.652339810904066,
          0.11983929835394566,
          0.501981540004603,
          -0.31849208935861695,
          0.4474342446824646,
          -0.40686413021709095,
          -0.5715589688173871,
          -0.7610615600977046,
          0.4644825134725885,
          0.6790929295572973,
          -2.20861496436523,
          0.07711495796490156,
          -1.6699528186636468,
          -3.0641709594801285,
          1.7074670452404872,
          -0.15447929969220178,
          0.9506468488705513,
          0.7918133508667007,
          0.13147500786445818,
          -0.5357346870225651
         ],
         "xaxis": "x25",
         "yaxis": "y25"
        }
       ],
       "layout": {
        "bargap": 0.02,
        "legend": {
         "bgcolor": "#F5F6F9",
         "font": {
          "color": "#4D5663"
         }
        },
        "paper_bgcolor": "#F5F6F9",
        "plot_bgcolor": "#F5F6F9",
        "showlegend": false,
        "template": {
         "data": {
          "bar": [
           {
            "error_x": {
             "color": "#2a3f5f"
            },
            "error_y": {
             "color": "#2a3f5f"
            },
            "marker": {
             "line": {
              "color": "#E5ECF6",
              "width": 0.5
             },
             "pattern": {
              "fillmode": "overlay",
              "size": 10,
              "solidity": 0.2
             }
            },
            "type": "bar"
           }
          ],
          "barpolar": [
           {
            "marker": {
             "line": {
              "color": "#E5ECF6",
              "width": 0.5
             },
             "pattern": {
              "fillmode": "overlay",
              "size": 10,
              "solidity": 0.2
             }
            },
            "type": "barpolar"
           }
          ],
          "carpet": [
           {
            "aaxis": {
             "endlinecolor": "#2a3f5f",
             "gridcolor": "white",
             "linecolor": "white",
             "minorgridcolor": "white",
             "startlinecolor": "#2a3f5f"
            },
            "baxis": {
             "endlinecolor": "#2a3f5f",
             "gridcolor": "white",
             "linecolor": "white",
             "minorgridcolor": "white",
             "startlinecolor": "#2a3f5f"
            },
            "type": "carpet"
           }
          ],
          "choropleth": [
           {
            "colorbar": {
             "outlinewidth": 0,
             "ticks": ""
            },
            "type": "choropleth"
           }
          ],
          "contour": [
           {
            "colorbar": {
             "outlinewidth": 0,
             "ticks": ""
            },
            "colorscale": [
             [
              0,
              "#0d0887"
             ],
             [
              0.1111111111111111,
              "#46039f"
             ],
             [
              0.2222222222222222,
              "#7201a8"
             ],
             [
              0.3333333333333333,
              "#9c179e"
             ],
             [
              0.4444444444444444,
              "#bd3786"
             ],
             [
              0.5555555555555556,
              "#d8576b"
             ],
             [
              0.6666666666666666,
              "#ed7953"
             ],
             [
              0.7777777777777778,
              "#fb9f3a"
             ],
             [
              0.8888888888888888,
              "#fdca26"
             ],
             [
              1,
              "#f0f921"
             ]
            ],
            "type": "contour"
           }
          ],
          "contourcarpet": [
           {
            "colorbar": {
             "outlinewidth": 0,
             "ticks": ""
            },
            "type": "contourcarpet"
           }
          ],
          "heatmap": [
           {
            "colorbar": {
             "outlinewidth": 0,
             "ticks": ""
            },
            "colorscale": [
             [
              0,
              "#0d0887"
             ],
             [
              0.1111111111111111,
              "#46039f"
             ],
             [
              0.2222222222222222,
              "#7201a8"
             ],
             [
              0.3333333333333333,
              "#9c179e"
             ],
             [
              0.4444444444444444,
              "#bd3786"
             ],
             [
              0.5555555555555556,
              "#d8576b"
             ],
             [
              0.6666666666666666,
              "#ed7953"
             ],
             [
              0.7777777777777778,
              "#fb9f3a"
             ],
             [
              0.8888888888888888,
              "#fdca26"
             ],
             [
              1,
              "#f0f921"
             ]
            ],
            "type": "heatmap"
           }
          ],
          "heatmapgl": [
           {
            "colorbar": {
             "outlinewidth": 0,
             "ticks": ""
            },
            "colorscale": [
             [
              0,
              "#0d0887"
             ],
             [
              0.1111111111111111,
              "#46039f"
             ],
             [
              0.2222222222222222,
              "#7201a8"
             ],
             [
              0.3333333333333333,
              "#9c179e"
             ],
             [
              0.4444444444444444,
              "#bd3786"
             ],
             [
              0.5555555555555556,
              "#d8576b"
             ],
             [
              0.6666666666666666,
              "#ed7953"
             ],
             [
              0.7777777777777778,
              "#fb9f3a"
             ],
             [
              0.8888888888888888,
              "#fdca26"
             ],
             [
              1,
              "#f0f921"
             ]
            ],
            "type": "heatmapgl"
           }
          ],
          "histogram": [
           {
            "marker": {
             "pattern": {
              "fillmode": "overlay",
              "size": 10,
              "solidity": 0.2
             }
            },
            "type": "histogram"
           }
          ],
          "histogram2d": [
           {
            "colorbar": {
             "outlinewidth": 0,
             "ticks": ""
            },
            "colorscale": [
             [
              0,
              "#0d0887"
             ],
             [
              0.1111111111111111,
              "#46039f"
             ],
             [
              0.2222222222222222,
              "#7201a8"
             ],
             [
              0.3333333333333333,
              "#9c179e"
             ],
             [
              0.4444444444444444,
              "#bd3786"
             ],
             [
              0.5555555555555556,
              "#d8576b"
             ],
             [
              0.6666666666666666,
              "#ed7953"
             ],
             [
              0.7777777777777778,
              "#fb9f3a"
             ],
             [
              0.8888888888888888,
              "#fdca26"
             ],
             [
              1,
              "#f0f921"
             ]
            ],
            "type": "histogram2d"
           }
          ],
          "histogram2dcontour": [
           {
            "colorbar": {
             "outlinewidth": 0,
             "ticks": ""
            },
            "colorscale": [
             [
              0,
              "#0d0887"
             ],
             [
              0.1111111111111111,
              "#46039f"
             ],
             [
              0.2222222222222222,
              "#7201a8"
             ],
             [
              0.3333333333333333,
              "#9c179e"
             ],
             [
              0.4444444444444444,
              "#bd3786"
             ],
             [
              0.5555555555555556,
              "#d8576b"
             ],
             [
              0.6666666666666666,
              "#ed7953"
             ],
             [
              0.7777777777777778,
              "#fb9f3a"
             ],
             [
              0.8888888888888888,
              "#fdca26"
             ],
             [
              1,
              "#f0f921"
             ]
            ],
            "type": "histogram2dcontour"
           }
          ],
          "mesh3d": [
           {
            "colorbar": {
             "outlinewidth": 0,
             "ticks": ""
            },
            "type": "mesh3d"
           }
          ],
          "parcoords": [
           {
            "line": {
             "colorbar": {
              "outlinewidth": 0,
              "ticks": ""
             }
            },
            "type": "parcoords"
           }
          ],
          "pie": [
           {
            "automargin": true,
            "type": "pie"
           }
          ],
          "scatter": [
           {
            "marker": {
             "colorbar": {
              "outlinewidth": 0,
              "ticks": ""
             }
            },
            "type": "scatter"
           }
          ],
          "scatter3d": [
           {
            "line": {
             "colorbar": {
              "outlinewidth": 0,
              "ticks": ""
             }
            },
            "marker": {
             "colorbar": {
              "outlinewidth": 0,
              "ticks": ""
             }
            },
            "type": "scatter3d"
           }
          ],
          "scattercarpet": [
           {
            "marker": {
             "colorbar": {
              "outlinewidth": 0,
              "ticks": ""
             }
            },
            "type": "scattercarpet"
           }
          ],
          "scattergeo": [
           {
            "marker": {
             "colorbar": {
              "outlinewidth": 0,
              "ticks": ""
             }
            },
            "type": "scattergeo"
           }
          ],
          "scattergl": [
           {
            "marker": {
             "colorbar": {
              "outlinewidth": 0,
              "ticks": ""
             }
            },
            "type": "scattergl"
           }
          ],
          "scattermapbox": [
           {
            "marker": {
             "colorbar": {
              "outlinewidth": 0,
              "ticks": ""
             }
            },
            "type": "scattermapbox"
           }
          ],
          "scatterpolar": [
           {
            "marker": {
             "colorbar": {
              "outlinewidth": 0,
              "ticks": ""
             }
            },
            "type": "scatterpolar"
           }
          ],
          "scatterpolargl": [
           {
            "marker": {
             "colorbar": {
              "outlinewidth": 0,
              "ticks": ""
             }
            },
            "type": "scatterpolargl"
           }
          ],
          "scatterternary": [
           {
            "marker": {
             "colorbar": {
              "outlinewidth": 0,
              "ticks": ""
             }
            },
            "type": "scatterternary"
           }
          ],
          "surface": [
           {
            "colorbar": {
             "outlinewidth": 0,
             "ticks": ""
            },
            "colorscale": [
             [
              0,
              "#0d0887"
             ],
             [
              0.1111111111111111,
              "#46039f"
             ],
             [
              0.2222222222222222,
              "#7201a8"
             ],
             [
              0.3333333333333333,
              "#9c179e"
             ],
             [
              0.4444444444444444,
              "#bd3786"
             ],
             [
              0.5555555555555556,
              "#d8576b"
             ],
             [
              0.6666666666666666,
              "#ed7953"
             ],
             [
              0.7777777777777778,
              "#fb9f3a"
             ],
             [
              0.8888888888888888,
              "#fdca26"
             ],
             [
              1,
              "#f0f921"
             ]
            ],
            "type": "surface"
           }
          ],
          "table": [
           {
            "cells": {
             "fill": {
              "color": "#EBF0F8"
             },
             "line": {
              "color": "white"
             }
            },
            "header": {
             "fill": {
              "color": "#C8D4E3"
             },
             "line": {
              "color": "white"
             }
            },
            "type": "table"
           }
          ]
         },
         "layout": {
          "annotationdefaults": {
           "arrowcolor": "#2a3f5f",
           "arrowhead": 0,
           "arrowwidth": 1
          },
          "autotypenumbers": "strict",
          "coloraxis": {
           "colorbar": {
            "outlinewidth": 0,
            "ticks": ""
           }
          },
          "colorscale": {
           "diverging": [
            [
             0,
             "#8e0152"
            ],
            [
             0.1,
             "#c51b7d"
            ],
            [
             0.2,
             "#de77ae"
            ],
            [
             0.3,
             "#f1b6da"
            ],
            [
             0.4,
             "#fde0ef"
            ],
            [
             0.5,
             "#f7f7f7"
            ],
            [
             0.6,
             "#e6f5d0"
            ],
            [
             0.7,
             "#b8e186"
            ],
            [
             0.8,
             "#7fbc41"
            ],
            [
             0.9,
             "#4d9221"
            ],
            [
             1,
             "#276419"
            ]
           ],
           "sequential": [
            [
             0,
             "#0d0887"
            ],
            [
             0.1111111111111111,
             "#46039f"
            ],
            [
             0.2222222222222222,
             "#7201a8"
            ],
            [
             0.3333333333333333,
             "#9c179e"
            ],
            [
             0.4444444444444444,
             "#bd3786"
            ],
            [
             0.5555555555555556,
             "#d8576b"
            ],
            [
             0.6666666666666666,
             "#ed7953"
            ],
            [
             0.7777777777777778,
             "#fb9f3a"
            ],
            [
             0.8888888888888888,
             "#fdca26"
            ],
            [
             1,
             "#f0f921"
            ]
           ],
           "sequentialminus": [
            [
             0,
             "#0d0887"
            ],
            [
             0.1111111111111111,
             "#46039f"
            ],
            [
             0.2222222222222222,
             "#7201a8"
            ],
            [
             0.3333333333333333,
             "#9c179e"
            ],
            [
             0.4444444444444444,
             "#bd3786"
            ],
            [
             0.5555555555555556,
             "#d8576b"
            ],
            [
             0.6666666666666666,
             "#ed7953"
            ],
            [
             0.7777777777777778,
             "#fb9f3a"
            ],
            [
             0.8888888888888888,
             "#fdca26"
            ],
            [
             1,
             "#f0f921"
            ]
           ]
          },
          "colorway": [
           "#636efa",
           "#EF553B",
           "#00cc96",
           "#ab63fa",
           "#FFA15A",
           "#19d3f3",
           "#FF6692",
           "#B6E880",
           "#FF97FF",
           "#FECB52"
          ],
          "font": {
           "color": "#2a3f5f"
          },
          "geo": {
           "bgcolor": "white",
           "lakecolor": "white",
           "landcolor": "#E5ECF6",
           "showlakes": true,
           "showland": true,
           "subunitcolor": "white"
          },
          "hoverlabel": {
           "align": "left"
          },
          "hovermode": "closest",
          "mapbox": {
           "style": "light"
          },
          "paper_bgcolor": "white",
          "plot_bgcolor": "#E5ECF6",
          "polar": {
           "angularaxis": {
            "gridcolor": "white",
            "linecolor": "white",
            "ticks": ""
           },
           "bgcolor": "#E5ECF6",
           "radialaxis": {
            "gridcolor": "white",
            "linecolor": "white",
            "ticks": ""
           }
          },
          "scene": {
           "xaxis": {
            "backgroundcolor": "#E5ECF6",
            "gridcolor": "white",
            "gridwidth": 2,
            "linecolor": "white",
            "showbackground": true,
            "ticks": "",
            "zerolinecolor": "white"
           },
           "yaxis": {
            "backgroundcolor": "#E5ECF6",
            "gridcolor": "white",
            "gridwidth": 2,
            "linecolor": "white",
            "showbackground": true,
            "ticks": "",
            "zerolinecolor": "white"
           },
           "zaxis": {
            "backgroundcolor": "#E5ECF6",
            "gridcolor": "white",
            "gridwidth": 2,
            "linecolor": "white",
            "showbackground": true,
            "ticks": "",
            "zerolinecolor": "white"
           }
          },
          "shapedefaults": {
           "line": {
            "color": "#2a3f5f"
           }
          },
          "ternary": {
           "aaxis": {
            "gridcolor": "white",
            "linecolor": "white",
            "ticks": ""
           },
           "baxis": {
            "gridcolor": "white",
            "linecolor": "white",
            "ticks": ""
           },
           "bgcolor": "#E5ECF6",
           "caxis": {
            "gridcolor": "white",
            "linecolor": "white",
            "ticks": ""
           }
          },
          "title": {
           "x": 0.05
          },
          "xaxis": {
           "automargin": true,
           "gridcolor": "white",
           "linecolor": "white",
           "ticks": "",
           "title": {
            "standoff": 15
           },
           "zerolinecolor": "white",
           "zerolinewidth": 2
          },
          "yaxis": {
           "automargin": true,
           "gridcolor": "white",
           "linecolor": "white",
           "ticks": "",
           "title": {
            "standoff": 15
           },
           "zerolinecolor": "white",
           "zerolinewidth": 2
          }
         }
        },
        "title": {
         "font": {
          "color": "#4D5663"
         }
        },
        "xaxis": {
         "anchor": "y",
         "domain": [
          0,
          0.16
         ],
         "gridcolor": "#E1E5ED",
         "showgrid": false,
         "tickfont": {
          "color": "#4D5663"
         },
         "title": {
          "font": {
           "color": "#4D5663"
          },
          "text": ""
         },
         "zerolinecolor": "#E1E5ED"
        },
        "xaxis10": {
         "anchor": "y10",
         "domain": [
          0.8400000000000001,
          1
         ],
         "gridcolor": "#E1E5ED",
         "showgrid": false,
         "tickfont": {
          "color": "#4D5663"
         },
         "title": {
          "font": {
           "color": "#4D5663"
          },
          "text": ""
         },
         "zerolinecolor": "#E1E5ED"
        },
        "xaxis11": {
         "anchor": "y11",
         "domain": [
          0,
          0.16
         ],
         "gridcolor": "#E1E5ED",
         "showgrid": false,
         "tickfont": {
          "color": "#4D5663"
         },
         "title": {
          "font": {
           "color": "#4D5663"
          },
          "text": ""
         },
         "zerolinecolor": "#E1E5ED"
        },
        "xaxis12": {
         "anchor": "y12",
         "domain": [
          0.21000000000000002,
          0.37
         ],
         "gridcolor": "#E1E5ED",
         "showgrid": false,
         "tickfont": {
          "color": "#4D5663"
         },
         "title": {
          "font": {
           "color": "#4D5663"
          },
          "text": ""
         },
         "zerolinecolor": "#E1E5ED"
        },
        "xaxis13": {
         "anchor": "y13",
         "domain": [
          0.42000000000000004,
          0.5800000000000001
         ],
         "gridcolor": "#E1E5ED",
         "showgrid": false,
         "tickfont": {
          "color": "#4D5663"
         },
         "title": {
          "font": {
           "color": "#4D5663"
          },
          "text": ""
         },
         "zerolinecolor": "#E1E5ED"
        },
        "xaxis14": {
         "anchor": "y14",
         "domain": [
          0.63,
          0.79
         ],
         "gridcolor": "#E1E5ED",
         "showgrid": false,
         "tickfont": {
          "color": "#4D5663"
         },
         "title": {
          "font": {
           "color": "#4D5663"
          },
          "text": ""
         },
         "zerolinecolor": "#E1E5ED"
        },
        "xaxis15": {
         "anchor": "y15",
         "domain": [
          0.8400000000000001,
          1
         ],
         "gridcolor": "#E1E5ED",
         "showgrid": false,
         "tickfont": {
          "color": "#4D5663"
         },
         "title": {
          "font": {
           "color": "#4D5663"
          },
          "text": ""
         },
         "zerolinecolor": "#E1E5ED"
        },
        "xaxis16": {
         "anchor": "y16",
         "domain": [
          0,
          0.16
         ],
         "gridcolor": "#E1E5ED",
         "showgrid": false,
         "tickfont": {
          "color": "#4D5663"
         },
         "title": {
          "font": {
           "color": "#4D5663"
          },
          "text": ""
         },
         "zerolinecolor": "#E1E5ED"
        },
        "xaxis17": {
         "anchor": "y17",
         "domain": [
          0.21000000000000002,
          0.37
         ],
         "gridcolor": "#E1E5ED",
         "showgrid": false,
         "tickfont": {
          "color": "#4D5663"
         },
         "title": {
          "font": {
           "color": "#4D5663"
          },
          "text": ""
         },
         "zerolinecolor": "#E1E5ED"
        },
        "xaxis18": {
         "anchor": "y18",
         "domain": [
          0.42000000000000004,
          0.5800000000000001
         ],
         "gridcolor": "#E1E5ED",
         "showgrid": false,
         "tickfont": {
          "color": "#4D5663"
         },
         "title": {
          "font": {
           "color": "#4D5663"
          },
          "text": ""
         },
         "zerolinecolor": "#E1E5ED"
        },
        "xaxis19": {
         "anchor": "y19",
         "domain": [
          0.63,
          0.79
         ],
         "gridcolor": "#E1E5ED",
         "showgrid": false,
         "tickfont": {
          "color": "#4D5663"
         },
         "title": {
          "font": {
           "color": "#4D5663"
          },
          "text": ""
         },
         "zerolinecolor": "#E1E5ED"
        },
        "xaxis2": {
         "anchor": "y2",
         "domain": [
          0.21000000000000002,
          0.37
         ],
         "gridcolor": "#E1E5ED",
         "showgrid": false,
         "tickfont": {
          "color": "#4D5663"
         },
         "title": {
          "font": {
           "color": "#4D5663"
          },
          "text": ""
         },
         "zerolinecolor": "#E1E5ED"
        },
        "xaxis20": {
         "anchor": "y20",
         "domain": [
          0.8400000000000001,
          1
         ],
         "gridcolor": "#E1E5ED",
         "showgrid": false,
         "tickfont": {
          "color": "#4D5663"
         },
         "title": {
          "font": {
           "color": "#4D5663"
          },
          "text": ""
         },
         "zerolinecolor": "#E1E5ED"
        },
        "xaxis21": {
         "anchor": "y21",
         "domain": [
          0,
          0.16
         ],
         "gridcolor": "#E1E5ED",
         "showgrid": false,
         "tickfont": {
          "color": "#4D5663"
         },
         "title": {
          "font": {
           "color": "#4D5663"
          },
          "text": ""
         },
         "zerolinecolor": "#E1E5ED"
        },
        "xaxis22": {
         "anchor": "y22",
         "domain": [
          0.21000000000000002,
          0.37
         ],
         "gridcolor": "#E1E5ED",
         "showgrid": false,
         "tickfont": {
          "color": "#4D5663"
         },
         "title": {
          "font": {
           "color": "#4D5663"
          },
          "text": ""
         },
         "zerolinecolor": "#E1E5ED"
        },
        "xaxis23": {
         "anchor": "y23",
         "domain": [
          0.42000000000000004,
          0.5800000000000001
         ],
         "gridcolor": "#E1E5ED",
         "showgrid": false,
         "tickfont": {
          "color": "#4D5663"
         },
         "title": {
          "font": {
           "color": "#4D5663"
          },
          "text": ""
         },
         "zerolinecolor": "#E1E5ED"
        },
        "xaxis24": {
         "anchor": "y24",
         "domain": [
          0.63,
          0.79
         ],
         "gridcolor": "#E1E5ED",
         "showgrid": false,
         "tickfont": {
          "color": "#4D5663"
         },
         "title": {
          "font": {
           "color": "#4D5663"
          },
          "text": ""
         },
         "zerolinecolor": "#E1E5ED"
        },
        "xaxis25": {
         "anchor": "y25",
         "domain": [
          0.8400000000000001,
          1
         ],
         "gridcolor": "#E1E5ED",
         "showgrid": false,
         "tickfont": {
          "color": "#4D5663"
         },
         "title": {
          "font": {
           "color": "#4D5663"
          },
          "text": ""
         },
         "zerolinecolor": "#E1E5ED"
        },
        "xaxis3": {
         "anchor": "y3",
         "domain": [
          0.42000000000000004,
          0.5800000000000001
         ],
         "gridcolor": "#E1E5ED",
         "showgrid": false,
         "tickfont": {
          "color": "#4D5663"
         },
         "title": {
          "font": {
           "color": "#4D5663"
          },
          "text": ""
         },
         "zerolinecolor": "#E1E5ED"
        },
        "xaxis4": {
         "anchor": "y4",
         "domain": [
          0.63,
          0.79
         ],
         "gridcolor": "#E1E5ED",
         "showgrid": false,
         "tickfont": {
          "color": "#4D5663"
         },
         "title": {
          "font": {
           "color": "#4D5663"
          },
          "text": ""
         },
         "zerolinecolor": "#E1E5ED"
        },
        "xaxis5": {
         "anchor": "y5",
         "domain": [
          0.8400000000000001,
          1
         ],
         "gridcolor": "#E1E5ED",
         "showgrid": false,
         "tickfont": {
          "color": "#4D5663"
         },
         "title": {
          "font": {
           "color": "#4D5663"
          },
          "text": ""
         },
         "zerolinecolor": "#E1E5ED"
        },
        "xaxis6": {
         "anchor": "y6",
         "domain": [
          0,
          0.16
         ],
         "gridcolor": "#E1E5ED",
         "showgrid": false,
         "tickfont": {
          "color": "#4D5663"
         },
         "title": {
          "font": {
           "color": "#4D5663"
          },
          "text": ""
         },
         "zerolinecolor": "#E1E5ED"
        },
        "xaxis7": {
         "anchor": "y7",
         "domain": [
          0.21000000000000002,
          0.37
         ],
         "gridcolor": "#E1E5ED",
         "showgrid": false,
         "tickfont": {
          "color": "#4D5663"
         },
         "title": {
          "font": {
           "color": "#4D5663"
          },
          "text": ""
         },
         "zerolinecolor": "#E1E5ED"
        },
        "xaxis8": {
         "anchor": "y8",
         "domain": [
          0.42000000000000004,
          0.5800000000000001
         ],
         "gridcolor": "#E1E5ED",
         "showgrid": false,
         "tickfont": {
          "color": "#4D5663"
         },
         "title": {
          "font": {
           "color": "#4D5663"
          },
          "text": ""
         },
         "zerolinecolor": "#E1E5ED"
        },
        "xaxis9": {
         "anchor": "y9",
         "domain": [
          0.63,
          0.79
         ],
         "gridcolor": "#E1E5ED",
         "showgrid": false,
         "tickfont": {
          "color": "#4D5663"
         },
         "title": {
          "font": {
           "color": "#4D5663"
          },
          "text": ""
         },
         "zerolinecolor": "#E1E5ED"
        },
        "yaxis": {
         "anchor": "x",
         "domain": [
          0.856,
          1
         ],
         "gridcolor": "#E1E5ED",
         "showgrid": false,
         "tickfont": {
          "color": "#4D5663"
         },
         "title": {
          "font": {
           "color": "#4D5663"
          },
          "text": ""
         },
         "zerolinecolor": "#E1E5ED"
        },
        "yaxis10": {
         "anchor": "x10",
         "domain": [
          0.6419999999999999,
          0.7859999999999999
         ],
         "gridcolor": "#E1E5ED",
         "showgrid": false,
         "tickfont": {
          "color": "#4D5663"
         },
         "title": {
          "font": {
           "color": "#4D5663"
          },
          "text": ""
         },
         "zerolinecolor": "#E1E5ED"
        },
        "yaxis11": {
         "anchor": "x11",
         "domain": [
          0.428,
          0.572
         ],
         "gridcolor": "#E1E5ED",
         "showgrid": false,
         "tickfont": {
          "color": "#4D5663"
         },
         "title": {
          "font": {
           "color": "#4D5663"
          },
          "text": ""
         },
         "zerolinecolor": "#E1E5ED"
        },
        "yaxis12": {
         "anchor": "x12",
         "domain": [
          0.428,
          0.572
         ],
         "gridcolor": "#E1E5ED",
         "showgrid": false,
         "tickfont": {
          "color": "#4D5663"
         },
         "title": {
          "font": {
           "color": "#4D5663"
          },
          "text": ""
         },
         "zerolinecolor": "#E1E5ED"
        },
        "yaxis13": {
         "anchor": "x13",
         "domain": [
          0.428,
          0.572
         ],
         "gridcolor": "#E1E5ED",
         "showgrid": false,
         "tickfont": {
          "color": "#4D5663"
         },
         "title": {
          "font": {
           "color": "#4D5663"
          },
          "text": ""
         },
         "zerolinecolor": "#E1E5ED"
        },
        "yaxis14": {
         "anchor": "x14",
         "domain": [
          0.428,
          0.572
         ],
         "gridcolor": "#E1E5ED",
         "showgrid": false,
         "tickfont": {
          "color": "#4D5663"
         },
         "title": {
          "font": {
           "color": "#4D5663"
          },
          "text": ""
         },
         "zerolinecolor": "#E1E5ED"
        },
        "yaxis15": {
         "anchor": "x15",
         "domain": [
          0.428,
          0.572
         ],
         "gridcolor": "#E1E5ED",
         "showgrid": false,
         "tickfont": {
          "color": "#4D5663"
         },
         "title": {
          "font": {
           "color": "#4D5663"
          },
          "text": ""
         },
         "zerolinecolor": "#E1E5ED"
        },
        "yaxis16": {
         "anchor": "x16",
         "domain": [
          0.214,
          0.358
         ],
         "gridcolor": "#E1E5ED",
         "showgrid": false,
         "tickfont": {
          "color": "#4D5663"
         },
         "title": {
          "font": {
           "color": "#4D5663"
          },
          "text": ""
         },
         "zerolinecolor": "#E1E5ED"
        },
        "yaxis17": {
         "anchor": "x17",
         "domain": [
          0.214,
          0.358
         ],
         "gridcolor": "#E1E5ED",
         "showgrid": false,
         "tickfont": {
          "color": "#4D5663"
         },
         "title": {
          "font": {
           "color": "#4D5663"
          },
          "text": ""
         },
         "zerolinecolor": "#E1E5ED"
        },
        "yaxis18": {
         "anchor": "x18",
         "domain": [
          0.214,
          0.358
         ],
         "gridcolor": "#E1E5ED",
         "showgrid": false,
         "tickfont": {
          "color": "#4D5663"
         },
         "title": {
          "font": {
           "color": "#4D5663"
          },
          "text": ""
         },
         "zerolinecolor": "#E1E5ED"
        },
        "yaxis19": {
         "anchor": "x19",
         "domain": [
          0.214,
          0.358
         ],
         "gridcolor": "#E1E5ED",
         "showgrid": false,
         "tickfont": {
          "color": "#4D5663"
         },
         "title": {
          "font": {
           "color": "#4D5663"
          },
          "text": ""
         },
         "zerolinecolor": "#E1E5ED"
        },
        "yaxis2": {
         "anchor": "x2",
         "domain": [
          0.856,
          1
         ],
         "gridcolor": "#E1E5ED",
         "showgrid": false,
         "tickfont": {
          "color": "#4D5663"
         },
         "title": {
          "font": {
           "color": "#4D5663"
          },
          "text": ""
         },
         "zerolinecolor": "#E1E5ED"
        },
        "yaxis20": {
         "anchor": "x20",
         "domain": [
          0.214,
          0.358
         ],
         "gridcolor": "#E1E5ED",
         "showgrid": false,
         "tickfont": {
          "color": "#4D5663"
         },
         "title": {
          "font": {
           "color": "#4D5663"
          },
          "text": ""
         },
         "zerolinecolor": "#E1E5ED"
        },
        "yaxis21": {
         "anchor": "x21",
         "domain": [
          0,
          0.144
         ],
         "gridcolor": "#E1E5ED",
         "showgrid": false,
         "tickfont": {
          "color": "#4D5663"
         },
         "title": {
          "font": {
           "color": "#4D5663"
          },
          "text": ""
         },
         "zerolinecolor": "#E1E5ED"
        },
        "yaxis22": {
         "anchor": "x22",
         "domain": [
          0,
          0.144
         ],
         "gridcolor": "#E1E5ED",
         "showgrid": false,
         "tickfont": {
          "color": "#4D5663"
         },
         "title": {
          "font": {
           "color": "#4D5663"
          },
          "text": ""
         },
         "zerolinecolor": "#E1E5ED"
        },
        "yaxis23": {
         "anchor": "x23",
         "domain": [
          0,
          0.144
         ],
         "gridcolor": "#E1E5ED",
         "showgrid": false,
         "tickfont": {
          "color": "#4D5663"
         },
         "title": {
          "font": {
           "color": "#4D5663"
          },
          "text": ""
         },
         "zerolinecolor": "#E1E5ED"
        },
        "yaxis24": {
         "anchor": "x24",
         "domain": [
          0,
          0.144
         ],
         "gridcolor": "#E1E5ED",
         "showgrid": false,
         "tickfont": {
          "color": "#4D5663"
         },
         "title": {
          "font": {
           "color": "#4D5663"
          },
          "text": ""
         },
         "zerolinecolor": "#E1E5ED"
        },
        "yaxis25": {
         "anchor": "x25",
         "domain": [
          0,
          0.144
         ],
         "gridcolor": "#E1E5ED",
         "showgrid": false,
         "tickfont": {
          "color": "#4D5663"
         },
         "title": {
          "font": {
           "color": "#4D5663"
          },
          "text": ""
         },
         "zerolinecolor": "#E1E5ED"
        },
        "yaxis3": {
         "anchor": "x3",
         "domain": [
          0.856,
          1
         ],
         "gridcolor": "#E1E5ED",
         "showgrid": false,
         "tickfont": {
          "color": "#4D5663"
         },
         "title": {
          "font": {
           "color": "#4D5663"
          },
          "text": ""
         },
         "zerolinecolor": "#E1E5ED"
        },
        "yaxis4": {
         "anchor": "x4",
         "domain": [
          0.856,
          1
         ],
         "gridcolor": "#E1E5ED",
         "showgrid": false,
         "tickfont": {
          "color": "#4D5663"
         },
         "title": {
          "font": {
           "color": "#4D5663"
          },
          "text": ""
         },
         "zerolinecolor": "#E1E5ED"
        },
        "yaxis5": {
         "anchor": "x5",
         "domain": [
          0.856,
          1
         ],
         "gridcolor": "#E1E5ED",
         "showgrid": false,
         "tickfont": {
          "color": "#4D5663"
         },
         "title": {
          "font": {
           "color": "#4D5663"
          },
          "text": ""
         },
         "zerolinecolor": "#E1E5ED"
        },
        "yaxis6": {
         "anchor": "x6",
         "domain": [
          0.6419999999999999,
          0.7859999999999999
         ],
         "gridcolor": "#E1E5ED",
         "showgrid": false,
         "tickfont": {
          "color": "#4D5663"
         },
         "title": {
          "font": {
           "color": "#4D5663"
          },
          "text": ""
         },
         "zerolinecolor": "#E1E5ED"
        },
        "yaxis7": {
         "anchor": "x7",
         "domain": [
          0.6419999999999999,
          0.7859999999999999
         ],
         "gridcolor": "#E1E5ED",
         "showgrid": false,
         "tickfont": {
          "color": "#4D5663"
         },
         "title": {
          "font": {
           "color": "#4D5663"
          },
          "text": ""
         },
         "zerolinecolor": "#E1E5ED"
        },
        "yaxis8": {
         "anchor": "x8",
         "domain": [
          0.6419999999999999,
          0.7859999999999999
         ],
         "gridcolor": "#E1E5ED",
         "showgrid": false,
         "tickfont": {
          "color": "#4D5663"
         },
         "title": {
          "font": {
           "color": "#4D5663"
          },
          "text": ""
         },
         "zerolinecolor": "#E1E5ED"
        },
        "yaxis9": {
         "anchor": "x9",
         "domain": [
          0.6419999999999999,
          0.7859999999999999
         ],
         "gridcolor": "#E1E5ED",
         "showgrid": false,
         "tickfont": {
          "color": "#4D5663"
         },
         "title": {
          "font": {
           "color": "#4D5663"
          },
          "text": ""
         },
         "zerolinecolor": "#E1E5ED"
        }
       }
      },
      "text/html": [
       "<div>                            <div id=\"687267b3-81bd-48b7-99a9-8a4b0cea160c\" class=\"plotly-graph-div\" style=\"height:525px; width:100%;\"></div>            <script type=\"text/javascript\">                require([\"plotly\"], function(Plotly) {                    window.PLOTLYENV=window.PLOTLYENV || {};\n",
       "                    window.PLOTLYENV.BASE_URL='https://plot.ly';                                    if (document.getElementById(\"687267b3-81bd-48b7-99a9-8a4b0cea160c\")) {                    Plotly.newPlot(                        \"687267b3-81bd-48b7-99a9-8a4b0cea160c\",                        [{\"histfunc\":\"count\",\"histnorm\":\"\",\"marker\":{\"color\":\"rgba(255, 153, 51, 1.0)\",\"line\":{\"color\":\"#4D5663\",\"width\":1.3}},\"name\":\"A\",\"nbinsx\":10,\"opacity\":0.8,\"orientation\":\"v\",\"x\":[-0.2161184228253383,0.8792932512052545,0.8159294643263392,-0.4635332026275159,1.2480606583511327,1.1636709077699556,0.7922609344528071,-0.487105657576173,0.5421078085365659,0.5700116946872794,0.8239368808080885,-2.025932373181993,-0.7813558580603188,-0.8034398249519679,1.2512029139420504,-0.820332122346455,-1.6512522046007363,1.5682988107869604,-0.0063207362410987915,0.4004905726878128,0.5203258238161681,1.8279603356320633,0.13283157408988597,1.542945359288579,1.6651922182738557,-0.18907056450707943,0.5662895926834438,-0.4460591334360272,-0.5962532719116784,-0.5631527736349463,2.0839310694181905,-0.3747192099598198,0.2469317564261832,-0.4871280695792462,-1.399511059198512,-0.9279823397322188,0.3390474827073605,1.0170979834933276,-0.1348568156422785,1.2344989287853096,-0.273536936893138,0.5969711416695731,-0.5019729300786134,-1.5731701762261463,-0.776546301945367,-0.04443145956515006,-0.8568286686510093,-0.024763966728982578,0.7837974913189243,0.9010994038155039,-0.4730980172755114,0.207587519407055,-0.6771743196350672,1.2863142031525987,1.0405050456937595,0.06872578685904618,0.20037742174726073,0.43338326497446955,-1.1232782954405904,0.40114918501688485,0.5906859056001391,2.966926846259941,-0.23043343271553118,-0.8732939562117886,1.14121108723957,-0.4914311190409125,1.2800135159775534,0.8703759276983618,-0.69160728844988,1.1149661429079787,-1.0368988106557855,-1.856129353554703,0.07728497234778402,-0.5566709010013736,0.0017236191367242851,0.33896141298782556,-0.34634373933597523,-0.4314493717931845,-0.24830094093459376,0.7942439153979056,0.355227483466092,-0.9023647603026724,0.26053844043329494,-1.4960110241555,-0.03606981923271355,0.8973986520322429,0.8765836951666557,0.8099946509436573,-0.2546804984597161,-1.0077879926848405,-1.2867994667714329,1.5576794947939168,0.019057905893780924,-0.5441990567110787,0.49670405962304026,-0.4854564908395615,0.01630221623572593,0.4829915653490035,0.43406524706242366,-0.1857395357813015],\"xaxis\":\"x\",\"yaxis\":\"y\",\"type\":\"histogram\"},{\"line\":{\"color\":\"rgba(128, 128, 128, 1.0)\",\"dash\":\"solid\",\"shape\":\"linear\",\"width\":1.3},\"marker\":{\"size\":2,\"symbol\":\"circle\"},\"mode\":\"markers\",\"name\":\"A\",\"text\":\"\",\"x\":[0.6009272176053823,-0.47328375717875815,1.5102796829570875,0.13698648280279452,-0.08207927123680447,1.3807419460829236,0.0008884140464625894,1.6770396104112533,0.3834029797448087,-0.2690010326323169,1.597398260776538,0.7351648892726675,0.10551643845443366,-0.6311209883918225,0.5572390618218849,-0.7738078928039479,0.21116745930062886,0.14078423344846921,-0.4212439874653056,-2.3793733930614014,1.4212147209842563,-0.5812791086667076,-0.9415571482963713,0.6306110755837304,-1.2411071380593497,-0.6046780270124452,-1.0559399304488928,0.42279176280029,-1.226271418081291,-1.131325103094806,-0.8889977036219829,1.2648058753496236,-0.48442636834005676,0.7108960890827798,1.3725402153716952,-0.5675961974427753,0.9253553237255685,-0.5692932152077298,-0.4174221274552496,-0.6979921244017261,-0.3393646826749617,-1.8087896518381883,0.3758793349821352,-0.39199851456008206,0.07117604173337383,-1.213063945919289,0.07552353850305901,-2.4856059003298836,0.451007261823913,-0.2289835339458214,2.120458797452917,-0.6083107357715691,0.3047972548593639,0.8166894152888184,-0.3543723312937055,0.9270475773868493,0.21671452232011124,-1.0860561840875944,-0.9241637527989113,0.6469123061061172,-0.5604065178745599,-1.3026393979314375,-0.40837785458920023,-2.053389222406837,0.452689699599634,-0.5456880220604482,-0.3768008226061331,0.8395805250060749,0.15638033915065708,1.8378173141312133,0.18122406269354446,-0.5802911040274235,-0.9323718692835864,0.4085690155151971,-1.133680474934867,0.36264440141564863,0.39943820817481523,-0.9810313174504565,-1.9976005280155338,1.37253433673606,0.5368407330853499,-0.8077790783101932,1.2122769887218132,-1.0354813312940023,0.7911735578805896,-1.8950724841036661,-0.2987687049820244,-0.6523694211047908,0.3830716691262919,0.6284618766425324,-0.9618366538721196,0.3426388646253289,1.5482473743187941,0.5798472356535777,-2.113126103357163,-1.6964437945831647,1.4718284936317474,-2.0029776122015877,0.8932118075364441,0.34649521334632055],\"xaxis\":\"x2\",\"y\":[-0.2161184228253383,0.8792932512052545,0.8159294643263392,-0.4635332026275159,1.2480606583511327,1.1636709077699556,0.7922609344528071,-0.487105657576173,0.5421078085365659,0.5700116946872794,0.8239368808080885,-2.025932373181993,-0.7813558580603188,-0.8034398249519679,1.2512029139420504,-0.820332122346455,-1.6512522046007363,1.5682988107869604,-0.0063207362410987915,0.4004905726878128,0.5203258238161681,1.8279603356320633,0.13283157408988597,1.542945359288579,1.6651922182738557,-0.18907056450707943,0.5662895926834438,-0.4460591334360272,-0.5962532719116784,-0.5631527736349463,2.0839310694181905,-0.3747192099598198,0.2469317564261832,-0.4871280695792462,-1.399511059198512,-0.9279823397322188,0.3390474827073605,1.0170979834933276,-0.1348568156422785,1.2344989287853096,-0.273536936893138,0.5969711416695731,-0.5019729300786134,-1.5731701762261463,-0.776546301945367,-0.04443145956515006,-0.8568286686510093,-0.024763966728982578,0.7837974913189243,0.9010994038155039,-0.4730980172755114,0.207587519407055,-0.6771743196350672,1.2863142031525987,1.0405050456937595,0.06872578685904618,0.20037742174726073,0.43338326497446955,-1.1232782954405904,0.40114918501688485,0.5906859056001391,2.966926846259941,-0.23043343271553118,-0.8732939562117886,1.14121108723957,-0.4914311190409125,1.2800135159775534,0.8703759276983618,-0.69160728844988,1.1149661429079787,-1.0368988106557855,-1.856129353554703,0.07728497234778402,-0.5566709010013736,0.0017236191367242851,0.33896141298782556,-0.34634373933597523,-0.4314493717931845,-0.24830094093459376,0.7942439153979056,0.355227483466092,-0.9023647603026724,0.26053844043329494,-1.4960110241555,-0.03606981923271355,0.8973986520322429,0.8765836951666557,0.8099946509436573,-0.2546804984597161,-1.0077879926848405,-1.2867994667714329,1.5576794947939168,0.019057905893780924,-0.5441990567110787,0.49670405962304026,-0.4854564908395615,0.01630221623572593,0.4829915653490035,0.43406524706242366,-0.1857395357813015],\"yaxis\":\"y2\",\"type\":\"scatter\"},{\"line\":{\"color\":\"rgba(128, 128, 128, 1.0)\",\"dash\":\"solid\",\"shape\":\"linear\",\"width\":1.3},\"marker\":{\"size\":2,\"symbol\":\"circle\"},\"mode\":\"markers\",\"name\":\"A\",\"text\":\"\",\"x\":[-0.4904504640967385,0.7841649518309355,-0.304245861238214,0.23262635876766635,0.08550828795745093,-0.8480255295587014,-0.261206028417855,1.0577907507364823,-1.101211299395131,-0.8251206259790931,-0.8978443455398513,-1.3514533730965124,-0.08209426487329435,-0.15139757915670202,0.2551354321183675,0.7703496534057965,0.773461549697534,-0.3347489154005215,0.6823655341579137,1.4071878994586549,-0.08446934617102379,-0.057352780586065716,-0.8181938637541752,-0.3560552277971145,-0.9984524257539489,1.6397690684243977,1.1179692063944224,0.3016059541460915,-0.6555521607761945,0.31408554857118415,1.227842316464888,-1.0195835569969778,-0.23147217036371884,0.9688885701855176,0.3663791034068689,0.8895085682664936,0.1201048283525484,-0.2172456199843793,0.1221729936381177,-0.612688742724828,0.39353475351006906,-0.4669143592048186,0.48145897828600465,-1.1566262906735671,-1.4434906919821,-0.9508393391930143,-0.003905118567913522,-0.5703679260845474,0.6142004685346247,-0.6636259640583964,0.33594584828727947,-1.2246674803442719,-1.236122125254678,0.3752526319017947,0.7099385626038475,0.17588998239427525,-1.2768953229807145,-0.49754404575867583,-0.6597825379125649,-0.5990728023481424,-0.2027848998469554,0.49485969059168494,-0.21227013145286733,1.3053375964643223,-0.8379394644268467,-0.45173954324054766,-0.05020726114742386,-0.2465739411683541,-1.1559622908329785,2.1133715942228823,1.1499141155808377,-0.719668428072425,-1.313000128638488,-0.14086947149501206,1.352762400486382,-0.6024865304159895,0.1718946732091916,1.4981161545518924,0.016829820834161107,1.0853450021473872,-0.2997287900870656,-0.4097044924835301,0.344109881082276,-0.6574881286582049,0.7113548511406034,0.2548188733433786,-0.021435383179694616,0.4318443895919997,0.8996224765853629,3.553100284631579,0.9933288132365087,-0.6552503456956092,-0.013637084233192327,-1.4199077874391282,0.7487366691982029,0.7258439388367351,-1.9525003408463535,0.3293431165215186,1.9586055182184048,-0.7840212250751724],\"xaxis\":\"x3\",\"y\":[-0.2161184228253383,0.8792932512052545,0.8159294643263392,-0.4635332026275159,1.2480606583511327,1.1636709077699556,0.7922609344528071,-0.487105657576173,0.5421078085365659,0.5700116946872794,0.8239368808080885,-2.025932373181993,-0.7813558580603188,-0.8034398249519679,1.2512029139420504,-0.820332122346455,-1.6512522046007363,1.5682988107869604,-0.0063207362410987915,0.4004905726878128,0.5203258238161681,1.8279603356320633,0.13283157408988597,1.542945359288579,1.6651922182738557,-0.18907056450707943,0.5662895926834438,-0.4460591334360272,-0.5962532719116784,-0.5631527736349463,2.0839310694181905,-0.3747192099598198,0.2469317564261832,-0.4871280695792462,-1.399511059198512,-0.9279823397322188,0.3390474827073605,1.0170979834933276,-0.1348568156422785,1.2344989287853096,-0.273536936893138,0.5969711416695731,-0.5019729300786134,-1.5731701762261463,-0.776546301945367,-0.04443145956515006,-0.8568286686510093,-0.024763966728982578,0.7837974913189243,0.9010994038155039,-0.4730980172755114,0.207587519407055,-0.6771743196350672,1.2863142031525987,1.0405050456937595,0.06872578685904618,0.20037742174726073,0.43338326497446955,-1.1232782954405904,0.40114918501688485,0.5906859056001391,2.966926846259941,-0.23043343271553118,-0.8732939562117886,1.14121108723957,-0.4914311190409125,1.2800135159775534,0.8703759276983618,-0.69160728844988,1.1149661429079787,-1.0368988106557855,-1.856129353554703,0.07728497234778402,-0.5566709010013736,0.0017236191367242851,0.33896141298782556,-0.34634373933597523,-0.4314493717931845,-0.24830094093459376,0.7942439153979056,0.355227483466092,-0.9023647603026724,0.26053844043329494,-1.4960110241555,-0.03606981923271355,0.8973986520322429,0.8765836951666557,0.8099946509436573,-0.2546804984597161,-1.0077879926848405,-1.2867994667714329,1.5576794947939168,0.019057905893780924,-0.5441990567110787,0.49670405962304026,-0.4854564908395615,0.01630221623572593,0.4829915653490035,0.43406524706242366,-0.1857395357813015],\"yaxis\":\"y3\",\"type\":\"scatter\"},{\"line\":{\"color\":\"rgba(128, 128, 128, 1.0)\",\"dash\":\"solid\",\"shape\":\"linear\",\"width\":1.3},\"marker\":{\"size\":2,\"symbol\":\"circle\"},\"mode\":\"markers\",\"name\":\"A\",\"text\":\"\",\"x\":[-0.8318095314056883,-2.127859918718398,-0.3575127033959953,-0.49268790264262496,-0.9842456189860612,-0.4322563501816288,1.4747481391427955,0.5062475500603716,0.1310274861695234,0.4076442076473248,-0.7314277467778747,-2.9173499945957015,-0.9525047054693334,0.9118756724059636,0.25707034536142476,-1.297283158962134,0.2739781162595153,-0.055826607954760944,1.369622226965602,-1.2131724971600937,-0.8835939036173868,-0.844149223135671,-0.68250650360624,-1.3518867014911353,-1.2816275147266365,0.1759794026747841,-1.356871510619065,1.3549346160688758,-0.27950043685794207,0.9985181852854951,0.4035777150848172,0.24312444125046834,-2.126567552985169,1.4493216102722268,-0.5298276395414622,1.758955947594909,0.297331467286769,-0.1616950211119704,-0.4900760987941368,-0.019444513164756882,-1.4159961045579175,-0.4120808596173528,-1.3803598812563393,-0.3231294951467188,1.3766811066155502,-0.6339101000476981,-0.32396673433423534,1.6467984924910295,-1.8254364787042479,-0.4594675796723408,0.42524149720831955,1.5274272211227722,2.1138493561271434,0.3654477098013026,0.3991245714626832,0.337614416309407,-0.3722626463820364,-0.4798913494136549,0.20582739295966054,1.2285443927162687,1.8174528357214632,0.7712321037504603,-1.0946578564305034,-0.18252255724725008,0.22200143560962432,-0.5873964743421906,1.6263915255296177,-2.916122165498321,1.1354859105944033,-0.5612830154318965,-2.5338859015393456,0.27780592184573993,-0.3012395407551603,-0.0045730447550044375,-0.932026565625512,1.006996189347714,0.7228320567260069,-0.2103306858622351,0.07462380696174241,0.4128345793013187,1.290054881012775,0.34733728642021644,0.2514302473231246,0.06281411331243862,0.9127943035268626,-0.54464021317776,-1.514225799209707,0.36184983975761076,-0.4179529054782026,-0.05496050782729679,1.1824281136304102,-1.4133747748422434,0.938351498687969,2.1368044486512656,-0.052174832351982114,0.1865572824582993,-0.5729502162863898,-0.5817387839485517,0.43581422277414844,-2.7096282960158526],\"xaxis\":\"x4\",\"y\":[-0.2161184228253383,0.8792932512052545,0.8159294643263392,-0.4635332026275159,1.2480606583511327,1.1636709077699556,0.7922609344528071,-0.487105657576173,0.5421078085365659,0.5700116946872794,0.8239368808080885,-2.025932373181993,-0.7813558580603188,-0.8034398249519679,1.2512029139420504,-0.820332122346455,-1.6512522046007363,1.5682988107869604,-0.0063207362410987915,0.4004905726878128,0.5203258238161681,1.8279603356320633,0.13283157408988597,1.542945359288579,1.6651922182738557,-0.18907056450707943,0.5662895926834438,-0.4460591334360272,-0.5962532719116784,-0.5631527736349463,2.0839310694181905,-0.3747192099598198,0.2469317564261832,-0.4871280695792462,-1.399511059198512,-0.9279823397322188,0.3390474827073605,1.0170979834933276,-0.1348568156422785,1.2344989287853096,-0.273536936893138,0.5969711416695731,-0.5019729300786134,-1.5731701762261463,-0.776546301945367,-0.04443145956515006,-0.8568286686510093,-0.024763966728982578,0.7837974913189243,0.9010994038155039,-0.4730980172755114,0.207587519407055,-0.6771743196350672,1.2863142031525987,1.0405050456937595,0.06872578685904618,0.20037742174726073,0.43338326497446955,-1.1232782954405904,0.40114918501688485,0.5906859056001391,2.966926846259941,-0.23043343271553118,-0.8732939562117886,1.14121108723957,-0.4914311190409125,1.2800135159775534,0.8703759276983618,-0.69160728844988,1.1149661429079787,-1.0368988106557855,-1.856129353554703,0.07728497234778402,-0.5566709010013736,0.0017236191367242851,0.33896141298782556,-0.34634373933597523,-0.4314493717931845,-0.24830094093459376,0.7942439153979056,0.355227483466092,-0.9023647603026724,0.26053844043329494,-1.4960110241555,-0.03606981923271355,0.8973986520322429,0.8765836951666557,0.8099946509436573,-0.2546804984597161,-1.0077879926848405,-1.2867994667714329,1.5576794947939168,0.019057905893780924,-0.5441990567110787,0.49670405962304026,-0.4854564908395615,0.01630221623572593,0.4829915653490035,0.43406524706242366,-0.1857395357813015],\"yaxis\":\"y4\",\"type\":\"scatter\"},{\"line\":{\"color\":\"rgba(128, 128, 128, 1.0)\",\"dash\":\"solid\",\"shape\":\"linear\",\"width\":1.3},\"marker\":{\"size\":2,\"symbol\":\"circle\"},\"mode\":\"markers\",\"name\":\"A\",\"text\":\"\",\"x\":[0.985838989899486,0.21665256404644945,-1.4889031476281207,1.3876759317971679,0.5710992956833156,0.16374187863852463,-2.1706736396949498,0.19077717470631023,-0.27640171123488794,-0.7659030027417768,-0.9110672948102684,-1.3810824348721282,0.31793048738075586,0.5853699445262994,0.061462725006460994,-0.07410210757726512,-1.1806776449152259,0.7516053312905685,-1.5122130292802862,-0.2961906071419889,0.46503893149889275,0.19894853394605636,-1.9934980582451969,0.9590994132320767,-0.1082944304485146,-1.3109076409134526,1.0034588358102212,0.37765653683793965,0.9480888527360907,-0.5996730280193047,-0.24064440293746917,-0.6878280292402045,-0.9220452902725172,0.8002119805059846,-1.6104225638271787,0.9388577018866815,0.9029143350784757,-1.2004177089372596,-1.161030054269115,-0.24708457785562524,-0.11079675489137149,1.1302343282235041,0.21672092477696148,-0.06600779335608177,-0.8559480620795749,-1.7271894285586022,1.1012891399413387,-0.5233424546129773,-0.4295596884208994,-0.7338296808164192,-0.7951980646834268,-1.7749778857106635,1.4432059910070307,2.3960656171106334,-0.5530696854143431,2.1892029223457548,-1.5953607907146865,-0.2996578775184909,1.2999662824094993,-1.1708787580717988,-0.5347464084346105,1.2117032432670314,-0.08649483537720457,1.97409461680929,-1.0295090195009395,-0.012442497362611533,0.6432060279406185,-1.228594685397098,0.889127177754714,-1.5110039208620487,0.9279784460628189,0.19767556454771706,-1.2147369047700405,1.4950871259291127,0.03722613602021257,0.6095427437859312,-0.7168055764653345,0.1392411557047229,-1.5405393158372593,1.3688855607411003,1.652339810904066,0.11983929835394566,0.501981540004603,-0.31849208935861695,0.4474342446824646,-0.40686413021709095,-0.5715589688173871,-0.7610615600977046,0.4644825134725885,0.6790929295572973,-2.20861496436523,0.07711495796490156,-1.6699528186636468,-3.0641709594801285,1.7074670452404872,-0.15447929969220178,0.9506468488705513,0.7918133508667007,0.13147500786445818,-0.5357346870225651],\"xaxis\":\"x5\",\"y\":[-0.2161184228253383,0.8792932512052545,0.8159294643263392,-0.4635332026275159,1.2480606583511327,1.1636709077699556,0.7922609344528071,-0.487105657576173,0.5421078085365659,0.5700116946872794,0.8239368808080885,-2.025932373181993,-0.7813558580603188,-0.8034398249519679,1.2512029139420504,-0.820332122346455,-1.6512522046007363,1.5682988107869604,-0.0063207362410987915,0.4004905726878128,0.5203258238161681,1.8279603356320633,0.13283157408988597,1.542945359288579,1.6651922182738557,-0.18907056450707943,0.5662895926834438,-0.4460591334360272,-0.5962532719116784,-0.5631527736349463,2.0839310694181905,-0.3747192099598198,0.2469317564261832,-0.4871280695792462,-1.399511059198512,-0.9279823397322188,0.3390474827073605,1.0170979834933276,-0.1348568156422785,1.2344989287853096,-0.273536936893138,0.5969711416695731,-0.5019729300786134,-1.5731701762261463,-0.776546301945367,-0.04443145956515006,-0.8568286686510093,-0.024763966728982578,0.7837974913189243,0.9010994038155039,-0.4730980172755114,0.207587519407055,-0.6771743196350672,1.2863142031525987,1.0405050456937595,0.06872578685904618,0.20037742174726073,0.43338326497446955,-1.1232782954405904,0.40114918501688485,0.5906859056001391,2.966926846259941,-0.23043343271553118,-0.8732939562117886,1.14121108723957,-0.4914311190409125,1.2800135159775534,0.8703759276983618,-0.69160728844988,1.1149661429079787,-1.0368988106557855,-1.856129353554703,0.07728497234778402,-0.5566709010013736,0.0017236191367242851,0.33896141298782556,-0.34634373933597523,-0.4314493717931845,-0.24830094093459376,0.7942439153979056,0.355227483466092,-0.9023647603026724,0.26053844043329494,-1.4960110241555,-0.03606981923271355,0.8973986520322429,0.8765836951666557,0.8099946509436573,-0.2546804984597161,-1.0077879926848405,-1.2867994667714329,1.5576794947939168,0.019057905893780924,-0.5441990567110787,0.49670405962304026,-0.4854564908395615,0.01630221623572593,0.4829915653490035,0.43406524706242366,-0.1857395357813015],\"yaxis\":\"y5\",\"type\":\"scatter\"},{\"line\":{\"color\":\"rgba(128, 128, 128, 1.0)\",\"dash\":\"solid\",\"shape\":\"linear\",\"width\":1.3},\"marker\":{\"size\":2,\"symbol\":\"circle\"},\"mode\":\"markers\",\"name\":\"B\",\"text\":\"\",\"x\":[-0.2161184228253383,0.8792932512052545,0.8159294643263392,-0.4635332026275159,1.2480606583511327,1.1636709077699556,0.7922609344528071,-0.487105657576173,0.5421078085365659,0.5700116946872794,0.8239368808080885,-2.025932373181993,-0.7813558580603188,-0.8034398249519679,1.2512029139420504,-0.820332122346455,-1.6512522046007363,1.5682988107869604,-0.0063207362410987915,0.4004905726878128,0.5203258238161681,1.8279603356320633,0.13283157408988597,1.542945359288579,1.6651922182738557,-0.18907056450707943,0.5662895926834438,-0.4460591334360272,-0.5962532719116784,-0.5631527736349463,2.0839310694181905,-0.3747192099598198,0.2469317564261832,-0.4871280695792462,-1.399511059198512,-0.9279823397322188,0.3390474827073605,1.0170979834933276,-0.1348568156422785,1.2344989287853096,-0.273536936893138,0.5969711416695731,-0.5019729300786134,-1.5731701762261463,-0.776546301945367,-0.04443145956515006,-0.8568286686510093,-0.024763966728982578,0.7837974913189243,0.9010994038155039,-0.4730980172755114,0.207587519407055,-0.6771743196350672,1.2863142031525987,1.0405050456937595,0.06872578685904618,0.20037742174726073,0.43338326497446955,-1.1232782954405904,0.40114918501688485,0.5906859056001391,2.966926846259941,-0.23043343271553118,-0.8732939562117886,1.14121108723957,-0.4914311190409125,1.2800135159775534,0.8703759276983618,-0.69160728844988,1.1149661429079787,-1.0368988106557855,-1.856129353554703,0.07728497234778402,-0.5566709010013736,0.0017236191367242851,0.33896141298782556,-0.34634373933597523,-0.4314493717931845,-0.24830094093459376,0.7942439153979056,0.355227483466092,-0.9023647603026724,0.26053844043329494,-1.4960110241555,-0.03606981923271355,0.8973986520322429,0.8765836951666557,0.8099946509436573,-0.2546804984597161,-1.0077879926848405,-1.2867994667714329,1.5576794947939168,0.019057905893780924,-0.5441990567110787,0.49670405962304026,-0.4854564908395615,0.01630221623572593,0.4829915653490035,0.43406524706242366,-0.1857395357813015],\"xaxis\":\"x6\",\"y\":[0.6009272176053823,-0.47328375717875815,1.5102796829570875,0.13698648280279452,-0.08207927123680447,1.3807419460829236,0.0008884140464625894,1.6770396104112533,0.3834029797448087,-0.2690010326323169,1.597398260776538,0.7351648892726675,0.10551643845443366,-0.6311209883918225,0.5572390618218849,-0.7738078928039479,0.21116745930062886,0.14078423344846921,-0.4212439874653056,-2.3793733930614014,1.4212147209842563,-0.5812791086667076,-0.9415571482963713,0.6306110755837304,-1.2411071380593497,-0.6046780270124452,-1.0559399304488928,0.42279176280029,-1.226271418081291,-1.131325103094806,-0.8889977036219829,1.2648058753496236,-0.48442636834005676,0.7108960890827798,1.3725402153716952,-0.5675961974427753,0.9253553237255685,-0.5692932152077298,-0.4174221274552496,-0.6979921244017261,-0.3393646826749617,-1.8087896518381883,0.3758793349821352,-0.39199851456008206,0.07117604173337383,-1.213063945919289,0.07552353850305901,-2.4856059003298836,0.451007261823913,-0.2289835339458214,2.120458797452917,-0.6083107357715691,0.3047972548593639,0.8166894152888184,-0.3543723312937055,0.9270475773868493,0.21671452232011124,-1.0860561840875944,-0.9241637527989113,0.6469123061061172,-0.5604065178745599,-1.3026393979314375,-0.40837785458920023,-2.053389222406837,0.452689699599634,-0.5456880220604482,-0.3768008226061331,0.8395805250060749,0.15638033915065708,1.8378173141312133,0.18122406269354446,-0.5802911040274235,-0.9323718692835864,0.4085690155151971,-1.133680474934867,0.36264440141564863,0.39943820817481523,-0.9810313174504565,-1.9976005280155338,1.37253433673606,0.5368407330853499,-0.8077790783101932,1.2122769887218132,-1.0354813312940023,0.7911735578805896,-1.8950724841036661,-0.2987687049820244,-0.6523694211047908,0.3830716691262919,0.6284618766425324,-0.9618366538721196,0.3426388646253289,1.5482473743187941,0.5798472356535777,-2.113126103357163,-1.6964437945831647,1.4718284936317474,-2.0029776122015877,0.8932118075364441,0.34649521334632055],\"yaxis\":\"y6\",\"type\":\"scatter\"},{\"histfunc\":\"count\",\"histnorm\":\"\",\"marker\":{\"color\":\"rgba(55, 128, 191, 1.0)\",\"line\":{\"color\":\"#4D5663\",\"width\":1.3}},\"name\":\"B\",\"nbinsx\":10,\"opacity\":0.8,\"orientation\":\"v\",\"x\":[0.6009272176053823,-0.47328375717875815,1.5102796829570875,0.13698648280279452,-0.08207927123680447,1.3807419460829236,0.0008884140464625894,1.6770396104112533,0.3834029797448087,-0.2690010326323169,1.597398260776538,0.7351648892726675,0.10551643845443366,-0.6311209883918225,0.5572390618218849,-0.7738078928039479,0.21116745930062886,0.14078423344846921,-0.4212439874653056,-2.3793733930614014,1.4212147209842563,-0.5812791086667076,-0.9415571482963713,0.6306110755837304,-1.2411071380593497,-0.6046780270124452,-1.0559399304488928,0.42279176280029,-1.226271418081291,-1.131325103094806,-0.8889977036219829,1.2648058753496236,-0.48442636834005676,0.7108960890827798,1.3725402153716952,-0.5675961974427753,0.9253553237255685,-0.5692932152077298,-0.4174221274552496,-0.6979921244017261,-0.3393646826749617,-1.8087896518381883,0.3758793349821352,-0.39199851456008206,0.07117604173337383,-1.213063945919289,0.07552353850305901,-2.4856059003298836,0.451007261823913,-0.2289835339458214,2.120458797452917,-0.6083107357715691,0.3047972548593639,0.8166894152888184,-0.3543723312937055,0.9270475773868493,0.21671452232011124,-1.0860561840875944,-0.9241637527989113,0.6469123061061172,-0.5604065178745599,-1.3026393979314375,-0.40837785458920023,-2.053389222406837,0.452689699599634,-0.5456880220604482,-0.3768008226061331,0.8395805250060749,0.15638033915065708,1.8378173141312133,0.18122406269354446,-0.5802911040274235,-0.9323718692835864,0.4085690155151971,-1.133680474934867,0.36264440141564863,0.39943820817481523,-0.9810313174504565,-1.9976005280155338,1.37253433673606,0.5368407330853499,-0.8077790783101932,1.2122769887218132,-1.0354813312940023,0.7911735578805896,-1.8950724841036661,-0.2987687049820244,-0.6523694211047908,0.3830716691262919,0.6284618766425324,-0.9618366538721196,0.3426388646253289,1.5482473743187941,0.5798472356535777,-2.113126103357163,-1.6964437945831647,1.4718284936317474,-2.0029776122015877,0.8932118075364441,0.34649521334632055],\"xaxis\":\"x7\",\"yaxis\":\"y7\",\"type\":\"histogram\"},{\"line\":{\"color\":\"rgba(128, 128, 128, 1.0)\",\"dash\":\"solid\",\"shape\":\"linear\",\"width\":1.3},\"marker\":{\"size\":2,\"symbol\":\"circle\"},\"mode\":\"markers\",\"name\":\"B\",\"text\":\"\",\"x\":[-0.4904504640967385,0.7841649518309355,-0.304245861238214,0.23262635876766635,0.08550828795745093,-0.8480255295587014,-0.261206028417855,1.0577907507364823,-1.101211299395131,-0.8251206259790931,-0.8978443455398513,-1.3514533730965124,-0.08209426487329435,-0.15139757915670202,0.2551354321183675,0.7703496534057965,0.773461549697534,-0.3347489154005215,0.6823655341579137,1.4071878994586549,-0.08446934617102379,-0.057352780586065716,-0.8181938637541752,-0.3560552277971145,-0.9984524257539489,1.6397690684243977,1.1179692063944224,0.3016059541460915,-0.6555521607761945,0.31408554857118415,1.227842316464888,-1.0195835569969778,-0.23147217036371884,0.9688885701855176,0.3663791034068689,0.8895085682664936,0.1201048283525484,-0.2172456199843793,0.1221729936381177,-0.612688742724828,0.39353475351006906,-0.4669143592048186,0.48145897828600465,-1.1566262906735671,-1.4434906919821,-0.9508393391930143,-0.003905118567913522,-0.5703679260845474,0.6142004685346247,-0.6636259640583964,0.33594584828727947,-1.2246674803442719,-1.236122125254678,0.3752526319017947,0.7099385626038475,0.17588998239427525,-1.2768953229807145,-0.49754404575867583,-0.6597825379125649,-0.5990728023481424,-0.2027848998469554,0.49485969059168494,-0.21227013145286733,1.3053375964643223,-0.8379394644268467,-0.45173954324054766,-0.05020726114742386,-0.2465739411683541,-1.1559622908329785,2.1133715942228823,1.1499141155808377,-0.719668428072425,-1.313000128638488,-0.14086947149501206,1.352762400486382,-0.6024865304159895,0.1718946732091916,1.4981161545518924,0.016829820834161107,1.0853450021473872,-0.2997287900870656,-0.4097044924835301,0.344109881082276,-0.6574881286582049,0.7113548511406034,0.2548188733433786,-0.021435383179694616,0.4318443895919997,0.8996224765853629,3.553100284631579,0.9933288132365087,-0.6552503456956092,-0.013637084233192327,-1.4199077874391282,0.7487366691982029,0.7258439388367351,-1.9525003408463535,0.3293431165215186,1.9586055182184048,-0.7840212250751724],\"xaxis\":\"x8\",\"y\":[0.6009272176053823,-0.47328375717875815,1.5102796829570875,0.13698648280279452,-0.08207927123680447,1.3807419460829236,0.0008884140464625894,1.6770396104112533,0.3834029797448087,-0.2690010326323169,1.597398260776538,0.7351648892726675,0.10551643845443366,-0.6311209883918225,0.5572390618218849,-0.7738078928039479,0.21116745930062886,0.14078423344846921,-0.4212439874653056,-2.3793733930614014,1.4212147209842563,-0.5812791086667076,-0.9415571482963713,0.6306110755837304,-1.2411071380593497,-0.6046780270124452,-1.0559399304488928,0.42279176280029,-1.226271418081291,-1.131325103094806,-0.8889977036219829,1.2648058753496236,-0.48442636834005676,0.7108960890827798,1.3725402153716952,-0.5675961974427753,0.9253553237255685,-0.5692932152077298,-0.4174221274552496,-0.6979921244017261,-0.3393646826749617,-1.8087896518381883,0.3758793349821352,-0.39199851456008206,0.07117604173337383,-1.213063945919289,0.07552353850305901,-2.4856059003298836,0.451007261823913,-0.2289835339458214,2.120458797452917,-0.6083107357715691,0.3047972548593639,0.8166894152888184,-0.3543723312937055,0.9270475773868493,0.21671452232011124,-1.0860561840875944,-0.9241637527989113,0.6469123061061172,-0.5604065178745599,-1.3026393979314375,-0.40837785458920023,-2.053389222406837,0.452689699599634,-0.5456880220604482,-0.3768008226061331,0.8395805250060749,0.15638033915065708,1.8378173141312133,0.18122406269354446,-0.5802911040274235,-0.9323718692835864,0.4085690155151971,-1.133680474934867,0.36264440141564863,0.39943820817481523,-0.9810313174504565,-1.9976005280155338,1.37253433673606,0.5368407330853499,-0.8077790783101932,1.2122769887218132,-1.0354813312940023,0.7911735578805896,-1.8950724841036661,-0.2987687049820244,-0.6523694211047908,0.3830716691262919,0.6284618766425324,-0.9618366538721196,0.3426388646253289,1.5482473743187941,0.5798472356535777,-2.113126103357163,-1.6964437945831647,1.4718284936317474,-2.0029776122015877,0.8932118075364441,0.34649521334632055],\"yaxis\":\"y8\",\"type\":\"scatter\"},{\"line\":{\"color\":\"rgba(128, 128, 128, 1.0)\",\"dash\":\"solid\",\"shape\":\"linear\",\"width\":1.3},\"marker\":{\"size\":2,\"symbol\":\"circle\"},\"mode\":\"markers\",\"name\":\"B\",\"text\":\"\",\"x\":[-0.8318095314056883,-2.127859918718398,-0.3575127033959953,-0.49268790264262496,-0.9842456189860612,-0.4322563501816288,1.4747481391427955,0.5062475500603716,0.1310274861695234,0.4076442076473248,-0.7314277467778747,-2.9173499945957015,-0.9525047054693334,0.9118756724059636,0.25707034536142476,-1.297283158962134,0.2739781162595153,-0.055826607954760944,1.369622226965602,-1.2131724971600937,-0.8835939036173868,-0.844149223135671,-0.68250650360624,-1.3518867014911353,-1.2816275147266365,0.1759794026747841,-1.356871510619065,1.3549346160688758,-0.27950043685794207,0.9985181852854951,0.4035777150848172,0.24312444125046834,-2.126567552985169,1.4493216102722268,-0.5298276395414622,1.758955947594909,0.297331467286769,-0.1616950211119704,-0.4900760987941368,-0.019444513164756882,-1.4159961045579175,-0.4120808596173528,-1.3803598812563393,-0.3231294951467188,1.3766811066155502,-0.6339101000476981,-0.32396673433423534,1.6467984924910295,-1.8254364787042479,-0.4594675796723408,0.42524149720831955,1.5274272211227722,2.1138493561271434,0.3654477098013026,0.3991245714626832,0.337614416309407,-0.3722626463820364,-0.4798913494136549,0.20582739295966054,1.2285443927162687,1.8174528357214632,0.7712321037504603,-1.0946578564305034,-0.18252255724725008,0.22200143560962432,-0.5873964743421906,1.6263915255296177,-2.916122165498321,1.1354859105944033,-0.5612830154318965,-2.5338859015393456,0.27780592184573993,-0.3012395407551603,-0.0045730447550044375,-0.932026565625512,1.006996189347714,0.7228320567260069,-0.2103306858622351,0.07462380696174241,0.4128345793013187,1.290054881012775,0.34733728642021644,0.2514302473231246,0.06281411331243862,0.9127943035268626,-0.54464021317776,-1.514225799209707,0.36184983975761076,-0.4179529054782026,-0.05496050782729679,1.1824281136304102,-1.4133747748422434,0.938351498687969,2.1368044486512656,-0.052174832351982114,0.1865572824582993,-0.5729502162863898,-0.5817387839485517,0.43581422277414844,-2.7096282960158526],\"xaxis\":\"x9\",\"y\":[0.6009272176053823,-0.47328375717875815,1.5102796829570875,0.13698648280279452,-0.08207927123680447,1.3807419460829236,0.0008884140464625894,1.6770396104112533,0.3834029797448087,-0.2690010326323169,1.597398260776538,0.7351648892726675,0.10551643845443366,-0.6311209883918225,0.5572390618218849,-0.7738078928039479,0.21116745930062886,0.14078423344846921,-0.4212439874653056,-2.3793733930614014,1.4212147209842563,-0.5812791086667076,-0.9415571482963713,0.6306110755837304,-1.2411071380593497,-0.6046780270124452,-1.0559399304488928,0.42279176280029,-1.226271418081291,-1.131325103094806,-0.8889977036219829,1.2648058753496236,-0.48442636834005676,0.7108960890827798,1.3725402153716952,-0.5675961974427753,0.9253553237255685,-0.5692932152077298,-0.4174221274552496,-0.6979921244017261,-0.3393646826749617,-1.8087896518381883,0.3758793349821352,-0.39199851456008206,0.07117604173337383,-1.213063945919289,0.07552353850305901,-2.4856059003298836,0.451007261823913,-0.2289835339458214,2.120458797452917,-0.6083107357715691,0.3047972548593639,0.8166894152888184,-0.3543723312937055,0.9270475773868493,0.21671452232011124,-1.0860561840875944,-0.9241637527989113,0.6469123061061172,-0.5604065178745599,-1.3026393979314375,-0.40837785458920023,-2.053389222406837,0.452689699599634,-0.5456880220604482,-0.3768008226061331,0.8395805250060749,0.15638033915065708,1.8378173141312133,0.18122406269354446,-0.5802911040274235,-0.9323718692835864,0.4085690155151971,-1.133680474934867,0.36264440141564863,0.39943820817481523,-0.9810313174504565,-1.9976005280155338,1.37253433673606,0.5368407330853499,-0.8077790783101932,1.2122769887218132,-1.0354813312940023,0.7911735578805896,-1.8950724841036661,-0.2987687049820244,-0.6523694211047908,0.3830716691262919,0.6284618766425324,-0.9618366538721196,0.3426388646253289,1.5482473743187941,0.5798472356535777,-2.113126103357163,-1.6964437945831647,1.4718284936317474,-2.0029776122015877,0.8932118075364441,0.34649521334632055],\"yaxis\":\"y9\",\"type\":\"scatter\"},{\"line\":{\"color\":\"rgba(128, 128, 128, 1.0)\",\"dash\":\"solid\",\"shape\":\"linear\",\"width\":1.3},\"marker\":{\"size\":2,\"symbol\":\"circle\"},\"mode\":\"markers\",\"name\":\"B\",\"text\":\"\",\"x\":[0.985838989899486,0.21665256404644945,-1.4889031476281207,1.3876759317971679,0.5710992956833156,0.16374187863852463,-2.1706736396949498,0.19077717470631023,-0.27640171123488794,-0.7659030027417768,-0.9110672948102684,-1.3810824348721282,0.31793048738075586,0.5853699445262994,0.061462725006460994,-0.07410210757726512,-1.1806776449152259,0.7516053312905685,-1.5122130292802862,-0.2961906071419889,0.46503893149889275,0.19894853394605636,-1.9934980582451969,0.9590994132320767,-0.1082944304485146,-1.3109076409134526,1.0034588358102212,0.37765653683793965,0.9480888527360907,-0.5996730280193047,-0.24064440293746917,-0.6878280292402045,-0.9220452902725172,0.8002119805059846,-1.6104225638271787,0.9388577018866815,0.9029143350784757,-1.2004177089372596,-1.161030054269115,-0.24708457785562524,-0.11079675489137149,1.1302343282235041,0.21672092477696148,-0.06600779335608177,-0.8559480620795749,-1.7271894285586022,1.1012891399413387,-0.5233424546129773,-0.4295596884208994,-0.7338296808164192,-0.7951980646834268,-1.7749778857106635,1.4432059910070307,2.3960656171106334,-0.5530696854143431,2.1892029223457548,-1.5953607907146865,-0.2996578775184909,1.2999662824094993,-1.1708787580717988,-0.5347464084346105,1.2117032432670314,-0.08649483537720457,1.97409461680929,-1.0295090195009395,-0.012442497362611533,0.6432060279406185,-1.228594685397098,0.889127177754714,-1.5110039208620487,0.9279784460628189,0.19767556454771706,-1.2147369047700405,1.4950871259291127,0.03722613602021257,0.6095427437859312,-0.7168055764653345,0.1392411557047229,-1.5405393158372593,1.3688855607411003,1.652339810904066,0.11983929835394566,0.501981540004603,-0.31849208935861695,0.4474342446824646,-0.40686413021709095,-0.5715589688173871,-0.7610615600977046,0.4644825134725885,0.6790929295572973,-2.20861496436523,0.07711495796490156,-1.6699528186636468,-3.0641709594801285,1.7074670452404872,-0.15447929969220178,0.9506468488705513,0.7918133508667007,0.13147500786445818,-0.5357346870225651],\"xaxis\":\"x10\",\"y\":[0.6009272176053823,-0.47328375717875815,1.5102796829570875,0.13698648280279452,-0.08207927123680447,1.3807419460829236,0.0008884140464625894,1.6770396104112533,0.3834029797448087,-0.2690010326323169,1.597398260776538,0.7351648892726675,0.10551643845443366,-0.6311209883918225,0.5572390618218849,-0.7738078928039479,0.21116745930062886,0.14078423344846921,-0.4212439874653056,-2.3793733930614014,1.4212147209842563,-0.5812791086667076,-0.9415571482963713,0.6306110755837304,-1.2411071380593497,-0.6046780270124452,-1.0559399304488928,0.42279176280029,-1.226271418081291,-1.131325103094806,-0.8889977036219829,1.2648058753496236,-0.48442636834005676,0.7108960890827798,1.3725402153716952,-0.5675961974427753,0.9253553237255685,-0.5692932152077298,-0.4174221274552496,-0.6979921244017261,-0.3393646826749617,-1.8087896518381883,0.3758793349821352,-0.39199851456008206,0.07117604173337383,-1.213063945919289,0.07552353850305901,-2.4856059003298836,0.451007261823913,-0.2289835339458214,2.120458797452917,-0.6083107357715691,0.3047972548593639,0.8166894152888184,-0.3543723312937055,0.9270475773868493,0.21671452232011124,-1.0860561840875944,-0.9241637527989113,0.6469123061061172,-0.5604065178745599,-1.3026393979314375,-0.40837785458920023,-2.053389222406837,0.452689699599634,-0.5456880220604482,-0.3768008226061331,0.8395805250060749,0.15638033915065708,1.8378173141312133,0.18122406269354446,-0.5802911040274235,-0.9323718692835864,0.4085690155151971,-1.133680474934867,0.36264440141564863,0.39943820817481523,-0.9810313174504565,-1.9976005280155338,1.37253433673606,0.5368407330853499,-0.8077790783101932,1.2122769887218132,-1.0354813312940023,0.7911735578805896,-1.8950724841036661,-0.2987687049820244,-0.6523694211047908,0.3830716691262919,0.6284618766425324,-0.9618366538721196,0.3426388646253289,1.5482473743187941,0.5798472356535777,-2.113126103357163,-1.6964437945831647,1.4718284936317474,-2.0029776122015877,0.8932118075364441,0.34649521334632055],\"yaxis\":\"y10\",\"type\":\"scatter\"},{\"line\":{\"color\":\"rgba(128, 128, 128, 1.0)\",\"dash\":\"solid\",\"shape\":\"linear\",\"width\":1.3},\"marker\":{\"size\":2,\"symbol\":\"circle\"},\"mode\":\"markers\",\"name\":\"C\",\"text\":\"\",\"x\":[-0.2161184228253383,0.8792932512052545,0.8159294643263392,-0.4635332026275159,1.2480606583511327,1.1636709077699556,0.7922609344528071,-0.487105657576173,0.5421078085365659,0.5700116946872794,0.8239368808080885,-2.025932373181993,-0.7813558580603188,-0.8034398249519679,1.2512029139420504,-0.820332122346455,-1.6512522046007363,1.5682988107869604,-0.0063207362410987915,0.4004905726878128,0.5203258238161681,1.8279603356320633,0.13283157408988597,1.542945359288579,1.6651922182738557,-0.18907056450707943,0.5662895926834438,-0.4460591334360272,-0.5962532719116784,-0.5631527736349463,2.0839310694181905,-0.3747192099598198,0.2469317564261832,-0.4871280695792462,-1.399511059198512,-0.9279823397322188,0.3390474827073605,1.0170979834933276,-0.1348568156422785,1.2344989287853096,-0.273536936893138,0.5969711416695731,-0.5019729300786134,-1.5731701762261463,-0.776546301945367,-0.04443145956515006,-0.8568286686510093,-0.024763966728982578,0.7837974913189243,0.9010994038155039,-0.4730980172755114,0.207587519407055,-0.6771743196350672,1.2863142031525987,1.0405050456937595,0.06872578685904618,0.20037742174726073,0.43338326497446955,-1.1232782954405904,0.40114918501688485,0.5906859056001391,2.966926846259941,-0.23043343271553118,-0.8732939562117886,1.14121108723957,-0.4914311190409125,1.2800135159775534,0.8703759276983618,-0.69160728844988,1.1149661429079787,-1.0368988106557855,-1.856129353554703,0.07728497234778402,-0.5566709010013736,0.0017236191367242851,0.33896141298782556,-0.34634373933597523,-0.4314493717931845,-0.24830094093459376,0.7942439153979056,0.355227483466092,-0.9023647603026724,0.26053844043329494,-1.4960110241555,-0.03606981923271355,0.8973986520322429,0.8765836951666557,0.8099946509436573,-0.2546804984597161,-1.0077879926848405,-1.2867994667714329,1.5576794947939168,0.019057905893780924,-0.5441990567110787,0.49670405962304026,-0.4854564908395615,0.01630221623572593,0.4829915653490035,0.43406524706242366,-0.1857395357813015],\"xaxis\":\"x11\",\"y\":[-0.4904504640967385,0.7841649518309355,-0.304245861238214,0.23262635876766635,0.08550828795745093,-0.8480255295587014,-0.261206028417855,1.0577907507364823,-1.101211299395131,-0.8251206259790931,-0.8978443455398513,-1.3514533730965124,-0.08209426487329435,-0.15139757915670202,0.2551354321183675,0.7703496534057965,0.773461549697534,-0.3347489154005215,0.6823655341579137,1.4071878994586549,-0.08446934617102379,-0.057352780586065716,-0.8181938637541752,-0.3560552277971145,-0.9984524257539489,1.6397690684243977,1.1179692063944224,0.3016059541460915,-0.6555521607761945,0.31408554857118415,1.227842316464888,-1.0195835569969778,-0.23147217036371884,0.9688885701855176,0.3663791034068689,0.8895085682664936,0.1201048283525484,-0.2172456199843793,0.1221729936381177,-0.612688742724828,0.39353475351006906,-0.4669143592048186,0.48145897828600465,-1.1566262906735671,-1.4434906919821,-0.9508393391930143,-0.003905118567913522,-0.5703679260845474,0.6142004685346247,-0.6636259640583964,0.33594584828727947,-1.2246674803442719,-1.236122125254678,0.3752526319017947,0.7099385626038475,0.17588998239427525,-1.2768953229807145,-0.49754404575867583,-0.6597825379125649,-0.5990728023481424,-0.2027848998469554,0.49485969059168494,-0.21227013145286733,1.3053375964643223,-0.8379394644268467,-0.45173954324054766,-0.05020726114742386,-0.2465739411683541,-1.1559622908329785,2.1133715942228823,1.1499141155808377,-0.719668428072425,-1.313000128638488,-0.14086947149501206,1.352762400486382,-0.6024865304159895,0.1718946732091916,1.4981161545518924,0.016829820834161107,1.0853450021473872,-0.2997287900870656,-0.4097044924835301,0.344109881082276,-0.6574881286582049,0.7113548511406034,0.2548188733433786,-0.021435383179694616,0.4318443895919997,0.8996224765853629,3.553100284631579,0.9933288132365087,-0.6552503456956092,-0.013637084233192327,-1.4199077874391282,0.7487366691982029,0.7258439388367351,-1.9525003408463535,0.3293431165215186,1.9586055182184048,-0.7840212250751724],\"yaxis\":\"y11\",\"type\":\"scatter\"},{\"line\":{\"color\":\"rgba(128, 128, 128, 1.0)\",\"dash\":\"solid\",\"shape\":\"linear\",\"width\":1.3},\"marker\":{\"size\":2,\"symbol\":\"circle\"},\"mode\":\"markers\",\"name\":\"C\",\"text\":\"\",\"x\":[0.6009272176053823,-0.47328375717875815,1.5102796829570875,0.13698648280279452,-0.08207927123680447,1.3807419460829236,0.0008884140464625894,1.6770396104112533,0.3834029797448087,-0.2690010326323169,1.597398260776538,0.7351648892726675,0.10551643845443366,-0.6311209883918225,0.5572390618218849,-0.7738078928039479,0.21116745930062886,0.14078423344846921,-0.4212439874653056,-2.3793733930614014,1.4212147209842563,-0.5812791086667076,-0.9415571482963713,0.6306110755837304,-1.2411071380593497,-0.6046780270124452,-1.0559399304488928,0.42279176280029,-1.226271418081291,-1.131325103094806,-0.8889977036219829,1.2648058753496236,-0.48442636834005676,0.7108960890827798,1.3725402153716952,-0.5675961974427753,0.9253553237255685,-0.5692932152077298,-0.4174221274552496,-0.6979921244017261,-0.3393646826749617,-1.8087896518381883,0.3758793349821352,-0.39199851456008206,0.07117604173337383,-1.213063945919289,0.07552353850305901,-2.4856059003298836,0.451007261823913,-0.2289835339458214,2.120458797452917,-0.6083107357715691,0.3047972548593639,0.8166894152888184,-0.3543723312937055,0.9270475773868493,0.21671452232011124,-1.0860561840875944,-0.9241637527989113,0.6469123061061172,-0.5604065178745599,-1.3026393979314375,-0.40837785458920023,-2.053389222406837,0.452689699599634,-0.5456880220604482,-0.3768008226061331,0.8395805250060749,0.15638033915065708,1.8378173141312133,0.18122406269354446,-0.5802911040274235,-0.9323718692835864,0.4085690155151971,-1.133680474934867,0.36264440141564863,0.39943820817481523,-0.9810313174504565,-1.9976005280155338,1.37253433673606,0.5368407330853499,-0.8077790783101932,1.2122769887218132,-1.0354813312940023,0.7911735578805896,-1.8950724841036661,-0.2987687049820244,-0.6523694211047908,0.3830716691262919,0.6284618766425324,-0.9618366538721196,0.3426388646253289,1.5482473743187941,0.5798472356535777,-2.113126103357163,-1.6964437945831647,1.4718284936317474,-2.0029776122015877,0.8932118075364441,0.34649521334632055],\"xaxis\":\"x12\",\"y\":[-0.4904504640967385,0.7841649518309355,-0.304245861238214,0.23262635876766635,0.08550828795745093,-0.8480255295587014,-0.261206028417855,1.0577907507364823,-1.101211299395131,-0.8251206259790931,-0.8978443455398513,-1.3514533730965124,-0.08209426487329435,-0.15139757915670202,0.2551354321183675,0.7703496534057965,0.773461549697534,-0.3347489154005215,0.6823655341579137,1.4071878994586549,-0.08446934617102379,-0.057352780586065716,-0.8181938637541752,-0.3560552277971145,-0.9984524257539489,1.6397690684243977,1.1179692063944224,0.3016059541460915,-0.6555521607761945,0.31408554857118415,1.227842316464888,-1.0195835569969778,-0.23147217036371884,0.9688885701855176,0.3663791034068689,0.8895085682664936,0.1201048283525484,-0.2172456199843793,0.1221729936381177,-0.612688742724828,0.39353475351006906,-0.4669143592048186,0.48145897828600465,-1.1566262906735671,-1.4434906919821,-0.9508393391930143,-0.003905118567913522,-0.5703679260845474,0.6142004685346247,-0.6636259640583964,0.33594584828727947,-1.2246674803442719,-1.236122125254678,0.3752526319017947,0.7099385626038475,0.17588998239427525,-1.2768953229807145,-0.49754404575867583,-0.6597825379125649,-0.5990728023481424,-0.2027848998469554,0.49485969059168494,-0.21227013145286733,1.3053375964643223,-0.8379394644268467,-0.45173954324054766,-0.05020726114742386,-0.2465739411683541,-1.1559622908329785,2.1133715942228823,1.1499141155808377,-0.719668428072425,-1.313000128638488,-0.14086947149501206,1.352762400486382,-0.6024865304159895,0.1718946732091916,1.4981161545518924,0.016829820834161107,1.0853450021473872,-0.2997287900870656,-0.4097044924835301,0.344109881082276,-0.6574881286582049,0.7113548511406034,0.2548188733433786,-0.021435383179694616,0.4318443895919997,0.8996224765853629,3.553100284631579,0.9933288132365087,-0.6552503456956092,-0.013637084233192327,-1.4199077874391282,0.7487366691982029,0.7258439388367351,-1.9525003408463535,0.3293431165215186,1.9586055182184048,-0.7840212250751724],\"yaxis\":\"y12\",\"type\":\"scatter\"},{\"histfunc\":\"count\",\"histnorm\":\"\",\"marker\":{\"color\":\"rgba(50, 171, 96, 1.0)\",\"line\":{\"color\":\"#4D5663\",\"width\":1.3}},\"name\":\"C\",\"nbinsx\":10,\"opacity\":0.8,\"orientation\":\"v\",\"x\":[-0.4904504640967385,0.7841649518309355,-0.304245861238214,0.23262635876766635,0.08550828795745093,-0.8480255295587014,-0.261206028417855,1.0577907507364823,-1.101211299395131,-0.8251206259790931,-0.8978443455398513,-1.3514533730965124,-0.08209426487329435,-0.15139757915670202,0.2551354321183675,0.7703496534057965,0.773461549697534,-0.3347489154005215,0.6823655341579137,1.4071878994586549,-0.08446934617102379,-0.057352780586065716,-0.8181938637541752,-0.3560552277971145,-0.9984524257539489,1.6397690684243977,1.1179692063944224,0.3016059541460915,-0.6555521607761945,0.31408554857118415,1.227842316464888,-1.0195835569969778,-0.23147217036371884,0.9688885701855176,0.3663791034068689,0.8895085682664936,0.1201048283525484,-0.2172456199843793,0.1221729936381177,-0.612688742724828,0.39353475351006906,-0.4669143592048186,0.48145897828600465,-1.1566262906735671,-1.4434906919821,-0.9508393391930143,-0.003905118567913522,-0.5703679260845474,0.6142004685346247,-0.6636259640583964,0.33594584828727947,-1.2246674803442719,-1.236122125254678,0.3752526319017947,0.7099385626038475,0.17588998239427525,-1.2768953229807145,-0.49754404575867583,-0.6597825379125649,-0.5990728023481424,-0.2027848998469554,0.49485969059168494,-0.21227013145286733,1.3053375964643223,-0.8379394644268467,-0.45173954324054766,-0.05020726114742386,-0.2465739411683541,-1.1559622908329785,2.1133715942228823,1.1499141155808377,-0.719668428072425,-1.313000128638488,-0.14086947149501206,1.352762400486382,-0.6024865304159895,0.1718946732091916,1.4981161545518924,0.016829820834161107,1.0853450021473872,-0.2997287900870656,-0.4097044924835301,0.344109881082276,-0.6574881286582049,0.7113548511406034,0.2548188733433786,-0.021435383179694616,0.4318443895919997,0.8996224765853629,3.553100284631579,0.9933288132365087,-0.6552503456956092,-0.013637084233192327,-1.4199077874391282,0.7487366691982029,0.7258439388367351,-1.9525003408463535,0.3293431165215186,1.9586055182184048,-0.7840212250751724],\"xaxis\":\"x13\",\"yaxis\":\"y13\",\"type\":\"histogram\"},{\"line\":{\"color\":\"rgba(128, 128, 128, 1.0)\",\"dash\":\"solid\",\"shape\":\"linear\",\"width\":1.3},\"marker\":{\"size\":2,\"symbol\":\"circle\"},\"mode\":\"markers\",\"name\":\"C\",\"text\":\"\",\"x\":[-0.8318095314056883,-2.127859918718398,-0.3575127033959953,-0.49268790264262496,-0.9842456189860612,-0.4322563501816288,1.4747481391427955,0.5062475500603716,0.1310274861695234,0.4076442076473248,-0.7314277467778747,-2.9173499945957015,-0.9525047054693334,0.9118756724059636,0.25707034536142476,-1.297283158962134,0.2739781162595153,-0.055826607954760944,1.369622226965602,-1.2131724971600937,-0.8835939036173868,-0.844149223135671,-0.68250650360624,-1.3518867014911353,-1.2816275147266365,0.1759794026747841,-1.356871510619065,1.3549346160688758,-0.27950043685794207,0.9985181852854951,0.4035777150848172,0.24312444125046834,-2.126567552985169,1.4493216102722268,-0.5298276395414622,1.758955947594909,0.297331467286769,-0.1616950211119704,-0.4900760987941368,-0.019444513164756882,-1.4159961045579175,-0.4120808596173528,-1.3803598812563393,-0.3231294951467188,1.3766811066155502,-0.6339101000476981,-0.32396673433423534,1.6467984924910295,-1.8254364787042479,-0.4594675796723408,0.42524149720831955,1.5274272211227722,2.1138493561271434,0.3654477098013026,0.3991245714626832,0.337614416309407,-0.3722626463820364,-0.4798913494136549,0.20582739295966054,1.2285443927162687,1.8174528357214632,0.7712321037504603,-1.0946578564305034,-0.18252255724725008,0.22200143560962432,-0.5873964743421906,1.6263915255296177,-2.916122165498321,1.1354859105944033,-0.5612830154318965,-2.5338859015393456,0.27780592184573993,-0.3012395407551603,-0.0045730447550044375,-0.932026565625512,1.006996189347714,0.7228320567260069,-0.2103306858622351,0.07462380696174241,0.4128345793013187,1.290054881012775,0.34733728642021644,0.2514302473231246,0.06281411331243862,0.9127943035268626,-0.54464021317776,-1.514225799209707,0.36184983975761076,-0.4179529054782026,-0.05496050782729679,1.1824281136304102,-1.4133747748422434,0.938351498687969,2.1368044486512656,-0.052174832351982114,0.1865572824582993,-0.5729502162863898,-0.5817387839485517,0.43581422277414844,-2.7096282960158526],\"xaxis\":\"x14\",\"y\":[-0.4904504640967385,0.7841649518309355,-0.304245861238214,0.23262635876766635,0.08550828795745093,-0.8480255295587014,-0.261206028417855,1.0577907507364823,-1.101211299395131,-0.8251206259790931,-0.8978443455398513,-1.3514533730965124,-0.08209426487329435,-0.15139757915670202,0.2551354321183675,0.7703496534057965,0.773461549697534,-0.3347489154005215,0.6823655341579137,1.4071878994586549,-0.08446934617102379,-0.057352780586065716,-0.8181938637541752,-0.3560552277971145,-0.9984524257539489,1.6397690684243977,1.1179692063944224,0.3016059541460915,-0.6555521607761945,0.31408554857118415,1.227842316464888,-1.0195835569969778,-0.23147217036371884,0.9688885701855176,0.3663791034068689,0.8895085682664936,0.1201048283525484,-0.2172456199843793,0.1221729936381177,-0.612688742724828,0.39353475351006906,-0.4669143592048186,0.48145897828600465,-1.1566262906735671,-1.4434906919821,-0.9508393391930143,-0.003905118567913522,-0.5703679260845474,0.6142004685346247,-0.6636259640583964,0.33594584828727947,-1.2246674803442719,-1.236122125254678,0.3752526319017947,0.7099385626038475,0.17588998239427525,-1.2768953229807145,-0.49754404575867583,-0.6597825379125649,-0.5990728023481424,-0.2027848998469554,0.49485969059168494,-0.21227013145286733,1.3053375964643223,-0.8379394644268467,-0.45173954324054766,-0.05020726114742386,-0.2465739411683541,-1.1559622908329785,2.1133715942228823,1.1499141155808377,-0.719668428072425,-1.313000128638488,-0.14086947149501206,1.352762400486382,-0.6024865304159895,0.1718946732091916,1.4981161545518924,0.016829820834161107,1.0853450021473872,-0.2997287900870656,-0.4097044924835301,0.344109881082276,-0.6574881286582049,0.7113548511406034,0.2548188733433786,-0.021435383179694616,0.4318443895919997,0.8996224765853629,3.553100284631579,0.9933288132365087,-0.6552503456956092,-0.013637084233192327,-1.4199077874391282,0.7487366691982029,0.7258439388367351,-1.9525003408463535,0.3293431165215186,1.9586055182184048,-0.7840212250751724],\"yaxis\":\"y14\",\"type\":\"scatter\"},{\"line\":{\"color\":\"rgba(128, 128, 128, 1.0)\",\"dash\":\"solid\",\"shape\":\"linear\",\"width\":1.3},\"marker\":{\"size\":2,\"symbol\":\"circle\"},\"mode\":\"markers\",\"name\":\"C\",\"text\":\"\",\"x\":[0.985838989899486,0.21665256404644945,-1.4889031476281207,1.3876759317971679,0.5710992956833156,0.16374187863852463,-2.1706736396949498,0.19077717470631023,-0.27640171123488794,-0.7659030027417768,-0.9110672948102684,-1.3810824348721282,0.31793048738075586,0.5853699445262994,0.061462725006460994,-0.07410210757726512,-1.1806776449152259,0.7516053312905685,-1.5122130292802862,-0.2961906071419889,0.46503893149889275,0.19894853394605636,-1.9934980582451969,0.9590994132320767,-0.1082944304485146,-1.3109076409134526,1.0034588358102212,0.37765653683793965,0.9480888527360907,-0.5996730280193047,-0.24064440293746917,-0.6878280292402045,-0.9220452902725172,0.8002119805059846,-1.6104225638271787,0.9388577018866815,0.9029143350784757,-1.2004177089372596,-1.161030054269115,-0.24708457785562524,-0.11079675489137149,1.1302343282235041,0.21672092477696148,-0.06600779335608177,-0.8559480620795749,-1.7271894285586022,1.1012891399413387,-0.5233424546129773,-0.4295596884208994,-0.7338296808164192,-0.7951980646834268,-1.7749778857106635,1.4432059910070307,2.3960656171106334,-0.5530696854143431,2.1892029223457548,-1.5953607907146865,-0.2996578775184909,1.2999662824094993,-1.1708787580717988,-0.5347464084346105,1.2117032432670314,-0.08649483537720457,1.97409461680929,-1.0295090195009395,-0.012442497362611533,0.6432060279406185,-1.228594685397098,0.889127177754714,-1.5110039208620487,0.9279784460628189,0.19767556454771706,-1.2147369047700405,1.4950871259291127,0.03722613602021257,0.6095427437859312,-0.7168055764653345,0.1392411557047229,-1.5405393158372593,1.3688855607411003,1.652339810904066,0.11983929835394566,0.501981540004603,-0.31849208935861695,0.4474342446824646,-0.40686413021709095,-0.5715589688173871,-0.7610615600977046,0.4644825134725885,0.6790929295572973,-2.20861496436523,0.07711495796490156,-1.6699528186636468,-3.0641709594801285,1.7074670452404872,-0.15447929969220178,0.9506468488705513,0.7918133508667007,0.13147500786445818,-0.5357346870225651],\"xaxis\":\"x15\",\"y\":[-0.4904504640967385,0.7841649518309355,-0.304245861238214,0.23262635876766635,0.08550828795745093,-0.8480255295587014,-0.261206028417855,1.0577907507364823,-1.101211299395131,-0.8251206259790931,-0.8978443455398513,-1.3514533730965124,-0.08209426487329435,-0.15139757915670202,0.2551354321183675,0.7703496534057965,0.773461549697534,-0.3347489154005215,0.6823655341579137,1.4071878994586549,-0.08446934617102379,-0.057352780586065716,-0.8181938637541752,-0.3560552277971145,-0.9984524257539489,1.6397690684243977,1.1179692063944224,0.3016059541460915,-0.6555521607761945,0.31408554857118415,1.227842316464888,-1.0195835569969778,-0.23147217036371884,0.9688885701855176,0.3663791034068689,0.8895085682664936,0.1201048283525484,-0.2172456199843793,0.1221729936381177,-0.612688742724828,0.39353475351006906,-0.4669143592048186,0.48145897828600465,-1.1566262906735671,-1.4434906919821,-0.9508393391930143,-0.003905118567913522,-0.5703679260845474,0.6142004685346247,-0.6636259640583964,0.33594584828727947,-1.2246674803442719,-1.236122125254678,0.3752526319017947,0.7099385626038475,0.17588998239427525,-1.2768953229807145,-0.49754404575867583,-0.6597825379125649,-0.5990728023481424,-0.2027848998469554,0.49485969059168494,-0.21227013145286733,1.3053375964643223,-0.8379394644268467,-0.45173954324054766,-0.05020726114742386,-0.2465739411683541,-1.1559622908329785,2.1133715942228823,1.1499141155808377,-0.719668428072425,-1.313000128638488,-0.14086947149501206,1.352762400486382,-0.6024865304159895,0.1718946732091916,1.4981161545518924,0.016829820834161107,1.0853450021473872,-0.2997287900870656,-0.4097044924835301,0.344109881082276,-0.6574881286582049,0.7113548511406034,0.2548188733433786,-0.021435383179694616,0.4318443895919997,0.8996224765853629,3.553100284631579,0.9933288132365087,-0.6552503456956092,-0.013637084233192327,-1.4199077874391282,0.7487366691982029,0.7258439388367351,-1.9525003408463535,0.3293431165215186,1.9586055182184048,-0.7840212250751724],\"yaxis\":\"y15\",\"type\":\"scatter\"},{\"line\":{\"color\":\"rgba(128, 128, 128, 1.0)\",\"dash\":\"solid\",\"shape\":\"linear\",\"width\":1.3},\"marker\":{\"size\":2,\"symbol\":\"circle\"},\"mode\":\"markers\",\"name\":\"D\",\"text\":\"\",\"x\":[-0.2161184228253383,0.8792932512052545,0.8159294643263392,-0.4635332026275159,1.2480606583511327,1.1636709077699556,0.7922609344528071,-0.487105657576173,0.5421078085365659,0.5700116946872794,0.8239368808080885,-2.025932373181993,-0.7813558580603188,-0.8034398249519679,1.2512029139420504,-0.820332122346455,-1.6512522046007363,1.5682988107869604,-0.0063207362410987915,0.4004905726878128,0.5203258238161681,1.8279603356320633,0.13283157408988597,1.542945359288579,1.6651922182738557,-0.18907056450707943,0.5662895926834438,-0.4460591334360272,-0.5962532719116784,-0.5631527736349463,2.0839310694181905,-0.3747192099598198,0.2469317564261832,-0.4871280695792462,-1.399511059198512,-0.9279823397322188,0.3390474827073605,1.0170979834933276,-0.1348568156422785,1.2344989287853096,-0.273536936893138,0.5969711416695731,-0.5019729300786134,-1.5731701762261463,-0.776546301945367,-0.04443145956515006,-0.8568286686510093,-0.024763966728982578,0.7837974913189243,0.9010994038155039,-0.4730980172755114,0.207587519407055,-0.6771743196350672,1.2863142031525987,1.0405050456937595,0.06872578685904618,0.20037742174726073,0.43338326497446955,-1.1232782954405904,0.40114918501688485,0.5906859056001391,2.966926846259941,-0.23043343271553118,-0.8732939562117886,1.14121108723957,-0.4914311190409125,1.2800135159775534,0.8703759276983618,-0.69160728844988,1.1149661429079787,-1.0368988106557855,-1.856129353554703,0.07728497234778402,-0.5566709010013736,0.0017236191367242851,0.33896141298782556,-0.34634373933597523,-0.4314493717931845,-0.24830094093459376,0.7942439153979056,0.355227483466092,-0.9023647603026724,0.26053844043329494,-1.4960110241555,-0.03606981923271355,0.8973986520322429,0.8765836951666557,0.8099946509436573,-0.2546804984597161,-1.0077879926848405,-1.2867994667714329,1.5576794947939168,0.019057905893780924,-0.5441990567110787,0.49670405962304026,-0.4854564908395615,0.01630221623572593,0.4829915653490035,0.43406524706242366,-0.1857395357813015],\"xaxis\":\"x16\",\"y\":[-0.8318095314056883,-2.127859918718398,-0.3575127033959953,-0.49268790264262496,-0.9842456189860612,-0.4322563501816288,1.4747481391427955,0.5062475500603716,0.1310274861695234,0.4076442076473248,-0.7314277467778747,-2.9173499945957015,-0.9525047054693334,0.9118756724059636,0.25707034536142476,-1.297283158962134,0.2739781162595153,-0.055826607954760944,1.369622226965602,-1.2131724971600937,-0.8835939036173868,-0.844149223135671,-0.68250650360624,-1.3518867014911353,-1.2816275147266365,0.1759794026747841,-1.356871510619065,1.3549346160688758,-0.27950043685794207,0.9985181852854951,0.4035777150848172,0.24312444125046834,-2.126567552985169,1.4493216102722268,-0.5298276395414622,1.758955947594909,0.297331467286769,-0.1616950211119704,-0.4900760987941368,-0.019444513164756882,-1.4159961045579175,-0.4120808596173528,-1.3803598812563393,-0.3231294951467188,1.3766811066155502,-0.6339101000476981,-0.32396673433423534,1.6467984924910295,-1.8254364787042479,-0.4594675796723408,0.42524149720831955,1.5274272211227722,2.1138493561271434,0.3654477098013026,0.3991245714626832,0.337614416309407,-0.3722626463820364,-0.4798913494136549,0.20582739295966054,1.2285443927162687,1.8174528357214632,0.7712321037504603,-1.0946578564305034,-0.18252255724725008,0.22200143560962432,-0.5873964743421906,1.6263915255296177,-2.916122165498321,1.1354859105944033,-0.5612830154318965,-2.5338859015393456,0.27780592184573993,-0.3012395407551603,-0.0045730447550044375,-0.932026565625512,1.006996189347714,0.7228320567260069,-0.2103306858622351,0.07462380696174241,0.4128345793013187,1.290054881012775,0.34733728642021644,0.2514302473231246,0.06281411331243862,0.9127943035268626,-0.54464021317776,-1.514225799209707,0.36184983975761076,-0.4179529054782026,-0.05496050782729679,1.1824281136304102,-1.4133747748422434,0.938351498687969,2.1368044486512656,-0.052174832351982114,0.1865572824582993,-0.5729502162863898,-0.5817387839485517,0.43581422277414844,-2.7096282960158526],\"yaxis\":\"y16\",\"type\":\"scatter\"},{\"line\":{\"color\":\"rgba(128, 128, 128, 1.0)\",\"dash\":\"solid\",\"shape\":\"linear\",\"width\":1.3},\"marker\":{\"size\":2,\"symbol\":\"circle\"},\"mode\":\"markers\",\"name\":\"D\",\"text\":\"\",\"x\":[0.6009272176053823,-0.47328375717875815,1.5102796829570875,0.13698648280279452,-0.08207927123680447,1.3807419460829236,0.0008884140464625894,1.6770396104112533,0.3834029797448087,-0.2690010326323169,1.597398260776538,0.7351648892726675,0.10551643845443366,-0.6311209883918225,0.5572390618218849,-0.7738078928039479,0.21116745930062886,0.14078423344846921,-0.4212439874653056,-2.3793733930614014,1.4212147209842563,-0.5812791086667076,-0.9415571482963713,0.6306110755837304,-1.2411071380593497,-0.6046780270124452,-1.0559399304488928,0.42279176280029,-1.226271418081291,-1.131325103094806,-0.8889977036219829,1.2648058753496236,-0.48442636834005676,0.7108960890827798,1.3725402153716952,-0.5675961974427753,0.9253553237255685,-0.5692932152077298,-0.4174221274552496,-0.6979921244017261,-0.3393646826749617,-1.8087896518381883,0.3758793349821352,-0.39199851456008206,0.07117604173337383,-1.213063945919289,0.07552353850305901,-2.4856059003298836,0.451007261823913,-0.2289835339458214,2.120458797452917,-0.6083107357715691,0.3047972548593639,0.8166894152888184,-0.3543723312937055,0.9270475773868493,0.21671452232011124,-1.0860561840875944,-0.9241637527989113,0.6469123061061172,-0.5604065178745599,-1.3026393979314375,-0.40837785458920023,-2.053389222406837,0.452689699599634,-0.5456880220604482,-0.3768008226061331,0.8395805250060749,0.15638033915065708,1.8378173141312133,0.18122406269354446,-0.5802911040274235,-0.9323718692835864,0.4085690155151971,-1.133680474934867,0.36264440141564863,0.39943820817481523,-0.9810313174504565,-1.9976005280155338,1.37253433673606,0.5368407330853499,-0.8077790783101932,1.2122769887218132,-1.0354813312940023,0.7911735578805896,-1.8950724841036661,-0.2987687049820244,-0.6523694211047908,0.3830716691262919,0.6284618766425324,-0.9618366538721196,0.3426388646253289,1.5482473743187941,0.5798472356535777,-2.113126103357163,-1.6964437945831647,1.4718284936317474,-2.0029776122015877,0.8932118075364441,0.34649521334632055],\"xaxis\":\"x17\",\"y\":[-0.8318095314056883,-2.127859918718398,-0.3575127033959953,-0.49268790264262496,-0.9842456189860612,-0.4322563501816288,1.4747481391427955,0.5062475500603716,0.1310274861695234,0.4076442076473248,-0.7314277467778747,-2.9173499945957015,-0.9525047054693334,0.9118756724059636,0.25707034536142476,-1.297283158962134,0.2739781162595153,-0.055826607954760944,1.369622226965602,-1.2131724971600937,-0.8835939036173868,-0.844149223135671,-0.68250650360624,-1.3518867014911353,-1.2816275147266365,0.1759794026747841,-1.356871510619065,1.3549346160688758,-0.27950043685794207,0.9985181852854951,0.4035777150848172,0.24312444125046834,-2.126567552985169,1.4493216102722268,-0.5298276395414622,1.758955947594909,0.297331467286769,-0.1616950211119704,-0.4900760987941368,-0.019444513164756882,-1.4159961045579175,-0.4120808596173528,-1.3803598812563393,-0.3231294951467188,1.3766811066155502,-0.6339101000476981,-0.32396673433423534,1.6467984924910295,-1.8254364787042479,-0.4594675796723408,0.42524149720831955,1.5274272211227722,2.1138493561271434,0.3654477098013026,0.3991245714626832,0.337614416309407,-0.3722626463820364,-0.4798913494136549,0.20582739295966054,1.2285443927162687,1.8174528357214632,0.7712321037504603,-1.0946578564305034,-0.18252255724725008,0.22200143560962432,-0.5873964743421906,1.6263915255296177,-2.916122165498321,1.1354859105944033,-0.5612830154318965,-2.5338859015393456,0.27780592184573993,-0.3012395407551603,-0.0045730447550044375,-0.932026565625512,1.006996189347714,0.7228320567260069,-0.2103306858622351,0.07462380696174241,0.4128345793013187,1.290054881012775,0.34733728642021644,0.2514302473231246,0.06281411331243862,0.9127943035268626,-0.54464021317776,-1.514225799209707,0.36184983975761076,-0.4179529054782026,-0.05496050782729679,1.1824281136304102,-1.4133747748422434,0.938351498687969,2.1368044486512656,-0.052174832351982114,0.1865572824582993,-0.5729502162863898,-0.5817387839485517,0.43581422277414844,-2.7096282960158526],\"yaxis\":\"y17\",\"type\":\"scatter\"},{\"line\":{\"color\":\"rgba(128, 128, 128, 1.0)\",\"dash\":\"solid\",\"shape\":\"linear\",\"width\":1.3},\"marker\":{\"size\":2,\"symbol\":\"circle\"},\"mode\":\"markers\",\"name\":\"D\",\"text\":\"\",\"x\":[-0.4904504640967385,0.7841649518309355,-0.304245861238214,0.23262635876766635,0.08550828795745093,-0.8480255295587014,-0.261206028417855,1.0577907507364823,-1.101211299395131,-0.8251206259790931,-0.8978443455398513,-1.3514533730965124,-0.08209426487329435,-0.15139757915670202,0.2551354321183675,0.7703496534057965,0.773461549697534,-0.3347489154005215,0.6823655341579137,1.4071878994586549,-0.08446934617102379,-0.057352780586065716,-0.8181938637541752,-0.3560552277971145,-0.9984524257539489,1.6397690684243977,1.1179692063944224,0.3016059541460915,-0.6555521607761945,0.31408554857118415,1.227842316464888,-1.0195835569969778,-0.23147217036371884,0.9688885701855176,0.3663791034068689,0.8895085682664936,0.1201048283525484,-0.2172456199843793,0.1221729936381177,-0.612688742724828,0.39353475351006906,-0.4669143592048186,0.48145897828600465,-1.1566262906735671,-1.4434906919821,-0.9508393391930143,-0.003905118567913522,-0.5703679260845474,0.6142004685346247,-0.6636259640583964,0.33594584828727947,-1.2246674803442719,-1.236122125254678,0.3752526319017947,0.7099385626038475,0.17588998239427525,-1.2768953229807145,-0.49754404575867583,-0.6597825379125649,-0.5990728023481424,-0.2027848998469554,0.49485969059168494,-0.21227013145286733,1.3053375964643223,-0.8379394644268467,-0.45173954324054766,-0.05020726114742386,-0.2465739411683541,-1.1559622908329785,2.1133715942228823,1.1499141155808377,-0.719668428072425,-1.313000128638488,-0.14086947149501206,1.352762400486382,-0.6024865304159895,0.1718946732091916,1.4981161545518924,0.016829820834161107,1.0853450021473872,-0.2997287900870656,-0.4097044924835301,0.344109881082276,-0.6574881286582049,0.7113548511406034,0.2548188733433786,-0.021435383179694616,0.4318443895919997,0.8996224765853629,3.553100284631579,0.9933288132365087,-0.6552503456956092,-0.013637084233192327,-1.4199077874391282,0.7487366691982029,0.7258439388367351,-1.9525003408463535,0.3293431165215186,1.9586055182184048,-0.7840212250751724],\"xaxis\":\"x18\",\"y\":[-0.8318095314056883,-2.127859918718398,-0.3575127033959953,-0.49268790264262496,-0.9842456189860612,-0.4322563501816288,1.4747481391427955,0.5062475500603716,0.1310274861695234,0.4076442076473248,-0.7314277467778747,-2.9173499945957015,-0.9525047054693334,0.9118756724059636,0.25707034536142476,-1.297283158962134,0.2739781162595153,-0.055826607954760944,1.369622226965602,-1.2131724971600937,-0.8835939036173868,-0.844149223135671,-0.68250650360624,-1.3518867014911353,-1.2816275147266365,0.1759794026747841,-1.356871510619065,1.3549346160688758,-0.27950043685794207,0.9985181852854951,0.4035777150848172,0.24312444125046834,-2.126567552985169,1.4493216102722268,-0.5298276395414622,1.758955947594909,0.297331467286769,-0.1616950211119704,-0.4900760987941368,-0.019444513164756882,-1.4159961045579175,-0.4120808596173528,-1.3803598812563393,-0.3231294951467188,1.3766811066155502,-0.6339101000476981,-0.32396673433423534,1.6467984924910295,-1.8254364787042479,-0.4594675796723408,0.42524149720831955,1.5274272211227722,2.1138493561271434,0.3654477098013026,0.3991245714626832,0.337614416309407,-0.3722626463820364,-0.4798913494136549,0.20582739295966054,1.2285443927162687,1.8174528357214632,0.7712321037504603,-1.0946578564305034,-0.18252255724725008,0.22200143560962432,-0.5873964743421906,1.6263915255296177,-2.916122165498321,1.1354859105944033,-0.5612830154318965,-2.5338859015393456,0.27780592184573993,-0.3012395407551603,-0.0045730447550044375,-0.932026565625512,1.006996189347714,0.7228320567260069,-0.2103306858622351,0.07462380696174241,0.4128345793013187,1.290054881012775,0.34733728642021644,0.2514302473231246,0.06281411331243862,0.9127943035268626,-0.54464021317776,-1.514225799209707,0.36184983975761076,-0.4179529054782026,-0.05496050782729679,1.1824281136304102,-1.4133747748422434,0.938351498687969,2.1368044486512656,-0.052174832351982114,0.1865572824582993,-0.5729502162863898,-0.5817387839485517,0.43581422277414844,-2.7096282960158526],\"yaxis\":\"y18\",\"type\":\"scatter\"},{\"histfunc\":\"count\",\"histnorm\":\"\",\"marker\":{\"color\":\"rgba(128, 0, 128, 1.0)\",\"line\":{\"color\":\"#4D5663\",\"width\":1.3}},\"name\":\"D\",\"nbinsx\":10,\"opacity\":0.8,\"orientation\":\"v\",\"x\":[-0.8318095314056883,-2.127859918718398,-0.3575127033959953,-0.49268790264262496,-0.9842456189860612,-0.4322563501816288,1.4747481391427955,0.5062475500603716,0.1310274861695234,0.4076442076473248,-0.7314277467778747,-2.9173499945957015,-0.9525047054693334,0.9118756724059636,0.25707034536142476,-1.297283158962134,0.2739781162595153,-0.055826607954760944,1.369622226965602,-1.2131724971600937,-0.8835939036173868,-0.844149223135671,-0.68250650360624,-1.3518867014911353,-1.2816275147266365,0.1759794026747841,-1.356871510619065,1.3549346160688758,-0.27950043685794207,0.9985181852854951,0.4035777150848172,0.24312444125046834,-2.126567552985169,1.4493216102722268,-0.5298276395414622,1.758955947594909,0.297331467286769,-0.1616950211119704,-0.4900760987941368,-0.019444513164756882,-1.4159961045579175,-0.4120808596173528,-1.3803598812563393,-0.3231294951467188,1.3766811066155502,-0.6339101000476981,-0.32396673433423534,1.6467984924910295,-1.8254364787042479,-0.4594675796723408,0.42524149720831955,1.5274272211227722,2.1138493561271434,0.3654477098013026,0.3991245714626832,0.337614416309407,-0.3722626463820364,-0.4798913494136549,0.20582739295966054,1.2285443927162687,1.8174528357214632,0.7712321037504603,-1.0946578564305034,-0.18252255724725008,0.22200143560962432,-0.5873964743421906,1.6263915255296177,-2.916122165498321,1.1354859105944033,-0.5612830154318965,-2.5338859015393456,0.27780592184573993,-0.3012395407551603,-0.0045730447550044375,-0.932026565625512,1.006996189347714,0.7228320567260069,-0.2103306858622351,0.07462380696174241,0.4128345793013187,1.290054881012775,0.34733728642021644,0.2514302473231246,0.06281411331243862,0.9127943035268626,-0.54464021317776,-1.514225799209707,0.36184983975761076,-0.4179529054782026,-0.05496050782729679,1.1824281136304102,-1.4133747748422434,0.938351498687969,2.1368044486512656,-0.052174832351982114,0.1865572824582993,-0.5729502162863898,-0.5817387839485517,0.43581422277414844,-2.7096282960158526],\"xaxis\":\"x19\",\"yaxis\":\"y19\",\"type\":\"histogram\"},{\"line\":{\"color\":\"rgba(128, 128, 128, 1.0)\",\"dash\":\"solid\",\"shape\":\"linear\",\"width\":1.3},\"marker\":{\"size\":2,\"symbol\":\"circle\"},\"mode\":\"markers\",\"name\":\"D\",\"text\":\"\",\"x\":[0.985838989899486,0.21665256404644945,-1.4889031476281207,1.3876759317971679,0.5710992956833156,0.16374187863852463,-2.1706736396949498,0.19077717470631023,-0.27640171123488794,-0.7659030027417768,-0.9110672948102684,-1.3810824348721282,0.31793048738075586,0.5853699445262994,0.061462725006460994,-0.07410210757726512,-1.1806776449152259,0.7516053312905685,-1.5122130292802862,-0.2961906071419889,0.46503893149889275,0.19894853394605636,-1.9934980582451969,0.9590994132320767,-0.1082944304485146,-1.3109076409134526,1.0034588358102212,0.37765653683793965,0.9480888527360907,-0.5996730280193047,-0.24064440293746917,-0.6878280292402045,-0.9220452902725172,0.8002119805059846,-1.6104225638271787,0.9388577018866815,0.9029143350784757,-1.2004177089372596,-1.161030054269115,-0.24708457785562524,-0.11079675489137149,1.1302343282235041,0.21672092477696148,-0.06600779335608177,-0.8559480620795749,-1.7271894285586022,1.1012891399413387,-0.5233424546129773,-0.4295596884208994,-0.7338296808164192,-0.7951980646834268,-1.7749778857106635,1.4432059910070307,2.3960656171106334,-0.5530696854143431,2.1892029223457548,-1.5953607907146865,-0.2996578775184909,1.2999662824094993,-1.1708787580717988,-0.5347464084346105,1.2117032432670314,-0.08649483537720457,1.97409461680929,-1.0295090195009395,-0.012442497362611533,0.6432060279406185,-1.228594685397098,0.889127177754714,-1.5110039208620487,0.9279784460628189,0.19767556454771706,-1.2147369047700405,1.4950871259291127,0.03722613602021257,0.6095427437859312,-0.7168055764653345,0.1392411557047229,-1.5405393158372593,1.3688855607411003,1.652339810904066,0.11983929835394566,0.501981540004603,-0.31849208935861695,0.4474342446824646,-0.40686413021709095,-0.5715589688173871,-0.7610615600977046,0.4644825134725885,0.6790929295572973,-2.20861496436523,0.07711495796490156,-1.6699528186636468,-3.0641709594801285,1.7074670452404872,-0.15447929969220178,0.9506468488705513,0.7918133508667007,0.13147500786445818,-0.5357346870225651],\"xaxis\":\"x20\",\"y\":[-0.8318095314056883,-2.127859918718398,-0.3575127033959953,-0.49268790264262496,-0.9842456189860612,-0.4322563501816288,1.4747481391427955,0.5062475500603716,0.1310274861695234,0.4076442076473248,-0.7314277467778747,-2.9173499945957015,-0.9525047054693334,0.9118756724059636,0.25707034536142476,-1.297283158962134,0.2739781162595153,-0.055826607954760944,1.369622226965602,-1.2131724971600937,-0.8835939036173868,-0.844149223135671,-0.68250650360624,-1.3518867014911353,-1.2816275147266365,0.1759794026747841,-1.356871510619065,1.3549346160688758,-0.27950043685794207,0.9985181852854951,0.4035777150848172,0.24312444125046834,-2.126567552985169,1.4493216102722268,-0.5298276395414622,1.758955947594909,0.297331467286769,-0.1616950211119704,-0.4900760987941368,-0.019444513164756882,-1.4159961045579175,-0.4120808596173528,-1.3803598812563393,-0.3231294951467188,1.3766811066155502,-0.6339101000476981,-0.32396673433423534,1.6467984924910295,-1.8254364787042479,-0.4594675796723408,0.42524149720831955,1.5274272211227722,2.1138493561271434,0.3654477098013026,0.3991245714626832,0.337614416309407,-0.3722626463820364,-0.4798913494136549,0.20582739295966054,1.2285443927162687,1.8174528357214632,0.7712321037504603,-1.0946578564305034,-0.18252255724725008,0.22200143560962432,-0.5873964743421906,1.6263915255296177,-2.916122165498321,1.1354859105944033,-0.5612830154318965,-2.5338859015393456,0.27780592184573993,-0.3012395407551603,-0.0045730447550044375,-0.932026565625512,1.006996189347714,0.7228320567260069,-0.2103306858622351,0.07462380696174241,0.4128345793013187,1.290054881012775,0.34733728642021644,0.2514302473231246,0.06281411331243862,0.9127943035268626,-0.54464021317776,-1.514225799209707,0.36184983975761076,-0.4179529054782026,-0.05496050782729679,1.1824281136304102,-1.4133747748422434,0.938351498687969,2.1368044486512656,-0.052174832351982114,0.1865572824582993,-0.5729502162863898,-0.5817387839485517,0.43581422277414844,-2.7096282960158526],\"yaxis\":\"y20\",\"type\":\"scatter\"},{\"line\":{\"color\":\"rgba(128, 128, 128, 1.0)\",\"dash\":\"solid\",\"shape\":\"linear\",\"width\":1.3},\"marker\":{\"size\":2,\"symbol\":\"circle\"},\"mode\":\"markers\",\"name\":\"E\",\"text\":\"\",\"x\":[-0.2161184228253383,0.8792932512052545,0.8159294643263392,-0.4635332026275159,1.2480606583511327,1.1636709077699556,0.7922609344528071,-0.487105657576173,0.5421078085365659,0.5700116946872794,0.8239368808080885,-2.025932373181993,-0.7813558580603188,-0.8034398249519679,1.2512029139420504,-0.820332122346455,-1.6512522046007363,1.5682988107869604,-0.0063207362410987915,0.4004905726878128,0.5203258238161681,1.8279603356320633,0.13283157408988597,1.542945359288579,1.6651922182738557,-0.18907056450707943,0.5662895926834438,-0.4460591334360272,-0.5962532719116784,-0.5631527736349463,2.0839310694181905,-0.3747192099598198,0.2469317564261832,-0.4871280695792462,-1.399511059198512,-0.9279823397322188,0.3390474827073605,1.0170979834933276,-0.1348568156422785,1.2344989287853096,-0.273536936893138,0.5969711416695731,-0.5019729300786134,-1.5731701762261463,-0.776546301945367,-0.04443145956515006,-0.8568286686510093,-0.024763966728982578,0.7837974913189243,0.9010994038155039,-0.4730980172755114,0.207587519407055,-0.6771743196350672,1.2863142031525987,1.0405050456937595,0.06872578685904618,0.20037742174726073,0.43338326497446955,-1.1232782954405904,0.40114918501688485,0.5906859056001391,2.966926846259941,-0.23043343271553118,-0.8732939562117886,1.14121108723957,-0.4914311190409125,1.2800135159775534,0.8703759276983618,-0.69160728844988,1.1149661429079787,-1.0368988106557855,-1.856129353554703,0.07728497234778402,-0.5566709010013736,0.0017236191367242851,0.33896141298782556,-0.34634373933597523,-0.4314493717931845,-0.24830094093459376,0.7942439153979056,0.355227483466092,-0.9023647603026724,0.26053844043329494,-1.4960110241555,-0.03606981923271355,0.8973986520322429,0.8765836951666557,0.8099946509436573,-0.2546804984597161,-1.0077879926848405,-1.2867994667714329,1.5576794947939168,0.019057905893780924,-0.5441990567110787,0.49670405962304026,-0.4854564908395615,0.01630221623572593,0.4829915653490035,0.43406524706242366,-0.1857395357813015],\"xaxis\":\"x21\",\"y\":[0.985838989899486,0.21665256404644945,-1.4889031476281207,1.3876759317971679,0.5710992956833156,0.16374187863852463,-2.1706736396949498,0.19077717470631023,-0.27640171123488794,-0.7659030027417768,-0.9110672948102684,-1.3810824348721282,0.31793048738075586,0.5853699445262994,0.061462725006460994,-0.07410210757726512,-1.1806776449152259,0.7516053312905685,-1.5122130292802862,-0.2961906071419889,0.46503893149889275,0.19894853394605636,-1.9934980582451969,0.9590994132320767,-0.1082944304485146,-1.3109076409134526,1.0034588358102212,0.37765653683793965,0.9480888527360907,-0.5996730280193047,-0.24064440293746917,-0.6878280292402045,-0.9220452902725172,0.8002119805059846,-1.6104225638271787,0.9388577018866815,0.9029143350784757,-1.2004177089372596,-1.161030054269115,-0.24708457785562524,-0.11079675489137149,1.1302343282235041,0.21672092477696148,-0.06600779335608177,-0.8559480620795749,-1.7271894285586022,1.1012891399413387,-0.5233424546129773,-0.4295596884208994,-0.7338296808164192,-0.7951980646834268,-1.7749778857106635,1.4432059910070307,2.3960656171106334,-0.5530696854143431,2.1892029223457548,-1.5953607907146865,-0.2996578775184909,1.2999662824094993,-1.1708787580717988,-0.5347464084346105,1.2117032432670314,-0.08649483537720457,1.97409461680929,-1.0295090195009395,-0.012442497362611533,0.6432060279406185,-1.228594685397098,0.889127177754714,-1.5110039208620487,0.9279784460628189,0.19767556454771706,-1.2147369047700405,1.4950871259291127,0.03722613602021257,0.6095427437859312,-0.7168055764653345,0.1392411557047229,-1.5405393158372593,1.3688855607411003,1.652339810904066,0.11983929835394566,0.501981540004603,-0.31849208935861695,0.4474342446824646,-0.40686413021709095,-0.5715589688173871,-0.7610615600977046,0.4644825134725885,0.6790929295572973,-2.20861496436523,0.07711495796490156,-1.6699528186636468,-3.0641709594801285,1.7074670452404872,-0.15447929969220178,0.9506468488705513,0.7918133508667007,0.13147500786445818,-0.5357346870225651],\"yaxis\":\"y21\",\"type\":\"scatter\"},{\"line\":{\"color\":\"rgba(128, 128, 128, 1.0)\",\"dash\":\"solid\",\"shape\":\"linear\",\"width\":1.3},\"marker\":{\"size\":2,\"symbol\":\"circle\"},\"mode\":\"markers\",\"name\":\"E\",\"text\":\"\",\"x\":[0.6009272176053823,-0.47328375717875815,1.5102796829570875,0.13698648280279452,-0.08207927123680447,1.3807419460829236,0.0008884140464625894,1.6770396104112533,0.3834029797448087,-0.2690010326323169,1.597398260776538,0.7351648892726675,0.10551643845443366,-0.6311209883918225,0.5572390618218849,-0.7738078928039479,0.21116745930062886,0.14078423344846921,-0.4212439874653056,-2.3793733930614014,1.4212147209842563,-0.5812791086667076,-0.9415571482963713,0.6306110755837304,-1.2411071380593497,-0.6046780270124452,-1.0559399304488928,0.42279176280029,-1.226271418081291,-1.131325103094806,-0.8889977036219829,1.2648058753496236,-0.48442636834005676,0.7108960890827798,1.3725402153716952,-0.5675961974427753,0.9253553237255685,-0.5692932152077298,-0.4174221274552496,-0.6979921244017261,-0.3393646826749617,-1.8087896518381883,0.3758793349821352,-0.39199851456008206,0.07117604173337383,-1.213063945919289,0.07552353850305901,-2.4856059003298836,0.451007261823913,-0.2289835339458214,2.120458797452917,-0.6083107357715691,0.3047972548593639,0.8166894152888184,-0.3543723312937055,0.9270475773868493,0.21671452232011124,-1.0860561840875944,-0.9241637527989113,0.6469123061061172,-0.5604065178745599,-1.3026393979314375,-0.40837785458920023,-2.053389222406837,0.452689699599634,-0.5456880220604482,-0.3768008226061331,0.8395805250060749,0.15638033915065708,1.8378173141312133,0.18122406269354446,-0.5802911040274235,-0.9323718692835864,0.4085690155151971,-1.133680474934867,0.36264440141564863,0.39943820817481523,-0.9810313174504565,-1.9976005280155338,1.37253433673606,0.5368407330853499,-0.8077790783101932,1.2122769887218132,-1.0354813312940023,0.7911735578805896,-1.8950724841036661,-0.2987687049820244,-0.6523694211047908,0.3830716691262919,0.6284618766425324,-0.9618366538721196,0.3426388646253289,1.5482473743187941,0.5798472356535777,-2.113126103357163,-1.6964437945831647,1.4718284936317474,-2.0029776122015877,0.8932118075364441,0.34649521334632055],\"xaxis\":\"x22\",\"y\":[0.985838989899486,0.21665256404644945,-1.4889031476281207,1.3876759317971679,0.5710992956833156,0.16374187863852463,-2.1706736396949498,0.19077717470631023,-0.27640171123488794,-0.7659030027417768,-0.9110672948102684,-1.3810824348721282,0.31793048738075586,0.5853699445262994,0.061462725006460994,-0.07410210757726512,-1.1806776449152259,0.7516053312905685,-1.5122130292802862,-0.2961906071419889,0.46503893149889275,0.19894853394605636,-1.9934980582451969,0.9590994132320767,-0.1082944304485146,-1.3109076409134526,1.0034588358102212,0.37765653683793965,0.9480888527360907,-0.5996730280193047,-0.24064440293746917,-0.6878280292402045,-0.9220452902725172,0.8002119805059846,-1.6104225638271787,0.9388577018866815,0.9029143350784757,-1.2004177089372596,-1.161030054269115,-0.24708457785562524,-0.11079675489137149,1.1302343282235041,0.21672092477696148,-0.06600779335608177,-0.8559480620795749,-1.7271894285586022,1.1012891399413387,-0.5233424546129773,-0.4295596884208994,-0.7338296808164192,-0.7951980646834268,-1.7749778857106635,1.4432059910070307,2.3960656171106334,-0.5530696854143431,2.1892029223457548,-1.5953607907146865,-0.2996578775184909,1.2999662824094993,-1.1708787580717988,-0.5347464084346105,1.2117032432670314,-0.08649483537720457,1.97409461680929,-1.0295090195009395,-0.012442497362611533,0.6432060279406185,-1.228594685397098,0.889127177754714,-1.5110039208620487,0.9279784460628189,0.19767556454771706,-1.2147369047700405,1.4950871259291127,0.03722613602021257,0.6095427437859312,-0.7168055764653345,0.1392411557047229,-1.5405393158372593,1.3688855607411003,1.652339810904066,0.11983929835394566,0.501981540004603,-0.31849208935861695,0.4474342446824646,-0.40686413021709095,-0.5715589688173871,-0.7610615600977046,0.4644825134725885,0.6790929295572973,-2.20861496436523,0.07711495796490156,-1.6699528186636468,-3.0641709594801285,1.7074670452404872,-0.15447929969220178,0.9506468488705513,0.7918133508667007,0.13147500786445818,-0.5357346870225651],\"yaxis\":\"y22\",\"type\":\"scatter\"},{\"line\":{\"color\":\"rgba(128, 128, 128, 1.0)\",\"dash\":\"solid\",\"shape\":\"linear\",\"width\":1.3},\"marker\":{\"size\":2,\"symbol\":\"circle\"},\"mode\":\"markers\",\"name\":\"E\",\"text\":\"\",\"x\":[-0.4904504640967385,0.7841649518309355,-0.304245861238214,0.23262635876766635,0.08550828795745093,-0.8480255295587014,-0.261206028417855,1.0577907507364823,-1.101211299395131,-0.8251206259790931,-0.8978443455398513,-1.3514533730965124,-0.08209426487329435,-0.15139757915670202,0.2551354321183675,0.7703496534057965,0.773461549697534,-0.3347489154005215,0.6823655341579137,1.4071878994586549,-0.08446934617102379,-0.057352780586065716,-0.8181938637541752,-0.3560552277971145,-0.9984524257539489,1.6397690684243977,1.1179692063944224,0.3016059541460915,-0.6555521607761945,0.31408554857118415,1.227842316464888,-1.0195835569969778,-0.23147217036371884,0.9688885701855176,0.3663791034068689,0.8895085682664936,0.1201048283525484,-0.2172456199843793,0.1221729936381177,-0.612688742724828,0.39353475351006906,-0.4669143592048186,0.48145897828600465,-1.1566262906735671,-1.4434906919821,-0.9508393391930143,-0.003905118567913522,-0.5703679260845474,0.6142004685346247,-0.6636259640583964,0.33594584828727947,-1.2246674803442719,-1.236122125254678,0.3752526319017947,0.7099385626038475,0.17588998239427525,-1.2768953229807145,-0.49754404575867583,-0.6597825379125649,-0.5990728023481424,-0.2027848998469554,0.49485969059168494,-0.21227013145286733,1.3053375964643223,-0.8379394644268467,-0.45173954324054766,-0.05020726114742386,-0.2465739411683541,-1.1559622908329785,2.1133715942228823,1.1499141155808377,-0.719668428072425,-1.313000128638488,-0.14086947149501206,1.352762400486382,-0.6024865304159895,0.1718946732091916,1.4981161545518924,0.016829820834161107,1.0853450021473872,-0.2997287900870656,-0.4097044924835301,0.344109881082276,-0.6574881286582049,0.7113548511406034,0.2548188733433786,-0.021435383179694616,0.4318443895919997,0.8996224765853629,3.553100284631579,0.9933288132365087,-0.6552503456956092,-0.013637084233192327,-1.4199077874391282,0.7487366691982029,0.7258439388367351,-1.9525003408463535,0.3293431165215186,1.9586055182184048,-0.7840212250751724],\"xaxis\":\"x23\",\"y\":[0.985838989899486,0.21665256404644945,-1.4889031476281207,1.3876759317971679,0.5710992956833156,0.16374187863852463,-2.1706736396949498,0.19077717470631023,-0.27640171123488794,-0.7659030027417768,-0.9110672948102684,-1.3810824348721282,0.31793048738075586,0.5853699445262994,0.061462725006460994,-0.07410210757726512,-1.1806776449152259,0.7516053312905685,-1.5122130292802862,-0.2961906071419889,0.46503893149889275,0.19894853394605636,-1.9934980582451969,0.9590994132320767,-0.1082944304485146,-1.3109076409134526,1.0034588358102212,0.37765653683793965,0.9480888527360907,-0.5996730280193047,-0.24064440293746917,-0.6878280292402045,-0.9220452902725172,0.8002119805059846,-1.6104225638271787,0.9388577018866815,0.9029143350784757,-1.2004177089372596,-1.161030054269115,-0.24708457785562524,-0.11079675489137149,1.1302343282235041,0.21672092477696148,-0.06600779335608177,-0.8559480620795749,-1.7271894285586022,1.1012891399413387,-0.5233424546129773,-0.4295596884208994,-0.7338296808164192,-0.7951980646834268,-1.7749778857106635,1.4432059910070307,2.3960656171106334,-0.5530696854143431,2.1892029223457548,-1.5953607907146865,-0.2996578775184909,1.2999662824094993,-1.1708787580717988,-0.5347464084346105,1.2117032432670314,-0.08649483537720457,1.97409461680929,-1.0295090195009395,-0.012442497362611533,0.6432060279406185,-1.228594685397098,0.889127177754714,-1.5110039208620487,0.9279784460628189,0.19767556454771706,-1.2147369047700405,1.4950871259291127,0.03722613602021257,0.6095427437859312,-0.7168055764653345,0.1392411557047229,-1.5405393158372593,1.3688855607411003,1.652339810904066,0.11983929835394566,0.501981540004603,-0.31849208935861695,0.4474342446824646,-0.40686413021709095,-0.5715589688173871,-0.7610615600977046,0.4644825134725885,0.6790929295572973,-2.20861496436523,0.07711495796490156,-1.6699528186636468,-3.0641709594801285,1.7074670452404872,-0.15447929969220178,0.9506468488705513,0.7918133508667007,0.13147500786445818,-0.5357346870225651],\"yaxis\":\"y23\",\"type\":\"scatter\"},{\"line\":{\"color\":\"rgba(128, 128, 128, 1.0)\",\"dash\":\"solid\",\"shape\":\"linear\",\"width\":1.3},\"marker\":{\"size\":2,\"symbol\":\"circle\"},\"mode\":\"markers\",\"name\":\"E\",\"text\":\"\",\"x\":[-0.8318095314056883,-2.127859918718398,-0.3575127033959953,-0.49268790264262496,-0.9842456189860612,-0.4322563501816288,1.4747481391427955,0.5062475500603716,0.1310274861695234,0.4076442076473248,-0.7314277467778747,-2.9173499945957015,-0.9525047054693334,0.9118756724059636,0.25707034536142476,-1.297283158962134,0.2739781162595153,-0.055826607954760944,1.369622226965602,-1.2131724971600937,-0.8835939036173868,-0.844149223135671,-0.68250650360624,-1.3518867014911353,-1.2816275147266365,0.1759794026747841,-1.356871510619065,1.3549346160688758,-0.27950043685794207,0.9985181852854951,0.4035777150848172,0.24312444125046834,-2.126567552985169,1.4493216102722268,-0.5298276395414622,1.758955947594909,0.297331467286769,-0.1616950211119704,-0.4900760987941368,-0.019444513164756882,-1.4159961045579175,-0.4120808596173528,-1.3803598812563393,-0.3231294951467188,1.3766811066155502,-0.6339101000476981,-0.32396673433423534,1.6467984924910295,-1.8254364787042479,-0.4594675796723408,0.42524149720831955,1.5274272211227722,2.1138493561271434,0.3654477098013026,0.3991245714626832,0.337614416309407,-0.3722626463820364,-0.4798913494136549,0.20582739295966054,1.2285443927162687,1.8174528357214632,0.7712321037504603,-1.0946578564305034,-0.18252255724725008,0.22200143560962432,-0.5873964743421906,1.6263915255296177,-2.916122165498321,1.1354859105944033,-0.5612830154318965,-2.5338859015393456,0.27780592184573993,-0.3012395407551603,-0.0045730447550044375,-0.932026565625512,1.006996189347714,0.7228320567260069,-0.2103306858622351,0.07462380696174241,0.4128345793013187,1.290054881012775,0.34733728642021644,0.2514302473231246,0.06281411331243862,0.9127943035268626,-0.54464021317776,-1.514225799209707,0.36184983975761076,-0.4179529054782026,-0.05496050782729679,1.1824281136304102,-1.4133747748422434,0.938351498687969,2.1368044486512656,-0.052174832351982114,0.1865572824582993,-0.5729502162863898,-0.5817387839485517,0.43581422277414844,-2.7096282960158526],\"xaxis\":\"x24\",\"y\":[0.985838989899486,0.21665256404644945,-1.4889031476281207,1.3876759317971679,0.5710992956833156,0.16374187863852463,-2.1706736396949498,0.19077717470631023,-0.27640171123488794,-0.7659030027417768,-0.9110672948102684,-1.3810824348721282,0.31793048738075586,0.5853699445262994,0.061462725006460994,-0.07410210757726512,-1.1806776449152259,0.7516053312905685,-1.5122130292802862,-0.2961906071419889,0.46503893149889275,0.19894853394605636,-1.9934980582451969,0.9590994132320767,-0.1082944304485146,-1.3109076409134526,1.0034588358102212,0.37765653683793965,0.9480888527360907,-0.5996730280193047,-0.24064440293746917,-0.6878280292402045,-0.9220452902725172,0.8002119805059846,-1.6104225638271787,0.9388577018866815,0.9029143350784757,-1.2004177089372596,-1.161030054269115,-0.24708457785562524,-0.11079675489137149,1.1302343282235041,0.21672092477696148,-0.06600779335608177,-0.8559480620795749,-1.7271894285586022,1.1012891399413387,-0.5233424546129773,-0.4295596884208994,-0.7338296808164192,-0.7951980646834268,-1.7749778857106635,1.4432059910070307,2.3960656171106334,-0.5530696854143431,2.1892029223457548,-1.5953607907146865,-0.2996578775184909,1.2999662824094993,-1.1708787580717988,-0.5347464084346105,1.2117032432670314,-0.08649483537720457,1.97409461680929,-1.0295090195009395,-0.012442497362611533,0.6432060279406185,-1.228594685397098,0.889127177754714,-1.5110039208620487,0.9279784460628189,0.19767556454771706,-1.2147369047700405,1.4950871259291127,0.03722613602021257,0.6095427437859312,-0.7168055764653345,0.1392411557047229,-1.5405393158372593,1.3688855607411003,1.652339810904066,0.11983929835394566,0.501981540004603,-0.31849208935861695,0.4474342446824646,-0.40686413021709095,-0.5715589688173871,-0.7610615600977046,0.4644825134725885,0.6790929295572973,-2.20861496436523,0.07711495796490156,-1.6699528186636468,-3.0641709594801285,1.7074670452404872,-0.15447929969220178,0.9506468488705513,0.7918133508667007,0.13147500786445818,-0.5357346870225651],\"yaxis\":\"y24\",\"type\":\"scatter\"},{\"histfunc\":\"count\",\"histnorm\":\"\",\"marker\":{\"color\":\"rgba(219, 64, 82, 1.0)\",\"line\":{\"color\":\"#4D5663\",\"width\":1.3}},\"name\":\"E\",\"nbinsx\":10,\"opacity\":0.8,\"orientation\":\"v\",\"x\":[0.985838989899486,0.21665256404644945,-1.4889031476281207,1.3876759317971679,0.5710992956833156,0.16374187863852463,-2.1706736396949498,0.19077717470631023,-0.27640171123488794,-0.7659030027417768,-0.9110672948102684,-1.3810824348721282,0.31793048738075586,0.5853699445262994,0.061462725006460994,-0.07410210757726512,-1.1806776449152259,0.7516053312905685,-1.5122130292802862,-0.2961906071419889,0.46503893149889275,0.19894853394605636,-1.9934980582451969,0.9590994132320767,-0.1082944304485146,-1.3109076409134526,1.0034588358102212,0.37765653683793965,0.9480888527360907,-0.5996730280193047,-0.24064440293746917,-0.6878280292402045,-0.9220452902725172,0.8002119805059846,-1.6104225638271787,0.9388577018866815,0.9029143350784757,-1.2004177089372596,-1.161030054269115,-0.24708457785562524,-0.11079675489137149,1.1302343282235041,0.21672092477696148,-0.06600779335608177,-0.8559480620795749,-1.7271894285586022,1.1012891399413387,-0.5233424546129773,-0.4295596884208994,-0.7338296808164192,-0.7951980646834268,-1.7749778857106635,1.4432059910070307,2.3960656171106334,-0.5530696854143431,2.1892029223457548,-1.5953607907146865,-0.2996578775184909,1.2999662824094993,-1.1708787580717988,-0.5347464084346105,1.2117032432670314,-0.08649483537720457,1.97409461680929,-1.0295090195009395,-0.012442497362611533,0.6432060279406185,-1.228594685397098,0.889127177754714,-1.5110039208620487,0.9279784460628189,0.19767556454771706,-1.2147369047700405,1.4950871259291127,0.03722613602021257,0.6095427437859312,-0.7168055764653345,0.1392411557047229,-1.5405393158372593,1.3688855607411003,1.652339810904066,0.11983929835394566,0.501981540004603,-0.31849208935861695,0.4474342446824646,-0.40686413021709095,-0.5715589688173871,-0.7610615600977046,0.4644825134725885,0.6790929295572973,-2.20861496436523,0.07711495796490156,-1.6699528186636468,-3.0641709594801285,1.7074670452404872,-0.15447929969220178,0.9506468488705513,0.7918133508667007,0.13147500786445818,-0.5357346870225651],\"xaxis\":\"x25\",\"yaxis\":\"y25\",\"type\":\"histogram\"}],                        {\"bargap\":0.02,\"legend\":{\"bgcolor\":\"#F5F6F9\",\"font\":{\"color\":\"#4D5663\"}},\"paper_bgcolor\":\"#F5F6F9\",\"plot_bgcolor\":\"#F5F6F9\",\"showlegend\":false,\"template\":{\"data\":{\"barpolar\":[{\"marker\":{\"line\":{\"color\":\"#E5ECF6\",\"width\":0.5},\"pattern\":{\"fillmode\":\"overlay\",\"size\":10,\"solidity\":0.2}},\"type\":\"barpolar\"}],\"bar\":[{\"error_x\":{\"color\":\"#2a3f5f\"},\"error_y\":{\"color\":\"#2a3f5f\"},\"marker\":{\"line\":{\"color\":\"#E5ECF6\",\"width\":0.5},\"pattern\":{\"fillmode\":\"overlay\",\"size\":10,\"solidity\":0.2}},\"type\":\"bar\"}],\"carpet\":[{\"aaxis\":{\"endlinecolor\":\"#2a3f5f\",\"gridcolor\":\"white\",\"linecolor\":\"white\",\"minorgridcolor\":\"white\",\"startlinecolor\":\"#2a3f5f\"},\"baxis\":{\"endlinecolor\":\"#2a3f5f\",\"gridcolor\":\"white\",\"linecolor\":\"white\",\"minorgridcolor\":\"white\",\"startlinecolor\":\"#2a3f5f\"},\"type\":\"carpet\"}],\"choropleth\":[{\"colorbar\":{\"outlinewidth\":0,\"ticks\":\"\"},\"type\":\"choropleth\"}],\"contourcarpet\":[{\"colorbar\":{\"outlinewidth\":0,\"ticks\":\"\"},\"type\":\"contourcarpet\"}],\"contour\":[{\"colorbar\":{\"outlinewidth\":0,\"ticks\":\"\"},\"colorscale\":[[0.0,\"#0d0887\"],[0.1111111111111111,\"#46039f\"],[0.2222222222222222,\"#7201a8\"],[0.3333333333333333,\"#9c179e\"],[0.4444444444444444,\"#bd3786\"],[0.5555555555555556,\"#d8576b\"],[0.6666666666666666,\"#ed7953\"],[0.7777777777777778,\"#fb9f3a\"],[0.8888888888888888,\"#fdca26\"],[1.0,\"#f0f921\"]],\"type\":\"contour\"}],\"heatmapgl\":[{\"colorbar\":{\"outlinewidth\":0,\"ticks\":\"\"},\"colorscale\":[[0.0,\"#0d0887\"],[0.1111111111111111,\"#46039f\"],[0.2222222222222222,\"#7201a8\"],[0.3333333333333333,\"#9c179e\"],[0.4444444444444444,\"#bd3786\"],[0.5555555555555556,\"#d8576b\"],[0.6666666666666666,\"#ed7953\"],[0.7777777777777778,\"#fb9f3a\"],[0.8888888888888888,\"#fdca26\"],[1.0,\"#f0f921\"]],\"type\":\"heatmapgl\"}],\"heatmap\":[{\"colorbar\":{\"outlinewidth\":0,\"ticks\":\"\"},\"colorscale\":[[0.0,\"#0d0887\"],[0.1111111111111111,\"#46039f\"],[0.2222222222222222,\"#7201a8\"],[0.3333333333333333,\"#9c179e\"],[0.4444444444444444,\"#bd3786\"],[0.5555555555555556,\"#d8576b\"],[0.6666666666666666,\"#ed7953\"],[0.7777777777777778,\"#fb9f3a\"],[0.8888888888888888,\"#fdca26\"],[1.0,\"#f0f921\"]],\"type\":\"heatmap\"}],\"histogram2dcontour\":[{\"colorbar\":{\"outlinewidth\":0,\"ticks\":\"\"},\"colorscale\":[[0.0,\"#0d0887\"],[0.1111111111111111,\"#46039f\"],[0.2222222222222222,\"#7201a8\"],[0.3333333333333333,\"#9c179e\"],[0.4444444444444444,\"#bd3786\"],[0.5555555555555556,\"#d8576b\"],[0.6666666666666666,\"#ed7953\"],[0.7777777777777778,\"#fb9f3a\"],[0.8888888888888888,\"#fdca26\"],[1.0,\"#f0f921\"]],\"type\":\"histogram2dcontour\"}],\"histogram2d\":[{\"colorbar\":{\"outlinewidth\":0,\"ticks\":\"\"},\"colorscale\":[[0.0,\"#0d0887\"],[0.1111111111111111,\"#46039f\"],[0.2222222222222222,\"#7201a8\"],[0.3333333333333333,\"#9c179e\"],[0.4444444444444444,\"#bd3786\"],[0.5555555555555556,\"#d8576b\"],[0.6666666666666666,\"#ed7953\"],[0.7777777777777778,\"#fb9f3a\"],[0.8888888888888888,\"#fdca26\"],[1.0,\"#f0f921\"]],\"type\":\"histogram2d\"}],\"histogram\":[{\"marker\":{\"pattern\":{\"fillmode\":\"overlay\",\"size\":10,\"solidity\":0.2}},\"type\":\"histogram\"}],\"mesh3d\":[{\"colorbar\":{\"outlinewidth\":0,\"ticks\":\"\"},\"type\":\"mesh3d\"}],\"parcoords\":[{\"line\":{\"colorbar\":{\"outlinewidth\":0,\"ticks\":\"\"}},\"type\":\"parcoords\"}],\"pie\":[{\"automargin\":true,\"type\":\"pie\"}],\"scatter3d\":[{\"line\":{\"colorbar\":{\"outlinewidth\":0,\"ticks\":\"\"}},\"marker\":{\"colorbar\":{\"outlinewidth\":0,\"ticks\":\"\"}},\"type\":\"scatter3d\"}],\"scattercarpet\":[{\"marker\":{\"colorbar\":{\"outlinewidth\":0,\"ticks\":\"\"}},\"type\":\"scattercarpet\"}],\"scattergeo\":[{\"marker\":{\"colorbar\":{\"outlinewidth\":0,\"ticks\":\"\"}},\"type\":\"scattergeo\"}],\"scattergl\":[{\"marker\":{\"colorbar\":{\"outlinewidth\":0,\"ticks\":\"\"}},\"type\":\"scattergl\"}],\"scattermapbox\":[{\"marker\":{\"colorbar\":{\"outlinewidth\":0,\"ticks\":\"\"}},\"type\":\"scattermapbox\"}],\"scatterpolargl\":[{\"marker\":{\"colorbar\":{\"outlinewidth\":0,\"ticks\":\"\"}},\"type\":\"scatterpolargl\"}],\"scatterpolar\":[{\"marker\":{\"colorbar\":{\"outlinewidth\":0,\"ticks\":\"\"}},\"type\":\"scatterpolar\"}],\"scatter\":[{\"marker\":{\"colorbar\":{\"outlinewidth\":0,\"ticks\":\"\"}},\"type\":\"scatter\"}],\"scatterternary\":[{\"marker\":{\"colorbar\":{\"outlinewidth\":0,\"ticks\":\"\"}},\"type\":\"scatterternary\"}],\"surface\":[{\"colorbar\":{\"outlinewidth\":0,\"ticks\":\"\"},\"colorscale\":[[0.0,\"#0d0887\"],[0.1111111111111111,\"#46039f\"],[0.2222222222222222,\"#7201a8\"],[0.3333333333333333,\"#9c179e\"],[0.4444444444444444,\"#bd3786\"],[0.5555555555555556,\"#d8576b\"],[0.6666666666666666,\"#ed7953\"],[0.7777777777777778,\"#fb9f3a\"],[0.8888888888888888,\"#fdca26\"],[1.0,\"#f0f921\"]],\"type\":\"surface\"}],\"table\":[{\"cells\":{\"fill\":{\"color\":\"#EBF0F8\"},\"line\":{\"color\":\"white\"}},\"header\":{\"fill\":{\"color\":\"#C8D4E3\"},\"line\":{\"color\":\"white\"}},\"type\":\"table\"}]},\"layout\":{\"annotationdefaults\":{\"arrowcolor\":\"#2a3f5f\",\"arrowhead\":0,\"arrowwidth\":1},\"autotypenumbers\":\"strict\",\"coloraxis\":{\"colorbar\":{\"outlinewidth\":0,\"ticks\":\"\"}},\"colorscale\":{\"diverging\":[[0,\"#8e0152\"],[0.1,\"#c51b7d\"],[0.2,\"#de77ae\"],[0.3,\"#f1b6da\"],[0.4,\"#fde0ef\"],[0.5,\"#f7f7f7\"],[0.6,\"#e6f5d0\"],[0.7,\"#b8e186\"],[0.8,\"#7fbc41\"],[0.9,\"#4d9221\"],[1,\"#276419\"]],\"sequential\":[[0.0,\"#0d0887\"],[0.1111111111111111,\"#46039f\"],[0.2222222222222222,\"#7201a8\"],[0.3333333333333333,\"#9c179e\"],[0.4444444444444444,\"#bd3786\"],[0.5555555555555556,\"#d8576b\"],[0.6666666666666666,\"#ed7953\"],[0.7777777777777778,\"#fb9f3a\"],[0.8888888888888888,\"#fdca26\"],[1.0,\"#f0f921\"]],\"sequentialminus\":[[0.0,\"#0d0887\"],[0.1111111111111111,\"#46039f\"],[0.2222222222222222,\"#7201a8\"],[0.3333333333333333,\"#9c179e\"],[0.4444444444444444,\"#bd3786\"],[0.5555555555555556,\"#d8576b\"],[0.6666666666666666,\"#ed7953\"],[0.7777777777777778,\"#fb9f3a\"],[0.8888888888888888,\"#fdca26\"],[1.0,\"#f0f921\"]]},\"colorway\":[\"#636efa\",\"#EF553B\",\"#00cc96\",\"#ab63fa\",\"#FFA15A\",\"#19d3f3\",\"#FF6692\",\"#B6E880\",\"#FF97FF\",\"#FECB52\"],\"font\":{\"color\":\"#2a3f5f\"},\"geo\":{\"bgcolor\":\"white\",\"lakecolor\":\"white\",\"landcolor\":\"#E5ECF6\",\"showlakes\":true,\"showland\":true,\"subunitcolor\":\"white\"},\"hoverlabel\":{\"align\":\"left\"},\"hovermode\":\"closest\",\"mapbox\":{\"style\":\"light\"},\"paper_bgcolor\":\"white\",\"plot_bgcolor\":\"#E5ECF6\",\"polar\":{\"angularaxis\":{\"gridcolor\":\"white\",\"linecolor\":\"white\",\"ticks\":\"\"},\"bgcolor\":\"#E5ECF6\",\"radialaxis\":{\"gridcolor\":\"white\",\"linecolor\":\"white\",\"ticks\":\"\"}},\"scene\":{\"xaxis\":{\"backgroundcolor\":\"#E5ECF6\",\"gridcolor\":\"white\",\"gridwidth\":2,\"linecolor\":\"white\",\"showbackground\":true,\"ticks\":\"\",\"zerolinecolor\":\"white\"},\"yaxis\":{\"backgroundcolor\":\"#E5ECF6\",\"gridcolor\":\"white\",\"gridwidth\":2,\"linecolor\":\"white\",\"showbackground\":true,\"ticks\":\"\",\"zerolinecolor\":\"white\"},\"zaxis\":{\"backgroundcolor\":\"#E5ECF6\",\"gridcolor\":\"white\",\"gridwidth\":2,\"linecolor\":\"white\",\"showbackground\":true,\"ticks\":\"\",\"zerolinecolor\":\"white\"}},\"shapedefaults\":{\"line\":{\"color\":\"#2a3f5f\"}},\"ternary\":{\"aaxis\":{\"gridcolor\":\"white\",\"linecolor\":\"white\",\"ticks\":\"\"},\"baxis\":{\"gridcolor\":\"white\",\"linecolor\":\"white\",\"ticks\":\"\"},\"bgcolor\":\"#E5ECF6\",\"caxis\":{\"gridcolor\":\"white\",\"linecolor\":\"white\",\"ticks\":\"\"}},\"title\":{\"x\":0.05},\"xaxis\":{\"automargin\":true,\"gridcolor\":\"white\",\"linecolor\":\"white\",\"ticks\":\"\",\"title\":{\"standoff\":15},\"zerolinecolor\":\"white\",\"zerolinewidth\":2},\"yaxis\":{\"automargin\":true,\"gridcolor\":\"white\",\"linecolor\":\"white\",\"ticks\":\"\",\"title\":{\"standoff\":15},\"zerolinecolor\":\"white\",\"zerolinewidth\":2}}},\"title\":{\"font\":{\"color\":\"#4D5663\"}},\"xaxis\":{\"anchor\":\"y\",\"domain\":[0.0,0.16],\"gridcolor\":\"#E1E5ED\",\"showgrid\":false,\"tickfont\":{\"color\":\"#4D5663\"},\"title\":{\"font\":{\"color\":\"#4D5663\"},\"text\":\"\"},\"zerolinecolor\":\"#E1E5ED\"},\"yaxis\":{\"anchor\":\"x\",\"domain\":[0.856,1.0],\"gridcolor\":\"#E1E5ED\",\"showgrid\":false,\"tickfont\":{\"color\":\"#4D5663\"},\"title\":{\"font\":{\"color\":\"#4D5663\"},\"text\":\"\"},\"zerolinecolor\":\"#E1E5ED\"},\"xaxis2\":{\"anchor\":\"y2\",\"domain\":[0.21000000000000002,0.37],\"gridcolor\":\"#E1E5ED\",\"showgrid\":false,\"tickfont\":{\"color\":\"#4D5663\"},\"title\":{\"font\":{\"color\":\"#4D5663\"},\"text\":\"\"},\"zerolinecolor\":\"#E1E5ED\"},\"yaxis2\":{\"anchor\":\"x2\",\"domain\":[0.856,1.0],\"gridcolor\":\"#E1E5ED\",\"showgrid\":false,\"tickfont\":{\"color\":\"#4D5663\"},\"title\":{\"font\":{\"color\":\"#4D5663\"},\"text\":\"\"},\"zerolinecolor\":\"#E1E5ED\"},\"xaxis3\":{\"anchor\":\"y3\",\"domain\":[0.42000000000000004,0.5800000000000001],\"gridcolor\":\"#E1E5ED\",\"showgrid\":false,\"tickfont\":{\"color\":\"#4D5663\"},\"title\":{\"font\":{\"color\":\"#4D5663\"},\"text\":\"\"},\"zerolinecolor\":\"#E1E5ED\"},\"yaxis3\":{\"anchor\":\"x3\",\"domain\":[0.856,1.0],\"gridcolor\":\"#E1E5ED\",\"showgrid\":false,\"tickfont\":{\"color\":\"#4D5663\"},\"title\":{\"font\":{\"color\":\"#4D5663\"},\"text\":\"\"},\"zerolinecolor\":\"#E1E5ED\"},\"xaxis4\":{\"anchor\":\"y4\",\"domain\":[0.63,0.79],\"gridcolor\":\"#E1E5ED\",\"showgrid\":false,\"tickfont\":{\"color\":\"#4D5663\"},\"title\":{\"font\":{\"color\":\"#4D5663\"},\"text\":\"\"},\"zerolinecolor\":\"#E1E5ED\"},\"yaxis4\":{\"anchor\":\"x4\",\"domain\":[0.856,1.0],\"gridcolor\":\"#E1E5ED\",\"showgrid\":false,\"tickfont\":{\"color\":\"#4D5663\"},\"title\":{\"font\":{\"color\":\"#4D5663\"},\"text\":\"\"},\"zerolinecolor\":\"#E1E5ED\"},\"xaxis5\":{\"anchor\":\"y5\",\"domain\":[0.8400000000000001,1.0],\"gridcolor\":\"#E1E5ED\",\"showgrid\":false,\"tickfont\":{\"color\":\"#4D5663\"},\"title\":{\"font\":{\"color\":\"#4D5663\"},\"text\":\"\"},\"zerolinecolor\":\"#E1E5ED\"},\"yaxis5\":{\"anchor\":\"x5\",\"domain\":[0.856,1.0],\"gridcolor\":\"#E1E5ED\",\"showgrid\":false,\"tickfont\":{\"color\":\"#4D5663\"},\"title\":{\"font\":{\"color\":\"#4D5663\"},\"text\":\"\"},\"zerolinecolor\":\"#E1E5ED\"},\"xaxis6\":{\"anchor\":\"y6\",\"domain\":[0.0,0.16],\"gridcolor\":\"#E1E5ED\",\"showgrid\":false,\"tickfont\":{\"color\":\"#4D5663\"},\"title\":{\"font\":{\"color\":\"#4D5663\"},\"text\":\"\"},\"zerolinecolor\":\"#E1E5ED\"},\"yaxis6\":{\"anchor\":\"x6\",\"domain\":[0.6419999999999999,0.7859999999999999],\"gridcolor\":\"#E1E5ED\",\"showgrid\":false,\"tickfont\":{\"color\":\"#4D5663\"},\"title\":{\"font\":{\"color\":\"#4D5663\"},\"text\":\"\"},\"zerolinecolor\":\"#E1E5ED\"},\"xaxis7\":{\"anchor\":\"y7\",\"domain\":[0.21000000000000002,0.37],\"gridcolor\":\"#E1E5ED\",\"showgrid\":false,\"tickfont\":{\"color\":\"#4D5663\"},\"title\":{\"font\":{\"color\":\"#4D5663\"},\"text\":\"\"},\"zerolinecolor\":\"#E1E5ED\"},\"yaxis7\":{\"anchor\":\"x7\",\"domain\":[0.6419999999999999,0.7859999999999999],\"gridcolor\":\"#E1E5ED\",\"showgrid\":false,\"tickfont\":{\"color\":\"#4D5663\"},\"title\":{\"font\":{\"color\":\"#4D5663\"},\"text\":\"\"},\"zerolinecolor\":\"#E1E5ED\"},\"xaxis8\":{\"anchor\":\"y8\",\"domain\":[0.42000000000000004,0.5800000000000001],\"gridcolor\":\"#E1E5ED\",\"showgrid\":false,\"tickfont\":{\"color\":\"#4D5663\"},\"title\":{\"font\":{\"color\":\"#4D5663\"},\"text\":\"\"},\"zerolinecolor\":\"#E1E5ED\"},\"yaxis8\":{\"anchor\":\"x8\",\"domain\":[0.6419999999999999,0.7859999999999999],\"gridcolor\":\"#E1E5ED\",\"showgrid\":false,\"tickfont\":{\"color\":\"#4D5663\"},\"title\":{\"font\":{\"color\":\"#4D5663\"},\"text\":\"\"},\"zerolinecolor\":\"#E1E5ED\"},\"xaxis9\":{\"anchor\":\"y9\",\"domain\":[0.63,0.79],\"gridcolor\":\"#E1E5ED\",\"showgrid\":false,\"tickfont\":{\"color\":\"#4D5663\"},\"title\":{\"font\":{\"color\":\"#4D5663\"},\"text\":\"\"},\"zerolinecolor\":\"#E1E5ED\"},\"yaxis9\":{\"anchor\":\"x9\",\"domain\":[0.6419999999999999,0.7859999999999999],\"gridcolor\":\"#E1E5ED\",\"showgrid\":false,\"tickfont\":{\"color\":\"#4D5663\"},\"title\":{\"font\":{\"color\":\"#4D5663\"},\"text\":\"\"},\"zerolinecolor\":\"#E1E5ED\"},\"xaxis10\":{\"anchor\":\"y10\",\"domain\":[0.8400000000000001,1.0],\"gridcolor\":\"#E1E5ED\",\"showgrid\":false,\"tickfont\":{\"color\":\"#4D5663\"},\"title\":{\"font\":{\"color\":\"#4D5663\"},\"text\":\"\"},\"zerolinecolor\":\"#E1E5ED\"},\"yaxis10\":{\"anchor\":\"x10\",\"domain\":[0.6419999999999999,0.7859999999999999],\"gridcolor\":\"#E1E5ED\",\"showgrid\":false,\"tickfont\":{\"color\":\"#4D5663\"},\"title\":{\"font\":{\"color\":\"#4D5663\"},\"text\":\"\"},\"zerolinecolor\":\"#E1E5ED\"},\"xaxis11\":{\"anchor\":\"y11\",\"domain\":[0.0,0.16],\"gridcolor\":\"#E1E5ED\",\"showgrid\":false,\"tickfont\":{\"color\":\"#4D5663\"},\"title\":{\"font\":{\"color\":\"#4D5663\"},\"text\":\"\"},\"zerolinecolor\":\"#E1E5ED\"},\"yaxis11\":{\"anchor\":\"x11\",\"domain\":[0.428,0.572],\"gridcolor\":\"#E1E5ED\",\"showgrid\":false,\"tickfont\":{\"color\":\"#4D5663\"},\"title\":{\"font\":{\"color\":\"#4D5663\"},\"text\":\"\"},\"zerolinecolor\":\"#E1E5ED\"},\"xaxis12\":{\"anchor\":\"y12\",\"domain\":[0.21000000000000002,0.37],\"gridcolor\":\"#E1E5ED\",\"showgrid\":false,\"tickfont\":{\"color\":\"#4D5663\"},\"title\":{\"font\":{\"color\":\"#4D5663\"},\"text\":\"\"},\"zerolinecolor\":\"#E1E5ED\"},\"yaxis12\":{\"anchor\":\"x12\",\"domain\":[0.428,0.572],\"gridcolor\":\"#E1E5ED\",\"showgrid\":false,\"tickfont\":{\"color\":\"#4D5663\"},\"title\":{\"font\":{\"color\":\"#4D5663\"},\"text\":\"\"},\"zerolinecolor\":\"#E1E5ED\"},\"xaxis13\":{\"anchor\":\"y13\",\"domain\":[0.42000000000000004,0.5800000000000001],\"gridcolor\":\"#E1E5ED\",\"showgrid\":false,\"tickfont\":{\"color\":\"#4D5663\"},\"title\":{\"font\":{\"color\":\"#4D5663\"},\"text\":\"\"},\"zerolinecolor\":\"#E1E5ED\"},\"yaxis13\":{\"anchor\":\"x13\",\"domain\":[0.428,0.572],\"gridcolor\":\"#E1E5ED\",\"showgrid\":false,\"tickfont\":{\"color\":\"#4D5663\"},\"title\":{\"font\":{\"color\":\"#4D5663\"},\"text\":\"\"},\"zerolinecolor\":\"#E1E5ED\"},\"xaxis14\":{\"anchor\":\"y14\",\"domain\":[0.63,0.79],\"gridcolor\":\"#E1E5ED\",\"showgrid\":false,\"tickfont\":{\"color\":\"#4D5663\"},\"title\":{\"font\":{\"color\":\"#4D5663\"},\"text\":\"\"},\"zerolinecolor\":\"#E1E5ED\"},\"yaxis14\":{\"anchor\":\"x14\",\"domain\":[0.428,0.572],\"gridcolor\":\"#E1E5ED\",\"showgrid\":false,\"tickfont\":{\"color\":\"#4D5663\"},\"title\":{\"font\":{\"color\":\"#4D5663\"},\"text\":\"\"},\"zerolinecolor\":\"#E1E5ED\"},\"xaxis15\":{\"anchor\":\"y15\",\"domain\":[0.8400000000000001,1.0],\"gridcolor\":\"#E1E5ED\",\"showgrid\":false,\"tickfont\":{\"color\":\"#4D5663\"},\"title\":{\"font\":{\"color\":\"#4D5663\"},\"text\":\"\"},\"zerolinecolor\":\"#E1E5ED\"},\"yaxis15\":{\"anchor\":\"x15\",\"domain\":[0.428,0.572],\"gridcolor\":\"#E1E5ED\",\"showgrid\":false,\"tickfont\":{\"color\":\"#4D5663\"},\"title\":{\"font\":{\"color\":\"#4D5663\"},\"text\":\"\"},\"zerolinecolor\":\"#E1E5ED\"},\"xaxis16\":{\"anchor\":\"y16\",\"domain\":[0.0,0.16],\"gridcolor\":\"#E1E5ED\",\"showgrid\":false,\"tickfont\":{\"color\":\"#4D5663\"},\"title\":{\"font\":{\"color\":\"#4D5663\"},\"text\":\"\"},\"zerolinecolor\":\"#E1E5ED\"},\"yaxis16\":{\"anchor\":\"x16\",\"domain\":[0.214,0.358],\"gridcolor\":\"#E1E5ED\",\"showgrid\":false,\"tickfont\":{\"color\":\"#4D5663\"},\"title\":{\"font\":{\"color\":\"#4D5663\"},\"text\":\"\"},\"zerolinecolor\":\"#E1E5ED\"},\"xaxis17\":{\"anchor\":\"y17\",\"domain\":[0.21000000000000002,0.37],\"gridcolor\":\"#E1E5ED\",\"showgrid\":false,\"tickfont\":{\"color\":\"#4D5663\"},\"title\":{\"font\":{\"color\":\"#4D5663\"},\"text\":\"\"},\"zerolinecolor\":\"#E1E5ED\"},\"yaxis17\":{\"anchor\":\"x17\",\"domain\":[0.214,0.358],\"gridcolor\":\"#E1E5ED\",\"showgrid\":false,\"tickfont\":{\"color\":\"#4D5663\"},\"title\":{\"font\":{\"color\":\"#4D5663\"},\"text\":\"\"},\"zerolinecolor\":\"#E1E5ED\"},\"xaxis18\":{\"anchor\":\"y18\",\"domain\":[0.42000000000000004,0.5800000000000001],\"gridcolor\":\"#E1E5ED\",\"showgrid\":false,\"tickfont\":{\"color\":\"#4D5663\"},\"title\":{\"font\":{\"color\":\"#4D5663\"},\"text\":\"\"},\"zerolinecolor\":\"#E1E5ED\"},\"yaxis18\":{\"anchor\":\"x18\",\"domain\":[0.214,0.358],\"gridcolor\":\"#E1E5ED\",\"showgrid\":false,\"tickfont\":{\"color\":\"#4D5663\"},\"title\":{\"font\":{\"color\":\"#4D5663\"},\"text\":\"\"},\"zerolinecolor\":\"#E1E5ED\"},\"xaxis19\":{\"anchor\":\"y19\",\"domain\":[0.63,0.79],\"gridcolor\":\"#E1E5ED\",\"showgrid\":false,\"tickfont\":{\"color\":\"#4D5663\"},\"title\":{\"font\":{\"color\":\"#4D5663\"},\"text\":\"\"},\"zerolinecolor\":\"#E1E5ED\"},\"yaxis19\":{\"anchor\":\"x19\",\"domain\":[0.214,0.358],\"gridcolor\":\"#E1E5ED\",\"showgrid\":false,\"tickfont\":{\"color\":\"#4D5663\"},\"title\":{\"font\":{\"color\":\"#4D5663\"},\"text\":\"\"},\"zerolinecolor\":\"#E1E5ED\"},\"xaxis20\":{\"anchor\":\"y20\",\"domain\":[0.8400000000000001,1.0],\"gridcolor\":\"#E1E5ED\",\"showgrid\":false,\"tickfont\":{\"color\":\"#4D5663\"},\"title\":{\"font\":{\"color\":\"#4D5663\"},\"text\":\"\"},\"zerolinecolor\":\"#E1E5ED\"},\"yaxis20\":{\"anchor\":\"x20\",\"domain\":[0.214,0.358],\"gridcolor\":\"#E1E5ED\",\"showgrid\":false,\"tickfont\":{\"color\":\"#4D5663\"},\"title\":{\"font\":{\"color\":\"#4D5663\"},\"text\":\"\"},\"zerolinecolor\":\"#E1E5ED\"},\"xaxis21\":{\"anchor\":\"y21\",\"domain\":[0.0,0.16],\"gridcolor\":\"#E1E5ED\",\"showgrid\":false,\"tickfont\":{\"color\":\"#4D5663\"},\"title\":{\"font\":{\"color\":\"#4D5663\"},\"text\":\"\"},\"zerolinecolor\":\"#E1E5ED\"},\"yaxis21\":{\"anchor\":\"x21\",\"domain\":[0.0,0.144],\"gridcolor\":\"#E1E5ED\",\"showgrid\":false,\"tickfont\":{\"color\":\"#4D5663\"},\"title\":{\"font\":{\"color\":\"#4D5663\"},\"text\":\"\"},\"zerolinecolor\":\"#E1E5ED\"},\"xaxis22\":{\"anchor\":\"y22\",\"domain\":[0.21000000000000002,0.37],\"gridcolor\":\"#E1E5ED\",\"showgrid\":false,\"tickfont\":{\"color\":\"#4D5663\"},\"title\":{\"font\":{\"color\":\"#4D5663\"},\"text\":\"\"},\"zerolinecolor\":\"#E1E5ED\"},\"yaxis22\":{\"anchor\":\"x22\",\"domain\":[0.0,0.144],\"gridcolor\":\"#E1E5ED\",\"showgrid\":false,\"tickfont\":{\"color\":\"#4D5663\"},\"title\":{\"font\":{\"color\":\"#4D5663\"},\"text\":\"\"},\"zerolinecolor\":\"#E1E5ED\"},\"xaxis23\":{\"anchor\":\"y23\",\"domain\":[0.42000000000000004,0.5800000000000001],\"gridcolor\":\"#E1E5ED\",\"showgrid\":false,\"tickfont\":{\"color\":\"#4D5663\"},\"title\":{\"font\":{\"color\":\"#4D5663\"},\"text\":\"\"},\"zerolinecolor\":\"#E1E5ED\"},\"yaxis23\":{\"anchor\":\"x23\",\"domain\":[0.0,0.144],\"gridcolor\":\"#E1E5ED\",\"showgrid\":false,\"tickfont\":{\"color\":\"#4D5663\"},\"title\":{\"font\":{\"color\":\"#4D5663\"},\"text\":\"\"},\"zerolinecolor\":\"#E1E5ED\"},\"xaxis24\":{\"anchor\":\"y24\",\"domain\":[0.63,0.79],\"gridcolor\":\"#E1E5ED\",\"showgrid\":false,\"tickfont\":{\"color\":\"#4D5663\"},\"title\":{\"font\":{\"color\":\"#4D5663\"},\"text\":\"\"},\"zerolinecolor\":\"#E1E5ED\"},\"yaxis24\":{\"anchor\":\"x24\",\"domain\":[0.0,0.144],\"gridcolor\":\"#E1E5ED\",\"showgrid\":false,\"tickfont\":{\"color\":\"#4D5663\"},\"title\":{\"font\":{\"color\":\"#4D5663\"},\"text\":\"\"},\"zerolinecolor\":\"#E1E5ED\"},\"xaxis25\":{\"anchor\":\"y25\",\"domain\":[0.8400000000000001,1.0],\"gridcolor\":\"#E1E5ED\",\"showgrid\":false,\"tickfont\":{\"color\":\"#4D5663\"},\"title\":{\"font\":{\"color\":\"#4D5663\"},\"text\":\"\"},\"zerolinecolor\":\"#E1E5ED\"},\"yaxis25\":{\"anchor\":\"x25\",\"domain\":[0.0,0.144],\"gridcolor\":\"#E1E5ED\",\"showgrid\":false,\"tickfont\":{\"color\":\"#4D5663\"},\"title\":{\"font\":{\"color\":\"#4D5663\"},\"text\":\"\"},\"zerolinecolor\":\"#E1E5ED\"}},                        {\"showLink\": true, \"linkText\": \"Export to plot.ly\", \"plotlyServerURL\": \"https://plot.ly\", \"responsive\": true}                    ).then(function(){\n",
       "                            \n",
       "var gd = document.getElementById('687267b3-81bd-48b7-99a9-8a4b0cea160c');\n",
       "var x = new MutationObserver(function (mutations, observer) {{\n",
       "        var display = window.getComputedStyle(gd).display;\n",
       "        if (!display || display === 'none') {{\n",
       "            console.log([gd, 'removed!']);\n",
       "            Plotly.purge(gd);\n",
       "            observer.disconnect();\n",
       "        }}\n",
       "}});\n",
       "\n",
       "// Listen for the removal of the full notebook cells\n",
       "var notebookContainer = gd.closest('#notebook-container');\n",
       "if (notebookContainer) {{\n",
       "    x.observe(notebookContainer, {childList: true});\n",
       "}}\n",
       "\n",
       "// Listen for the clearing of the current output cell\n",
       "var outputEl = gd.closest('.output');\n",
       "if (outputEl) {{\n",
       "    x.observe(outputEl, {childList: true});\n",
       "}}\n",
       "\n",
       "                        })                };                });            </script>        </div>"
      ]
     },
     "metadata": {},
     "output_type": "display_data"
    }
   ],
   "source": [
    "df.scatter_matrix()"
   ]
  },
  {
   "cell_type": "code",
   "execution_count": 23,
   "id": "b0da98ae",
   "metadata": {},
   "outputs": [
    {
     "data": {
      "application/vnd.plotly.v1+json": {
       "config": {
        "linkText": "Export to plot.ly",
        "plotlyServerURL": "https://plot.ly",
        "showLink": true
       },
       "data": [
        {
         "histfunc": "count",
         "histnorm": "",
         "marker": {
          "color": "rgba(255, 153, 51, 1.0)",
          "line": {
           "color": "#4D5663",
           "width": 1.3
          }
         },
         "name": "x",
         "nbinsx": 10,
         "opacity": 0.8,
         "orientation": "v",
         "type": "histogram",
         "x": [
          1,
          2,
          3,
          4,
          5
         ],
         "xaxis": "x",
         "yaxis": "y"
        },
        {
         "line": {
          "color": "rgba(128, 128, 128, 1.0)",
          "dash": "solid",
          "shape": "linear",
          "width": 1.3
         },
         "marker": {
          "size": 2,
          "symbol": "circle"
         },
         "mode": "markers",
         "name": "x",
         "text": "",
         "type": "scatter",
         "x": [
          10,
          20,
          30,
          20,
          10
         ],
         "xaxis": "x2",
         "y": [
          1,
          2,
          3,
          4,
          5
         ],
         "yaxis": "y2"
        },
        {
         "line": {
          "color": "rgba(128, 128, 128, 1.0)",
          "dash": "solid",
          "shape": "linear",
          "width": 1.3
         },
         "marker": {
          "size": 2,
          "symbol": "circle"
         },
         "mode": "markers",
         "name": "x",
         "text": "",
         "type": "scatter",
         "x": [
          5,
          4,
          3,
          2,
          1
         ],
         "xaxis": "x3",
         "y": [
          1,
          2,
          3,
          4,
          5
         ],
         "yaxis": "y3"
        },
        {
         "line": {
          "color": "rgba(128, 128, 128, 1.0)",
          "dash": "solid",
          "shape": "linear",
          "width": 1.3
         },
         "marker": {
          "size": 2,
          "symbol": "circle"
         },
         "mode": "markers",
         "name": "y",
         "text": "",
         "type": "scatter",
         "x": [
          1,
          2,
          3,
          4,
          5
         ],
         "xaxis": "x4",
         "y": [
          10,
          20,
          30,
          20,
          10
         ],
         "yaxis": "y4"
        },
        {
         "histfunc": "count",
         "histnorm": "",
         "marker": {
          "color": "rgba(55, 128, 191, 1.0)",
          "line": {
           "color": "#4D5663",
           "width": 1.3
          }
         },
         "name": "y",
         "nbinsx": 10,
         "opacity": 0.8,
         "orientation": "v",
         "type": "histogram",
         "x": [
          10,
          20,
          30,
          20,
          10
         ],
         "xaxis": "x5",
         "yaxis": "y5"
        },
        {
         "line": {
          "color": "rgba(128, 128, 128, 1.0)",
          "dash": "solid",
          "shape": "linear",
          "width": 1.3
         },
         "marker": {
          "size": 2,
          "symbol": "circle"
         },
         "mode": "markers",
         "name": "y",
         "text": "",
         "type": "scatter",
         "x": [
          5,
          4,
          3,
          2,
          1
         ],
         "xaxis": "x6",
         "y": [
          10,
          20,
          30,
          20,
          10
         ],
         "yaxis": "y6"
        },
        {
         "line": {
          "color": "rgba(128, 128, 128, 1.0)",
          "dash": "solid",
          "shape": "linear",
          "width": 1.3
         },
         "marker": {
          "size": 2,
          "symbol": "circle"
         },
         "mode": "markers",
         "name": "z",
         "text": "",
         "type": "scatter",
         "x": [
          1,
          2,
          3,
          4,
          5
         ],
         "xaxis": "x7",
         "y": [
          5,
          4,
          3,
          2,
          1
         ],
         "yaxis": "y7"
        },
        {
         "line": {
          "color": "rgba(128, 128, 128, 1.0)",
          "dash": "solid",
          "shape": "linear",
          "width": 1.3
         },
         "marker": {
          "size": 2,
          "symbol": "circle"
         },
         "mode": "markers",
         "name": "z",
         "text": "",
         "type": "scatter",
         "x": [
          10,
          20,
          30,
          20,
          10
         ],
         "xaxis": "x8",
         "y": [
          5,
          4,
          3,
          2,
          1
         ],
         "yaxis": "y8"
        },
        {
         "histfunc": "count",
         "histnorm": "",
         "marker": {
          "color": "rgba(50, 171, 96, 1.0)",
          "line": {
           "color": "#4D5663",
           "width": 1.3
          }
         },
         "name": "z",
         "nbinsx": 10,
         "opacity": 0.8,
         "orientation": "v",
         "type": "histogram",
         "x": [
          5,
          4,
          3,
          2,
          1
         ],
         "xaxis": "x9",
         "yaxis": "y9"
        }
       ],
       "layout": {
        "bargap": 0.02,
        "legend": {
         "bgcolor": "#F5F6F9",
         "font": {
          "color": "#4D5663"
         }
        },
        "paper_bgcolor": "#F5F6F9",
        "plot_bgcolor": "#F5F6F9",
        "showlegend": false,
        "template": {
         "data": {
          "bar": [
           {
            "error_x": {
             "color": "#2a3f5f"
            },
            "error_y": {
             "color": "#2a3f5f"
            },
            "marker": {
             "line": {
              "color": "#E5ECF6",
              "width": 0.5
             },
             "pattern": {
              "fillmode": "overlay",
              "size": 10,
              "solidity": 0.2
             }
            },
            "type": "bar"
           }
          ],
          "barpolar": [
           {
            "marker": {
             "line": {
              "color": "#E5ECF6",
              "width": 0.5
             },
             "pattern": {
              "fillmode": "overlay",
              "size": 10,
              "solidity": 0.2
             }
            },
            "type": "barpolar"
           }
          ],
          "carpet": [
           {
            "aaxis": {
             "endlinecolor": "#2a3f5f",
             "gridcolor": "white",
             "linecolor": "white",
             "minorgridcolor": "white",
             "startlinecolor": "#2a3f5f"
            },
            "baxis": {
             "endlinecolor": "#2a3f5f",
             "gridcolor": "white",
             "linecolor": "white",
             "minorgridcolor": "white",
             "startlinecolor": "#2a3f5f"
            },
            "type": "carpet"
           }
          ],
          "choropleth": [
           {
            "colorbar": {
             "outlinewidth": 0,
             "ticks": ""
            },
            "type": "choropleth"
           }
          ],
          "contour": [
           {
            "colorbar": {
             "outlinewidth": 0,
             "ticks": ""
            },
            "colorscale": [
             [
              0,
              "#0d0887"
             ],
             [
              0.1111111111111111,
              "#46039f"
             ],
             [
              0.2222222222222222,
              "#7201a8"
             ],
             [
              0.3333333333333333,
              "#9c179e"
             ],
             [
              0.4444444444444444,
              "#bd3786"
             ],
             [
              0.5555555555555556,
              "#d8576b"
             ],
             [
              0.6666666666666666,
              "#ed7953"
             ],
             [
              0.7777777777777778,
              "#fb9f3a"
             ],
             [
              0.8888888888888888,
              "#fdca26"
             ],
             [
              1,
              "#f0f921"
             ]
            ],
            "type": "contour"
           }
          ],
          "contourcarpet": [
           {
            "colorbar": {
             "outlinewidth": 0,
             "ticks": ""
            },
            "type": "contourcarpet"
           }
          ],
          "heatmap": [
           {
            "colorbar": {
             "outlinewidth": 0,
             "ticks": ""
            },
            "colorscale": [
             [
              0,
              "#0d0887"
             ],
             [
              0.1111111111111111,
              "#46039f"
             ],
             [
              0.2222222222222222,
              "#7201a8"
             ],
             [
              0.3333333333333333,
              "#9c179e"
             ],
             [
              0.4444444444444444,
              "#bd3786"
             ],
             [
              0.5555555555555556,
              "#d8576b"
             ],
             [
              0.6666666666666666,
              "#ed7953"
             ],
             [
              0.7777777777777778,
              "#fb9f3a"
             ],
             [
              0.8888888888888888,
              "#fdca26"
             ],
             [
              1,
              "#f0f921"
             ]
            ],
            "type": "heatmap"
           }
          ],
          "heatmapgl": [
           {
            "colorbar": {
             "outlinewidth": 0,
             "ticks": ""
            },
            "colorscale": [
             [
              0,
              "#0d0887"
             ],
             [
              0.1111111111111111,
              "#46039f"
             ],
             [
              0.2222222222222222,
              "#7201a8"
             ],
             [
              0.3333333333333333,
              "#9c179e"
             ],
             [
              0.4444444444444444,
              "#bd3786"
             ],
             [
              0.5555555555555556,
              "#d8576b"
             ],
             [
              0.6666666666666666,
              "#ed7953"
             ],
             [
              0.7777777777777778,
              "#fb9f3a"
             ],
             [
              0.8888888888888888,
              "#fdca26"
             ],
             [
              1,
              "#f0f921"
             ]
            ],
            "type": "heatmapgl"
           }
          ],
          "histogram": [
           {
            "marker": {
             "pattern": {
              "fillmode": "overlay",
              "size": 10,
              "solidity": 0.2
             }
            },
            "type": "histogram"
           }
          ],
          "histogram2d": [
           {
            "colorbar": {
             "outlinewidth": 0,
             "ticks": ""
            },
            "colorscale": [
             [
              0,
              "#0d0887"
             ],
             [
              0.1111111111111111,
              "#46039f"
             ],
             [
              0.2222222222222222,
              "#7201a8"
             ],
             [
              0.3333333333333333,
              "#9c179e"
             ],
             [
              0.4444444444444444,
              "#bd3786"
             ],
             [
              0.5555555555555556,
              "#d8576b"
             ],
             [
              0.6666666666666666,
              "#ed7953"
             ],
             [
              0.7777777777777778,
              "#fb9f3a"
             ],
             [
              0.8888888888888888,
              "#fdca26"
             ],
             [
              1,
              "#f0f921"
             ]
            ],
            "type": "histogram2d"
           }
          ],
          "histogram2dcontour": [
           {
            "colorbar": {
             "outlinewidth": 0,
             "ticks": ""
            },
            "colorscale": [
             [
              0,
              "#0d0887"
             ],
             [
              0.1111111111111111,
              "#46039f"
             ],
             [
              0.2222222222222222,
              "#7201a8"
             ],
             [
              0.3333333333333333,
              "#9c179e"
             ],
             [
              0.4444444444444444,
              "#bd3786"
             ],
             [
              0.5555555555555556,
              "#d8576b"
             ],
             [
              0.6666666666666666,
              "#ed7953"
             ],
             [
              0.7777777777777778,
              "#fb9f3a"
             ],
             [
              0.8888888888888888,
              "#fdca26"
             ],
             [
              1,
              "#f0f921"
             ]
            ],
            "type": "histogram2dcontour"
           }
          ],
          "mesh3d": [
           {
            "colorbar": {
             "outlinewidth": 0,
             "ticks": ""
            },
            "type": "mesh3d"
           }
          ],
          "parcoords": [
           {
            "line": {
             "colorbar": {
              "outlinewidth": 0,
              "ticks": ""
             }
            },
            "type": "parcoords"
           }
          ],
          "pie": [
           {
            "automargin": true,
            "type": "pie"
           }
          ],
          "scatter": [
           {
            "marker": {
             "colorbar": {
              "outlinewidth": 0,
              "ticks": ""
             }
            },
            "type": "scatter"
           }
          ],
          "scatter3d": [
           {
            "line": {
             "colorbar": {
              "outlinewidth": 0,
              "ticks": ""
             }
            },
            "marker": {
             "colorbar": {
              "outlinewidth": 0,
              "ticks": ""
             }
            },
            "type": "scatter3d"
           }
          ],
          "scattercarpet": [
           {
            "marker": {
             "colorbar": {
              "outlinewidth": 0,
              "ticks": ""
             }
            },
            "type": "scattercarpet"
           }
          ],
          "scattergeo": [
           {
            "marker": {
             "colorbar": {
              "outlinewidth": 0,
              "ticks": ""
             }
            },
            "type": "scattergeo"
           }
          ],
          "scattergl": [
           {
            "marker": {
             "colorbar": {
              "outlinewidth": 0,
              "ticks": ""
             }
            },
            "type": "scattergl"
           }
          ],
          "scattermapbox": [
           {
            "marker": {
             "colorbar": {
              "outlinewidth": 0,
              "ticks": ""
             }
            },
            "type": "scattermapbox"
           }
          ],
          "scatterpolar": [
           {
            "marker": {
             "colorbar": {
              "outlinewidth": 0,
              "ticks": ""
             }
            },
            "type": "scatterpolar"
           }
          ],
          "scatterpolargl": [
           {
            "marker": {
             "colorbar": {
              "outlinewidth": 0,
              "ticks": ""
             }
            },
            "type": "scatterpolargl"
           }
          ],
          "scatterternary": [
           {
            "marker": {
             "colorbar": {
              "outlinewidth": 0,
              "ticks": ""
             }
            },
            "type": "scatterternary"
           }
          ],
          "surface": [
           {
            "colorbar": {
             "outlinewidth": 0,
             "ticks": ""
            },
            "colorscale": [
             [
              0,
              "#0d0887"
             ],
             [
              0.1111111111111111,
              "#46039f"
             ],
             [
              0.2222222222222222,
              "#7201a8"
             ],
             [
              0.3333333333333333,
              "#9c179e"
             ],
             [
              0.4444444444444444,
              "#bd3786"
             ],
             [
              0.5555555555555556,
              "#d8576b"
             ],
             [
              0.6666666666666666,
              "#ed7953"
             ],
             [
              0.7777777777777778,
              "#fb9f3a"
             ],
             [
              0.8888888888888888,
              "#fdca26"
             ],
             [
              1,
              "#f0f921"
             ]
            ],
            "type": "surface"
           }
          ],
          "table": [
           {
            "cells": {
             "fill": {
              "color": "#EBF0F8"
             },
             "line": {
              "color": "white"
             }
            },
            "header": {
             "fill": {
              "color": "#C8D4E3"
             },
             "line": {
              "color": "white"
             }
            },
            "type": "table"
           }
          ]
         },
         "layout": {
          "annotationdefaults": {
           "arrowcolor": "#2a3f5f",
           "arrowhead": 0,
           "arrowwidth": 1
          },
          "autotypenumbers": "strict",
          "coloraxis": {
           "colorbar": {
            "outlinewidth": 0,
            "ticks": ""
           }
          },
          "colorscale": {
           "diverging": [
            [
             0,
             "#8e0152"
            ],
            [
             0.1,
             "#c51b7d"
            ],
            [
             0.2,
             "#de77ae"
            ],
            [
             0.3,
             "#f1b6da"
            ],
            [
             0.4,
             "#fde0ef"
            ],
            [
             0.5,
             "#f7f7f7"
            ],
            [
             0.6,
             "#e6f5d0"
            ],
            [
             0.7,
             "#b8e186"
            ],
            [
             0.8,
             "#7fbc41"
            ],
            [
             0.9,
             "#4d9221"
            ],
            [
             1,
             "#276419"
            ]
           ],
           "sequential": [
            [
             0,
             "#0d0887"
            ],
            [
             0.1111111111111111,
             "#46039f"
            ],
            [
             0.2222222222222222,
             "#7201a8"
            ],
            [
             0.3333333333333333,
             "#9c179e"
            ],
            [
             0.4444444444444444,
             "#bd3786"
            ],
            [
             0.5555555555555556,
             "#d8576b"
            ],
            [
             0.6666666666666666,
             "#ed7953"
            ],
            [
             0.7777777777777778,
             "#fb9f3a"
            ],
            [
             0.8888888888888888,
             "#fdca26"
            ],
            [
             1,
             "#f0f921"
            ]
           ],
           "sequentialminus": [
            [
             0,
             "#0d0887"
            ],
            [
             0.1111111111111111,
             "#46039f"
            ],
            [
             0.2222222222222222,
             "#7201a8"
            ],
            [
             0.3333333333333333,
             "#9c179e"
            ],
            [
             0.4444444444444444,
             "#bd3786"
            ],
            [
             0.5555555555555556,
             "#d8576b"
            ],
            [
             0.6666666666666666,
             "#ed7953"
            ],
            [
             0.7777777777777778,
             "#fb9f3a"
            ],
            [
             0.8888888888888888,
             "#fdca26"
            ],
            [
             1,
             "#f0f921"
            ]
           ]
          },
          "colorway": [
           "#636efa",
           "#EF553B",
           "#00cc96",
           "#ab63fa",
           "#FFA15A",
           "#19d3f3",
           "#FF6692",
           "#B6E880",
           "#FF97FF",
           "#FECB52"
          ],
          "font": {
           "color": "#2a3f5f"
          },
          "geo": {
           "bgcolor": "white",
           "lakecolor": "white",
           "landcolor": "#E5ECF6",
           "showlakes": true,
           "showland": true,
           "subunitcolor": "white"
          },
          "hoverlabel": {
           "align": "left"
          },
          "hovermode": "closest",
          "mapbox": {
           "style": "light"
          },
          "paper_bgcolor": "white",
          "plot_bgcolor": "#E5ECF6",
          "polar": {
           "angularaxis": {
            "gridcolor": "white",
            "linecolor": "white",
            "ticks": ""
           },
           "bgcolor": "#E5ECF6",
           "radialaxis": {
            "gridcolor": "white",
            "linecolor": "white",
            "ticks": ""
           }
          },
          "scene": {
           "xaxis": {
            "backgroundcolor": "#E5ECF6",
            "gridcolor": "white",
            "gridwidth": 2,
            "linecolor": "white",
            "showbackground": true,
            "ticks": "",
            "zerolinecolor": "white"
           },
           "yaxis": {
            "backgroundcolor": "#E5ECF6",
            "gridcolor": "white",
            "gridwidth": 2,
            "linecolor": "white",
            "showbackground": true,
            "ticks": "",
            "zerolinecolor": "white"
           },
           "zaxis": {
            "backgroundcolor": "#E5ECF6",
            "gridcolor": "white",
            "gridwidth": 2,
            "linecolor": "white",
            "showbackground": true,
            "ticks": "",
            "zerolinecolor": "white"
           }
          },
          "shapedefaults": {
           "line": {
            "color": "#2a3f5f"
           }
          },
          "ternary": {
           "aaxis": {
            "gridcolor": "white",
            "linecolor": "white",
            "ticks": ""
           },
           "baxis": {
            "gridcolor": "white",
            "linecolor": "white",
            "ticks": ""
           },
           "bgcolor": "#E5ECF6",
           "caxis": {
            "gridcolor": "white",
            "linecolor": "white",
            "ticks": ""
           }
          },
          "title": {
           "x": 0.05
          },
          "xaxis": {
           "automargin": true,
           "gridcolor": "white",
           "linecolor": "white",
           "ticks": "",
           "title": {
            "standoff": 15
           },
           "zerolinecolor": "white",
           "zerolinewidth": 2
          },
          "yaxis": {
           "automargin": true,
           "gridcolor": "white",
           "linecolor": "white",
           "ticks": "",
           "title": {
            "standoff": 15
           },
           "zerolinecolor": "white",
           "zerolinewidth": 2
          }
         }
        },
        "title": {
         "font": {
          "color": "#4D5663"
         }
        },
        "xaxis": {
         "anchor": "y",
         "domain": [
          0,
          0.3
         ],
         "gridcolor": "#E1E5ED",
         "showgrid": false,
         "tickfont": {
          "color": "#4D5663"
         },
         "title": {
          "font": {
           "color": "#4D5663"
          },
          "text": ""
         },
         "zerolinecolor": "#E1E5ED"
        },
        "xaxis2": {
         "anchor": "y2",
         "domain": [
          0.35,
          0.6499999999999999
         ],
         "gridcolor": "#E1E5ED",
         "showgrid": false,
         "tickfont": {
          "color": "#4D5663"
         },
         "title": {
          "font": {
           "color": "#4D5663"
          },
          "text": ""
         },
         "zerolinecolor": "#E1E5ED"
        },
        "xaxis3": {
         "anchor": "y3",
         "domain": [
          0.7,
          1
         ],
         "gridcolor": "#E1E5ED",
         "showgrid": false,
         "tickfont": {
          "color": "#4D5663"
         },
         "title": {
          "font": {
           "color": "#4D5663"
          },
          "text": ""
         },
         "zerolinecolor": "#E1E5ED"
        },
        "xaxis4": {
         "anchor": "y4",
         "domain": [
          0,
          0.3
         ],
         "gridcolor": "#E1E5ED",
         "showgrid": false,
         "tickfont": {
          "color": "#4D5663"
         },
         "title": {
          "font": {
           "color": "#4D5663"
          },
          "text": ""
         },
         "zerolinecolor": "#E1E5ED"
        },
        "xaxis5": {
         "anchor": "y5",
         "domain": [
          0.35,
          0.6499999999999999
         ],
         "gridcolor": "#E1E5ED",
         "showgrid": false,
         "tickfont": {
          "color": "#4D5663"
         },
         "title": {
          "font": {
           "color": "#4D5663"
          },
          "text": ""
         },
         "zerolinecolor": "#E1E5ED"
        },
        "xaxis6": {
         "anchor": "y6",
         "domain": [
          0.7,
          1
         ],
         "gridcolor": "#E1E5ED",
         "showgrid": false,
         "tickfont": {
          "color": "#4D5663"
         },
         "title": {
          "font": {
           "color": "#4D5663"
          },
          "text": ""
         },
         "zerolinecolor": "#E1E5ED"
        },
        "xaxis7": {
         "anchor": "y7",
         "domain": [
          0,
          0.3
         ],
         "gridcolor": "#E1E5ED",
         "showgrid": false,
         "tickfont": {
          "color": "#4D5663"
         },
         "title": {
          "font": {
           "color": "#4D5663"
          },
          "text": ""
         },
         "zerolinecolor": "#E1E5ED"
        },
        "xaxis8": {
         "anchor": "y8",
         "domain": [
          0.35,
          0.6499999999999999
         ],
         "gridcolor": "#E1E5ED",
         "showgrid": false,
         "tickfont": {
          "color": "#4D5663"
         },
         "title": {
          "font": {
           "color": "#4D5663"
          },
          "text": ""
         },
         "zerolinecolor": "#E1E5ED"
        },
        "xaxis9": {
         "anchor": "y9",
         "domain": [
          0.7,
          1
         ],
         "gridcolor": "#E1E5ED",
         "showgrid": false,
         "tickfont": {
          "color": "#4D5663"
         },
         "title": {
          "font": {
           "color": "#4D5663"
          },
          "text": ""
         },
         "zerolinecolor": "#E1E5ED"
        },
        "yaxis": {
         "anchor": "x",
         "domain": [
          0.7133333333333334,
          1
         ],
         "gridcolor": "#E1E5ED",
         "showgrid": false,
         "tickfont": {
          "color": "#4D5663"
         },
         "title": {
          "font": {
           "color": "#4D5663"
          },
          "text": ""
         },
         "zerolinecolor": "#E1E5ED"
        },
        "yaxis2": {
         "anchor": "x2",
         "domain": [
          0.7133333333333334,
          1
         ],
         "gridcolor": "#E1E5ED",
         "showgrid": false,
         "tickfont": {
          "color": "#4D5663"
         },
         "title": {
          "font": {
           "color": "#4D5663"
          },
          "text": ""
         },
         "zerolinecolor": "#E1E5ED"
        },
        "yaxis3": {
         "anchor": "x3",
         "domain": [
          0.7133333333333334,
          1
         ],
         "gridcolor": "#E1E5ED",
         "showgrid": false,
         "tickfont": {
          "color": "#4D5663"
         },
         "title": {
          "font": {
           "color": "#4D5663"
          },
          "text": ""
         },
         "zerolinecolor": "#E1E5ED"
        },
        "yaxis4": {
         "anchor": "x4",
         "domain": [
          0.3566666666666667,
          0.6433333333333333
         ],
         "gridcolor": "#E1E5ED",
         "showgrid": false,
         "tickfont": {
          "color": "#4D5663"
         },
         "title": {
          "font": {
           "color": "#4D5663"
          },
          "text": ""
         },
         "zerolinecolor": "#E1E5ED"
        },
        "yaxis5": {
         "anchor": "x5",
         "domain": [
          0.3566666666666667,
          0.6433333333333333
         ],
         "gridcolor": "#E1E5ED",
         "showgrid": false,
         "tickfont": {
          "color": "#4D5663"
         },
         "title": {
          "font": {
           "color": "#4D5663"
          },
          "text": ""
         },
         "zerolinecolor": "#E1E5ED"
        },
        "yaxis6": {
         "anchor": "x6",
         "domain": [
          0.3566666666666667,
          0.6433333333333333
         ],
         "gridcolor": "#E1E5ED",
         "showgrid": false,
         "tickfont": {
          "color": "#4D5663"
         },
         "title": {
          "font": {
           "color": "#4D5663"
          },
          "text": ""
         },
         "zerolinecolor": "#E1E5ED"
        },
        "yaxis7": {
         "anchor": "x7",
         "domain": [
          0,
          0.2866666666666667
         ],
         "gridcolor": "#E1E5ED",
         "showgrid": false,
         "tickfont": {
          "color": "#4D5663"
         },
         "title": {
          "font": {
           "color": "#4D5663"
          },
          "text": ""
         },
         "zerolinecolor": "#E1E5ED"
        },
        "yaxis8": {
         "anchor": "x8",
         "domain": [
          0,
          0.2866666666666667
         ],
         "gridcolor": "#E1E5ED",
         "showgrid": false,
         "tickfont": {
          "color": "#4D5663"
         },
         "title": {
          "font": {
           "color": "#4D5663"
          },
          "text": ""
         },
         "zerolinecolor": "#E1E5ED"
        },
        "yaxis9": {
         "anchor": "x9",
         "domain": [
          0,
          0.2866666666666667
         ],
         "gridcolor": "#E1E5ED",
         "showgrid": false,
         "tickfont": {
          "color": "#4D5663"
         },
         "title": {
          "font": {
           "color": "#4D5663"
          },
          "text": ""
         },
         "zerolinecolor": "#E1E5ED"
        }
       }
      },
      "text/html": [
       "<div>                            <div id=\"91d3550f-d522-483d-93eb-8bb2ff5cc749\" class=\"plotly-graph-div\" style=\"height:525px; width:100%;\"></div>            <script type=\"text/javascript\">                require([\"plotly\"], function(Plotly) {                    window.PLOTLYENV=window.PLOTLYENV || {};\n",
       "                    window.PLOTLYENV.BASE_URL='https://plot.ly';                                    if (document.getElementById(\"91d3550f-d522-483d-93eb-8bb2ff5cc749\")) {                    Plotly.newPlot(                        \"91d3550f-d522-483d-93eb-8bb2ff5cc749\",                        [{\"histfunc\":\"count\",\"histnorm\":\"\",\"marker\":{\"color\":\"rgba(255, 153, 51, 1.0)\",\"line\":{\"color\":\"#4D5663\",\"width\":1.3}},\"name\":\"x\",\"nbinsx\":10,\"opacity\":0.8,\"orientation\":\"v\",\"x\":[1,2,3,4,5],\"xaxis\":\"x\",\"yaxis\":\"y\",\"type\":\"histogram\"},{\"line\":{\"color\":\"rgba(128, 128, 128, 1.0)\",\"dash\":\"solid\",\"shape\":\"linear\",\"width\":1.3},\"marker\":{\"size\":2,\"symbol\":\"circle\"},\"mode\":\"markers\",\"name\":\"x\",\"text\":\"\",\"x\":[10,20,30,20,10],\"xaxis\":\"x2\",\"y\":[1,2,3,4,5],\"yaxis\":\"y2\",\"type\":\"scatter\"},{\"line\":{\"color\":\"rgba(128, 128, 128, 1.0)\",\"dash\":\"solid\",\"shape\":\"linear\",\"width\":1.3},\"marker\":{\"size\":2,\"symbol\":\"circle\"},\"mode\":\"markers\",\"name\":\"x\",\"text\":\"\",\"x\":[5,4,3,2,1],\"xaxis\":\"x3\",\"y\":[1,2,3,4,5],\"yaxis\":\"y3\",\"type\":\"scatter\"},{\"line\":{\"color\":\"rgba(128, 128, 128, 1.0)\",\"dash\":\"solid\",\"shape\":\"linear\",\"width\":1.3},\"marker\":{\"size\":2,\"symbol\":\"circle\"},\"mode\":\"markers\",\"name\":\"y\",\"text\":\"\",\"x\":[1,2,3,4,5],\"xaxis\":\"x4\",\"y\":[10,20,30,20,10],\"yaxis\":\"y4\",\"type\":\"scatter\"},{\"histfunc\":\"count\",\"histnorm\":\"\",\"marker\":{\"color\":\"rgba(55, 128, 191, 1.0)\",\"line\":{\"color\":\"#4D5663\",\"width\":1.3}},\"name\":\"y\",\"nbinsx\":10,\"opacity\":0.8,\"orientation\":\"v\",\"x\":[10,20,30,20,10],\"xaxis\":\"x5\",\"yaxis\":\"y5\",\"type\":\"histogram\"},{\"line\":{\"color\":\"rgba(128, 128, 128, 1.0)\",\"dash\":\"solid\",\"shape\":\"linear\",\"width\":1.3},\"marker\":{\"size\":2,\"symbol\":\"circle\"},\"mode\":\"markers\",\"name\":\"y\",\"text\":\"\",\"x\":[5,4,3,2,1],\"xaxis\":\"x6\",\"y\":[10,20,30,20,10],\"yaxis\":\"y6\",\"type\":\"scatter\"},{\"line\":{\"color\":\"rgba(128, 128, 128, 1.0)\",\"dash\":\"solid\",\"shape\":\"linear\",\"width\":1.3},\"marker\":{\"size\":2,\"symbol\":\"circle\"},\"mode\":\"markers\",\"name\":\"z\",\"text\":\"\",\"x\":[1,2,3,4,5],\"xaxis\":\"x7\",\"y\":[5,4,3,2,1],\"yaxis\":\"y7\",\"type\":\"scatter\"},{\"line\":{\"color\":\"rgba(128, 128, 128, 1.0)\",\"dash\":\"solid\",\"shape\":\"linear\",\"width\":1.3},\"marker\":{\"size\":2,\"symbol\":\"circle\"},\"mode\":\"markers\",\"name\":\"z\",\"text\":\"\",\"x\":[10,20,30,20,10],\"xaxis\":\"x8\",\"y\":[5,4,3,2,1],\"yaxis\":\"y8\",\"type\":\"scatter\"},{\"histfunc\":\"count\",\"histnorm\":\"\",\"marker\":{\"color\":\"rgba(50, 171, 96, 1.0)\",\"line\":{\"color\":\"#4D5663\",\"width\":1.3}},\"name\":\"z\",\"nbinsx\":10,\"opacity\":0.8,\"orientation\":\"v\",\"x\":[5,4,3,2,1],\"xaxis\":\"x9\",\"yaxis\":\"y9\",\"type\":\"histogram\"}],                        {\"bargap\":0.02,\"legend\":{\"bgcolor\":\"#F5F6F9\",\"font\":{\"color\":\"#4D5663\"}},\"paper_bgcolor\":\"#F5F6F9\",\"plot_bgcolor\":\"#F5F6F9\",\"showlegend\":false,\"template\":{\"data\":{\"barpolar\":[{\"marker\":{\"line\":{\"color\":\"#E5ECF6\",\"width\":0.5},\"pattern\":{\"fillmode\":\"overlay\",\"size\":10,\"solidity\":0.2}},\"type\":\"barpolar\"}],\"bar\":[{\"error_x\":{\"color\":\"#2a3f5f\"},\"error_y\":{\"color\":\"#2a3f5f\"},\"marker\":{\"line\":{\"color\":\"#E5ECF6\",\"width\":0.5},\"pattern\":{\"fillmode\":\"overlay\",\"size\":10,\"solidity\":0.2}},\"type\":\"bar\"}],\"carpet\":[{\"aaxis\":{\"endlinecolor\":\"#2a3f5f\",\"gridcolor\":\"white\",\"linecolor\":\"white\",\"minorgridcolor\":\"white\",\"startlinecolor\":\"#2a3f5f\"},\"baxis\":{\"endlinecolor\":\"#2a3f5f\",\"gridcolor\":\"white\",\"linecolor\":\"white\",\"minorgridcolor\":\"white\",\"startlinecolor\":\"#2a3f5f\"},\"type\":\"carpet\"}],\"choropleth\":[{\"colorbar\":{\"outlinewidth\":0,\"ticks\":\"\"},\"type\":\"choropleth\"}],\"contourcarpet\":[{\"colorbar\":{\"outlinewidth\":0,\"ticks\":\"\"},\"type\":\"contourcarpet\"}],\"contour\":[{\"colorbar\":{\"outlinewidth\":0,\"ticks\":\"\"},\"colorscale\":[[0.0,\"#0d0887\"],[0.1111111111111111,\"#46039f\"],[0.2222222222222222,\"#7201a8\"],[0.3333333333333333,\"#9c179e\"],[0.4444444444444444,\"#bd3786\"],[0.5555555555555556,\"#d8576b\"],[0.6666666666666666,\"#ed7953\"],[0.7777777777777778,\"#fb9f3a\"],[0.8888888888888888,\"#fdca26\"],[1.0,\"#f0f921\"]],\"type\":\"contour\"}],\"heatmapgl\":[{\"colorbar\":{\"outlinewidth\":0,\"ticks\":\"\"},\"colorscale\":[[0.0,\"#0d0887\"],[0.1111111111111111,\"#46039f\"],[0.2222222222222222,\"#7201a8\"],[0.3333333333333333,\"#9c179e\"],[0.4444444444444444,\"#bd3786\"],[0.5555555555555556,\"#d8576b\"],[0.6666666666666666,\"#ed7953\"],[0.7777777777777778,\"#fb9f3a\"],[0.8888888888888888,\"#fdca26\"],[1.0,\"#f0f921\"]],\"type\":\"heatmapgl\"}],\"heatmap\":[{\"colorbar\":{\"outlinewidth\":0,\"ticks\":\"\"},\"colorscale\":[[0.0,\"#0d0887\"],[0.1111111111111111,\"#46039f\"],[0.2222222222222222,\"#7201a8\"],[0.3333333333333333,\"#9c179e\"],[0.4444444444444444,\"#bd3786\"],[0.5555555555555556,\"#d8576b\"],[0.6666666666666666,\"#ed7953\"],[0.7777777777777778,\"#fb9f3a\"],[0.8888888888888888,\"#fdca26\"],[1.0,\"#f0f921\"]],\"type\":\"heatmap\"}],\"histogram2dcontour\":[{\"colorbar\":{\"outlinewidth\":0,\"ticks\":\"\"},\"colorscale\":[[0.0,\"#0d0887\"],[0.1111111111111111,\"#46039f\"],[0.2222222222222222,\"#7201a8\"],[0.3333333333333333,\"#9c179e\"],[0.4444444444444444,\"#bd3786\"],[0.5555555555555556,\"#d8576b\"],[0.6666666666666666,\"#ed7953\"],[0.7777777777777778,\"#fb9f3a\"],[0.8888888888888888,\"#fdca26\"],[1.0,\"#f0f921\"]],\"type\":\"histogram2dcontour\"}],\"histogram2d\":[{\"colorbar\":{\"outlinewidth\":0,\"ticks\":\"\"},\"colorscale\":[[0.0,\"#0d0887\"],[0.1111111111111111,\"#46039f\"],[0.2222222222222222,\"#7201a8\"],[0.3333333333333333,\"#9c179e\"],[0.4444444444444444,\"#bd3786\"],[0.5555555555555556,\"#d8576b\"],[0.6666666666666666,\"#ed7953\"],[0.7777777777777778,\"#fb9f3a\"],[0.8888888888888888,\"#fdca26\"],[1.0,\"#f0f921\"]],\"type\":\"histogram2d\"}],\"histogram\":[{\"marker\":{\"pattern\":{\"fillmode\":\"overlay\",\"size\":10,\"solidity\":0.2}},\"type\":\"histogram\"}],\"mesh3d\":[{\"colorbar\":{\"outlinewidth\":0,\"ticks\":\"\"},\"type\":\"mesh3d\"}],\"parcoords\":[{\"line\":{\"colorbar\":{\"outlinewidth\":0,\"ticks\":\"\"}},\"type\":\"parcoords\"}],\"pie\":[{\"automargin\":true,\"type\":\"pie\"}],\"scatter3d\":[{\"line\":{\"colorbar\":{\"outlinewidth\":0,\"ticks\":\"\"}},\"marker\":{\"colorbar\":{\"outlinewidth\":0,\"ticks\":\"\"}},\"type\":\"scatter3d\"}],\"scattercarpet\":[{\"marker\":{\"colorbar\":{\"outlinewidth\":0,\"ticks\":\"\"}},\"type\":\"scattercarpet\"}],\"scattergeo\":[{\"marker\":{\"colorbar\":{\"outlinewidth\":0,\"ticks\":\"\"}},\"type\":\"scattergeo\"}],\"scattergl\":[{\"marker\":{\"colorbar\":{\"outlinewidth\":0,\"ticks\":\"\"}},\"type\":\"scattergl\"}],\"scattermapbox\":[{\"marker\":{\"colorbar\":{\"outlinewidth\":0,\"ticks\":\"\"}},\"type\":\"scattermapbox\"}],\"scatterpolargl\":[{\"marker\":{\"colorbar\":{\"outlinewidth\":0,\"ticks\":\"\"}},\"type\":\"scatterpolargl\"}],\"scatterpolar\":[{\"marker\":{\"colorbar\":{\"outlinewidth\":0,\"ticks\":\"\"}},\"type\":\"scatterpolar\"}],\"scatter\":[{\"marker\":{\"colorbar\":{\"outlinewidth\":0,\"ticks\":\"\"}},\"type\":\"scatter\"}],\"scatterternary\":[{\"marker\":{\"colorbar\":{\"outlinewidth\":0,\"ticks\":\"\"}},\"type\":\"scatterternary\"}],\"surface\":[{\"colorbar\":{\"outlinewidth\":0,\"ticks\":\"\"},\"colorscale\":[[0.0,\"#0d0887\"],[0.1111111111111111,\"#46039f\"],[0.2222222222222222,\"#7201a8\"],[0.3333333333333333,\"#9c179e\"],[0.4444444444444444,\"#bd3786\"],[0.5555555555555556,\"#d8576b\"],[0.6666666666666666,\"#ed7953\"],[0.7777777777777778,\"#fb9f3a\"],[0.8888888888888888,\"#fdca26\"],[1.0,\"#f0f921\"]],\"type\":\"surface\"}],\"table\":[{\"cells\":{\"fill\":{\"color\":\"#EBF0F8\"},\"line\":{\"color\":\"white\"}},\"header\":{\"fill\":{\"color\":\"#C8D4E3\"},\"line\":{\"color\":\"white\"}},\"type\":\"table\"}]},\"layout\":{\"annotationdefaults\":{\"arrowcolor\":\"#2a3f5f\",\"arrowhead\":0,\"arrowwidth\":1},\"autotypenumbers\":\"strict\",\"coloraxis\":{\"colorbar\":{\"outlinewidth\":0,\"ticks\":\"\"}},\"colorscale\":{\"diverging\":[[0,\"#8e0152\"],[0.1,\"#c51b7d\"],[0.2,\"#de77ae\"],[0.3,\"#f1b6da\"],[0.4,\"#fde0ef\"],[0.5,\"#f7f7f7\"],[0.6,\"#e6f5d0\"],[0.7,\"#b8e186\"],[0.8,\"#7fbc41\"],[0.9,\"#4d9221\"],[1,\"#276419\"]],\"sequential\":[[0.0,\"#0d0887\"],[0.1111111111111111,\"#46039f\"],[0.2222222222222222,\"#7201a8\"],[0.3333333333333333,\"#9c179e\"],[0.4444444444444444,\"#bd3786\"],[0.5555555555555556,\"#d8576b\"],[0.6666666666666666,\"#ed7953\"],[0.7777777777777778,\"#fb9f3a\"],[0.8888888888888888,\"#fdca26\"],[1.0,\"#f0f921\"]],\"sequentialminus\":[[0.0,\"#0d0887\"],[0.1111111111111111,\"#46039f\"],[0.2222222222222222,\"#7201a8\"],[0.3333333333333333,\"#9c179e\"],[0.4444444444444444,\"#bd3786\"],[0.5555555555555556,\"#d8576b\"],[0.6666666666666666,\"#ed7953\"],[0.7777777777777778,\"#fb9f3a\"],[0.8888888888888888,\"#fdca26\"],[1.0,\"#f0f921\"]]},\"colorway\":[\"#636efa\",\"#EF553B\",\"#00cc96\",\"#ab63fa\",\"#FFA15A\",\"#19d3f3\",\"#FF6692\",\"#B6E880\",\"#FF97FF\",\"#FECB52\"],\"font\":{\"color\":\"#2a3f5f\"},\"geo\":{\"bgcolor\":\"white\",\"lakecolor\":\"white\",\"landcolor\":\"#E5ECF6\",\"showlakes\":true,\"showland\":true,\"subunitcolor\":\"white\"},\"hoverlabel\":{\"align\":\"left\"},\"hovermode\":\"closest\",\"mapbox\":{\"style\":\"light\"},\"paper_bgcolor\":\"white\",\"plot_bgcolor\":\"#E5ECF6\",\"polar\":{\"angularaxis\":{\"gridcolor\":\"white\",\"linecolor\":\"white\",\"ticks\":\"\"},\"bgcolor\":\"#E5ECF6\",\"radialaxis\":{\"gridcolor\":\"white\",\"linecolor\":\"white\",\"ticks\":\"\"}},\"scene\":{\"xaxis\":{\"backgroundcolor\":\"#E5ECF6\",\"gridcolor\":\"white\",\"gridwidth\":2,\"linecolor\":\"white\",\"showbackground\":true,\"ticks\":\"\",\"zerolinecolor\":\"white\"},\"yaxis\":{\"backgroundcolor\":\"#E5ECF6\",\"gridcolor\":\"white\",\"gridwidth\":2,\"linecolor\":\"white\",\"showbackground\":true,\"ticks\":\"\",\"zerolinecolor\":\"white\"},\"zaxis\":{\"backgroundcolor\":\"#E5ECF6\",\"gridcolor\":\"white\",\"gridwidth\":2,\"linecolor\":\"white\",\"showbackground\":true,\"ticks\":\"\",\"zerolinecolor\":\"white\"}},\"shapedefaults\":{\"line\":{\"color\":\"#2a3f5f\"}},\"ternary\":{\"aaxis\":{\"gridcolor\":\"white\",\"linecolor\":\"white\",\"ticks\":\"\"},\"baxis\":{\"gridcolor\":\"white\",\"linecolor\":\"white\",\"ticks\":\"\"},\"bgcolor\":\"#E5ECF6\",\"caxis\":{\"gridcolor\":\"white\",\"linecolor\":\"white\",\"ticks\":\"\"}},\"title\":{\"x\":0.05},\"xaxis\":{\"automargin\":true,\"gridcolor\":\"white\",\"linecolor\":\"white\",\"ticks\":\"\",\"title\":{\"standoff\":15},\"zerolinecolor\":\"white\",\"zerolinewidth\":2},\"yaxis\":{\"automargin\":true,\"gridcolor\":\"white\",\"linecolor\":\"white\",\"ticks\":\"\",\"title\":{\"standoff\":15},\"zerolinecolor\":\"white\",\"zerolinewidth\":2}}},\"title\":{\"font\":{\"color\":\"#4D5663\"}},\"xaxis\":{\"anchor\":\"y\",\"domain\":[0.0,0.3],\"gridcolor\":\"#E1E5ED\",\"showgrid\":false,\"tickfont\":{\"color\":\"#4D5663\"},\"title\":{\"font\":{\"color\":\"#4D5663\"},\"text\":\"\"},\"zerolinecolor\":\"#E1E5ED\"},\"yaxis\":{\"anchor\":\"x\",\"domain\":[0.7133333333333334,1.0],\"gridcolor\":\"#E1E5ED\",\"showgrid\":false,\"tickfont\":{\"color\":\"#4D5663\"},\"title\":{\"font\":{\"color\":\"#4D5663\"},\"text\":\"\"},\"zerolinecolor\":\"#E1E5ED\"},\"xaxis2\":{\"anchor\":\"y2\",\"domain\":[0.35,0.6499999999999999],\"gridcolor\":\"#E1E5ED\",\"showgrid\":false,\"tickfont\":{\"color\":\"#4D5663\"},\"title\":{\"font\":{\"color\":\"#4D5663\"},\"text\":\"\"},\"zerolinecolor\":\"#E1E5ED\"},\"yaxis2\":{\"anchor\":\"x2\",\"domain\":[0.7133333333333334,1.0],\"gridcolor\":\"#E1E5ED\",\"showgrid\":false,\"tickfont\":{\"color\":\"#4D5663\"},\"title\":{\"font\":{\"color\":\"#4D5663\"},\"text\":\"\"},\"zerolinecolor\":\"#E1E5ED\"},\"xaxis3\":{\"anchor\":\"y3\",\"domain\":[0.7,1.0],\"gridcolor\":\"#E1E5ED\",\"showgrid\":false,\"tickfont\":{\"color\":\"#4D5663\"},\"title\":{\"font\":{\"color\":\"#4D5663\"},\"text\":\"\"},\"zerolinecolor\":\"#E1E5ED\"},\"yaxis3\":{\"anchor\":\"x3\",\"domain\":[0.7133333333333334,1.0],\"gridcolor\":\"#E1E5ED\",\"showgrid\":false,\"tickfont\":{\"color\":\"#4D5663\"},\"title\":{\"font\":{\"color\":\"#4D5663\"},\"text\":\"\"},\"zerolinecolor\":\"#E1E5ED\"},\"xaxis4\":{\"anchor\":\"y4\",\"domain\":[0.0,0.3],\"gridcolor\":\"#E1E5ED\",\"showgrid\":false,\"tickfont\":{\"color\":\"#4D5663\"},\"title\":{\"font\":{\"color\":\"#4D5663\"},\"text\":\"\"},\"zerolinecolor\":\"#E1E5ED\"},\"yaxis4\":{\"anchor\":\"x4\",\"domain\":[0.3566666666666667,0.6433333333333333],\"gridcolor\":\"#E1E5ED\",\"showgrid\":false,\"tickfont\":{\"color\":\"#4D5663\"},\"title\":{\"font\":{\"color\":\"#4D5663\"},\"text\":\"\"},\"zerolinecolor\":\"#E1E5ED\"},\"xaxis5\":{\"anchor\":\"y5\",\"domain\":[0.35,0.6499999999999999],\"gridcolor\":\"#E1E5ED\",\"showgrid\":false,\"tickfont\":{\"color\":\"#4D5663\"},\"title\":{\"font\":{\"color\":\"#4D5663\"},\"text\":\"\"},\"zerolinecolor\":\"#E1E5ED\"},\"yaxis5\":{\"anchor\":\"x5\",\"domain\":[0.3566666666666667,0.6433333333333333],\"gridcolor\":\"#E1E5ED\",\"showgrid\":false,\"tickfont\":{\"color\":\"#4D5663\"},\"title\":{\"font\":{\"color\":\"#4D5663\"},\"text\":\"\"},\"zerolinecolor\":\"#E1E5ED\"},\"xaxis6\":{\"anchor\":\"y6\",\"domain\":[0.7,1.0],\"gridcolor\":\"#E1E5ED\",\"showgrid\":false,\"tickfont\":{\"color\":\"#4D5663\"},\"title\":{\"font\":{\"color\":\"#4D5663\"},\"text\":\"\"},\"zerolinecolor\":\"#E1E5ED\"},\"yaxis6\":{\"anchor\":\"x6\",\"domain\":[0.3566666666666667,0.6433333333333333],\"gridcolor\":\"#E1E5ED\",\"showgrid\":false,\"tickfont\":{\"color\":\"#4D5663\"},\"title\":{\"font\":{\"color\":\"#4D5663\"},\"text\":\"\"},\"zerolinecolor\":\"#E1E5ED\"},\"xaxis7\":{\"anchor\":\"y7\",\"domain\":[0.0,0.3],\"gridcolor\":\"#E1E5ED\",\"showgrid\":false,\"tickfont\":{\"color\":\"#4D5663\"},\"title\":{\"font\":{\"color\":\"#4D5663\"},\"text\":\"\"},\"zerolinecolor\":\"#E1E5ED\"},\"yaxis7\":{\"anchor\":\"x7\",\"domain\":[0.0,0.2866666666666667],\"gridcolor\":\"#E1E5ED\",\"showgrid\":false,\"tickfont\":{\"color\":\"#4D5663\"},\"title\":{\"font\":{\"color\":\"#4D5663\"},\"text\":\"\"},\"zerolinecolor\":\"#E1E5ED\"},\"xaxis8\":{\"anchor\":\"y8\",\"domain\":[0.35,0.6499999999999999],\"gridcolor\":\"#E1E5ED\",\"showgrid\":false,\"tickfont\":{\"color\":\"#4D5663\"},\"title\":{\"font\":{\"color\":\"#4D5663\"},\"text\":\"\"},\"zerolinecolor\":\"#E1E5ED\"},\"yaxis8\":{\"anchor\":\"x8\",\"domain\":[0.0,0.2866666666666667],\"gridcolor\":\"#E1E5ED\",\"showgrid\":false,\"tickfont\":{\"color\":\"#4D5663\"},\"title\":{\"font\":{\"color\":\"#4D5663\"},\"text\":\"\"},\"zerolinecolor\":\"#E1E5ED\"},\"xaxis9\":{\"anchor\":\"y9\",\"domain\":[0.7,1.0],\"gridcolor\":\"#E1E5ED\",\"showgrid\":false,\"tickfont\":{\"color\":\"#4D5663\"},\"title\":{\"font\":{\"color\":\"#4D5663\"},\"text\":\"\"},\"zerolinecolor\":\"#E1E5ED\"},\"yaxis9\":{\"anchor\":\"x9\",\"domain\":[0.0,0.2866666666666667],\"gridcolor\":\"#E1E5ED\",\"showgrid\":false,\"tickfont\":{\"color\":\"#4D5663\"},\"title\":{\"font\":{\"color\":\"#4D5663\"},\"text\":\"\"},\"zerolinecolor\":\"#E1E5ED\"}},                        {\"showLink\": true, \"linkText\": \"Export to plot.ly\", \"plotlyServerURL\": \"https://plot.ly\", \"responsive\": true}                    ).then(function(){\n",
       "                            \n",
       "var gd = document.getElementById('91d3550f-d522-483d-93eb-8bb2ff5cc749');\n",
       "var x = new MutationObserver(function (mutations, observer) {{\n",
       "        var display = window.getComputedStyle(gd).display;\n",
       "        if (!display || display === 'none') {{\n",
       "            console.log([gd, 'removed!']);\n",
       "            Plotly.purge(gd);\n",
       "            observer.disconnect();\n",
       "        }}\n",
       "}});\n",
       "\n",
       "// Listen for the removal of the full notebook cells\n",
       "var notebookContainer = gd.closest('#notebook-container');\n",
       "if (notebookContainer) {{\n",
       "    x.observe(notebookContainer, {childList: true});\n",
       "}}\n",
       "\n",
       "// Listen for the clearing of the current output cell\n",
       "var outputEl = gd.closest('.output');\n",
       "if (outputEl) {{\n",
       "    x.observe(outputEl, {childList: true});\n",
       "}}\n",
       "\n",
       "                        })                };                });            </script>        </div>"
      ]
     },
     "metadata": {},
     "output_type": "display_data"
    }
   ],
   "source": [
    "df3.scatter_matrix()"
   ]
  }
 ],
 "metadata": {
  "kernelspec": {
   "display_name": "Python 3 (ipykernel)",
   "language": "python",
   "name": "python3"
  },
  "language_info": {
   "codemirror_mode": {
    "name": "ipython",
    "version": 3
   },
   "file_extension": ".py",
   "mimetype": "text/x-python",
   "name": "python",
   "nbconvert_exporter": "python",
   "pygments_lexer": "ipython3",
   "version": "3.9.12"
  }
 },
 "nbformat": 4,
 "nbformat_minor": 5
}
